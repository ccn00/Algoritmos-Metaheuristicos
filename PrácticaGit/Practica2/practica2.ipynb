{
 "cells": [
  {
   "attachments": {},
   "cell_type": "markdown",
   "metadata": {
    "datalore": {
     "hide_input_from_viewers": false,
     "hide_output_from_viewers": false,
     "node_id": "yLdVtrycDWHyWuJsZXjfN6",
     "report_properties": {},
     "type": "MD"
    }
   },
   "source": [
    "# Práctica 2: Algoritmos metaheurísticos\n",
    "\n",
    "## Sistemas Inteligentes\n",
    "\n",
    "### Curso académico 2022-2023\n",
    "\n",
    "#### Profesorado:\n",
    "\n",
    "* Juan Carlos Alfaro Jiménez (`JuanCarlos.Alfaro@uclm.es`)\n",
    "* Guillermo Tomás Fernández Martín (`Guillermo.Fernandez@uclm.es`)\n",
    "* María Julia Flores Gallego (`Julia.Flores@uclm.es`)\n",
    "* Ismael García Varea (`Ismael.Garcia@uclm.es`)\n",
    "* Luis González Naharro (`Luis.GNaharro@uclm.es`)\n",
    "* Aurora Macías Ojeda (`Profesor.AMacias@uclm.es`)\n",
    "* Marina Sokolova Sokolova (`Marina.Sokolova@uclm.es`)"
   ]
  },
  {
   "attachments": {},
   "cell_type": "markdown",
   "metadata": {
    "datalore": {
     "hide_input_from_viewers": false,
     "hide_output_from_viewers": false,
     "node_id": "982IVN3tGtSrVVBrH4911R",
     "report_properties": {},
     "type": "MD"
    }
   },
   "source": [
    "## 0. Preliminares\n",
    "\n",
    "Antes de comenzar con el desarrollo de esta práctica es necesario **descargar**, en **formato `.py`**, el código de la **práctica anterior** con el nombre **`utils.py`**. Para ello, pulsamos, en la libreta de la primera práctica, **`File > Export .py`**.\n",
    "\n",
    "Una vez hemos descargado y nombrado correctamente el fichero, lo **añadimos** al espacio de trabajo de la **libreta** de la práctica **actual** a través de **`Attached data > Notebook files > Upload files`** y subimos el fichero `utils.py` descargado en el paso anterior.\n",
    "\n",
    "Tras esto, debemos **cambiar** el **constructor** de la clase **`Problem`** para que **reciba** directamente el **problema** a resolver, **en lugar de cargarlo desde** un **fichero**. Esto se debe a que los algoritmos metaheurísticos van a tener que resolver, en múltiples ocasiones, este problema. De esta manera nos **evitamos** la **carga computacional extra** que implica **leer** el problema desde un **fichero**. Además, también es necesario **comentar** cualquier línea de **código** que **imprima estadísticas** para evitar salidas largas."
   ]
  },
  {
   "attachments": {},
   "cell_type": "markdown",
   "metadata": {
    "datalore": {
     "hide_input_from_viewers": false,
     "hide_output_from_viewers": false,
     "node_id": "syMR9Ze0dsA7l1Yyc3gfj8",
     "report_properties": {},
     "type": "MD"
    }
   },
   "source": [
    "## 1. Introducción\n",
    "\n",
    "En esta práctica, vamos a **resolver** un **problema** de **optimización combinatoria** mediante **algoritmos metaheurísticos**. En particular, vamos a implementar **algoritmos genéticos** para abordar el **problema** de **ruteo** de **vehículos**. En este, **varios vehículos** con **capacidad limitada** deben **recoger paquetes** en **diferentes ubicaciones** y **trasladarlos** a una **sede central** de recogida.\n",
    "\n",
    "Además, se **analizará** y **comparará** el **rendimiento** de **diferentes algoritmos genéticos** (mediante la modificación de los pasos correspondientes) en diferentes instancias del problema.\n",
    "\n",
    "---"
   ]
  },
  {
   "attachments": {},
   "cell_type": "markdown",
   "metadata": {
    "datalore": {
     "hide_input_from_viewers": false,
     "hide_output_from_viewers": false,
     "node_id": "VUjcESa3hB27UoolAy19bi",
     "report_properties": {},
     "type": "MD"
    }
   },
   "source": [
    "## 2. Descripción del problema\n",
    "\n",
    "El concepto de mapa que vamos a utilizar es similar al de la primera práctica. Este se representa mediante un **grafo**, donde los **nodos** representan **ciudades** y los **enlaces** indican la existencia de una **carretera en ambos sentidos** entre dos ciudades. Además, los **enlaces** tienen un **peso** asociado indicando la **distancia real** entre las dos ciudades. Al mismo tiempo, se proporciona una **sede central**, que se trata de la ciudad donde se deben dejar los paquetes. A su vez, se dispone de una **flota de vehículos** con **capacidad limitada** que deben **recoger** los **paquetes** en las ciudades correspondientes y que **inicialmente** están aparcados en la **sede central**. **En caso de que a la hora de recoger un paquete se supere la capacidad del vehículo correspondiente, este debe volver a la sede central a descargar todos los paquetes, considerando el coste que implicaría volver**.\n",
    "\n",
    "Un mapa es un problema en particular, pero diferentes paquetes, capacidades de vehículos y ubicación de la sede central pueden dar lugar a diferentes instancias del problema. Por tanto, el **objetivo** en este problema es **recoger todos los paquetes de tal manera que los vehículos recorran la menor distancia posible**.\n",
    "\n",
    "**Con el objetivo de simplificar la práctica en evaluación continua, se asume que se cuenta con un único vehículo. No obstante, esto podría cambiar para la evaluación no continua.**\n",
    "\n",
    "---"
   ]
  },
  {
   "attachments": {},
   "cell_type": "markdown",
   "metadata": {
    "datalore": {
     "hide_input_from_viewers": false,
     "hide_output_from_viewers": false,
     "node_id": "VaoR74xcSrrxzA6B7LMu1h",
     "report_properties": {},
     "type": "MD"
    }
   },
   "source": [
    "## 3. Desarrollo de la práctica\n",
    "\n",
    "Durante el desarrollo de la práctica se va a proporcionar un conjunto de mapas, sobre los cuáles se debe resolver el problema de optimización combinatoria correspondiente. Es importante destacar que la **dimensionalidad** del **problema** (número de ciudades, carreteras y paquetes) puede ser **variable**, por lo que los diferentes **algoritmos genéticos** deben ser lo suficientemente **eficientes** para que puedan **resolver** los **problemas** en un **tiempo razonable**.\n",
    "\n",
    "**Además, algunos escenarios se van a guardar para las entrevistas de prácticas, por lo que el código debe ser lo más general posible para cargarlos de manera rápida y sencilla.**"
   ]
  },
  {
   "attachments": {},
   "cell_type": "markdown",
   "metadata": {
    "datalore": {
     "hide_input_from_viewers": false,
     "hide_output_from_viewers": false,
     "node_id": "RdalgA654CeCiLVJnmgzSG",
     "report_properties": {},
     "type": "MD"
    }
   },
   "source": [
    "### 3.1. Entrada\n",
    "\n",
    "Cada escenario tendrá un fichero `.json` asociado con la siguiente estructura:\n",
    "\n",
    "```JSON\n",
    "{\n",
    "    \"map\": {\n",
    "        \"cities\": [\n",
    "            {\n",
    "                \"id\": id_city_0,\n",
    "                \"name\": name_city_0,\n",
    "                \"lat\": latitude_city_0,\n",
    "                \"lon\": longitude_city_0\n",
    "            }\n",
    "        ],\n",
    "        \"roads\": [\n",
    "            {\n",
    "                \"origin\": origin_city_id,\n",
    "                \"destination\": destination_city_id,\n",
    "                \"distance\": road_distance\n",
    "            }\n",
    "        ]\n",
    "    },\n",
    "    \"warehouse\": warehouse_city_id,\n",
    "    \"vehicles\": [\n",
    "        {\n",
    "            \"id\": id_vehicle_0,\n",
    "            \"capacity\": capacity_vehicle_0\n",
    "        }\n",
    "    ]\n",
    "    \"parcels\": [\n",
    "        {\n",
    "            \"id\": id_parcel_0,\n",
    "            \"city\": parcel_city_id,\n",
    "            \"weight\": weight_parcel_0\n",
    "        }\n",
    "    ]\n",
    "}\n",
    "```\n",
    "\n",
    "Hay cuatro elementos principales en el fichero:\n",
    "\n",
    "* `map`: Un diccionario con el mapa, cuya descripción es la misma que la de la primera práctica\n",
    "* `warehouse`: Identificador de la ciudad donde se encuentra la sede central\n",
    "* `vehicles`: Lista de vehículos disponibles\n",
    "* `parcels`: Lista de paquetes a recoger\n",
    "\n",
    "Por su parte, `vehicles` contiene:\n",
    "\n",
    "* `id`: Identificador del vehículo\n",
    "* `capacity`: Capacidad máxima del vehículo\n",
    "\n",
    "Y `parcels`:\n",
    "\n",
    "* `id`: Identificador del paquete\n",
    "* `city`: Ciudad donde se encuentra el paquete\n",
    "* `weight`: Peso del paquete\n",
    "\n",
    "**Para añadir los ficheros con los problemas al espacio de trabajo se debe usar el mismo procedimiento anterior.**\n",
    "\n",
    "---"
   ]
  },
  {
   "attachments": {},
   "cell_type": "markdown",
   "metadata": {
    "datalore": {
     "hide_input_from_viewers": false,
     "hide_output_from_viewers": false,
     "node_id": "na9BOnkud99hJxOfeujKUz",
     "report_properties": {},
     "type": "MD"
    }
   },
   "source": [
    "## 4. Plan de trabajo"
   ]
  },
  {
   "attachments": {},
   "cell_type": "markdown",
   "metadata": {
    "datalore": {
     "hide_input_from_viewers": false,
     "hide_output_from_viewers": false,
     "node_id": "sc77dYXhPZ9qeA1QczxZrP",
     "report_properties": {},
     "type": "MD"
    }
   },
   "source": [
    "### 4.1. Formalización del problema\n",
    "\n",
    "Para resolver cualquier problema de optimización combinatoria en primer lugar hay que definir como vamos a **codificar** las **soluciones** al problema. Si bien es algo que se deja a criterio propio, se plantea la siguiente pregunta, **¿cuál puede ser la mejor representación para una secuencia de paquetes a recoger?**\n",
    "\n",
    "Se puede comprobar si la respuesta es correcta introduciéndola en la variable `answer` del siguiente fragmento de código:"
   ]
  },
  {
   "cell_type": "code",
   "execution_count": 44,
   "metadata": {
    "datalore": {
     "hide_input_from_viewers": false,
     "hide_output_from_viewers": false,
     "node_id": "j1BykqU48Ypy9xgBokYE1i",
     "report_properties": {},
     "type": "CODE"
    }
   },
   "outputs": [],
   "source": [
    "# Third party\n",
    "import hashlib\n",
    "import json \n",
    "import random\n",
    "import numpy as np\n",
    "import time\n",
    "import concurrent.futures\n",
    "from multiprocessing import Pool\n",
    "import threading"
   ]
  },
  {
   "cell_type": "code",
   "execution_count": 45,
   "metadata": {
    "datalore": {
     "hide_input_from_viewers": false,
     "hide_output_from_viewers": false,
     "node_id": "R6P7n9mZ1ABeZBiLexLh1L",
     "report_properties": {},
     "type": "CODE"
    }
   },
   "outputs": [],
   "source": [
    "check_answer = lambda answer, hashed: \"The answer is \" + (\"\" if hashlib.md5(answer).hexdigest() == hashed else \"in\") + \"correct.\""
   ]
  },
  {
   "cell_type": "code",
   "execution_count": 46,
   "metadata": {
    "datalore": {
     "hide_input_from_viewers": false,
     "hide_output_from_viewers": false,
     "node_id": "GEuGrWRDYI8a8IZrqij0KF",
     "report_properties": {},
     "type": "CODE"
    }
   },
   "outputs": [
    {
     "name": "stdout",
     "output_type": "stream",
     "text": [
      "90d377b31e1ac26d0d10d5612ce33ccc\n"
     ]
    },
    {
     "data": {
      "text/plain": [
       "'The answer is incorrect.'"
      ]
     },
     "execution_count": 46,
     "metadata": {},
     "output_type": "execute_result"
    }
   ],
   "source": [
    "# TODO: Introduce here the answer to use for the hashing\n",
    "answer = \"Hello\"\n",
    "\n",
    "# Avoid case sensitivity in the answer\n",
    "answer = str.lower(answer)\n",
    "\n",
    "# Encode the answer before hashing\n",
    "answer = answer.encode(\"utf-8\")\n",
    "\n",
    "hashed = \"90d377b31e1ac26d0d10d5612ce33ccc\"  # The hashed answer\n",
    "print(hashed)\n",
    "\n",
    "check_answer(answer, hashed)"
   ]
  },
  {
   "attachments": {},
   "cell_type": "markdown",
   "metadata": {
    "datalore": {
     "hide_input_from_viewers": false,
     "hide_output_from_viewers": false,
     "node_id": "L1E7XRnlYRy7oEPYUIyWSS",
     "report_properties": {},
     "type": "MD"
    }
   },
   "source": [
    "### 4.2. Implementación\n",
    "\n",
    "A continuación se proporciona la estructura de clases recomendada para resolver el problema en cuestión. Tendréis que completar las siguientes clases de acuerdo con los algoritmos estudiados en teoría. **Debéis incluir en la siguiente celda todas las librerías que vayáis a utilizar para mantener la libreta lo más organizada posible**:"
   ]
  },
  {
   "cell_type": "code",
   "execution_count": 47,
   "metadata": {
    "datalore": {
     "hide_input_from_viewers": false,
     "hide_output_from_viewers": false,
     "node_id": "62Rt8q8LpQ34afG23pb5F1",
     "report_properties": {},
     "type": "CODE"
    }
   },
   "outputs": [],
   "source": [
    "# Importamos la clase utils.py en la carpeta actual\n",
    "import utils as ut"
   ]
  },
  {
   "attachments": {},
   "cell_type": "markdown",
   "metadata": {
    "datalore": {
     "hide_input_from_viewers": false,
     "hide_output_from_viewers": false,
     "node_id": "ncEgrJcWJ52rHsjy80qESR",
     "report_properties": {},
     "type": "MD"
    }
   },
   "source": [
    "#### Clase `Individual`\n",
    "\n",
    "Esta clase proporciona la **codificación** de un **individuo** de la **población**.\n",
    "\n",
    "Los **métodos obligatorios** que se deben añadir son:\n",
    "\n",
    "* ``__init__(self, num_genes, generation_type, crossover_type, mutation_type)``: Inicializa el **número** de **genes** del **individuo** y el **tipo** de **operación** de **generación**, **cruce** y **mutación**. Ademas, genera la **solución** que **representa** el **individuo**.\n",
    "* ``generate(num_genes, generation_type)``: Método estático para **generar** una **solución** del tamaño proporcionado de acuerdo con el tipo de operación de generación.\n",
    "* ``crossover(self, individual)``: **Cruza** el **individuo actual** con el **individuo** de **entrada** de acuerdo con el tipo de operación de cruce.\n",
    "* ``mutation(self)``: **Muta** el **individuo** de acuerdo con el tipo de operación de mutación.\n",
    "* ``evaluate(self, problem)``: **Evalua** el **individuo** usando el **problema** a **resolver**.\n",
    "\n",
    "Y los **métodos recomendados** son:\n",
    "\n",
    "* ``__str__(self)``: **Representación** en formato de **cadena** de **caracteres** de un **individuo**. Método útil para depurar una lista de individuos.\n",
    "* ``__repr__(self)``: **Método** invocado cuando se ejecuta **``print``** sobre el **individuo**. Método útil para depurar un solo individuo."
   ]
  },
  {
   "cell_type": "code",
   "execution_count": 48,
   "metadata": {
    "datalore": {
     "hide_input_from_viewers": false,
     "hide_output_from_viewers": false,
     "node_id": "HAgyUGxYcoG2LaYD1ZRqHt",
     "report_properties": {},
     "type": "CODE"
    }
   },
   "outputs": [],
   "source": [
    "class Individual:\n",
    "\n",
    "    # =============================================================================\n",
    "    # Constructor\n",
    "    # =============================================================================\n",
    "\n",
    "    # Creamos un objeto de random para poder utilizarlo en los metodos estaticos\n",
    "    #random = random.Random(123)\n",
    "\n",
    "    def __init__(self, num_genes, generation_type=\"random\", crossover_type = None, mutation_type = None):\n",
    "        self.num_genes = num_genes\n",
    "        self.generation_type = generation_type\n",
    "        self.crossover_type = crossover_type\n",
    "        self.mutation_type = mutation_type\n",
    "\n",
    "        self.fitness = 0\n",
    "        \n",
    "        self.genes = []\n",
    "\n",
    "\n",
    "    # =============================================================================\n",
    "    # Mandatory methods\n",
    "    # =============================================================================\n",
    "\n",
    "    # Método estático para generar una solución del tamaño proporcionado de acuerdo con el tipo de operación \n",
    "    # de generación.\n",
    "    # A este metodo le pasamos num_genes, generation_type y un objeto de la clase random\n",
    "    # @staticmethod\n",
    "    def generate(num_genes, generation_type=\"random\"):\n",
    "        # Hay diferentes tipos de generación de individuos -> aleatoria, por distribucion, por enfoque, por seleccion...\n",
    "        \n",
    "        # Generación aleatoria -> Se generan los genes aleatoriamente\n",
    "\n",
    "        # Generacion aleatoria para numeros enteros        \n",
    "        if generation_type == \"random\":\n",
    "            # Creamos un individuo vacio\n",
    "            individual = Individual(num_genes, generation_type)\n",
    "\n",
    "            # Generamos los genes aleatoriamente\n",
    "            # Para ello utilizaremos la funcion random de la libreria random\n",
    "            # for i in range(num_genes):\n",
    "            #     individual.genes.append(random.random())\n",
    "\n",
    "            # Generamos los genes aleatoriamente de tipo entero entre el rango de 0 a num_genes\n",
    "            # for i in range(num_genes):\n",
    "                # individual.genes.append(random.randint(0, num_genes - 1))  \n",
    "\n",
    "            # Generamos los genes de forma aleatoria sin que se repitan\n",
    "            individual.genes = random.sample(range(num_genes), num_genes)\n",
    "\n",
    "            return individual\n",
    "        \n",
    "\n",
    "    # Método para realizar el cruce de dos individuos de acuerdo con el tipo de operación de cruce.\n",
    "    def crossover(self, individual):\n",
    "        # Tenemos diferentes tipos de operadores de cruce nosotros utilizaremos el que se utiliza para situaciones \n",
    "        # reales, el cruce 2PCX (Two Point Center Crossover)\n",
    "\n",
    "        # Creamos los puntos de corte aleatoriamente, para hacer que siempre se generen dos puntos de corte debemos evitar\n",
    "        # que los puntos de corte sean iguales y que los puntos de corte sean el primer o ultimo gen y que los puntos de corte\n",
    "        # es decir que no sean 0 o num_genes - 1 \n",
    "\n",
    "        cut_points = random.sample(range(1, self.num_genes - 1), 2)\n",
    "\n",
    "        # cut_points = random.sample(range(1, self.num_genes - 1), 2)\n",
    "\n",
    "        # Asignamos los puntos de corte segun el orden de menor a mayor\n",
    "        cut_point_1, cut_point_2 = min(cut_points), max(cut_points)\n",
    "\n",
    "        # print(cut_point_1, cut_point_2)\n",
    "        # cut_point_1 = 1\n",
    "        # cut_point_2 = 4\n",
    "\n",
    "        list_1 = self.genes[cut_point_1:cut_point_2]\n",
    "        list_2 = individual.genes[cut_point_1:cut_point_2]\n",
    "\n",
    "        # # list_center_1 = [x for x in individual.genes if x in list_1]\n",
    "        # list_center_1 = []\n",
    "        # for num in individual.genes:\n",
    "        #     if num in list_1:\n",
    "        #         list_center_1.append(num)\n",
    "\n",
    "        # list_center_2 = []\n",
    "        # for num in self.genes:\n",
    "        #     if num in list_2:\n",
    "        #         list_center_2.append(num)\n",
    "\n",
    "        # list_center_2 = [x for x in self.genes if x in list_2]\n",
    "\n",
    "        child_1 = self.genes[:cut_point_1] + [num for num in individual.genes if num in list_1] + self.genes[cut_point_2:]\n",
    "        individual.genes = individual.genes[:cut_point_1] + [num for num in self.genes if num in list_2] + individual.genes[cut_point_2:]\n",
    "        self.genes = child_1\n",
    "\n",
    "        return self, individual\n",
    "\n",
    "\n",
    "    # def crossover(self, individual):\n",
    "    #     # Tenemos diferentes tipos de operadores de cruce nosotros utilizaremos el que se utiliza para situaciones \n",
    "    #     # reales, el cruce 2PCX (Two Point Center Crossover)\n",
    "\n",
    "    #     # Creamos los puntos de corte aleatoriamente, para hacer que siempre se generen dos puntos de corte debemos evitar\n",
    "    #     # que los puntos de corte sean iguales y que los puntos de corte sean el primer o ultimo gen y que los puntos de corte\n",
    "    #     # es decir que no sean 0 o num_genes - 1 \n",
    "\n",
    "    #     cut_points = random.sample(range(1, self.num_genes - 1), 2)\n",
    "\n",
    "    #     # Asignamos los puntos de corte segun el orden de menor a mayor\n",
    "    #     cut_point_1, cut_point_2 = min(cut_points), max(cut_points)\n",
    "\n",
    "    #     # Creamos los hijos\n",
    "    #     child_1 = self.genes[:cut_point_1] + [x for x in individual.genes if x in self.genes[cut_point_1:cut_point_2]] + self.genes[cut_point_2:]\n",
    "    #     individual.genes = individual.genes[:cut_point_1] + [x for x in self.genes if x in individual.genes[cut_point_1:cut_point_2]] + individual.genes[cut_point_2:]\n",
    "    #     self.genes = child_1\n",
    "        \n",
    "    #     return self, individual\n",
    "\n",
    "\n",
    "    # Método para realizar la mutación de un individuo de acuerdo con el tipo de operación de mutación.\n",
    "    def mutation(self):\n",
    "        \n",
    "        # Tenemos diferentes mecanismos de mutación para este problema utilizaremos permutaciones, en concreto\n",
    "        # Intercambio e inserción\n",
    "        # 1. Intercambio -> Seleccionamos dos genes aleatoriamente y los intercambiamos\n",
    "        # 2. Inserción -> Seleccionamos un gen aleatoriamente y lo insertamos en una posición aleatoria\n",
    "        \n",
    "\n",
    "        # Intercambio de genes utilizando libreria random con shuffle y choice\n",
    "        # Intercambio de genes\n",
    "\n",
    "        # Seleccionamos el tipo de mutación\n",
    "        mutation_type = random.randint(0, 1)\n",
    "\n",
    "        mutation_type = 0\n",
    "\n",
    "        # Intercambio\n",
    "        if mutation_type == 0:\n",
    "            # print(\"\\nINTERCAMBIO\\n\")\n",
    "            # Seleccionamos dos genes aleatoriamente\n",
    "            genes = random.sample(range(self.num_genes), 2)\n",
    "            # Intercambiamos los genes\n",
    "            self.genes[genes[0]], self.genes[genes[1]] = self.genes[genes[1]], self.genes[genes[0]]\n",
    "        \n",
    "        # Inserción\n",
    "        else:\n",
    "            # print(\"\\nINSERCION\\n\")\n",
    "            # Seleccionamos un gen aleatoriamente\n",
    "            gene = random.randint(0, self.num_genes - 1)\n",
    "            # print(\"GEN: \", gene)\n",
    "            # Seleccionamos una posición aleatoria\n",
    "            position = random.randint(0, self.num_genes - 1)\n",
    "            # print(\"POSICION: \", position)\n",
    "            # Insertamos el gen en la posición\n",
    "            self.genes.insert(position, self.genes.pop(gene))\n",
    "\n",
    "        return self.genes\n",
    "\n",
    "        \n",
    "\n",
    "        \n",
    "        \n",
    "    \n",
    "    def evaluate(self, problem):\n",
    "        \n",
    "        # Evaluamos el individuo\n",
    "        self.fitness = problem.evaluate(self.genes)\n",
    "\n",
    "        return self.fitness\n",
    "        \n",
    "        \n",
    "    def evaluate_first_number(self):\n",
    "        # Evaluamos el individuo en base al primer numero de la lista de genes\n",
    "        self.fitness = self.genes[0]\n",
    "\n",
    "        return self.fitness\n",
    "    \n",
    "\n",
    "    # =============================================================================\n",
    "    # Recommended methods\n",
    "    # =============================================================================\n",
    "    \n",
    "\n",
    "    def __str__(self):\n",
    "        return f' Individual: {self.genes}'\n",
    "\n",
    "    def __repr__(self):\n",
    "        return f' Individual: {self.genes}'\n",
    "\n",
    "    "
   ]
  },
  {
   "attachments": {},
   "cell_type": "markdown",
   "metadata": {
    "datalore": {
     "hide_input_from_viewers": false,
     "hide_output_from_viewers": false,
     "node_id": "A0rGuLg30jplx5Z8rYbJHu",
     "report_properties": {},
     "type": "MD"
    }
   },
   "source": [
    "**Se recomienda que se prueben cada uno de los métodos implementados de manera individual en las siguientes líneas de código:**"
   ]
  },
  {
   "cell_type": "code",
   "execution_count": 49,
   "metadata": {
    "datalore": {
     "hide_input_from_viewers": false,
     "hide_output_from_viewers": false,
     "node_id": "qMhdHZ0KvcH5mkP3JE2fYT",
     "report_properties": {},
     "type": "CODE"
    }
   },
   "outputs": [
    {
     "name": "stdout",
     "output_type": "stream",
     "text": [
      " Individual: [0, 8, 3, 6, 7, 5, 1, 4, 9, 2]\n"
     ]
    }
   ],
   "source": [
    "# TODO: Test here the methods to generate a solution\n",
    "\n",
    "# Creamos un individuo\n",
    "individual = Individual.generate(10, \"random\")\n",
    "\n",
    "# Imprimimos el individuo\n",
    "print(individual)\n",
    "\n",
    "\n"
   ]
  },
  {
   "cell_type": "code",
   "execution_count": 50,
   "metadata": {
    "datalore": {
     "hide_input_from_viewers": false,
     "hide_output_from_viewers": false,
     "node_id": "bWBCdnWzydSIDitJpwMkIa",
     "report_properties": {},
     "type": "CODE"
    }
   },
   "outputs": [
    {
     "name": "stdout",
     "output_type": "stream",
     "text": [
      "Individuo 1\n",
      "  Individual: [3, 2, 0, 1, 4]\n",
      "Individuo 2\n",
      "  Individual: [1, 2, 0, 4, 3]\n",
      "Hijo 1  Individual: [3, 2, 0, 1, 4]\n",
      "Hijo 2  Individual: [1, 2, 0, 4, 3]\n"
     ]
    }
   ],
   "source": [
    "# TODO: Test here the methods to cross individuals\n",
    "\n",
    "# Creamos dos individuos\n",
    "individual_1 = Individual.generate(5, \"random\")\n",
    "individual_2 = Individual.generate(5, \"random\")\n",
    "\n",
    "# Imprimimos los individuos\n",
    "print(\"Individuo 1\\n\", individual_1)\n",
    "print(\"Individuo 2\\n\", individual_2)\n",
    "\n",
    "# Realizamos el cruce\n",
    "child_1, child_2 = individual_1.crossover(individual_2)\n",
    "\n",
    "# Imprimimos los hijos\n",
    "print(\"Hijo 1\", child_1)\n",
    "print(\"Hijo 2\", child_2)\n"
   ]
  },
  {
   "cell_type": "code",
   "execution_count": 51,
   "metadata": {
    "datalore": {
     "hide_input_from_viewers": false,
     "hide_output_from_viewers": false,
     "node_id": "x4M7L4sUaPct7Oil7r5Ar3",
     "report_properties": {},
     "type": "CODE"
    }
   },
   "outputs": [
    {
     "name": "stdout",
     "output_type": "stream",
     "text": [
      "Individuo\n",
      "  Individual: [2, 4, 3, 1, 0]\n",
      "Individuo mutado\n",
      "  Individual: [2, 1, 3, 4, 0]\n"
     ]
    }
   ],
   "source": [
    "# TODO: Test here the methods to mutate an individual\n",
    "\n",
    "# Creamos un individuo\n",
    "individual = Individual.generate(5, \"random\")\n",
    "\n",
    "# Imprimimos el individuo\n",
    "print(\"Individuo\\n\", individual)\n",
    "\n",
    "# Realizamos la mutación\n",
    "individual.mutation()\n",
    "\n",
    "# Imprimimos el individuo mutado\n",
    "print(\"Individuo mutado\\n\", individual)\n",
    "\n"
   ]
  },
  {
   "attachments": {},
   "cell_type": "markdown",
   "metadata": {
    "datalore": {
     "hide_input_from_viewers": false,
     "hide_output_from_viewers": false,
     "node_id": "QJydvpXQMeNKKbSRF67cMB",
     "report_properties": {},
     "type": "MD"
    }
   },
   "source": [
    "#### Clase `Genetic`\n",
    "\n",
    "Esta clase implementa un **esquema** básico de **algoritmo genético**.\n",
    "\n",
    "Los **métodos obligatorios** que se deben añadir son:\n",
    "\n",
    "* ``def __init__(self, population_size, num_generations, selection_type, crossover_type, crossover_probability, mutation_type, mutation_probability, keep_elitism, random_state)``: Inicializa el **tamaño** de la **población**, el **tipo** de **operación** de **selección**, **cruce**, y **mutación**, así como la **probabilidad** de aplicar las operaciones de **cruce** y **mutación**. Además, también inicializa el **número** de **mejores soluciones** de la **población actual** que se **mantienen** en la **siguiente población** y una **semilla** para garantizar que los **experimentos** son **reproducibles**. **Nótese que puede ser necesario añadir más argumentos si así se requiere**.\n",
    "* ``def __call__(self, problem)``: **Método** que se **ejecuta** cuando se llama a un **objeto** de la **clase como** si fuese una **función**. En este **método** se debe **implementar** el **esquema básico** de un **algoritmo genético** que se encargue de ejecutar los pasos correspondientes. \n",
    "* ``def generate_population(self, problem)``: **Genera** la **población inicial** de acuerdo con el **problema** a resolver.\n",
    "* ``def select_population(self, population, scores)``: **Selecciona** los **padres** a utilizar para la operación de cruce.\n",
    "* ``def crossover(self, population)``: **Cruza pares** de **padres** teniendo en cuenta la probabilidad de cruce.\n",
    "* ``def mutation(self, population)``: **Muta** los **individuos cruzados** teniendo en cuenta la probabilidad de mutación.\n",
    "* ``def evaluate(self, population, problem)``: **Evalua** los **nuevos individuos** de acuerdo con el problema a resolver.\n",
    "* ``def combine(self, population)``: **Forma** la **nueva generación** de acuerdo con el número de mejores individuos de la población actual a mantener en la siguiente."
   ]
  },
  {
   "cell_type": "code",
   "execution_count": 52,
   "metadata": {
    "datalore": {
     "hide_input_from_viewers": false,
     "hide_output_from_viewers": false,
     "node_id": "RLvvdUCS6ybKqAdMohihW7",
     "report_properties": {},
     "type": "CODE"
    }
   },
   "outputs": [],
   "source": [
    "class Genetic:\n",
    "\n",
    "    # =============================================================================\n",
    "    # Constructor\n",
    "    # =============================================================================\n",
    "\n",
    "    def __init__(self, population_size, num_generations, selection_type, crossover_type, crossover_probability, mutation_type, mutation_probability, keep_elitism, random_state, parrallel=True):\n",
    "        \n",
    "        # Tamaño de la población\n",
    "        self.population_size = population_size\n",
    "\n",
    "        # Numero de generaciones\n",
    "        self.num_generations = num_generations\n",
    "\n",
    "        # Tipo de selección\n",
    "        self.selection_type = selection_type\n",
    "\n",
    "        # Tipo de cruce\n",
    "        self.crossover_type = crossover_type\n",
    "\n",
    "        # Probabilidad de cruce\n",
    "        self.crossover_probability = crossover_probability\n",
    "\n",
    "        # Tipo de mutación\n",
    "        self.mutation_type = mutation_type\n",
    "\n",
    "        # Probabilidad de mutación\n",
    "        self.mutation_probability = mutation_probability\n",
    "\n",
    "        # Lista de individuos\n",
    "        self.population = []\n",
    "\n",
    "        # Si queremos mantener el elitismo, es decir, el mejor individuo de la población anterior \n",
    "        self.keep_elitism = keep_elitism\n",
    "        \n",
    "        # Semilla aleatoria, la semilla aleatoria es un número que se utiliza para inicializar un generador de números pseudoaleatorios.\n",
    "        # Esto nos ayuda a obtener los mismos resultados cada vez que ejecutamos el algoritmo\n",
    "        random.seed(random_state)\n",
    "\n",
    "        # Si queremos que el algoritmo se ejecute en paralelo\n",
    "        self.parrallel = parrallel\n",
    "\n",
    "\n",
    "    def __call__(self, problem):\n",
    "        # self.problem = problem\n",
    "        # Call es el encargado de llamar a los métodos de la clase Genetic y de esta forma poder ejecutar el algoritmo genético\n",
    "        # Para ello seguiremos los siguientes pasos:\n",
    "\n",
    "        # 1. Inicializar la población: utilizar el método generate_population para generar una población de individuos de tamaño \n",
    "        # population_size, utilizando el problema especificado en el argumento problem.\n",
    "\n",
    "        # 2. Evaluar la población: utilizar el método evaluate para evaluar a cada individuo de la población y obtener sus puntuaciones.\n",
    "\n",
    "        # 3. Repetir el siguiente proceso durante un número determinado de generaciones (num_generations):\n",
    "\n",
    "        # 4. Seleccionar individuos de la población: utilizar el método select_population para seleccionar un conjunto de individuos de la \n",
    "        # población utilizando el método de selección especificado en el argumento selection_type.\n",
    "\n",
    "        # 5. Aplicar crossover: utilizar el método crossover para aplicar el tipo de crossover especificado en el argumento crossover_type a \n",
    "        # los individuos seleccionados, con una probabilidad especificada en el argumento crossover_probability.\n",
    "\n",
    "        # 6. Aplicar mutación: utilizar el método mutation para aplicar el tipo de mutación especificado en el argumento mutation_type a los \n",
    "        # individuos resultantes del crossover, con una probabilidad especificada en el argumento mutation_probability.\n",
    "\n",
    "        # 7. Evaluar la nueva población: utilizar el método evaluate para evaluar a cada individuo de la nueva población y obtener sus puntuaciones.\n",
    "\n",
    "        # 8. Combinar la población: utilizar el método combine para combinar la población actual con la nueva población generada, \n",
    "        # teniendo en cuenta el argumento keep_elitism para determinar si se deben conservar los individuos más aptos de la población actual.\n",
    "                \n",
    "\n",
    "        # 1. Inicializar la población\n",
    "        self.generate_population(problem)\n",
    "\n",
    "        # 2. Evaluar la población, al llamar a la función evaluate se le asigna a la variable fitness en la clase Individual la puntuación\n",
    "        if self.parrallel:\n",
    "            # Si queremos que el algoritmo se ejecute en paralelo\n",
    "            self.evaluate_parallel(self.population, problem)\n",
    "        else:\n",
    "            self.evaluate(self.population, problem)\n",
    "\n",
    "        # 3. Repetir el siguiente proceso durante un número determinado de generaciones (num_generations)\n",
    "        for _ in range(self.num_generations):\n",
    "                \n",
    "                # 4. Seleccionar individuos de la población\n",
    "                selected_population = self.select_population(self.population)\n",
    "    \n",
    "                # 5. Aplicar crossover\n",
    "                crossed_population = self.crossover(selected_population)\n",
    "    \n",
    "                # 6. Aplicar mutación\n",
    "                mutated_population = self.mutation(crossed_population)\n",
    "    \n",
    "                # 7. Evaluar la nueva población\n",
    "                if self.parrallel:\n",
    "                    # Si queremos que el algoritmo se ejecute en paralelo\n",
    "                    self.evaluate_parallel(mutated_population, problem)\n",
    "                else:\n",
    "                    self.evaluate(mutated_population, problem)\n",
    "    \n",
    "                # 8. Combinar la población\n",
    "                self.population = self.combine4(mutated_population)\n",
    "\n",
    "        # Devolvemos la mejor solución, es decir la que tenga la puntuación mas baja\n",
    "        return min(self.population, key=lambda x: x.fitness)\n",
    "        # return self.population\n",
    "\n",
    "\n",
    "\n",
    "\n",
    "\n",
    "    # =============================================================================\n",
    "    # Mandatory methods\n",
    "    # =============================================================================\n",
    "\n",
    "    def generate_population(self, problem):\n",
    "        \n",
    "        # Creamos la problacion inicial\n",
    "        # population = [Individual.generate(problem.num_genes, \"random\") for _ in range(self.population_size)]\n",
    "\n",
    "        # Esta forma crea una población de individuos aleatorios\n",
    "        # self.population = [Individual.generate(problem, \"random\") for _ in range(self.population_size)]\n",
    "\n",
    "        # Ahora creamos la poblacion para el problema en si, es decir, CVRP\n",
    "        # Si problem es de tipo int es que es un problema de prueba \n",
    "        if isinstance(problem, int):\n",
    "            self.population = [Individual.generate(problem, \"random\") for _ in range(self.population_size)]\n",
    "        else:\n",
    "            self.population = [Individual.generate(len(problem.parcels_dict), \"random\") for _ in range(self.population_size)]\n",
    "\n",
    "\n",
    "        # return self.population\n",
    "        \n",
    "    @staticmethod\n",
    "    def select_tournament(population):\n",
    "        # Seleccion por torneo \n",
    "        # Seleccionamos dos individuos aleatorios de la población y nos quedamos con el mejor \n",
    "\n",
    "        # Seleccionamos dos individuos aleatorios de la población\n",
    "        individuals = random.sample(population, 2)\n",
    "\n",
    "        # Nos quedamos con el mejor\n",
    "        best_individual = min(individuals, key=lambda x: x.fitness)\n",
    "\n",
    "        return best_individual\n",
    "\n",
    "\n",
    "    def select_population(self, population, num_individuos_selected=None):\n",
    "        # Selecciona un conjunto de individuos de la población utilizando el método de selección especificado en el argumento selection_type.\n",
    "        selected_population = set()\n",
    "\n",
    "        # El numero de individuos seleccionados debe ser menor o igual que el tamaño de la población, mayor que 0 y par\n",
    "        if num_individuos_selected is None:\n",
    "            # Si no se especifica el numero de individuos seleccionados, se selecciona la mitad de la población\n",
    "            num_individuos_selected = self.population_size // 2\n",
    "            \n",
    "    \n",
    "        # Una vez especificado el numero de individuos seleccionados, comprobamos que sea menor o igual que el tamaño de la población, mayor que 0 y par\n",
    "        if num_individuos_selected > self.population_size or num_individuos_selected <= 0:\n",
    "            raise ValueError(\"El numero de individuos seleccionados debe ser menor o igual que el tamaño de la población, mayor que 0 y par\")\n",
    "        if num_individuos_selected % 2 != 0:\n",
    "            # Si el numero de individuos seleccionados no es par, lo hacemos par\n",
    "            # Para ello podemos restarle 1 o sumarle 1 sumaremos siempre 1 a menos que num_individuos_selected sea igual que self.population_size\n",
    "            if num_individuos_selected == self.population_size or num_individuos_selected == self.population_size - 1:\n",
    "                num_individuos_selected -= 1\n",
    "            else:\n",
    "                num_individuos_selected += 1\n",
    "\n",
    "\n",
    "\n",
    "        if self.selection_type == \"torneo\":\n",
    "            # Seleccion por torneo\n",
    "            for _ in range(num_individuos_selected):\n",
    "                # Añadimos el individuo seleccionado por torneo a la población\n",
    "                selected_population.add(self.select_tournament(population))\n",
    "\n",
    "\n",
    "        elif self.selection_type == \"roulette\":\n",
    "            # Seleccion por ruleta\n",
    "            pass\n",
    "\n",
    "\n",
    "        elif self.selection_type == \"ranking\":\n",
    "            # Seleccion por ranking\n",
    "            pass\n",
    "\n",
    "\n",
    "        elif self.selection_type == \"random\":\n",
    "            # Seleccion aleatoria\n",
    "            pass\n",
    "        \n",
    "        else:\n",
    "            raise Exception(\"Invalid selection type\")\n",
    "\n",
    "        # Convertimos la población seleccionada en una lista\n",
    "        selected_population = list(selected_population)\n",
    "\n",
    "        return selected_population\n",
    "\n",
    "\n",
    "    def crossover(self, selected_population):\n",
    "        # Cruza pares de padres teniendo en cuenta la probabilidad de cruce.\n",
    "        # Para la seleccion de los padres utilizamos el metodo select_population\n",
    "        # Para el cruce utilizamos el metodo crossover de la clase Individual\n",
    "\n",
    "        # El cruce se realiza teniendo en cuenta la probabilidad de cruce self.crossover_probability\n",
    "        # Si la probabilidad de cruce es mayor que el numero aleatorio generado entonces se realiza el cruce\n",
    "        # Si la probabilidad de cruce es menor que el numero aleatorio generado entonces no se realiza el cruce\n",
    "        \n",
    "        # Creamos un numero aleatorio entre 0 y 1 para realizar la probabilidad de cruce\n",
    "        random_number = random.random()\n",
    "        if random_number < self.crossover_probability:\n",
    "            # Comprobamos la longitud de la población seleccionada\n",
    "            # Si la longitud es par realizamos el cruce de todos los seleccionados en pares\n",
    "            # Si la longitud es impar realizamos el cruce de todos los seleccionados en pares menos el ultimo\n",
    "            # print(\"Cruce\")\n",
    "\n",
    "            if len(selected_population) % 2 == 0:\n",
    "                # Creamos una lista con los padres en pares\n",
    "                parents = [selected_population[i:i+2] for i in range(0, len(selected_population), 2)]\n",
    "            else:\n",
    "                # Creamos una lista con los padres en pares menos el ultimo\n",
    "                parents = [selected_population[i:i+2] for i in range(0, len(selected_population) - 1, 2)]\n",
    "\n",
    "            # Creamos una lista para los hijos\n",
    "            childs = []\n",
    "\n",
    "            for parent1, parent2 in parents:\n",
    "                # Realizamos el cruce de los padres\n",
    "                child1, child2 = parent1.crossover(parent2)\n",
    "\n",
    "                # Añadimos los hijos a la lista de hijos\n",
    "                childs += [child1, child2]\n",
    "            \n",
    "        else:\n",
    "            # print(\"Cruce no realizado\")\n",
    "            # Si no se realiza el cruce, devolvemos la población seleccionada sin cruzar\n",
    "            return selected_population\n",
    "            \n",
    "\n",
    "        return childs\n",
    "\n",
    "\n",
    "\n",
    "\n",
    "    def mutation(self, population):\n",
    "        # Añadimos una probabilidad de mutación\n",
    "        for individual in population:\n",
    "            if random.random() < self.mutation_probability:\n",
    "                individual.mutation()\n",
    "\n",
    "        return population\n",
    "\n",
    "\n",
    "    # def evaluate(self, population, problem):\n",
    "    #     # Evaluamos los nuevos individuos de acuerdo con el problema a resolver, devolviendo una lista con las puntuaciones de cada individuo\n",
    "    #     scores = [problem.evaluate(individual) for individual in population]\n",
    "\n",
    "    #     return scores\n",
    "\n",
    "    def evaluate(self, population, problem):\n",
    "        # Evaluamos los individuos de acuerdo con el problema a resolver\n",
    "        for individual in population:\n",
    "            if individual.fitness == 0:\n",
    "                individual.evaluate(problem)\n",
    "\n",
    "\n",
    "\n",
    "    # # Para mejorar la eficiencia del metodo evaluate, lo hacemos de forma paralela\n",
    "    # def evaluate_parallel(self, population, problem):\n",
    "    #     # Evaluamos los individuos de acuerdo con el problema a resolver\n",
    "    #     with concurrent.futures.ProcessPoolExecutor() as executor:\n",
    "    #         executor.map(lambda individual: individual.evaluate(problem), population)\n",
    "\n",
    "\n",
    "    # POOL MULTIPROCCESING\n",
    "\n",
    "    # def evaluate_individual(individual, problem):\n",
    "    #     individual.evaluate(problem)\n",
    "\n",
    "    # def evaluate_parallel(self, population, problem):\n",
    "        \n",
    "    #     # Creamos un pool de procesos con 4 procesos\n",
    "    #     with Pool(4) as p:\n",
    "    #         # Evaluamos los individuos de acuerdo con el problema a resolver\n",
    "    #         for individual in population:\n",
    "    #             if individual.fitness == 0:\n",
    "    #                 p.apply_async(self.evaluate_individual, args=(individual, problem))\n",
    "\n",
    "    #         # Esperamos a que todos los procesos terminen\n",
    "    #         p.close()\n",
    "    #         p.join()\n",
    "\n",
    "\n",
    "    # THREADING\n",
    "    def evaluate_parallel(self, population, problem):\n",
    "\n",
    "        def evaluate_individual(individual, problem):\n",
    "            individual.evaluate(problem)\n",
    "\n",
    "        # Creamos una lista de hilos\n",
    "        threads = []\n",
    "\n",
    "        # Evaluamos los individuos de acuerdo con el problema a resolver\n",
    "        for individual in population:\n",
    "            if individual.fitness == 0:\n",
    "                # Creamos un hilo para evaluar el individuo y lo añadimos a la lista de hilos\n",
    "                thread = threading.Thread(target=evaluate_individual, args=(individual, problem))\n",
    "                threads.append(thread)\n",
    "\n",
    "        # Lanzamos todos los hilos\n",
    "        for thread in threads:\n",
    "            thread.start()\n",
    "\n",
    "        # Esperamos a que todos los hilos terminen\n",
    "        for thread in threads:\n",
    "            thread.join()\n",
    "   \n",
    "\n",
    "\n",
    "    def combine(self, population, new_population):\n",
    "        # Combina la población actual con la nueva población, devolviendo una nueva población con el tamaño especificado en el argumento population_size.\n",
    "        \n",
    "        # Cosas a tener en cuenta:\n",
    "        # 1. La nueva población debe tener el tamaño especificado en el argumento population_size.\n",
    "        # 2. Tenemos una variable self.keep_elitism que determina si debemos mantener los mejores individuos de la población actual en la nueva población.\n",
    "            # 2.1 Si self.keep_elitism es True, debemos añadir los mejores individuos de la población actual a la nueva población,\n",
    "            # es decir, los individuos con mayor fitness no deben ser sustituidos por los nuevos individuos.\n",
    "            # 2.2 Si self.keep_elitism es False, no debemos añadir los mejores individuos de la población actual a la nueva población.\n",
    "        # 3. La nueva población debe estar ordenada de mayor a menor fitness.\n",
    "        \n",
    "        # Tenemos una poblacion actual(population) y una nueva poblacion(new_population) que debemos combinar\n",
    "        \n",
    "        # Si self.keep_elitism es True, debemos añadir los mejores individuos de la población actual a la nueva población,\n",
    "\n",
    "        if self.keep_elitism:\n",
    "            # Ordenamos la poblacion actual de mayor a menor fitness\n",
    "            population.sort(key=lambda x: x.fitness, reverse=True)\n",
    "            # Añadimos los mejores individuos de la poblacion actual a la nueva poblacion\n",
    "            new_population.extend(population[:self.population_size - len(new_population)])\n",
    "\n",
    "        # Ordenamos la nueva poblacion de mayor a menor fitness\n",
    "        new_population.sort(key=lambda x: x.fitness, reverse=True)\n",
    "        # Devolvemos la nueva poblacion\n",
    "        return new_population[:self.population_size]\n",
    "\n",
    "\n",
    "\n",
    "\n",
    "    # Hacemos el metodo combine de nuevo teniendo en cuenta cuando self.keep_elitism es False\n",
    "    def combine2(self, population, new_population):\n",
    "\n",
    "        if self.keep_elitism:\n",
    "            # Ordenamos la poblacion actual de mayor a menor fitness\n",
    "            population.sort(key=lambda x: x.fitness, reverse=True)\n",
    "            # Añadimos los mejores individuos de la poblacion actual a la nueva poblacion\n",
    "            new_population.extend(population[:self.population_size - len(new_population)])\n",
    "        else:\n",
    "            # Ordenamos la nueva poblacion de mayor a menor fitness\n",
    "            new_population.sort(key=lambda x: x.fitness, reverse=True)\n",
    "\n",
    "            # Comprobamos si la nueva poblacion es mayor que la poblacion actual\n",
    "            if len(new_population) > len(population):\n",
    "                # Si es mayor, devolvemos la nueva poblacion\n",
    "                return new_population[:self.population_size]\n",
    "            else:\n",
    "                # Si no es mayor, devolvemos una mezcla de la poblacion actual y la nueva poblacion seleccionandolos de forma aleatoria por torneo\n",
    "                for _ in range(self.population_size - len(new_population)):\n",
    "                    new_population.append(self.select_tournament(population))\n",
    "                return new_population\n",
    "            \n",
    "\n",
    "        # Ordenamos la nueva poblacion de mayor a menor fitness \n",
    "        new_population.sort(key=lambda x: x.fitness, reverse=True)\n",
    "        # Devolvemos la nueva poblacion\n",
    "        return new_population[:self.population_size]\n",
    "\n",
    "\n",
    "\n",
    "        # Hacemos el metodo combine de forma mas eficiente y sencilla, tenemos en cuenta tambien que no hace falta pasarle la poblacion actual\n",
    "        # puesto que llamamos desde self y tenemos acceso a ella\n",
    "    def combine3(self, new_population):\n",
    "        # Si self.keep_elitism es True, debemos añadir los mejores individuos de la población actual a la nueva población,\n",
    "        if self.keep_elitism:\n",
    "            # Añadimos los mejores individuos de la poblacion actual a la nueva poblacion\n",
    "            new_population.extend(self.population[:self.population_size - len(new_population)])\n",
    "\n",
    "        # Ordenamos la nueva poblacion de mayor a menor fitness\n",
    "        new_population.sort(key=lambda x: x.fitness, reverse=True)\n",
    "        # Devolvemos la nueva poblacion\n",
    "        return new_population[:self.population_size]\n",
    "\n",
    "    \n",
    "    # Hacemos el combine2 con los mismos parametros que el combine3\n",
    "    def combine4(self, new_population):\n",
    "        \n",
    "        if self.keep_elitism:\n",
    "            # Añadimos los mejores individuos de la poblacion actual a la nueva poblacion\n",
    "            # Ordenamos la nueva poblacion de menor a mayor fitness\n",
    "            new_population.sort(key=lambda x: x.fitness)\n",
    "            self.population.sort(key=lambda x: x.fitness)\n",
    "            population_size = self.population_size\n",
    "            new_population_size = len(new_population)\n",
    "\n",
    "            # Mezclamos el 50% de la poblacion actual con el 50% de la nueva poblacion (los mejores con los mejores de cada poblacion)\n",
    "            new_population_2 = []\n",
    "\n",
    "            population_size_50 = population_size // 2\n",
    "\n",
    "            # Hacemos un conjunto de los elementos de la poblacion actual y la nueva poblacion\n",
    "            population_set = set(self.population)\n",
    "\n",
    "            num_added_new_p = 0\n",
    "\n",
    "            # def add_individuals()\n",
    "\n",
    "            # Si la nueva poblacion no tiene los elementos suficientes (50%) para completar la poblacion actual, añadimos los faltantes de la poblacion actual\n",
    "            if new_population_size < population_size_50:\n",
    "                \n",
    "                # POBLACION NUEVA \n",
    "                # Añadimos el 50% de la nueva poblacion evitando que se repitan elementos\n",
    "                for individual in new_population:\n",
    "                    if individual not in population_set:\n",
    "                        new_population_2.append(individual)\n",
    "                        population_set.add(individual)\n",
    "                        num_added_new_p += 1\n",
    "\n",
    "            # Si tiene los elementos suficientes, añadimos mitad de la poblacion actual y mitad de la nueva poblacion\n",
    "            else:\n",
    "                # POBLACION NUEVA\n",
    "                population_size_50_aux = population_size_50\n",
    "                # Añadimos el 50% de la nueva poblacion evitando que se repitan elementos\n",
    "                # new_population_2.extend(new_population[:population_size_50])\n",
    "                for individual in new_population:\n",
    "                    if individual not in population_set:\n",
    "                        new_population_2.append(individual)\n",
    "                        population_set.add(individual)\n",
    "                        num_added_new_p += 1\n",
    "                    if num_added_new_p == population_size_50:\n",
    "                        break\n",
    "\n",
    "\n",
    "            # POBLACION ACTUAL\n",
    "            # Si la poblacion es impar sumamos 1\n",
    "            if population_size % 2 != 0:\n",
    "                # Añadimos el 50% de la poblacion actual + los que faltan de la nueva poblacion por estar repetidos en la poblacion actual\n",
    "                new_population_2.extend(self.population[:population_size_50 + (population_size_50 - num_added_new_p) + 1])\n",
    "            else:\n",
    "                new_population_2.extend(self.population[:population_size_50 + (population_size_50 - num_added_new_p)])\n",
    "                # Si no se han añadido todos los elementos de la nueva poblacion, añadimos los faltantes de la poblacion actual\n",
    "                # if num_added_new_p <= population_size_50:\n",
    "                #     # Añadimos a la nueva poblacion 2 los elementos faltantes de la poblacion actual\n",
    "                #     new_population_2.extend(self.population[:population_size_50 - num_added_new_p])\n",
    "\n",
    "            # Antes de añadirlo comprobamos elementos repetidos entre la poblacion actual y la nueva poblacion\n",
    "            # Si hay elementos repetidos, no los añadimos a la nueva poblacion, si no se añade un elemento lo tenemos en cuenta en el for \n",
    "            # # para que la poblacion final tenga el tamaño deseado por tanto le añadimos 1 al tamaño de la poblacion\n",
    "            # new_population_set = set(new_population)\n",
    "            # for i in self.population[:self.population_size - len(new_population)]:\n",
    "            #     if i not in new_population_set:\n",
    "            #         new_population.append(i)\n",
    "            #     else:\n",
    "            #         self.population_size += 1\n",
    "            \n",
    "        else:\n",
    "            # Comprobamos si la nueva poblacion es mayor que la poblacion actual\n",
    "            if len(new_population) > len(self.population):\n",
    "                # Si es mayor, devolvemos la nueva poblacion\n",
    "                return new_population[:self.population_size]\n",
    "            else:\n",
    "                # Si no es mayor, devolvemos una mezcla de la poblacion actual y la nueva poblacion seleccionandolos de forma aleatoria por torneo\n",
    "                # for _ in range(self.population_size - len(new_population)):\n",
    "                #     new_population.append(self.select_tournament(self.population))\n",
    "                # return new_population\n",
    "\n",
    "                selected_individuals = [self.select_tournament(self.population) for _ in range(self.population_size - len(new_population))]\n",
    "                return new_population + selected_individuals\n",
    "\n",
    "            \n",
    "\n",
    "        # Ordenamos la nueva poblacion de menor a mayor fitness\n",
    "        new_population_2.sort(key=lambda x: x.fitness)\n",
    "        # Devolvemos la nueva poblacion\n",
    "        return new_population_2[:self.population_size]\n",
    "\n",
    "\n"
   ]
  },
  {
   "attachments": {},
   "cell_type": "markdown",
   "metadata": {
    "datalore": {
     "hide_input_from_viewers": false,
     "hide_output_from_viewers": false,
     "node_id": "gbmyb1Y7HDt8hj3HbK4pyg",
     "report_properties": {},
     "type": "MD"
    }
   },
   "source": [
    "**Se recomienda que se prueben cada uno de los métodos implementados de manera individual en las siguientes líneas de código:**"
   ]
  },
  {
   "cell_type": "code",
   "execution_count": 53,
   "metadata": {
    "datalore": {
     "hide_input_from_viewers": false,
     "hide_output_from_viewers": false,
     "node_id": "FOi9zMZg3wyLatmKT78I1V",
     "report_properties": {},
     "type": "CODE"
    }
   },
   "outputs": [
    {
     "name": "stdout",
     "output_type": "stream",
     "text": [
      "Población inicial\n",
      "[1, 4, 0, 5, 3, 2]\n",
      "[3, 5, 4, 0, 2, 1]\n",
      "[0, 3, 4, 2, 5, 1]\n",
      "[2, 1, 0, 4, 3, 5]\n",
      "[0, 4, 5, 1, 3, 2]\n"
     ]
    }
   ],
   "source": [
    "# TODO: Test here the methods to generate a population\n",
    "# Probamos el metodo para generar una población inicial de Genetic \n",
    "# self, population_size, num_generations, selection_type, crossover_type, crossover_probability, mutation_type, mutation_probability, keep_elitism, random_state)\n",
    "# A genetic le pasamos estos parametros\n",
    "gn = Genetic(5, 10, \"torneo\", 'crossover', 0.8, 'mutation', 0.1, True, 1, False)\n",
    "\n",
    "# Creamos una población inicial\n",
    "gn.generate_population(65)\n",
    "\n",
    "# Imprimimos la población inicial\n",
    "print('Población inicial')\n",
    "for individual in gn.population:\n",
    "    print(individual.genes)\n",
    "\n",
    "\n",
    "\n"
   ]
  },
  {
   "cell_type": "code",
   "execution_count": 54,
   "metadata": {
    "datalore": {
     "hide_input_from_viewers": false,
     "hide_output_from_viewers": false,
     "node_id": "GyAO00SfnmWSXlRQCsyvkf",
     "report_properties": {},
     "type": "CODE"
    }
   },
   "outputs": [
    {
     "name": "stdout",
     "output_type": "stream",
     "text": [
      "Padres seleccionados\n",
      " Individual: [1, 4, 0, 5, 3, 2]\n",
      " Individual: [2, 1, 0, 4, 3, 5]\n"
     ]
    }
   ],
   "source": [
    "# TODO: Test here the methods to select individuals\n",
    "# Probamos los metodos de seleccion de individuos \n",
    "# Para probar los metodos de seleccion de individuos, vamos a crear una poblacion de 10 individuos y vamos a seleccionar 5 individuos de la poblacion de 10 individuos\n",
    "\n",
    "# Probamos el metodo para seleccionar los padres\n",
    "parents = gn.select_population(gn.population)\n",
    "\n",
    "# Imprimimos los padres seleccionados\n",
    "print('Padres seleccionados')\n",
    "for individual in parents:\n",
    "    print(individual)\n",
    "\n",
    "# print(type(parents))\n",
    "# print(type(parents[0]))\n"
   ]
  },
  {
   "cell_type": "code",
   "execution_count": 55,
   "metadata": {},
   "outputs": [
    {
     "name": "stdout",
     "output_type": "stream",
     "text": [
      "[ Individual: [1, 4, 0, 5, 3, 2],  Individual: [2, 1, 0, 4, 3, 5]]\n",
      "Hijos cruzados\n",
      " Individual: [1, 0, 4, 5, 3, 2]\n",
      " Individual: [2, 1, 0, 4, 3, 5]\n",
      "Hijos mutados\n",
      " Individual: [1, 0, 4, 5, 3, 2]\n",
      " Individual: [2, 1, 0, 4, 3, 5]\n"
     ]
    }
   ],
   "source": [
    "print(parents)\n",
    "\n",
    "# Probramos el metodo para cruzar y mutar los padres\n",
    "childs = gn.crossover(parents)\n",
    "\n",
    "# print(childs)\n",
    "# Imprimimos los hijos\n",
    "print('Hijos cruzados')\n",
    "for individual in childs:\n",
    "    print(individual)\n",
    "    # print(type(individual))\n",
    "\n",
    "# Probamos el metodo para mutar los hijos\n",
    "childs = gn.mutation(childs)\n",
    "\n",
    "# Imprimimos los hijos mutados\n",
    "print('Hijos mutados')\n",
    "for individual in childs:\n",
    "    print(individual)\n",
    "    # print(type(individual))\n",
    "\n",
    "    \n",
    "# print(type(childs))\n",
    "# print(type(childs[0]))\n",
    "# print(type(gn.population))\n"
   ]
  },
  {
   "cell_type": "code",
   "execution_count": 56,
   "metadata": {},
   "outputs": [],
   "source": [
    "# PRUEBAS INDIVIDUALES DE COMBINE DEBAJO DE CVRP"
   ]
  },
  {
   "cell_type": "code",
   "execution_count": 57,
   "metadata": {},
   "outputs": [],
   "source": [
    "# Probamos el metodo __call__ de la clase Genetic encargado de ejecutar el algoritmo genetico completo\n",
    "# gn = Genetic(10, 10, \"torneo\", 'crossover', 0.8, 'mutation', 0.1, True, 1)\n",
    "\n",
    "# Call crea la poblacion y hace los pasos necesarios para ejecutar el algoritmo genetico\n",
    "# Le pasamos el problema que queremos resolver\n",
    "\n"
   ]
  },
  {
   "attachments": {},
   "cell_type": "markdown",
   "metadata": {
    "datalore": {
     "hide_input_from_viewers": false,
     "hide_output_from_viewers": false,
     "node_id": "ABJANTvB3nbrdRJJ6xfmXo",
     "report_properties": {},
     "type": "MD"
    }
   },
   "source": [
    "#### Clase `CVRP`\n",
    "\n",
    "Esta clase representa el problema en cuestión, esto es, el **problema** de **ruteo** de **vehículos**.\n",
    "\n",
    "Los **métodos obligatorios** que se deben añadir son:\n",
    "\n",
    "* ``def __init__(self, filename, algorithm)``: Inicializa el **problema** en cuestión y el **algoritmo** a usar para resolverlo. A su vez, se debe crear un **diccionario** que contenga como **clave** un **identificador** de **paquete** y como **valor** una **tupla** con la **ciudad** donde se encuentra dicho paquete y su **peso**.\n",
    "* ``def __call__(self)``: **Resuelve** el **problema** en cuestión.\n",
    "* ``def evaluate(self, solution)``: **Evalua** una **solución** para el **problema** en cuestión, **teniendo en cuenta** las **restricciones correspondientes**.\n",
    "* ``def search(self, departure, goal)``: **Resuelve** un **problema** de **búsqueda** de **caminos** dada las **ciudades** de **salida** y **meta**.\n",
    "\n",
    "**Nótese que se puede crear una estructura de datos para agilizar el proceso de búsqueda de caminos requerido por el algoritmo ¿cuál puede ser?**"
   ]
  },
  {
   "cell_type": "code",
   "execution_count": 58,
   "metadata": {
    "datalore": {
     "hide_input_from_viewers": false,
     "hide_output_from_viewers": false,
     "node_id": "skolk6M2LsHFH7WW5vxnAD",
     "report_properties": {},
     "type": "CODE"
    }
   },
   "outputs": [
    {
     "name": "stdout",
     "output_type": "stream",
     "text": [
      "0fea6a13c52b4d4725368f24b045ca84\n"
     ]
    },
    {
     "data": {
      "text/plain": [
       "'The answer is incorrect.'"
      ]
     },
     "execution_count": 58,
     "metadata": {},
     "output_type": "execute_result"
    }
   ],
   "source": [
    "# TODO: Introduce here the answer to use for the hashing\n",
    "answer = \"Hello\"\n",
    "\n",
    "# Avoid case sensitivity in the answer\n",
    "answer = str.lower(answer)\n",
    "\n",
    "# Encode the answer before hashing\n",
    "answer = answer.encode(\"utf-8\")\n",
    "\n",
    "encoded = \"0fea6a13c52b4d4725368f24b045ca84\"  # The hashed answer\n",
    "print(encoded)\n",
    "\n",
    "check_answer(answer, encoded)"
   ]
  },
  {
   "cell_type": "code",
   "execution_count": 59,
   "metadata": {
    "datalore": {
     "hide_input_from_viewers": false,
     "hide_output_from_viewers": false,
     "node_id": "dKLgpxk5uGiulUFQQ1dKB2",
     "report_properties": {},
     "type": "CODE"
    }
   },
   "outputs": [],
   "source": [
    "class CVRP:\n",
    "\n",
    "    # =============================================================================\n",
    "    # Constructor\n",
    "    # =============================================================================\n",
    "    \n",
    "    # Sobreescribir el método __init__ de la clase problem ubicada en utils.py\n",
    "\n",
    "\n",
    "\n",
    "\n",
    "# No necesitamos la primera funcion de carga de archivo, la ciudad objetivo ni ciudad inicial\n",
    "    def __init__(self, filename=\"Spain/example.json\", algorithm=None):\n",
    "\n",
    "        self.filename = filename\n",
    "\n",
    "        with open(filename, 'r', encoding='utf8') as file:\n",
    "            problem = json.load(file)\n",
    "        \n",
    "\n",
    "\n",
    "        self.problema = ut.Problem(problem)\n",
    "\n",
    "        self.genetic_algorithm = algorithm\n",
    "\n",
    "        \n",
    "        # Para el problema tenemos 4 elementos principales (JSON):\n",
    "        # map -> mapa del problema (Práctica 1)\n",
    "        # warehouses -> almacenes del problema (En este caso solo hay 1)\n",
    "        # vehicles -> lista de vehículos disponibles\n",
    "            # id -> identificador del vehículo\n",
    "            # capacity -> capacidad del vehículo\n",
    "        # parcels -> lista de paquetes a recoger\n",
    "            # id -> identificador del paquete\n",
    "            # city -> ciudad donde se encuentra el paquete \n",
    "            # weight -> peso del paquete\n",
    "        \n",
    "        # Warehouse -> Ciudad en la que se encuentra el almacén (en el problema solo habra 1 almacén) \n",
    "        # Elegimos el primer elemento de la lista de almacenes\n",
    "        self.warehouse = problem['warehouse']\n",
    "\n",
    "        # Vehicles -> Lista de vehículos disponibles (lista de diccionarios) (en los problemas solo habra 1 vehiculo)\n",
    "        self.vehicles = problem['vehicles']\n",
    "\n",
    "        # Parcels -> Lista de paquetes a recoger\n",
    "        self.parcels = problem['parcels']\n",
    "\n",
    "        # Creamos un diccionario para almacenar los paquetes, guardamos el id del paquete como clave y una tupla con la ciudad y el peso como valor\n",
    "        self.parcels_dict = {parcel['id']:(parcel['city'], parcel['weight']) for parcel in self.parcels}\n",
    "\n",
    "\n",
    "        # Numero de individuos evaluados reales\n",
    "        self.real_evaluated_items = 0\n",
    "\n",
    "        # Numero de individuos evaluados totales\n",
    "        self.total_evaluated_items = 0\n",
    "\n",
    "        # Diccionario para no explorar soluciones ya exploradas\n",
    "        self.explored_solutions = {}\n",
    "\n",
    "        # Diccionario de busquedas realizadas entre ciudades\n",
    "        self.searches = {}\n",
    "\n",
    "        # Cantidad de llamadas al metodo search reales \n",
    "        self.real_search_calls = 0\n",
    "\n",
    "        # Cantidad de \"llamadas\" al metodo search totales\n",
    "        self.total_search_calls = 0\n",
    "\n",
    "        # Diccionario de estadisticas\n",
    "        self.stats = {}\n",
    "\n",
    "        \n",
    "        # Matriz de costes entre ciudades\n",
    "        \n",
    "        \n",
    "\n",
    "\n",
    "    # Resuelve el problema en cuestion\n",
    "    def __call__(self):\n",
    "\n",
    "        init_time = time.perf_counter()\n",
    "        # Llamamos al algoritmo genetico para resolver el problema del CVRP y guardamos la solucion en la variable solution\n",
    "        solution = self.genetic_algorithm(self)\n",
    "\n",
    "        # population = self.genetic_algorithm(self)\n",
    "\n",
    "\n",
    "        # Calculamos el tiempo que ha tardado en resolver el problema\n",
    "        time_elapsed = time.perf_counter() - init_time\n",
    "\n",
    "\n",
    "        # Guardamos las estadisticas en el diccionario de estadisticas\n",
    "        self.stats['time'] = time_elapsed\n",
    "        # Añadimos a la clave 'searches' el numero de llamadas al metodo search reales con clave 'real' y el numero de llamadas totales con clave 'total'\n",
    "        self.stats['searches'] = {'real': self.real_search_calls, 'total': self.total_search_calls}\n",
    "        # Añadimos a la clave 'population' el numero de individuos reales y el numero de individuos totales\n",
    "        self.stats['population'] = {'real': self.real_evaluated_items, 'total': self.total_evaluated_items}\n",
    "\n",
    "        # Ordenamos el diccionario de soluciones exploradas segun su fitness\n",
    "        self.explored_solutions = dict(sorted(self.explored_solutions.items(), key=lambda item: item[1]))\n",
    "\n",
    "        # Mostramos todos los caminos explorados \n",
    "        print(\"explore: \", self.explored_solutions)\n",
    "        print(\"Explore len: \", len(self.explored_solutions))\n",
    "\n",
    "        # Mostramos el que menor fitness tenga\n",
    "        # print(\"explore_min: \", min(self.explored_solutions.values()))\n",
    "        # Hacemos los print anteriores en uno solo\n",
    "        print(\"\\nProblem: \", self.filename, \"\\nSolution: \", solution, \"\\nStats: \", self.stats, \"\\nScore: \", solution.fitness)\n",
    "\n",
    "        # Devolvemos el individuo con el menor fitness (explored_solutions es un diccionario ordenado por fitness) elemento 0 de la lista de claves\n",
    "        return solution\n",
    "\n",
    "        \n",
    "\n",
    "\n",
    "\n",
    "\n",
    "\n",
    "    # Para problemas pequeños podemos hacer una matriz de costes entre ciudades\n",
    "    def create_cost_matrix(self):\n",
    "        pass\n",
    "\n",
    "\n",
    "\n",
    "\n",
    "\n",
    "\n",
    "    # =============================================================================\n",
    "    # Mandatory methods\n",
    "    # =============================================================================\n",
    "\n",
    "\n",
    "    # Funcion para resolver el problema del CVRP\n",
    "    def solve(self, solution):\n",
    "        # Resuelve el problema del CVRP\n",
    "        # Recibe una solucion y devuelve una lista de rutas (lista de listas)\n",
    "        pass\n",
    "        \n",
    "\n",
    "    def evaluate(self, solution):\n",
    "        # Evalua una solucion para el problema del CVRP\n",
    "        # El algoritmo genetico nos genera un individuo, una lista aleatoria con el orden de las ciudades a visitar\n",
    "\n",
    "        # Cosas a tener en cuenta:\n",
    "            # 1.1 Peso del paquete -> El peso del paquete debe ser menor que la capacidad del vehiculo, si no es asi, la solucion no es valida\n",
    "            # 1.2 Peso del paquete -> Debemos comprobar antes de ir a la siguiente ciudad si el peso del paquete + el peso de los paquetes en el vehiculo \n",
    "            # supera la capacidad del vehiculo, si es asi, debemos volver al almacén para dejar los paquetes e ir a la siguiente ciudad\n",
    "            # 2. Una solución sera mejor cuando la distancia total recorrida es la menor posible\n",
    "\n",
    "        # Para resolver el problema del CVRP debemos recorrer la lista de ciudades que nos da el algoritmo genetico y comprobar si la solucion es valida\n",
    "        # Si la solucion es valida, debemos calcular la distancia total recorrida y devolverla como fitness de la solucion\n",
    "        \n",
    "        # Inicializamos variables necesarias\n",
    "\n",
    "        fitness = 0\n",
    "\n",
    "        # Convertimos la solucion en una tupla para poder usarla como clave en el diccionario de soluciones exploradas\n",
    "        tuple_solution = tuple(solution)\n",
    "\n",
    "        # Comprobamos si el individuo ha sido evaluado previamente\n",
    "        if tuple_solution in self.explored_solutions: \n",
    "            # Si ya ha sido evaluado, obtenemos el coste del diccionario y lo asignamos al fitness del individuo\n",
    "            fitness = self.explored_solutions[tuple_solution]\n",
    "            self.total_evaluated_items += 1\n",
    "\n",
    "        else:\n",
    "            # Si no ha sido evaluado, lo evaluamos\n",
    "            # Creamos una variable para almacenar el peso total de los paquetes que llevamos en el vehiculo\n",
    "            total_weight = 0\n",
    "\n",
    "            # Creamos una lista para almacenar las rutas (orden a recoger del id de los paquetes)\n",
    "            # routes = []\n",
    "\n",
    "            # Creamos una lista para almacenar los paquetes que llevamos en el vehiculo\n",
    "            # parcels = []\n",
    "\n",
    "            # Creamos una variable para almacenar la ciudad en la se encuentra el vehiculo (warehouse)\n",
    "            current_city = self.warehouse\n",
    "\n",
    "            # Tenemos una lista de ciudades (solution) la cual debemos recorrer\n",
    "            if solution is None:\n",
    "                raise ValueError(\"Solution is None\")\n",
    "            else:\n",
    "\n",
    "                \n",
    "                # Recorremos la lista de paquetes\n",
    "                for next_parcel in tuple_solution:\n",
    "                    \n",
    "                    # Siguiente ciudad\n",
    "                    next_city = self.parcels_dict[next_parcel][0]\n",
    "\n",
    "                    # Guardamos el peso del paquete de la siguiente ciudad + el peso total de los paquetes en el vehiculo\n",
    "                    total_weight += self.parcels_dict[next_parcel][1]\n",
    "\n",
    "                    # Comprobamos si el peso del paquete total supera la capacidad del vehiculo\n",
    "                    if total_weight > self.vehicles[0]['capacity']:\n",
    "                        # Si es asi, debemos volver al almacén para dejar los paquetes e ir a la siguiente ciudad\n",
    "\n",
    "                        # Comprobamos si la ciudad del paquete actual y el almacen han sido calculadas previamente\n",
    "                        if (current_city, self.warehouse) in self.searches:\n",
    "                            # Si es asi, obtenemos el coste del diccionario y lo sumamos al fitness\n",
    "                            fitness += self.searches[(current_city, self.warehouse)]\n",
    "                            self.total_search_calls += 1\n",
    "                        else: \n",
    "                            # Calculamos la distancia entre la ciudad en la que nos encontramos y la siguiente ciudad y la sumamos al fitness\n",
    "                            fitness += self.search(current_city, self.warehouse)\n",
    "                            # Añadimos el coste al diccionario de costes\n",
    "                            self.searches[(current_city, self.warehouse)] = fitness\n",
    "                            self.real_search_calls += 1\n",
    "\n",
    "                        # Añadimos el id de los paquetes que llevamos en el vehiculo a la lista de rutas\n",
    "                        # routes.append(parcels)\n",
    "                        # Vaciamos la lista de paquetes que llevamos en el vehiculo\n",
    "                        # parcels = []\n",
    "\n",
    "                        # Actualizamos la ciudad en la que nos encontramos\n",
    "                        current_city = self.warehouse\n",
    "                        # Actualizamos el peso total de los paquetes que llevamos en el vehiculo\n",
    "                        total_weight = 0\n",
    "\n",
    "                    # Comprobamos si la ciudad actual y la siguiente ciudad han sido calculadas previamente\n",
    "                    if (current_city, next_city) in self.searches:\n",
    "                        # Si es asi, obtenemos el coste del diccionario y lo sumamos al fitness\n",
    "                        fitness += self.searches[(current_city, next_city)]\n",
    "                        self.total_search_calls += 1\n",
    "                    else: \n",
    "                        # Calculamos la distancia entre la ciudad en la que nos encontramos y la siguiente ciudad y la sumamos al fitness\n",
    "                        fitness += self.search(current_city, next_city)\n",
    "                        # Añadimos el coste al diccionario de costes\n",
    "                        self.searches[(current_city, next_city)] = fitness\n",
    "                        self.real_search_calls += 1\n",
    "\n",
    "\n",
    "                    # Viajamos a la siguiente ciudad\n",
    "                    \n",
    "                    # Añadimos el id del paquete de la siguiente ciudad a la lista de paquetes que llevamos en el vehiculo\n",
    "                    # parcels.append(next_parcel)\n",
    "                    # Actualizamos la ciudad actual\n",
    "                    current_city = self.parcels_dict[next_parcel][0]\n",
    "\n",
    "                # Una vez recorridas todas las ciudades, debemos volver al almacén para dejar los paquetes\n",
    "                # Calculamos la distancia entre la ciudad en la que nos encontramos y el almacén, la sumamos al fitness\n",
    "                # fitness += self.search(current_parcel, self.warehouse)\n",
    "                # Añadimos el id de los paquetes que llevamos en el vehiculo a la lista de rutas\n",
    "                # routes.append(parcels)\n",
    "\n",
    "            # Añadimos el fitness al diccionario de soluciones exploradas, con la solucion como clave \n",
    "            self.explored_solutions[tuple_solution] = fitness\n",
    "            self.total_evaluated_items += 1\n",
    "            self.real_evaluated_items += 1\n",
    "\n",
    "        # Devolvemos el fitness de la solucion\n",
    "        return fitness\n",
    "\n",
    "\n",
    "    \n",
    "    def search(self, departure, goal):\n",
    "        # Asignamos a la variable departure la ciudad de origen, es decir, en la que nos encontramos\n",
    "        self.problema.departure = departure\n",
    "        # Asignamos a la variable goal la ciudad de destino, es decir, en la que queremos llegar\n",
    "        self.problema.goal = goal\n",
    "\n",
    "        # Llamamos al metodo search en concreto el metodo A* para resolver el problema\n",
    "        # En el archivo utils he cambiado el return de do_search llamando a la funcion que me calcula el coste\n",
    "        # del camino que recorre el algoritmo, es decir, la distancia entre la ciudad de origen y la ciudad de destino\n",
    "        return ut.AStar(self.problema).do_search()\n",
    "\n",
    "\n",
    "\n",
    "\n",
    "        \n",
    "    "
   ]
  },
  {
   "attachments": {},
   "cell_type": "markdown",
   "metadata": {},
   "source": [
    "PRUEBAS COMBINE (GENETIC)"
   ]
  },
  {
   "cell_type": "code",
   "execution_count": 60,
   "metadata": {},
   "outputs": [
    {
     "name": "stdout",
     "output_type": "stream",
     "text": [
      " Individual: [1, 0, 4, 5, 3, 2]\n",
      "Fitness:  3244.0\n",
      " Individual: [3, 5, 4, 0, 2, 1]\n",
      "Fitness:  3594.0\n",
      " Individual: [0, 3, 4, 2, 5, 1]\n",
      "Fitness:  7220.0\n",
      " Individual: [2, 1, 0, 4, 3, 5]\n",
      "Fitness:  13788.0\n",
      " Individual: [0, 4, 5, 1, 3, 2]\n",
      "Fitness:  14003.0\n"
     ]
    }
   ],
   "source": [
    "# Probamos combine de genetic\n",
    "# Evaluamos los nuevos individuos\n",
    "# Tenemos 2 individuos nuevos (childs) y 5 individuos de la poblacion actual (gn.population)\n",
    "cvrp = CVRP()\n",
    "for individual in gn.population:\n",
    "    print(individual)\n",
    "    individual.evaluate(cvrp)\n",
    "    print(\"Fitness: \", individual.fitness)\n"
   ]
  },
  {
   "cell_type": "code",
   "execution_count": null,
   "metadata": {},
   "outputs": [],
   "source": [
    "# TODO: Test here the methods to combine populations\n",
    "# Probamos los metodos para combinar poblaciones\n",
    "# Para este metodo combinaremos la poblacion actual population con los hijos (childs) que hemos obtenido del metodo crossover y mutation\n",
    "\n",
    "# Llamamos al metodo evaluate de Individual para que asigne un fitness a cada individuo de la poblacion\n",
    "for individual in gn.population:\n",
    "    individual.evaluate_first_number()\n",
    "\n",
    "for individual in childs:\n",
    "    individual.evaluate_first_number()\n",
    "    \n",
    "\n",
    "# Probamos el metodo para combinar poblaciones\n",
    "new_population = gn.combine4(childs)\n",
    "\n",
    "# Imprimimos la nueva poblacion\n",
    "print('Nueva población')\n",
    "for individual in new_population:\n",
    "    print(individual.genes)"
   ]
  },
  {
   "attachments": {},
   "cell_type": "markdown",
   "metadata": {
    "datalore": {
     "hide_input_from_viewers": true,
     "hide_output_from_viewers": true,
     "node_id": "llGypZPWDhZRcvtvII4bZA",
     "type": "MD"
    }
   },
   "source": [
    "**Se recomienda que se prueben cada uno de los métodos implementados de manera individual en las siguientes líneas de código:**"
   ]
  },
  {
   "cell_type": "code",
   "execution_count": 119,
   "metadata": {
    "datalore": {
     "hide_input_from_viewers": false,
     "hide_output_from_viewers": false,
     "node_id": "Bia29BOdqugjIaMw09HJYE",
     "report_properties": {},
     "type": "CODE"
    }
   },
   "outputs": [
    {
     "name": "stdout",
     "output_type": "stream",
     "text": [
      "{'id': 0, 'capacity': 20}\n",
      "11\n",
      "{'id': 0, 'city': 9, 'weight': 5}\n",
      "{'id': 1, 'city': 5, 'weight': 7}\n",
      "{'id': 2, 'city': 7, 'weight': 11}\n",
      "{'id': 3, 'city': 3, 'weight': 6}\n",
      "{'id': 4, 'city': 3, 'weight': 6}\n",
      "{'id': 5, 'city': 8, 'weight': 14}\n",
      "{0: (9, 5), 1: (5, 7), 2: (7, 11), 3: (3, 6), 4: (3, 6), 5: (8, 14)}\n",
      "899.0\n"
     ]
    }
   ],
   "source": [
    "# TODO: Test here the method to initialize the capacited vehicle routing problem\n",
    "# # Inicializamos el vehiculo\n",
    "# geneticAlgorithm = Genetic(50, 100, \"torneo\", 'crossover', 0.8, 'mutation', 0.1, True, 1)\n",
    "\n",
    "cvrp = CVRP()\n",
    "\n",
    "# Comprobamos todas las variables del problema\n",
    "print(cvrp.vehicles[0])\n",
    "print(cvrp.warehouse)\n",
    "for i in range(len(cvrp.parcels)):\n",
    "    print(cvrp.parcels[i])\n",
    "\n",
    "print(cvrp.parcels_dict)\n",
    "\n",
    "# Obtenemos la longitud del diccionario\n",
    "\n",
    "\n",
    "\n",
    "suma = cvrp.search(1, 2)\n",
    "print(suma)\n",
    "\n",
    "\n",
    "\n",
    "\n"
   ]
  },
  {
   "cell_type": "code",
   "execution_count": 120,
   "metadata": {
    "datalore": {
     "hide_input_from_viewers": false,
     "hide_output_from_viewers": false,
     "node_id": "DBniyKLSb6eBHrDuRwsqyV",
     "report_properties": {},
     "type": "CODE"
    }
   },
   "outputs": [],
   "source": [
    "# TODO: Test here the method to solve the search problem\n",
    "# Resolvemos el problema de busqueda\n",
    "# print(cvrp.search(11, 9))\n",
    "# Hacemos la busqueda "
   ]
  },
  {
   "cell_type": "code",
   "execution_count": 127,
   "metadata": {
    "datalore": {
     "hide_input_from_viewers": false,
     "hide_output_from_viewers": false,
     "node_id": "cy404oaoVQkMmldm92K5Sd",
     "report_properties": {},
     "type": "CODE"
    }
   },
   "outputs": [
    {
     "name": "stdout",
     "output_type": "stream",
     "text": [
      "explore:  {(1, 4, 0, 5, 3, 2): 3446.0, (0, 3, 4, 2, 5, 1): 4479.0, (3, 5, 4, 0, 2, 1): 4944.0, (3, 4, 1, 2, 0, 5): 7506.0, (2, 1, 0, 4, 3, 5): 8530.0, (4, 5, 0, 3, 1, 2): 9659.0, (3, 4, 0, 5, 2, 1): 10012.0, (0, 4, 5, 1, 3, 2): 10089.0, (1, 4, 0, 3, 5, 2): 10521.0, (2, 1, 4, 3, 5, 0): 10740.0, (5, 2, 3, 4, 0, 1): 10966.0, (0, 4, 2, 5, 3, 1): 11205.0, (4, 3, 1, 2, 5, 0): 11796.0, (1, 3, 2, 5, 4, 0): 11796.0, (0, 3, 1, 2, 5, 4): 11796.0, (0, 3, 4, 2, 1, 5): 11957.0, (5, 1, 3, 4, 0, 2): 12156.0, (4, 5, 3, 2, 1, 0): 12417.0, (4, 0, 2, 1, 3, 5): 12560.0, (2, 4, 3, 5, 1, 0): 12701.0, (1, 3, 2, 5, 0, 4): 12735.0, (0, 3, 2, 4, 5, 1): 13148.0, (0, 2, 3, 4, 5, 1): 13272.0, (4, 1, 5, 0, 3, 2): 13403.0, (3, 1, 2, 5, 0, 4): 13557.0, (2, 4, 1, 3, 5, 0): 13739.0, (0, 2, 1, 4, 5, 3): 13863.0, (4, 2, 0, 1, 3, 5): 13894.0, (4, 5, 3, 0, 2, 1): 14017.0, (3, 4, 0, 5, 1, 2): 14105.0, (0, 3, 1, 5, 4, 2): 14258.0, (5, 4, 1, 3, 0, 2): 14265.0, (2, 1, 5, 4, 0, 3): 14407.0, (3, 4, 1, 5, 0, 2): 14669.0, (3, 1, 5, 4, 0, 2): 14676.0, (4, 0, 2, 3, 5, 1): 14832.0, (2, 0, 4, 3, 5, 1): 14944.0, (2, 0, 3, 4, 5, 1): 14944.0, (0, 3, 5, 1, 4, 2): 15018.0, (0, 2, 1, 4, 3, 5): 15080.0, (0, 2, 1, 3, 4, 5): 15080.0, (5, 1, 4, 2, 0, 3): 15087.0, (1, 3, 0, 5, 4, 2): 15120.0, (0, 5, 2, 1, 4, 3): 15138.0, (0, 5, 2, 1, 3, 4): 15138.0, (0, 4, 1, 3, 2, 5): 15491.0, (3, 2, 5, 0, 4, 1): 15524.0, (5, 2, 4, 0, 3, 1): 15528.0, (2, 0, 3, 5, 1, 4): 15535.0, (5, 2, 0, 4, 3, 1): 15640.0, (5, 0, 1, 3, 2, 4): 15643.0, (0, 4, 3, 5, 2, 1): 15700.0, (5, 1, 3, 2, 4, 0): 15832.0, (4, 2, 3, 5, 0, 1): 15909.0, (3, 2, 4, 5, 0, 1): 15909.0, (0, 2, 5, 3, 4, 1): 15935.0, (4, 3, 1, 0, 5, 2): 15960.0, (5, 2, 3, 4, 1, 0): 16196.0, (2, 4, 3, 5, 0, 1): 16196.0, (2, 5, 3, 4, 1, 0): 16341.0, (2, 5, 0, 3, 1, 4): 16341.0, (2, 0, 4, 1, 3, 5): 16493.0, (0, 2, 5, 4, 1, 3): 16526.0, (4, 5, 0, 1, 3, 2): 16535.0, (5, 4, 0, 2, 1, 3): 16572.0, (0, 3, 5, 4, 2, 1): 16605.0, (2, 5, 4, 3, 0, 1): 16612.0, (3, 1, 2, 0, 4, 5): 16635.0, (5, 0, 2, 3, 4, 1): 16750.0, (2, 0, 1, 5, 3, 4): 17067.0, (5, 0, 3, 2, 1, 4): 17100.0, (1, 3, 5, 4, 2, 0): 17196.0, (4, 3, 0, 5, 2, 1): 17384.0, (3, 0, 2, 4, 1, 5): 17462.0, (3, 1, 2, 4, 0, 5): 17462.0, (2, 0, 5, 3, 4, 1): 17607.0, (5, 4, 3, 0, 2, 1): 17761.0, (1, 5, 4, 2, 0, 3): 18277.0, (4, 0, 1, 3, 5, 2): 18361.0, (0, 5, 4, 2, 1, 3): 18718.0, (0, 5, 2, 3, 1, 4): 18959.0, (0, 2, 5, 1, 3, 4): 19222.0, (1, 5, 4, 3, 2, 0): 19421.0, (4, 2, 5, 1, 3, 0): 19556.0, (1, 4, 3, 2, 0, 5): 19657.0, (0, 5, 1, 3, 2, 4): 19753.0, (2, 4, 5, 1, 3, 0): 19843.0, (2, 3, 0, 5, 1, 4): 20040.0, (4, 5, 1, 0, 3, 2): 20091.0, (4, 3, 1, 2, 0, 5): 20479.0, (3, 0, 1, 2, 5, 4): 20498.0, (0, 4, 5, 2, 3, 1): 20602.0, (4, 5, 2, 3, 0, 1): 20769.0, (4, 3, 0, 1, 5, 2): 20925.0, (3, 4, 2, 5, 1, 0): 20941.0, (3, 1, 2, 0, 5, 4): 21719.0, (5, 1, 0, 3, 4, 2): 21726.0, (1, 0, 3, 2, 5, 4): 22228.0, (1, 5, 2, 3, 0, 4): 22274.0, (1, 5, 2, 4, 0, 3): 22274.0, (5, 2, 1, 0, 4, 3): 22548.0, (4, 1, 0, 2, 5, 3): 22908.0, (1, 4, 5, 2, 0, 3): 22989.0, (4, 3, 2, 1, 0, 5): 23069.0, (1, 2, 0, 3, 5, 4): 23520.0, (1, 5, 2, 0, 4, 3): 24070.0, (2, 3, 5, 0, 1, 4): 24359.0, (4, 1, 0, 2, 3, 5): 24433.0, (2, 3, 4, 0, 1, 5): 24480.0, (2, 4, 3, 0, 1, 5): 24480.0, (0, 3, 4, 1, 2, 5): 24737.0, (5, 2, 4, 0, 1, 3): 24898.0, (2, 5, 4, 0, 1, 3): 25043.0, (5, 4, 2, 0, 1, 3): 25216.0, (3, 0, 4, 1, 2, 5): 25482.0, (1, 0, 4, 3, 2, 5): 25923.0, (0, 1, 5, 3, 2, 4): 25975.0, (4, 3, 0, 1, 2, 5): 26421.0, (4, 1, 0, 3, 2, 5): 26603.0, (3, 1, 0, 4, 2, 5): 26603.0, (3, 2, 4, 1, 0, 5): 26603.0, (4, 0, 3, 5, 1, 2): 26686.0, (5, 1, 0, 2, 4, 3): 26752.0, (2, 4, 3, 1, 0, 5): 26890.0, (5, 1, 2, 3, 0, 4): 27119.0, (1, 0, 2, 4, 3, 5): 27149.0, (1, 2, 5, 3, 4, 0): 27187.0, (4, 3, 5, 1, 0, 2): 27211.0, (5, 4, 2, 3, 1, 0): 27656.0, (5, 3, 1, 2, 4, 0): 29228.0, (1, 0, 5, 3, 2, 4): 29389.0, (1, 0, 5, 4, 2, 3): 29389.0, (3, 2, 5, 1, 0, 4): 30065.0, (4, 2, 1, 0, 5, 3): 31007.0, (2, 3, 1, 0, 5, 4): 31294.0, (3, 0, 5, 1, 2, 4): 31385.0}\n",
      "Explore len:  136\n",
      "\n",
      "Problem:  more_cases-low_dimension\\problems\\example.json \n",
      "Solution:   Individual: [3, 0, 5, 1, 4, 2] \n",
      "Stats:  {'time': 1.4421007000000827, 'searches': {'real': 31, 'total': 1021}, 'population': {'real': 136, 'total': 150}} \n",
      "Score:  3446.0\n"
     ]
    },
    {
     "data": {
      "text/plain": [
       " Individual: [3, 0, 5, 1, 4, 2]"
      ]
     },
     "execution_count": 127,
     "metadata": {},
     "output_type": "execute_result"
    }
   ],
   "source": [
    "# TODO: Test here the method to solve the capacited vehicle routing problem\n",
    "# Resolvemos el problema del CVRP\n",
    "problem = \"more_cases-low_dimension\\problems\\example.json\"\n",
    "\n",
    "geneticAlgorithm = Genetic(150, 1000, \"torneo\", 'crossover', 0.8, 'mutation', 0.1, True, 1, False)\n",
    "\n",
    "cvrp = CVRP(problem, algorithm = geneticAlgorithm)\n",
    "\n",
    "cvrp()\n",
    "\n"
   ]
  },
  {
   "cell_type": "code",
   "execution_count": 129,
   "metadata": {},
   "outputs": [
    {
     "name": "stdout",
     "output_type": "stream",
     "text": [
      "3446.0\n"
     ]
    }
   ],
   "source": [
    "# Evaluar un individuo concreto\n",
    "print(cvrp.evaluate([1, 4, 0, 5, 3, 2]))"
   ]
  },
  {
   "cell_type": "code",
   "execution_count": 125,
   "metadata": {},
   "outputs": [
    {
     "data": {
      "text/plain": [
       "3314.0"
      ]
     },
     "execution_count": 125,
     "metadata": {},
     "output_type": "execute_result"
    }
   ],
   "source": [
    "problem = \"more_cases-low_dimension\\problems\\example.json\"\n",
    "\n",
    "geneticAlgorithm = Genetic(150, 1000, \"torneo\", 'crossover', 0.8, 'mutation', 0.1, True, 1, False)\n",
    "\n",
    "cvrp = CVRP(problem, algorithm = geneticAlgorithm)\n",
    "\n",
    "cvrp.evaluate([1, 3, 0, 4, 2, 5])"
   ]
  },
  {
   "attachments": {},
   "cell_type": "markdown",
   "metadata": {
    "datalore": {
     "hide_input_from_viewers": false,
     "hide_output_from_viewers": false,
     "node_id": "FzMRpxidPP2TpHDaxpFsp1",
     "report_properties": {},
     "type": "MD"
    }
   },
   "source": [
    "### 4.3. Estudio y mejora de los algoritmos\n",
    "\n",
    "Una vez que los algoritmos han sido implementados, se debe **estudiar** su **rendimiento**. Para ello, se debe comparar la **calidad** de las **soluciones obtenidas**, así como las **diferentes estadísticas** que se consideren adecuadas (número de generaciones, tiempo de ejecución, etc.). Factores como el tamaño máximo del problema que se soporta sin un error de memoria, así como el efecto temporal de usar escenarios más complejos son otros factores a tener en cuenta. Además, se **pueden proponer** y se valorarán la incorporación de **técnicas** que **permitan acelerar** la **ejecución** de los **algoritmos**.\n",
    "\n",
    "---"
   ]
  },
  {
   "cell_type": "code",
   "execution_count": 97,
   "metadata": {
    "datalore": {
     "hide_input_from_viewers": false,
     "hide_output_from_viewers": false,
     "node_id": "2VfPCt6k4D9scIvVlHIlAy",
     "report_properties": {},
     "type": "CODE"
    }
   },
   "outputs": [
    {
     "name": "stdout",
     "output_type": "stream",
     "text": [
      "explore:  {(3, 5, 0, 1, 2, 4): 3752.0, (2, 3, 5, 4, 0, 1): 4755.0, (2, 0, 4, 5, 1, 3): 5570.0, (4, 3, 5, 2, 1, 0): 7676.0, (4, 3, 2, 0, 1, 5): 7785.0, (2, 1, 0, 5, 4, 3): 7891.0, (2, 1, 3, 4, 0, 5): 8052.0, (3, 4, 0, 2, 1, 5): 8052.0, (2, 1, 4, 3, 0, 5): 8052.0, (4, 5, 2, 3, 0, 1): 8621.0, (3, 5, 2, 4, 0, 1): 8621.0, (3, 0, 1, 2, 4, 5): 8705.0, (5, 4, 3, 2, 1, 0): 9201.0, (2, 4, 5, 3, 0, 1): 9443.0, (5, 4, 2, 3, 0, 1): 9443.0, (5, 3, 2, 4, 0, 1): 9443.0, (3, 0, 2, 1, 5, 4): 9640.0, (2, 0, 4, 3, 5, 1): 10446.0, (4, 0, 5, 2, 1, 3): 10873.0, (3, 0, 5, 2, 1, 4): 10873.0, (0, 1, 5, 3, 4, 2): 10961.0, (5, 4, 3, 0, 1, 2): 11115.0, (1, 5, 3, 4, 2, 0): 11924.0, (1, 5, 4, 3, 2, 0): 11924.0, (4, 5, 2, 1, 3, 0): 12111.0, (5, 2, 3, 4, 0, 1): 12188.0, (4, 0, 2, 1, 3, 5): 12361.0, (3, 0, 2, 1, 4, 5): 12361.0, (0, 3, 4, 2, 1, 5): 12844.0, (0, 4, 3, 2, 1, 5): 12844.0, (5, 4, 2, 0, 1, 3): 12860.0, (0, 1, 4, 2, 3, 5): 12860.0, (5, 4, 2, 1, 3, 0): 12933.0, (5, 3, 2, 1, 4, 0): 12933.0, (3, 0, 4, 2, 1, 5): 12998.0, (4, 0, 3, 2, 1, 5): 12998.0, (2, 1, 3, 0, 4, 5): 12998.0, (2, 1, 0, 3, 5, 4): 13610.0, (2, 5, 3, 0, 1, 4): 13634.0, (2, 5, 4, 0, 1, 3): 13634.0, (3, 4, 2, 0, 5, 1): 13706.0, (4, 3, 2, 0, 5, 1): 13706.0, (1, 5, 3, 0, 2, 4): 13860.0, (5, 4, 1, 2, 0, 3): 14107.0, (3, 0, 5, 2, 4, 1): 14243.0, (0, 3, 2, 1, 5, 4): 14432.0, (4, 5, 0, 1, 3, 2): 14448.0, (1, 0, 2, 3, 4, 5): 14637.0, (4, 5, 0, 1, 2, 3): 14647.0, (4, 5, 1, 2, 3, 0): 14679.0, (5, 1, 2, 4, 3, 0): 14833.0, (2, 0, 1, 3, 4, 5): 14839.0, (2, 0, 1, 4, 3, 5): 14839.0, (1, 5, 2, 4, 3, 0): 14899.0, (0, 5, 2, 3, 1, 4): 15089.0, (5, 4, 3, 2, 0, 1): 15614.0, (5, 2, 1, 0, 3, 4): 16129.0, (0, 5, 3, 2, 1, 4): 16270.0, (2, 4, 1, 3, 0, 5): 16581.0, (1, 3, 2, 4, 0, 5): 16581.0, (2, 0, 4, 1, 5, 3): 16581.0, (3, 0, 2, 4, 1, 5): 16735.0, (3, 1, 2, 4, 0, 5): 16735.0, (4, 1, 2, 3, 0, 5): 16735.0, (3, 4, 0, 1, 2, 5): 16780.0, (2, 4, 0, 3, 5, 1): 16980.0, (1, 3, 2, 4, 5, 0): 16999.0, (2, 3, 1, 4, 5, 0): 16999.0, (5, 2, 3, 0, 4, 1): 17134.0, (0, 3, 2, 1, 4, 5): 17153.0, (5, 2, 3, 4, 1, 0): 17153.0, (1, 2, 4, 3, 5, 0): 17198.0, (1, 2, 3, 4, 5, 0): 17198.0, (5, 1, 4, 0, 2, 3): 17347.0, (1, 4, 0, 3, 5, 2): 17347.0, (5, 1, 4, 3, 0, 2): 17347.0, (1, 0, 5, 2, 3, 4): 17458.0, (4, 0, 5, 1, 3, 2): 17541.0, (1, 4, 5, 0, 2, 3): 17553.0, (4, 0, 5, 1, 2, 3): 17740.0, (3, 0, 5, 1, 2, 4): 17740.0, (4, 1, 5, 2, 0, 3): 17814.0, (3, 2, 0, 1, 5, 4): 17826.0, (1, 2, 4, 5, 3, 0): 18020.0, (0, 5, 1, 2, 4, 3): 18133.0, (0, 5, 1, 2, 3, 4): 18133.0, (2, 5, 1, 0, 3, 4): 18265.0, (3, 1, 5, 4, 0, 2): 18323.0, (4, 0, 5, 3, 1, 2): 18323.0, (4, 5, 0, 3, 2, 1): 18545.0, (1, 3, 0, 5, 2, 4): 18580.0, (2, 4, 1, 0, 5, 3): 18663.0, (0, 1, 4, 5, 3, 2): 18794.0, (3, 1, 2, 0, 5, 4): 19019.0, (3, 5, 2, 0, 4, 1): 19033.0, (4, 3, 2, 1, 5, 0): 19152.0, (0, 3, 4, 5, 1, 2): 19191.0, (4, 0, 3, 5, 1, 2): 19345.0, (3, 2, 1, 5, 4, 0): 19541.0, (2, 4, 1, 0, 3, 5): 19583.0, (2, 4, 5, 1, 0, 3): 19721.0, (5, 1, 2, 4, 0, 3): 19819.0, (5, 4, 2, 0, 3, 1): 19855.0, (5, 2, 4, 1, 0, 3): 19866.0, (3, 5, 4, 1, 0, 2): 19866.0, (5, 2, 3, 1, 0, 4): 19866.0, (4, 0, 5, 3, 2, 1): 19875.0, (3, 1, 2, 0, 4, 5): 19939.0, (4, 5, 1, 0, 3, 2): 20349.0, (2, 4, 0, 5, 1, 3): 20453.0, (0, 5, 1, 3, 4, 2): 20453.0, (2, 5, 4, 3, 1, 0): 20494.0, (1, 5, 4, 2, 3, 0): 20531.0, (4, 2, 0, 1, 3, 5): 20547.0, (0, 5, 4, 3, 1, 2): 20607.0, (4, 3, 1, 0, 5, 2): 20607.0, (0, 5, 3, 4, 1, 2): 20607.0, (5, 2, 0, 4, 1, 3): 20705.0, (1, 2, 4, 0, 5, 3): 20806.0, (5, 3, 1, 0, 4, 2): 21171.0, (2, 4, 0, 3, 1, 5): 21527.0, (1, 2, 0, 4, 3, 5): 21572.0, (0, 3, 4, 1, 2, 5): 21572.0, (4, 0, 1, 2, 5, 3): 21575.0, (1, 4, 0, 5, 3, 2): 21693.0, (3, 5, 0, 2, 1, 4): 22020.0, (0, 5, 4, 3, 2, 1): 22159.0, (0, 5, 3, 4, 2, 1): 22159.0, (0, 1, 2, 5, 4, 3): 22243.0, (0, 1, 2, 5, 3, 4): 22243.0, (3, 5, 0, 4, 1, 2): 22293.0, (5, 1, 3, 0, 4, 2): 22293.0, (4, 2, 3, 0, 5, 1): 22313.0, (3, 2, 4, 0, 5, 1): 22313.0, (1, 0, 2, 5, 4, 3): 22451.0, (0, 3, 5, 1, 2, 4): 22532.0, (4, 2, 0, 5, 3, 1): 22981.0, (3, 2, 0, 5, 4, 1): 22981.0, (2, 5, 1, 0, 4, 3): 23062.0, (0, 4, 5, 3, 1, 2): 23115.0, (0, 3, 5, 4, 1, 2): 23115.0, (2, 5, 4, 1, 0, 3): 23207.0, (3, 2, 5, 1, 4, 0): 23390.0, (3, 2, 1, 4, 0, 5): 23446.0, (1, 4, 0, 3, 2, 5): 23446.0, (4, 3, 0, 2, 5, 1): 23470.0, (2, 1, 5, 0, 3, 4): 23470.0, (0, 4, 1, 5, 2, 3): 23526.0, (3, 5, 0, 4, 2, 1): 23845.0, (3, 2, 1, 4, 5, 0): 23864.0, (5, 1, 3, 2, 4, 0): 24018.0, (4, 0, 2, 5, 3, 1): 24292.0, (2, 4, 5, 0, 1, 3): 24308.0, (5, 3, 0, 4, 2, 1): 24667.0, (0, 3, 5, 4, 2, 1): 24667.0, (5, 3, 1, 4, 2, 0): 24686.0, (2, 0, 1, 5, 3, 4): 24687.0, (2, 0, 1, 5, 4, 3): 24687.0, (2, 5, 3, 1, 4, 0): 24803.0, (3, 1, 4, 0, 5, 2): 24916.0, (0, 5, 4, 1, 3, 2): 24916.0, (0, 5, 3, 1, 2, 4): 25115.0, (4, 2, 1, 0, 5, 3): 25528.0, (3, 2, 1, 0, 5, 4): 25528.0, (0, 1, 3, 2, 5, 4): 25730.0, (5, 3, 0, 2, 4, 1): 26212.0, (5, 0, 2, 3, 4, 1): 26357.0, (4, 3, 2, 5, 1, 0): 26491.0, (4, 2, 5, 3, 1, 0): 26537.0, (4, 2, 5, 1, 0, 3): 26586.0, (0, 3, 1, 5, 4, 2): 26639.0, (0, 4, 1, 5, 3, 2): 26639.0, (4, 1, 2, 5, 0, 3): 27458.0, (2, 5, 0, 1, 3, 4): 27649.0, (5, 0, 1, 3, 4, 2): 27875.0, (5, 0, 1, 4, 3, 2): 27875.0, (3, 5, 4, 0, 2, 1): 28063.0, (1, 2, 4, 5, 0, 3): 28074.0, (3, 0, 4, 2, 5, 1): 28416.0, (1, 5, 0, 3, 2, 4): 28512.0, (5, 4, 3, 0, 2, 1): 28885.0, (0, 3, 2, 5, 4, 1): 29084.0, (5, 0, 4, 3, 2, 1): 29581.0, (2, 5, 0, 4, 3, 1): 30181.0, (4, 0, 3, 1, 5, 2): 30553.0, (3, 1, 0, 2, 5, 4): 31148.0, (4, 2, 5, 0, 1, 3): 31173.0, (5, 1, 0, 2, 3, 4): 31278.0, (5, 1, 0, 2, 4, 3): 31278.0, (1, 3, 4, 0, 2, 5): 32302.0, (5, 0, 3, 1, 4, 2): 32338.0, (0, 2, 5, 4, 3, 1): 32372.0, (0, 2, 5, 3, 4, 1): 32372.0, (0, 2, 5, 1, 4, 3): 32440.0, (3, 4, 1, 0, 2, 5): 32456.0, (0, 2, 4, 3, 1, 5): 32456.0, (5, 0, 4, 1, 2, 3): 32537.0, (4, 1, 5, 0, 3, 2): 32975.0, (0, 4, 2, 5, 1, 3): 33421.0, (4, 3, 2, 5, 0, 1): 33998.0, (2, 4, 1, 5, 0, 3): 36135.0, (0, 2, 5, 3, 1, 4): 37531.0, (1, 3, 4, 2, 5, 0): 38141.0, (4, 3, 1, 2, 5, 0): 38295.0, (1, 3, 4, 5, 0, 2): 40409.0, (4, 3, 1, 5, 0, 2): 40563.0, (3, 2, 1, 5, 0, 4): 43000.0}\n",
      "Explore len:  207\n",
      "\n",
      "Problem:  more_cases-low_dimension\\problems\\example.json \n",
      "Solution:   Individual: [2, 4, 5, 1, 3, 0] \n",
      "Stats:  {'time': 1.8662330999995902, 'searches': {'real': 31, 'total': 1583}, 'population': {'real': 207, 'total': 250}} \n",
      "Score:  3752.0\n",
      "explore:  {(1, 4, 0, 5, 3, 2): 3446.0, (0, 3, 4, 2, 5, 1): 4479.0, (3, 5, 4, 0, 2, 1): 4944.0, (3, 4, 1, 2, 0, 5): 7506.0, (2, 1, 0, 4, 3, 5): 8530.0, (4, 5, 0, 3, 1, 2): 9659.0, (3, 4, 0, 5, 2, 1): 10012.0, (0, 4, 5, 1, 3, 2): 10089.0, (1, 4, 0, 3, 5, 2): 10521.0, (1, 3, 0, 4, 5, 2): 10521.0, (4, 1, 3, 2, 5, 0): 10715.0, (2, 1, 4, 3, 5, 0): 10740.0, (5, 2, 3, 4, 0, 1): 10966.0, (0, 4, 2, 5, 3, 1): 11205.0, (4, 3, 1, 2, 5, 0): 11796.0, (1, 3, 2, 5, 4, 0): 11796.0, (0, 3, 1, 2, 5, 4): 11796.0, (1, 4, 2, 5, 3, 0): 11796.0, (0, 4, 1, 2, 5, 3): 11796.0, (0, 3, 4, 2, 1, 5): 11957.0, (5, 1, 3, 4, 0, 2): 12156.0, (4, 5, 3, 2, 1, 0): 12417.0, (4, 0, 2, 1, 3, 5): 12560.0, (1, 4, 0, 2, 5, 3): 12658.0, (2, 4, 3, 5, 1, 0): 12701.0, (1, 3, 2, 5, 0, 4): 12735.0, (3, 5, 0, 2, 1, 4): 12828.0, (2, 1, 4, 5, 3, 0): 12849.0, (0, 3, 2, 4, 5, 1): 13148.0, (0, 4, 2, 3, 5, 1): 13148.0, (0, 2, 3, 4, 5, 1): 13272.0, (4, 1, 5, 0, 3, 2): 13403.0, (5, 4, 0, 3, 1, 2): 13403.0, (5, 0, 2, 1, 4, 3): 13520.0, (3, 1, 2, 5, 0, 4): 13557.0, (1, 5, 0, 3, 4, 2): 13662.0, (1, 5, 0, 4, 3, 2): 13662.0, (2, 4, 1, 3, 5, 0): 13739.0, (2, 1, 3, 5, 0, 4): 13788.0, (0, 2, 1, 4, 5, 3): 13863.0, (0, 2, 4, 5, 1, 3): 13863.0, (4, 2, 0, 1, 3, 5): 13894.0, (4, 5, 3, 0, 2, 1): 14017.0, (3, 4, 0, 5, 1, 2): 14105.0, (1, 3, 0, 2, 4, 5): 14183.0, (0, 3, 1, 5, 4, 2): 14258.0, (5, 4, 1, 3, 0, 2): 14265.0, (5, 0, 3, 4, 1, 2): 14342.0, (2, 1, 5, 4, 0, 3): 14407.0, (1, 5, 3, 0, 4, 2): 14407.0, (2, 1, 5, 3, 0, 4): 14407.0, (4, 3, 2, 1, 5, 0): 14484.0, (4, 1, 2, 3, 5, 0): 14561.0, (3, 4, 1, 5, 0, 2): 14669.0, (3, 1, 5, 4, 0, 2): 14676.0, (4, 1, 3, 0, 2, 5): 14821.0, (0, 2, 3, 1, 4, 5): 14821.0, (4, 0, 2, 3, 5, 1): 14832.0, (2, 0, 4, 3, 5, 1): 14944.0, (2, 0, 3, 4, 5, 1): 14944.0, (0, 3, 5, 1, 4, 2): 15018.0, (0, 2, 1, 4, 3, 5): 15080.0, (0, 2, 1, 3, 4, 5): 15080.0, (5, 1, 4, 2, 0, 3): 15087.0, (5, 1, 3, 2, 0, 4): 15087.0, (1, 3, 0, 5, 4, 2): 15120.0, (0, 5, 2, 1, 4, 3): 15138.0, (0, 5, 2, 1, 3, 4): 15138.0, (3, 5, 0, 2, 4, 1): 15236.0, (1, 5, 3, 4, 0, 2): 15346.0, (0, 4, 1, 3, 2, 5): 15491.0, (3, 2, 5, 0, 4, 1): 15524.0, (5, 2, 4, 0, 3, 1): 15528.0, (2, 0, 3, 5, 1, 4): 15535.0, (2, 0, 4, 5, 1, 3): 15535.0, (5, 2, 0, 4, 3, 1): 15640.0, (5, 0, 1, 3, 2, 4): 15643.0, (2, 5, 4, 0, 3, 1): 15673.0, (0, 4, 3, 5, 2, 1): 15700.0, (5, 1, 3, 2, 4, 0): 15832.0, (4, 2, 3, 5, 0, 1): 15909.0, (3, 2, 4, 5, 0, 1): 15909.0, (0, 2, 5, 3, 4, 1): 15935.0, (0, 2, 5, 4, 3, 1): 15935.0, (4, 3, 1, 0, 5, 2): 15960.0, (5, 4, 3, 2, 1, 0): 16161.0, (5, 2, 3, 4, 1, 0): 16196.0, (2, 4, 3, 5, 0, 1): 16196.0, (2, 5, 3, 4, 1, 0): 16341.0, (2, 5, 0, 3, 1, 4): 16341.0, (2, 0, 4, 1, 3, 5): 16493.0, (0, 2, 5, 4, 1, 3): 16526.0, (4, 5, 0, 1, 3, 2): 16535.0, (5, 4, 0, 2, 1, 3): 16572.0, (0, 3, 5, 4, 2, 1): 16605.0, (5, 3, 0, 4, 2, 1): 16605.0, (2, 5, 4, 3, 0, 1): 16612.0, (2, 5, 3, 4, 0, 1): 16612.0, (3, 1, 2, 0, 4, 5): 16635.0, (5, 0, 2, 3, 4, 1): 16750.0, (2, 0, 3, 5, 4, 1): 17053.0, (2, 0, 4, 5, 3, 1): 17053.0, (2, 0, 1, 5, 3, 4): 17067.0, (5, 0, 3, 2, 1, 4): 17100.0, (1, 3, 5, 4, 2, 0): 17196.0, (5, 0, 2, 4, 1, 3): 17341.0, (4, 3, 0, 5, 2, 1): 17384.0, (3, 0, 2, 4, 1, 5): 17462.0, (3, 1, 2, 4, 0, 5): 17462.0, (5, 0, 4, 3, 2, 1): 17544.0, (2, 0, 5, 3, 4, 1): 17607.0, (5, 4, 3, 0, 2, 1): 17761.0, (2, 1, 3, 0, 5, 4): 17786.0, (3, 2, 4, 1, 5, 0): 18018.0, (3, 1, 5, 4, 2, 0): 18018.0, (1, 5, 4, 2, 0, 3): 18277.0, (2, 3, 4, 1, 5, 0): 18305.0, (2, 4, 3, 1, 5, 0): 18305.0, (4, 0, 1, 3, 5, 2): 18361.0, (3, 1, 5, 0, 2, 4): 18429.0, (1, 5, 0, 4, 2, 3): 18564.0, (0, 1, 3, 2, 5, 4): 18672.0, (0, 5, 4, 2, 1, 3): 18718.0, (0, 5, 2, 3, 1, 4): 18959.0, (5, 4, 0, 2, 3, 1): 18980.0, (5, 3, 0, 2, 4, 1): 18980.0, (0, 2, 5, 1, 3, 4): 19222.0, (1, 5, 4, 3, 2, 0): 19421.0, (4, 2, 5, 1, 3, 0): 19556.0, (2, 5, 1, 3, 0, 4): 19640.0, (1, 4, 3, 2, 0, 5): 19657.0, (0, 5, 1, 3, 2, 4): 19753.0, (3, 2, 0, 5, 1, 4): 19753.0, (2, 4, 5, 1, 3, 0): 19843.0, (2, 3, 5, 1, 4, 0): 19843.0, (2, 3, 0, 5, 1, 4): 20040.0, (4, 5, 1, 0, 3, 2): 20091.0, (4, 3, 2, 0, 5, 1): 20306.0, (4, 3, 1, 2, 0, 5): 20479.0, (3, 0, 1, 2, 5, 4): 20498.0, (0, 4, 5, 2, 3, 1): 20602.0, (0, 3, 5, 2, 4, 1): 20602.0, (4, 5, 2, 3, 0, 1): 20769.0, (3, 5, 2, 4, 0, 1): 20769.0, (4, 3, 0, 1, 5, 2): 20925.0, (3, 4, 0, 1, 5, 2): 20925.0, (3, 4, 2, 5, 1, 0): 20941.0, (3, 4, 5, 0, 1, 2): 21360.0, (2, 4, 0, 5, 3, 1): 21558.0, (3, 1, 2, 0, 5, 4): 21719.0, (5, 1, 0, 3, 4, 2): 21726.0, (1, 0, 3, 2, 5, 4): 22228.0, (1, 5, 2, 3, 0, 4): 22274.0, (1, 5, 2, 4, 0, 3): 22274.0, (3, 0, 5, 2, 4, 1): 22286.0, (0, 1, 2, 3, 5, 4): 22518.0, (5, 2, 1, 0, 4, 3): 22548.0, (5, 2, 1, 0, 3, 4): 22548.0, (4, 1, 0, 2, 5, 3): 22908.0, (4, 0, 1, 5, 3, 2): 22960.0, (1, 4, 5, 2, 0, 3): 22989.0, (4, 3, 2, 1, 0, 5): 23069.0, (1, 2, 0, 3, 5, 4): 23520.0, (0, 1, 2, 3, 4, 5): 23735.0, (5, 3, 2, 1, 0, 4): 23835.0, (1, 5, 2, 0, 4, 3): 24070.0, (1, 5, 2, 0, 3, 4): 24070.0, (3, 2, 5, 0, 1, 4): 24072.0, (3, 2, 4, 0, 1, 5): 24193.0, (2, 3, 5, 0, 1, 4): 24359.0, (4, 1, 0, 2, 3, 5): 24433.0, (2, 3, 4, 0, 1, 5): 24480.0, (2, 4, 3, 0, 1, 5): 24480.0, (2, 3, 5, 4, 0, 1): 24513.0, (5, 4, 3, 1, 0, 2): 24515.0, (4, 2, 3, 5, 1, 0): 24706.0, (0, 3, 4, 1, 2, 5): 24737.0, (1, 2, 0, 4, 3, 5): 24737.0, (5, 2, 4, 0, 1, 3): 24898.0, (2, 5, 4, 0, 1, 3): 25043.0, (5, 4, 2, 0, 1, 3): 25216.0, (3, 0, 4, 1, 2, 5): 25482.0, (1, 2, 4, 5, 3, 0): 25629.0, (1, 0, 4, 3, 2, 5): 25923.0, (0, 1, 5, 3, 2, 4): 25975.0, (4, 3, 0, 1, 2, 5): 26421.0, (1, 2, 4, 3, 0, 5): 26421.0, (4, 1, 0, 3, 2, 5): 26603.0, (3, 1, 0, 4, 2, 5): 26603.0, (3, 2, 4, 1, 0, 5): 26603.0, (4, 0, 3, 5, 1, 2): 26686.0, (5, 1, 0, 2, 4, 3): 26752.0, (2, 4, 3, 1, 0, 5): 26890.0, (3, 2, 1, 5, 0, 4): 26904.0, (5, 1, 2, 3, 0, 4): 27119.0, (1, 0, 2, 4, 3, 5): 27149.0, (1, 2, 5, 3, 4, 0): 27187.0, (1, 2, 5, 4, 0, 3): 27187.0, (4, 3, 5, 1, 0, 2): 27211.0, (4, 3, 0, 5, 1, 2): 27625.0, (5, 4, 2, 3, 1, 0): 27656.0, (2, 4, 5, 3, 1, 0): 27656.0, (5, 0, 3, 1, 2, 4): 27944.0, (5, 3, 1, 2, 4, 0): 29228.0, (5, 4, 1, 2, 3, 0): 29228.0, (1, 0, 5, 3, 2, 4): 29389.0, (1, 0, 5, 4, 2, 3): 29389.0, (0, 5, 3, 1, 2, 4): 29562.0, (3, 2, 5, 1, 0, 4): 30065.0, (4, 2, 5, 1, 0, 3): 30065.0, (1, 2, 4, 0, 5, 3): 30566.0, (4, 2, 1, 0, 5, 3): 31007.0, (2, 3, 1, 0, 5, 4): 31294.0, (3, 0, 5, 1, 2, 4): 31385.0}\n",
      "Explore len:  214\n",
      "\n",
      "Problem:  more_cases-low_dimension\\problems\\example.json \n",
      "Solution:   Individual: [4, 5, 2, 3, 1, 0] \n",
      "Stats:  {'time': 1.6244134999997186, 'searches': {'real': 31, 'total': 1626}, 'population': {'real': 214, 'total': 250}} \n",
      "Score:  3446.0\n",
      "explore:  {(0, 5, 4, 1, 3, 2): 3883.0, (0, 5, 2, 1, 3, 4): 11378.0, (2, 4, 1, 5, 0, 3): 13322.0, (4, 5, 2, 3, 0, 1): 15548.0, (3, 5, 2, 4, 1, 0): 15811.0, (0, 2, 1, 4, 5, 3): 22571.0, (0, 2, 1, 3, 5, 4): 22571.0, (0, 5, 1, 4, 2, 3): 22571.0, (3, 4, 1, 2, 0, 5): 22653.0, (3, 5, 1, 4, 2, 0): 24159.0, (1, 4, 2, 3, 5, 0): 28567.0, (2, 4, 1, 3, 5, 0): 28567.0, (0, 5, 4, 3, 2, 1): 30728.0, (0, 2, 3, 4, 5, 1): 30728.0, (1, 4, 3, 0, 5, 2): 34314.0, (0, 5, 1, 3, 4, 2): 34314.0, (3, 1, 2, 4, 5, 0): 35217.0, (0, 5, 4, 2, 1, 3): 35699.0, (3, 5, 4, 0, 2, 1): 36174.0, (3, 2, 1, 0, 5, 4): 36846.0, (4, 5, 1, 0, 2, 3): 36846.0, (4, 1, 3, 2, 0, 5): 38289.0, (3, 2, 4, 5, 1, 0): 38434.0, (2, 4, 3, 0, 5, 1): 40582.0, (0, 5, 4, 3, 1, 2): 40964.0, (2, 4, 1, 0, 5, 3): 41254.0, (4, 2, 3, 5, 0, 1): 42591.0, (3, 1, 0, 4, 5, 2): 42685.0, (4, 5, 3, 1, 0, 2): 42685.0, (4, 1, 0, 2, 3, 5): 42753.0, (2, 4, 3, 5, 1, 0): 42842.0, (3, 5, 2, 4, 0, 1): 45575.0, (2, 3, 4, 5, 0, 1): 46999.0, (2, 4, 3, 5, 0, 1): 46999.0, (3, 4, 2, 5, 1, 0): 47824.0, (3, 1, 4, 2, 5, 0): 47977.0, (2, 1, 3, 4, 5, 0): 48002.0, (0, 1, 2, 4, 5, 3): 48058.0, (1, 3, 0, 4, 5, 2): 48845.0, (1, 3, 0, 2, 4, 5): 48913.0, (1, 4, 0, 2, 3, 5): 48913.0, (3, 0, 2, 4, 5, 1): 49667.0, (2, 1, 4, 0, 5, 3): 51860.0, (4, 1, 2, 0, 5, 3): 52525.0, (1, 0, 5, 3, 4, 2): 55521.0, (5, 2, 3, 1, 4, 0): 55610.0, (0, 2, 3, 5, 4, 1): 57828.0, (0, 2, 4, 5, 3, 1): 57828.0, (2, 1, 4, 5, 0, 3): 58277.0, (4, 3, 1, 2, 0, 5): 59928.0, (3, 2, 5, 1, 0, 4): 60265.0, (3, 5, 4, 0, 1, 2): 60839.0, (4, 5, 3, 1, 2, 0): 61686.0, (2, 0, 4, 3, 5, 1): 63117.0, (3, 4, 0, 1, 5, 2): 63745.0, (0, 2, 1, 5, 4, 3): 64571.0, (4, 2, 0, 1, 3, 5): 65893.0, (0, 1, 4, 3, 2, 5): 65893.0, (3, 1, 5, 2, 4, 0): 66665.0, (1, 4, 5, 0, 2, 3): 67381.0, (1, 3, 5, 0, 2, 4): 67381.0, (3, 0, 2, 5, 1, 4): 67578.0, (4, 3, 2, 5, 1, 0): 68910.0, (4, 5, 1, 2, 3, 0): 70368.0, (5, 1, 2, 4, 3, 0): 71719.0, (4, 2, 5, 0, 1, 3): 72374.0, (3, 4, 2, 5, 0, 1): 73067.0, (5, 0, 3, 1, 4, 2): 73220.0, (2, 1, 0, 5, 3, 4): 73514.0, (3, 5, 0, 1, 2, 4): 74527.0, (3, 1, 0, 4, 2, 5): 74824.0, (3, 2, 4, 1, 0, 5): 74824.0, (2, 1, 4, 5, 3, 0): 75102.0, (3, 4, 0, 2, 5, 1): 75735.0, (2, 5, 0, 1, 3, 4): 77536.0, (5, 0, 4, 2, 3, 1): 78316.0, (5, 0, 3, 2, 4, 1): 78316.0, (1, 2, 3, 0, 5, 4): 80533.0, (1, 2, 4, 0, 5, 3): 80533.0, (3, 4, 1, 5, 0, 2): 80612.0, (1, 4, 0, 3, 2, 5): 80984.0, (3, 2, 1, 4, 0, 5): 80984.0, (4, 2, 0, 3, 5, 1): 81203.0, (4, 5, 0, 3, 2, 1): 81203.0, (3, 2, 0, 4, 5, 1): 81203.0, (0, 2, 5, 4, 1, 3): 82267.0, (2, 0, 4, 1, 3, 5): 83853.0, (2, 0, 3, 1, 4, 5): 83853.0, (2, 4, 1, 3, 0, 5): 85392.0, (2, 3, 1, 4, 0, 5): 85392.0, (0, 4, 2, 3, 5, 1): 85611.0, (5, 2, 0, 1, 4, 3): 87347.0, (1, 5, 0, 2, 3, 4): 89020.0, (5, 1, 4, 3, 2, 0): 89495.0, (5, 0, 3, 2, 1, 4): 89594.0, (2, 0, 3, 5, 4, 1): 90217.0, (0, 2, 5, 4, 3, 1): 90424.0, (5, 1, 3, 4, 0, 2): 90877.0, (5, 1, 4, 3, 0, 2): 90877.0, (0, 3, 1, 4, 5, 2): 91439.0, (4, 5, 0, 3, 1, 2): 91439.0, (3, 5, 0, 4, 1, 2): 91439.0, (0, 3, 1, 2, 4, 5): 91507.0, (5, 2, 3, 4, 0, 1): 91699.0, (0, 1, 2, 3, 4, 5): 91940.0, (0, 1, 2, 4, 3, 5): 91940.0, (3, 1, 2, 4, 0, 5): 92042.0, (3, 2, 4, 0, 1, 5): 92978.0, (4, 2, 3, 0, 1, 5): 92978.0, (3, 0, 1, 4, 2, 5): 92978.0, (5, 3, 1, 4, 2, 0): 93291.0, (1, 3, 5, 4, 2, 0): 93291.0, (3, 2, 5, 4, 1, 0): 93584.0, (4, 1, 0, 2, 5, 3): 94071.0, (3, 5, 2, 1, 0, 4): 95078.0, (5, 2, 4, 0, 1, 3): 95536.0, (2, 0, 1, 5, 3, 4): 96960.0, (2, 0, 1, 5, 4, 3): 96960.0, (0, 1, 3, 5, 4, 2): 97724.0, (0, 1, 4, 5, 3, 2): 97724.0, (0, 2, 5, 1, 4, 3): 98005.0, (4, 2, 5, 3, 1, 0): 98130.0, (0, 2, 5, 1, 3, 4): 98513.0, (2, 0, 1, 3, 4, 5): 98842.0, (4, 5, 1, 0, 3, 2): 99064.0, (0, 3, 4, 1, 5, 2): 99689.0, (1, 2, 0, 5, 4, 3): 102187.0, (3, 0, 2, 5, 4, 1): 102835.0, (1, 0, 2, 5, 4, 3): 103507.0, (1, 0, 2, 5, 3, 4): 103507.0, (0, 4, 2, 5, 1, 3): 103522.0, (4, 3, 0, 2, 1, 5): 104827.0, (5, 4, 0, 2, 1, 3): 104831.0, (4, 0, 3, 1, 5, 2): 105135.0, (2, 0, 4, 3, 1, 5): 105492.0, (4, 2, 5, 1, 3, 0): 105547.0, (5, 3, 4, 2, 1, 0): 106419.0, (5, 3, 2, 1, 4, 0): 106494.0, (3, 1, 0, 5, 4, 2): 106655.0, (3, 2, 5, 4, 0, 1): 110299.0, (2, 5, 4, 3, 1, 0): 110656.0, (2, 5, 3, 4, 1, 0): 110656.0, (2, 5, 3, 1, 0, 4): 110789.0, (5, 4, 3, 1, 0, 2): 111817.0, (0, 1, 5, 3, 2, 4): 112782.0, (1, 3, 0, 5, 4, 2): 112815.0, (2, 0, 5, 3, 1, 4): 114656.0, (2, 3, 5, 4, 0, 1): 114707.0, (5, 1, 4, 2, 0, 3): 115078.0, (3, 2, 5, 0, 4, 1): 116577.0, (4, 2, 5, 0, 3, 1): 116577.0, (5, 4, 1, 3, 0, 2): 117977.0, (1, 3, 5, 4, 0, 2): 117977.0, (5, 3, 1, 4, 0, 2): 117977.0, (0, 4, 2, 1, 3, 5): 119132.0, (3, 0, 5, 1, 4, 2): 119234.0, (4, 0, 5, 1, 3, 2): 119234.0, (5, 4, 2, 0, 1, 3): 120000.0, (0, 1, 4, 5, 2, 3): 121268.0, (2, 0, 5, 4, 3, 1): 122813.0, (4, 1, 5, 2, 3, 0): 124513.0, (4, 1, 3, 5, 2, 0): 127323.0, (3, 1, 4, 5, 2, 0): 127323.0, (1, 3, 5, 0, 4, 2): 129599.0, (1, 4, 5, 0, 3, 2): 129599.0, (4, 0, 2, 1, 5, 3): 130077.0, (3, 0, 2, 1, 5, 4): 130077.0, (5, 3, 4, 1, 2, 0): 130818.0, (5, 4, 3, 1, 2, 0): 130818.0, (1, 0, 4, 3, 2, 5): 131203.0, (4, 2, 1, 0, 3, 5): 131203.0, (5, 2, 4, 0, 3, 1): 133089.0, (1, 2, 3, 4, 0, 5): 133500.0, (5, 1, 0, 3, 2, 4): 133761.0, (2, 5, 0, 4, 3, 1): 136728.0, (0, 1, 5, 2, 4, 3): 137354.0, (1, 5, 3, 4, 2, 0): 138234.0, (3, 0, 5, 2, 4, 1): 138963.0, (1, 0, 5, 2, 3, 4): 139635.0, (1, 4, 2, 0, 3, 5): 140232.0, (1, 3, 2, 0, 4, 5): 140232.0, (0, 3, 4, 2, 1, 5): 140771.0, (5, 1, 0, 3, 4, 2): 141096.0, (3, 4, 0, 5, 2, 1): 142312.0, (1, 4, 3, 5, 2, 0): 142312.0, (0, 4, 1, 2, 5, 3): 142825.0, (5, 3, 0, 1, 2, 4): 143659.0, (1, 5, 0, 4, 2, 3): 143903.0, (1, 5, 2, 3, 4, 0): 144948.0, (1, 5, 2, 4, 3, 0): 144948.0, (5, 2, 0, 3, 1, 4): 145032.0, (2, 1, 4, 0, 3, 5): 146217.0, (4, 0, 3, 2, 1, 5): 146217.0, (3, 1, 2, 0, 4, 5): 146882.0, (4, 1, 2, 0, 3, 5): 146882.0, (3, 4, 5, 1, 2, 0): 147064.0, (1, 0, 4, 2, 5, 3): 150450.0, (4, 1, 5, 2, 0, 3): 150906.0, (1, 5, 0, 4, 3, 2): 151238.0, (1, 5, 0, 3, 4, 2): 151238.0, (0, 4, 5, 1, 3, 2): 155178.0, (0, 3, 1, 5, 4, 2): 155409.0, (4, 0, 5, 1, 2, 3): 160007.0, (1, 5, 4, 2, 0, 3): 163817.0, (5, 4, 2, 0, 3, 1): 164203.0, (5, 4, 1, 2, 0, 3): 165893.0, (0, 4, 2, 1, 5, 3): 166021.0, (2, 5, 1, 0, 4, 3): 168425.0, (0, 3, 4, 1, 2, 5): 169444.0, (1, 2, 0, 4, 3, 5): 169444.0, (4, 0, 3, 1, 2, 5): 174890.0, (0, 3, 5, 2, 4, 1): 174907.0, (2, 1, 5, 3, 0, 4): 177020.0, (0, 3, 4, 5, 2, 1): 178256.0, (1, 5, 4, 0, 3, 2): 181006.0, (0, 4, 5, 2, 1, 3): 186185.0, (3, 0, 4, 5, 1, 2): 207978.0}\n",
      "Explore len:  217\n",
      "\n",
      "Problem:  more_cases-low_dimension\\problems\\example.json \n",
      "Solution:   Individual: [2, 1, 0, 4, 3, 5] \n",
      "Stats:  {'time': 1.6363738000000012, 'searches': {'real': 31, 'total': 1657}, 'population': {'real': 217, 'total': 250}} \n",
      "Score:  3883.0\n",
      "explore:  {(1, 4, 5, 3, 2, 0): 3857.0, (4, 0, 3, 1, 5, 2): 5363.0, (3, 4, 5, 2, 1, 0): 10228.0, (1, 2, 4, 0, 3, 5): 11497.0, (1, 2, 5, 0, 4, 3): 12109.0, (1, 2, 5, 0, 3, 4): 12109.0, (5, 3, 4, 1, 0, 2): 14048.0, (0, 3, 4, 1, 2, 5): 14692.0, (3, 0, 4, 2, 5, 1): 15692.0, (5, 1, 3, 2, 4, 0): 16962.0, (5, 1, 4, 2, 3, 0): 16962.0, (1, 4, 5, 0, 3, 2): 17163.0, (2, 5, 4, 0, 3, 1): 17966.0, (3, 5, 0, 4, 2, 1): 18781.0, (4, 5, 0, 3, 2, 1): 18781.0, (3, 2, 0, 4, 5, 1): 18781.0, (1, 2, 3, 5, 0, 4): 19353.0, (4, 5, 3, 2, 0, 1): 19604.0, (1, 4, 0, 5, 3, 2): 19713.0, (5, 4, 2, 1, 3, 0): 19753.0, (1, 5, 3, 2, 4, 0): 19809.0, (1, 0, 3, 5, 4, 2): 19867.0, (5, 4, 3, 0, 1, 2): 20059.0, (1, 3, 0, 4, 2, 5): 20535.0, (5, 1, 3, 2, 0, 4): 20659.0, (1, 0, 4, 3, 2, 5): 20689.0, (1, 5, 0, 3, 4, 2): 20834.0, (1, 3, 4, 5, 2, 0): 21535.0, (3, 2, 5, 0, 1, 4): 21712.0, (5, 0, 3, 4, 2, 1): 21969.0, (4, 0, 5, 3, 2, 1): 22123.0, (3, 2, 4, 5, 1, 0): 22599.0, (4, 2, 3, 5, 1, 0): 22599.0, (0, 3, 2, 1, 4, 5): 22684.0, (5, 0, 1, 4, 2, 3): 22908.0, (0, 4, 3, 1, 5, 2): 22982.0, (2, 1, 5, 4, 3, 0): 23424.0, (2, 1, 5, 3, 4, 0): 23424.0, (0, 1, 3, 5, 4, 2): 23473.0, (0, 1, 4, 5, 3, 2): 23473.0, (5, 0, 1, 4, 3, 2): 23585.0, (4, 5, 1, 3, 0, 2): 23624.0, (5, 4, 1, 3, 0, 2): 23739.0, (1, 0, 4, 3, 5, 2): 23778.0, (5, 3, 1, 0, 4, 2): 23893.0, (5, 4, 1, 0, 3, 2): 23893.0, (4, 0, 1, 5, 3, 2): 23949.0, (3, 2, 0, 1, 4, 5): 24295.0, (0, 1, 4, 3, 2, 5): 24295.0, (1, 4, 3, 0, 2, 5): 24550.0, (0, 2, 1, 3, 4, 5): 24550.0, (4, 2, 1, 5, 0, 3): 24554.0, (5, 1, 3, 4, 0, 2): 24563.0, (3, 2, 4, 0, 1, 5): 24771.0, (4, 2, 3, 0, 1, 5): 24771.0, (3, 0, 1, 4, 2, 5): 24771.0, (4, 0, 3, 2, 5, 1): 24802.0, (2, 4, 5, 1, 3, 0): 25278.0, (5, 2, 1, 3, 4, 0): 25533.0, (4, 0, 2, 1, 3, 5): 25911.0, (3, 5, 4, 2, 1, 0): 26000.0, (0, 2, 3, 4, 5, 1): 26023.0, (4, 3, 0, 1, 5, 2): 26209.0, (4, 5, 0, 2, 3, 1): 26218.0, (0, 4, 3, 2, 1, 5): 26355.0, (5, 0, 2, 1, 3, 4): 26523.0, (3, 2, 4, 1, 5, 0): 26587.0, (4, 2, 3, 1, 5, 0): 26587.0, (4, 5, 2, 1, 0, 3): 26716.0, (3, 5, 2, 1, 0, 4): 26716.0, (5, 3, 2, 1, 0, 4): 26831.0, (0, 2, 1, 3, 5, 4): 26962.0, (0, 2, 3, 5, 1, 4): 26962.0, (5, 1, 4, 3, 2, 0): 27060.0, (5, 1, 3, 4, 2, 0): 27060.0, (0, 4, 2, 5, 3, 1): 27173.0, (0, 1, 3, 4, 5, 2): 27384.0, (1, 5, 0, 2, 3, 4): 27399.0, (3, 4, 5, 0, 1, 2): 27821.0, (0, 4, 1, 3, 2, 5): 27911.0, (3, 2, 0, 4, 1, 5): 27911.0, (5, 3, 4, 0, 1, 2): 27975.0, (4, 5, 1, 2, 0, 3): 28164.0, (2, 1, 3, 4, 5, 0): 28265.0, (2, 5, 3, 1, 4, 0): 28530.0, (0, 4, 2, 1, 5, 3): 28882.0, (5, 2, 1, 0, 4, 3): 29416.0, (1, 3, 5, 2, 4, 0): 29438.0, (5, 2, 4, 0, 3, 1): 29570.0, (1, 4, 0, 2, 5, 3): 29578.0, (1, 0, 3, 2, 5, 4): 29732.0, (4, 1, 5, 3, 2, 0): 29936.0, (5, 4, 3, 2, 0, 1): 29956.0, (4, 0, 2, 5, 3, 1): 30400.0, (4, 2, 0, 1, 5, 3): 30493.0, (1, 3, 0, 2, 4, 5): 30880.0, (3, 4, 1, 5, 0, 2): 30982.0, (4, 3, 1, 5, 0, 2): 30982.0, (0, 4, 1, 3, 5, 2): 31000.0, (2, 1, 3, 5, 0, 4): 31016.0, (5, 3, 0, 4, 1, 2): 31115.0, (0, 1, 5, 4, 3, 2): 31170.0, (1, 3, 2, 5, 0, 4): 31185.0, (5, 2, 3, 4, 1, 0): 31186.0, (5, 1, 0, 2, 3, 4): 31282.0, (0, 2, 5, 3, 4, 1): 31309.0, (1, 3, 0, 5, 2, 4): 31406.0, (0, 2, 3, 1, 4, 5): 31482.0, (0, 2, 4, 1, 3, 5): 31482.0, (1, 0, 3, 5, 2, 4): 31560.0, (4, 5, 2, 0, 1, 3): 31849.0, (3, 5, 2, 0, 1, 4): 31849.0, (5, 3, 2, 0, 1, 4): 31964.0, (5, 4, 2, 0, 1, 3): 31964.0, (2, 0, 3, 4, 5, 1): 32106.0, (2, 0, 4, 3, 5, 1): 32106.0, (4, 0, 2, 1, 5, 3): 32109.0, (3, 4, 1, 5, 2, 0): 32138.0, (3, 0, 2, 5, 1, 4): 32163.0, (0, 2, 5, 4, 1, 3): 32248.0, (1, 3, 2, 4, 5, 0): 32263.0, (5, 0, 3, 2, 4, 1): 32749.0, (5, 0, 4, 2, 3, 1): 32749.0, (2, 0, 4, 5, 1, 3): 33045.0, (2, 0, 1, 4, 5, 3): 33045.0, (3, 1, 0, 5, 4, 2): 33221.0, (2, 4, 1, 3, 0, 5): 33580.0, (1, 3, 2, 4, 0, 5): 33580.0, (2, 4, 1, 0, 3, 5): 33734.0, (3, 5, 0, 2, 1, 4): 33744.0, (2, 3, 5, 0, 4, 1): 33763.0, (0, 4, 3, 5, 1, 2): 33773.0, (3, 0, 1, 2, 5, 4): 33814.0, (4, 1, 0, 3, 2, 5): 34043.0, (5, 0, 3, 4, 1, 2): 34188.0, (5, 0, 4, 3, 1, 2): 34188.0, (3, 1, 5, 0, 2, 4): 34331.0, (4, 1, 5, 3, 0, 2): 34342.0, (3, 1, 5, 4, 0, 2): 34342.0, (3, 0, 5, 4, 1, 2): 34342.0, (5, 2, 0, 1, 3, 4): 34549.0, (0, 1, 4, 2, 3, 5): 34640.0, (2, 4, 5, 0, 1, 3): 34757.0, (4, 1, 2, 0, 3, 5): 34814.0, (3, 4, 2, 0, 1, 5): 34869.0, (3, 0, 1, 2, 4, 5): 35116.0, (0, 2, 3, 4, 1, 5): 35153.0, (4, 3, 1, 0, 2, 5): 35153.0, (2, 4, 3, 5, 1, 0): 35644.0, (4, 1, 2, 0, 5, 3): 36410.0, (3, 4, 5, 1, 2, 0): 36620.0, (5, 3, 0, 2, 4, 1): 36918.0, (5, 1, 3, 0, 2, 4): 36931.0, (5, 1, 0, 3, 2, 4): 37085.0, (5, 1, 0, 4, 2, 3): 37085.0, (0, 3, 5, 1, 2, 4): 37122.0, (4, 5, 3, 1, 0, 2): 37132.0, (2, 4, 0, 1, 3, 5): 37340.0, (2, 0, 5, 3, 4, 1): 37392.0, (2, 0, 5, 4, 3, 1): 37392.0, (2, 4, 1, 5, 0, 3): 37599.0, (0, 2, 3, 1, 5, 4): 37680.0, (2, 3, 4, 0, 1, 5): 37816.0, (2, 4, 3, 0, 1, 5): 37816.0, (5, 0, 2, 3, 4, 1): 38041.0, (4, 1, 2, 5, 3, 0): 38213.0, (0, 1, 2, 5, 3, 4): 38770.0, (2, 5, 4, 1, 0, 3): 38835.0, (2, 4, 3, 1, 5, 0): 39632.0, (2, 3, 4, 1, 5, 0): 39632.0, (1, 0, 5, 2, 3, 4): 39743.0, (1, 5, 3, 0, 2, 4): 39778.0, (1, 5, 4, 0, 2, 3): 39778.0, (3, 1, 5, 2, 4, 0): 40041.0, (5, 2, 4, 1, 3, 0): 40134.0, (4, 0, 5, 1, 2, 3): 40349.0, (5, 4, 2, 3, 1, 0): 40930.0, (5, 3, 2, 4, 1, 0): 40930.0, (0, 3, 2, 4, 1, 5): 40956.0, (2, 5, 1, 3, 4, 0): 41501.0, (2, 5, 1, 4, 3, 0): 41501.0, (3, 1, 2, 5, 0, 4): 41788.0, (1, 2, 3, 0, 5, 4): 42253.0, (1, 0, 2, 4, 5, 3): 42568.0, (4, 1, 2, 3, 5, 0): 42866.0, (3, 1, 0, 2, 5, 4): 43086.0, (0, 1, 2, 3, 5, 4): 43423.0, (3, 0, 5, 1, 4, 2): 43642.0, (2, 0, 4, 1, 5, 3): 43763.0, (5, 2, 4, 3, 1, 0): 43805.0, (3, 0, 2, 4, 1, 5): 44183.0, (3, 1, 2, 4, 0, 5): 44183.0, (4, 0, 2, 3, 1, 5): 44183.0, (3, 1, 0, 2, 4, 5): 44388.0, (4, 1, 0, 5, 2, 3): 44914.0, (3, 1, 0, 5, 2, 4): 44914.0, (1, 2, 0, 5, 3, 4): 45460.0, (3, 2, 0, 5, 4, 1): 47137.0, (0, 5, 1, 4, 2, 3): 48900.0, (3, 2, 0, 5, 1, 4): 48900.0, (2, 0, 5, 1, 3, 4): 51302.0, (2, 0, 5, 1, 4, 3): 51302.0, (4, 2, 1, 0, 5, 3): 52281.0, (3, 2, 1, 0, 5, 4): 52281.0, (2, 1, 3, 0, 5, 4): 54752.0, (0, 5, 3, 2, 1, 4): 55682.0, (1, 4, 2, 0, 5, 3): 55803.0, (0, 5, 4, 1, 3, 2): 56509.0, (2, 3, 4, 0, 5, 1): 57811.0, (2, 4, 0, 5, 3, 1): 60182.0, (2, 3, 0, 5, 4, 1): 60182.0, (0, 5, 2, 4, 3, 1): 66177.0}\n",
      "Explore len:  212\n",
      "\n",
      "Problem:  more_cases-low_dimension\\problems\\example.json \n",
      "Solution:   Individual: [3, 0, 5, 4, 1, 2] \n",
      "Stats:  {'time': 1.685018600001058, 'searches': {'real': 31, 'total': 1615}, 'population': {'real': 212, 'total': 250}} \n",
      "Score:  3857.0\n",
      "explore:  {(1, 2, 0, 4, 5, 3): 4019.0, (1, 0, 4, 3, 5, 2): 15190.0, (4, 2, 3, 5, 0, 1): 15330.0, (5, 1, 4, 2, 0, 3): 20900.0, (4, 5, 1, 3, 2, 0): 21069.0, (3, 5, 0, 4, 2, 1): 22150.0, (4, 2, 0, 3, 5, 1): 22150.0, (4, 5, 0, 1, 2, 3): 22733.0, (4, 2, 1, 0, 3, 5): 23113.0, (1, 0, 4, 3, 2, 5): 23113.0, (1, 2, 5, 0, 3, 4): 29009.0, (0, 1, 2, 4, 5, 3): 29627.0, (1, 3, 5, 0, 2, 4): 30851.0, (2, 1, 0, 5, 4, 3): 31171.0, (1, 5, 2, 4, 3, 0): 32410.0, (4, 2, 5, 0, 1, 3): 32439.0, (3, 2, 5, 0, 1, 4): 32439.0, (4, 5, 1, 0, 3, 2): 34641.0, (5, 1, 0, 4, 3, 2): 36060.0, (3, 5, 0, 1, 4, 2): 36248.0, (0, 3, 4, 5, 2, 1): 38414.0, (0, 1, 3, 5, 2, 4): 38903.0, (3, 2, 5, 4, 1, 0): 39338.0, (0, 5, 1, 3, 2, 4): 40115.0, (4, 5, 3, 2, 1, 0): 40430.0, (3, 5, 4, 2, 1, 0): 40430.0, (1, 0, 3, 5, 4, 2): 40487.0, (1, 3, 4, 5, 2, 0): 41098.0, (1, 3, 5, 2, 4, 0): 41237.0, (1, 4, 5, 2, 3, 0): 41237.0, (1, 4, 5, 3, 2, 0): 42013.0, (0, 2, 1, 4, 5, 3): 42050.0, (0, 2, 4, 5, 1, 3): 42050.0, (0, 1, 4, 5, 3, 2): 42094.0, (1, 5, 4, 2, 0, 3): 42432.0, (0, 4, 5, 3, 2, 1): 43094.0, (5, 3, 0, 4, 2, 1): 43094.0, (3, 4, 5, 2, 1, 0): 43427.0, (4, 3, 5, 2, 1, 0): 43427.0, (5, 4, 0, 1, 2, 3): 43677.0, (4, 5, 1, 0, 2, 3): 43784.0, (1, 3, 4, 0, 2, 5): 43948.0, (0, 2, 1, 4, 3, 5): 43948.0, (3, 2, 1, 5, 0, 4): 44424.0, (0, 2, 4, 3, 5, 1): 44719.0, (4, 2, 0, 1, 5, 3): 45773.0, (3, 2, 4, 5, 0, 1): 46430.0, (1, 4, 5, 0, 3, 2): 46611.0, (2, 5, 0, 1, 4, 3): 47537.0, (2, 5, 0, 1, 3, 4): 47537.0, (2, 3, 5, 1, 0, 4): 47591.0, (1, 5, 0, 4, 3, 2): 48618.0, (1, 4, 2, 3, 5, 0): 49251.0, (2, 4, 1, 3, 5, 0): 49251.0, (1, 3, 2, 4, 5, 0): 49251.0, (2, 1, 0, 3, 5, 4): 49853.0, (1, 3, 2, 0, 5, 4): 50782.0, (5, 2, 1, 0, 3, 4): 50999.0, (1, 2, 4, 0, 3, 5): 51520.0, (2, 1, 0, 3, 4, 5): 51751.0, (4, 3, 5, 0, 1, 2): 51959.0, (5, 1, 3, 2, 4, 0): 52718.0, (1, 4, 3, 0, 5, 2): 53541.0, (0, 5, 1, 4, 3, 2): 53541.0, (5, 1, 2, 0, 4, 3): 53925.0, (1, 3, 4, 5, 0, 2): 54082.0, (1, 0, 5, 4, 2, 3): 54154.0, (5, 1, 4, 3, 2, 0): 54618.0, (3, 5, 4, 2, 0, 1): 55264.0, (1, 4, 5, 2, 0, 3): 55592.0, (1, 3, 5, 2, 0, 4): 55592.0, (1, 4, 5, 0, 2, 3): 55754.0, (0, 5, 1, 2, 4, 3): 57197.0, (3, 4, 5, 0, 2, 1): 58423.0, (4, 3, 2, 0, 1, 5): 58857.0, (0, 1, 5, 4, 3, 2): 59199.0, (2, 1, 5, 0, 4, 3): 59470.0, (2, 1, 5, 0, 3, 4): 59470.0, (0, 5, 4, 2, 3, 1): 59955.0, (2, 4, 5, 0, 1, 3): 60621.0, (4, 2, 0, 3, 1, 5): 60643.0, (3, 4, 2, 1, 5, 0): 61126.0, (5, 3, 4, 2, 1, 0): 61374.0, (1, 0, 2, 3, 5, 4): 61392.0, (5, 0, 1, 2, 4, 3): 62262.0, (3, 2, 0, 5, 4, 1): 62309.0, (1, 0, 2, 3, 4, 5): 63290.0, (1, 0, 2, 4, 3, 5): 63290.0, (4, 3, 2, 1, 0, 5): 63473.0, (3, 4, 2, 1, 0, 5): 63473.0, (1, 2, 4, 3, 0, 5): 63515.0, (1, 3, 0, 4, 2, 5): 63604.0, (3, 2, 1, 4, 0, 5): 63604.0, (2, 0, 4, 5, 1, 3): 63606.0, (0, 2, 4, 5, 3, 1): 64244.0, (0, 2, 3, 5, 4, 1): 64244.0, (5, 1, 3, 0, 4, 2): 64556.0, (5, 4, 1, 0, 2, 3): 64728.0, (4, 3, 2, 1, 5, 0): 65145.0, (1, 2, 5, 4, 0, 3): 66479.0, (1, 2, 5, 4, 3, 0): 68067.0, (1, 2, 5, 3, 4, 0): 68067.0, (3, 0, 1, 4, 5, 2): 68485.0, (1, 4, 3, 2, 0, 5): 68637.0, (4, 0, 3, 5, 2, 1): 68644.0, (4, 2, 5, 0, 3, 1): 69024.0, (5, 1, 2, 4, 3, 0): 69800.0, (5, 1, 2, 3, 4, 0): 69800.0, (2, 3, 1, 0, 5, 4): 70031.0, (1, 2, 3, 0, 5, 4): 70256.0, (3, 5, 0, 4, 1, 2): 72171.0, (0, 3, 1, 4, 5, 2): 72171.0, (4, 2, 3, 1, 0, 5): 72365.0, (4, 1, 0, 3, 2, 5): 72365.0, (3, 2, 4, 1, 0, 5): 72365.0, (4, 0, 2, 5, 1, 3): 72541.0, (3, 2, 4, 0, 5, 1): 73014.0, (1, 5, 2, 3, 4, 0): 73474.0, (4, 2, 3, 1, 5, 0): 74037.0, (1, 5, 3, 2, 4, 0): 74250.0, (4, 0, 1, 5, 3, 2): 74331.0, (2, 4, 3, 5, 0, 1): 74612.0, (0, 4, 1, 5, 2, 3): 74826.0, (3, 4, 2, 0, 5, 1): 74914.0, (4, 3, 2, 0, 5, 1): 74914.0, (4, 5, 3, 0, 2, 1): 74949.0, (3, 5, 2, 1, 4, 0): 75577.0, (5, 4, 3, 2, 0, 1): 76208.0, (5, 1, 4, 3, 0, 2): 76551.0, (4, 0, 1, 2, 3, 5): 79633.0, (3, 0, 1, 2, 4, 5): 79633.0, (2, 3, 1, 5, 4, 0): 80145.0, (3, 4, 1, 5, 2, 0): 80362.0, (4, 3, 0, 5, 2, 1): 80639.0, (1, 3, 0, 5, 4, 2): 80978.0, (4, 1, 5, 3, 2, 0): 81277.0, (2, 1, 3, 0, 4, 5): 81981.0, (5, 4, 0, 2, 3, 1): 82834.0, (3, 4, 1, 0, 2, 5): 83212.0, (0, 2, 4, 3, 1, 5): 83212.0, (2, 4, 1, 5, 0, 3): 83312.0, (2, 5, 0, 4, 1, 3): 83460.0, (3, 5, 4, 1, 0, 2): 83893.0, (5, 2, 4, 0, 1, 3): 84660.0, (2, 3, 4, 0, 1, 5): 85139.0, (3, 0, 5, 4, 2, 1): 85319.0, (2, 0, 4, 5, 3, 1): 85800.0, (3, 1, 0, 5, 2, 4): 86548.0, (2, 5, 4, 0, 1, 3): 87014.0, (5, 2, 4, 1, 3, 0): 87927.0, (4, 1, 2, 3, 5, 0): 88515.0, (2, 3, 0, 4, 1, 5): 88825.0, (0, 3, 2, 4, 1, 5): 88825.0, (4, 1, 0, 5, 3, 2): 89739.0, (2, 4, 0, 5, 3, 1): 90491.0, (4, 1, 3, 0, 5, 2): 90798.0, (3, 1, 4, 0, 5, 2): 90798.0, (3, 1, 4, 5, 0, 2): 91339.0, (5, 2, 1, 4, 0, 3): 91490.0, (5, 2, 1, 3, 0, 4): 91490.0, (4, 3, 5, 1, 0, 2): 91613.0, (4, 0, 2, 1, 3, 5): 91969.0, (3, 0, 2, 1, 4, 5): 91969.0, (3, 2, 5, 1, 4, 0): 92189.0, (2, 5, 4, 3, 1, 0): 92288.0, (5, 2, 0, 3, 1, 4): 92294.0, (5, 2, 0, 4, 1, 3): 92294.0, (4, 1, 2, 0, 3, 5): 92773.0, (4, 3, 1, 0, 5, 2): 92805.0, (3, 1, 5, 2, 0, 4): 94856.0, (3, 1, 5, 0, 2, 4): 95018.0, (3, 1, 0, 2, 4, 5): 95041.0, (1, 3, 5, 4, 0, 2): 96076.0, (0, 2, 5, 3, 1, 4): 96164.0, (2, 5, 4, 3, 0, 1): 96330.0, (2, 1, 5, 4, 0, 3): 96940.0, (2, 3, 5, 0, 4, 1): 97206.0, (2, 4, 5, 0, 3, 1): 97206.0, (5, 0, 3, 4, 1, 2): 97870.0, (2, 1, 5, 4, 3, 0): 98528.0, (2, 1, 5, 3, 4, 0): 98528.0, (0, 2, 5, 4, 3, 1): 98833.0, (0, 2, 5, 3, 4, 1): 98833.0, (3, 4, 2, 5, 1, 0): 99751.0, (2, 1, 3, 0, 5, 4): 100717.0, (2, 4, 5, 3, 0, 1): 100760.0, (5, 3, 2, 4, 0, 1): 100760.0, (2, 4, 3, 0, 5, 1): 101196.0, (2, 5, 3, 1, 0, 4): 102422.0, (0, 5, 2, 3, 4, 1): 104136.0, (2, 0, 4, 3, 1, 5): 104768.0, (4, 1, 3, 2, 0, 5): 105894.0, (5, 0, 2, 3, 1, 4): 106532.0, (5, 0, 2, 4, 1, 3): 106532.0, (4, 0, 5, 1, 2, 3): 106594.0, (5, 3, 2, 0, 4, 1): 108394.0, (5, 4, 2, 0, 3, 1): 108394.0, (4, 0, 2, 1, 5, 3): 113022.0, (0, 1, 4, 2, 5, 3): 115208.0, (0, 1, 3, 2, 5, 4): 115208.0, (4, 0, 5, 1, 3, 2): 120109.0, (2, 0, 5, 3, 4, 1): 120389.0, (1, 3, 2, 5, 0, 4): 120709.0, (2, 0, 3, 1, 5, 4): 123814.0, (2, 0, 4, 1, 5, 3): 123814.0, (4, 0, 3, 2, 5, 1): 129328.0, (3, 0, 4, 2, 5, 1): 129328.0, (4, 1, 2, 3, 0, 5): 131050.0, (3, 0, 5, 4, 1, 2): 135340.0, (4, 0, 5, 3, 1, 2): 135340.0, (3, 0, 2, 5, 1, 4): 138654.0, (4, 1, 3, 2, 5, 0): 143472.0, (4, 1, 2, 5, 3, 0): 156806.0}\n",
      "Explore len:  213\n",
      "\n",
      "Problem:  more_cases-low_dimension\\problems\\example.json \n",
      "Solution:   Individual: [2, 1, 4, 3, 5, 0] \n",
      "Stats:  {'time': 1.6918364000011934, 'searches': {'real': 31, 'total': 1620}, 'population': {'real': 213, 'total': 250}} \n",
      "Score:  4019.0\n",
      "explore:  {(4, 2, 5, 3, 0, 1): 2659.0, (1, 0, 5, 4, 3, 2): 5619.0, (3, 2, 5, 4, 1, 0): 7178.0, (3, 2, 4, 1, 0, 5): 7343.0, (4, 2, 5, 1, 0, 3): 7805.0, (4, 1, 0, 5, 3, 2): 8109.0, (1, 0, 5, 4, 2, 3): 8842.0, (1, 3, 0, 4, 2, 5): 9198.0, (3, 2, 1, 4, 0, 5): 9198.0, (3, 0, 5, 4, 2, 1): 9847.0, (1, 4, 0, 5, 3, 2): 9964.0, (1, 3, 0, 5, 4, 2): 9964.0, (3, 1, 4, 5, 0, 2): 9996.0, (1, 0, 4, 3, 2, 5): 10709.0, (3, 2, 5, 1, 4, 0): 10837.0, (1, 2, 5, 3, 0, 4): 10865.0, (1, 3, 0, 2, 4, 5): 11926.0, (1, 0, 3, 5, 4, 2): 13556.0, (1, 2, 4, 0, 3, 5): 13809.0, (2, 5, 4, 1, 0, 3): 13979.0, (3, 0, 4, 1, 2, 5): 14645.0, (5, 0, 1, 3, 2, 4): 16687.0, (5, 0, 3, 1, 2, 4): 16687.0, (5, 4, 3, 2, 0, 1): 18019.0, (1, 0, 4, 2, 5, 3): 18033.0, (5, 1, 2, 0, 3, 4): 18047.0, (5, 1, 3, 4, 0, 2): 18353.0, (3, 4, 0, 1, 5, 2): 18633.0, (2, 5, 4, 3, 0, 1): 19441.0, (1, 3, 5, 4, 0, 2): 20380.0, (1, 4, 5, 3, 0, 2): 20380.0, (5, 1, 0, 2, 3, 4): 21060.0, (5, 4, 1, 0, 2, 3): 21882.0, (3, 0, 5, 1, 4, 2): 22184.0, (2, 0, 5, 3, 4, 1): 22334.0, (2, 0, 3, 1, 4, 5): 22507.0, (1, 0, 5, 2, 3, 4): 22584.0, (5, 4, 3, 0, 2, 1): 22887.0, (5, 1, 0, 4, 3, 2): 23150.0, (5, 1, 0, 3, 4, 2): 23150.0, (5, 4, 2, 0, 3, 1): 23324.0, (4, 5, 3, 2, 0, 1): 23372.0, (3, 0, 4, 5, 2, 1): 23443.0, (4, 1, 0, 3, 5, 2): 23878.0, (3, 1, 0, 4, 5, 2): 23878.0, (5, 2, 4, 1, 0, 3): 23878.0, (3, 5, 4, 1, 0, 2): 23878.0, (5, 4, 2, 1, 0, 3): 23972.0, (5, 4, 2, 1, 3, 0): 23995.0, (5, 3, 2, 1, 4, 0): 23995.0, (5, 3, 2, 0, 1, 4): 24076.0, (5, 2, 0, 1, 4, 3): 24076.0, (1, 4, 0, 5, 2, 3): 24199.0, (4, 5, 1, 2, 0, 3): 24222.0, (4, 3, 5, 1, 0, 2): 24786.0, (1, 4, 3, 5, 2, 0): 25265.0, (5, 2, 3, 0, 1, 4): 25700.0, (3, 4, 5, 2, 0, 1): 26079.0, (4, 3, 5, 2, 0, 1): 26079.0, (5, 0, 3, 1, 4, 2): 26370.0, (5, 0, 4, 1, 3, 2): 26370.0, (2, 4, 0, 5, 1, 3): 27292.0, (2, 0, 3, 4, 5, 1): 27347.0, (2, 4, 5, 3, 1, 0): 27493.0, (2, 4, 3, 1, 0, 5): 27658.0, (1, 0, 4, 5, 2, 3): 27791.0, (1, 0, 3, 5, 2, 4): 27791.0, (1, 3, 2, 0, 4, 5): 27954.0, (3, 1, 0, 2, 5, 4): 27986.0, (4, 1, 0, 2, 5, 3): 27986.0, (4, 5, 3, 0, 2, 1): 28240.0, (3, 5, 1, 0, 4, 2): 29325.0, (5, 1, 0, 4, 2, 3): 29325.0, (2, 0, 1, 3, 5, 4): 29359.0, (4, 5, 2, 0, 1, 3): 29429.0, (3, 0, 4, 1, 5, 2): 29830.0, (1, 3, 0, 2, 5, 4): 29841.0, (2, 3, 5, 4, 0, 1): 30232.0, (5, 4, 2, 3, 0, 1): 30232.0, (5, 2, 4, 0, 3, 1): 30330.0, (5, 0, 1, 3, 4, 2): 30827.0, (2, 4, 5, 1, 0, 3): 31129.0, (2, 4, 5, 1, 3, 0): 31152.0, (1, 0, 2, 4, 3, 5): 32115.0, (2, 0, 1, 5, 4, 3): 33288.0, (3, 4, 5, 0, 2, 1): 33334.0, (1, 5, 3, 2, 4, 0): 33383.0, (3, 4, 0, 2, 5, 1): 33448.0, (4, 3, 0, 2, 5, 1): 33448.0, (3, 2, 4, 0, 1, 5): 33618.0, (3, 0, 1, 4, 2, 5): 33618.0, (2, 0, 4, 5, 3, 1): 33788.0, (2, 0, 3, 5, 4, 1): 33788.0, (3, 0, 4, 2, 5, 1): 34438.0, (5, 4, 3, 1, 2, 0): 34778.0, (3, 2, 0, 1, 4, 5): 35013.0, (4, 2, 0, 1, 3, 5): 35013.0, (5, 0, 2, 4, 3, 1): 35330.0, (4, 0, 2, 3, 5, 1): 35515.0, (5, 4, 0, 3, 2, 1): 35760.0, (0, 1, 3, 5, 4, 2): 35779.0, (4, 3, 2, 5, 1, 0): 36058.0, (5, 4, 0, 1, 2, 3): 36512.0, (2, 3, 5, 0, 1, 4): 37072.0, (0, 3, 5, 1, 2, 4): 38414.0, (0, 2, 5, 4, 1, 3): 38924.0, (3, 2, 4, 1, 5, 0): 39373.0, (4, 1, 3, 2, 5, 0): 39446.0, (4, 0, 5, 3, 1, 2): 39451.0, (3, 1, 5, 4, 0, 2): 39451.0, (0, 3, 4, 1, 2, 5): 39568.0, (2, 5, 4, 1, 3, 0): 39915.0, (3, 5, 4, 1, 2, 0): 40131.0, (3, 2, 0, 4, 5, 1): 41113.0, (3, 5, 0, 4, 2, 1): 41113.0, (4, 5, 0, 3, 2, 1): 41113.0, (3, 5, 0, 1, 2, 4): 41865.0, (1, 2, 0, 3, 5, 4): 41963.0, (0, 4, 3, 5, 1, 2): 42138.0, (0, 2, 3, 1, 4, 5): 42704.0, (4, 1, 3, 2, 0, 5): 43067.0, (2, 0, 4, 1, 5, 3): 43077.0, (1, 3, 4, 2, 5, 0): 43903.0, (1, 5, 3, 4, 0, 2): 43908.0, (1, 3, 2, 0, 5, 4): 44566.0, (1, 2, 4, 3, 5, 0): 44588.0, (1, 2, 3, 4, 5, 0): 44588.0, (3, 0, 2, 1, 5, 4): 44730.0, (1, 5, 4, 0, 3, 2): 44898.0, (2, 1, 5, 4, 0, 3): 44898.0, (1, 5, 3, 0, 4, 2): 44898.0, (0, 2, 5, 1, 4, 3): 45185.0, (1, 2, 3, 5, 4, 0): 45410.0, (2, 0, 4, 3, 1, 5): 46035.0, (5, 3, 0, 1, 4, 2): 46195.0, (2, 4, 1, 5, 0, 3): 46284.0, (2, 3, 1, 5, 0, 4): 46284.0, (2, 5, 0, 4, 1, 3): 46342.0, (5, 1, 2, 4, 0, 3): 46509.0, (2, 3, 4, 5, 0, 1): 46784.0, (2, 4, 3, 5, 0, 1): 46784.0, (0, 2, 1, 3, 4, 5): 47161.0, (1, 3, 4, 2, 0, 5): 47524.0, (2, 1, 4, 3, 0, 5): 47688.0, (4, 3, 0, 2, 1, 5): 47688.0, (3, 4, 2, 0, 5, 1): 48173.0, (3, 0, 2, 4, 1, 5): 48584.0, (3, 1, 2, 4, 0, 5): 48584.0, (0, 2, 1, 3, 5, 4): 49556.0, (2, 3, 1, 0, 5, 4): 49717.0, (0, 1, 4, 5, 2, 3): 50014.0, (1, 5, 4, 0, 2, 3): 50083.0, (3, 0, 1, 4, 5, 2): 50153.0, (5, 2, 4, 0, 1, 3): 50153.0, (4, 0, 1, 3, 5, 2): 50153.0, (3, 4, 2, 0, 1, 5): 51384.0, (0, 5, 3, 1, 2, 4): 51723.0, (1, 5, 2, 3, 4, 0): 52164.0, (3, 4, 1, 5, 0, 2): 52522.0, (0, 2, 1, 5, 3, 4): 53485.0, (1, 4, 5, 2, 3, 0): 53559.0, (3, 1, 5, 4, 2, 0): 53849.0, (4, 1, 5, 3, 2, 0): 53849.0, (3, 2, 0, 4, 1, 5): 54182.0, (0, 4, 3, 1, 5, 2): 54753.0, (0, 3, 1, 5, 4, 2): 54948.0, (1, 5, 0, 4, 3, 2): 55345.0, (0, 1, 3, 2, 5, 4): 55656.0, (0, 1, 4, 2, 5, 3): 55656.0, (1, 5, 3, 2, 0, 4): 55681.0, (2, 1, 3, 5, 0, 4): 55733.0, (0, 3, 2, 5, 1, 4): 55754.0, (3, 2, 0, 5, 4, 1): 56152.0, (3, 4, 2, 1, 5, 0): 58792.0, (1, 4, 2, 5, 3, 0): 59201.0, (3, 1, 2, 5, 0, 4): 60181.0, (1, 3, 2, 4, 5, 0): 60446.0, (0, 5, 4, 1, 3, 2): 61406.0, (0, 3, 2, 4, 5, 1): 61428.0, (1, 5, 0, 4, 2, 3): 61520.0, (0, 2, 3, 1, 5, 4): 63274.0, (2, 1, 3, 0, 5, 4): 65290.0, (1, 3, 4, 0, 5, 2): 65863.0, (0, 5, 2, 1, 4, 3): 65863.0, (0, 2, 4, 3, 1, 5): 66232.0, (0, 5, 1, 2, 4, 3): 66901.0, (4, 5, 3, 2, 1, 0): 69027.0, (0, 4, 5, 2, 1, 3): 69109.0, (0, 3, 5, 2, 1, 4): 69109.0, (0, 3, 1, 5, 2, 4): 69183.0, (0, 1, 5, 4, 3, 2): 69723.0, (0, 5, 2, 4, 3, 1): 70366.0, (3, 5, 0, 4, 1, 2): 70717.0, (3, 1, 5, 2, 4, 0): 72630.0, (0, 1, 5, 2, 3, 4): 74364.0, (1, 5, 2, 4, 0, 3): 74462.0, (0, 3, 2, 4, 1, 5): 74497.0, (2, 4, 0, 3, 1, 5): 74497.0, (2, 3, 0, 1, 5, 4): 75898.0, (2, 1, 0, 4, 5, 3): 75996.0, (2, 4, 0, 5, 3, 1): 76467.0, (3, 1, 2, 5, 4, 0): 78272.0, (2, 1, 3, 4, 5, 0): 78621.0, (2, 1, 3, 5, 4, 0): 79443.0, (0, 4, 1, 2, 3, 5): 79850.0, (0, 1, 2, 5, 4, 3): 80006.0, (0, 1, 2, 5, 3, 4): 80006.0, (0, 5, 4, 3, 1, 2): 84934.0, (0, 5, 3, 4, 1, 2): 84934.0}\n",
      "Explore len:  209\n",
      "\n",
      "Problem:  more_cases-low_dimension\\problems\\example.json \n",
      "Solution:   Individual: [3, 1, 4, 5, 2, 0] \n",
      "Stats:  {'time': 1.722871899999518, 'searches': {'real': 31, 'total': 1589}, 'population': {'real': 209, 'total': 250}} \n",
      "Score:  2659.0\n",
      "explore:  {(4, 0, 3, 1, 5, 2): 4013.0, (1, 4, 3, 2, 5, 0): 9536.0, (0, 2, 3, 5, 1, 4): 10817.0, (1, 4, 2, 3, 0, 5): 11884.0, (0, 2, 1, 3, 5, 4): 13517.0, (0, 2, 1, 4, 5, 3): 13517.0, (0, 4, 1, 3, 5, 2): 16534.0, (3, 5, 0, 4, 1, 2): 16534.0, (4, 5, 0, 3, 1, 2): 16534.0, (0, 4, 3, 1, 5, 2): 18733.0, (0, 4, 1, 2, 3, 5): 19336.0, (4, 5, 0, 2, 1, 3): 19856.0, (3, 5, 1, 0, 2, 4): 20162.0, (3, 5, 0, 2, 4, 1): 21482.0, (2, 1, 3, 0, 5, 4): 21928.0, (2, 1, 0, 4, 5, 3): 23606.0, (0, 4, 2, 5, 1, 3): 23999.0, (4, 5, 1, 0, 3, 2): 24220.0, (0, 3, 2, 4, 5, 1): 25232.0, (1, 3, 4, 5, 2, 0): 25620.0, (3, 1, 2, 4, 5, 0): 25952.0, (1, 4, 2, 3, 5, 0): 26993.0, (2, 4, 1, 3, 5, 0): 26993.0, (1, 4, 0, 3, 5, 2): 27404.0, (4, 5, 1, 3, 0, 2): 27404.0, (4, 3, 0, 1, 5, 2): 28562.0, (3, 4, 0, 1, 5, 2): 28562.0, (3, 5, 2, 1, 0, 4): 29743.0, (1, 3, 5, 0, 2, 4): 29770.0, (4, 3, 1, 5, 0, 2): 29976.0, (3, 4, 1, 5, 0, 2): 29976.0, (1, 0, 4, 2, 3, 5): 30378.0, (1, 0, 3, 2, 4, 5): 30378.0, (1, 4, 0, 2, 5, 3): 30449.0, (4, 0, 3, 2, 1, 5): 30985.0, (3, 0, 4, 2, 1, 5): 30985.0, (2, 0, 1, 3, 5, 4): 31012.0, (2, 0, 3, 5, 1, 4): 31012.0, (1, 5, 0, 2, 3, 4): 31217.0, (4, 5, 2, 3, 1, 0): 32089.0, (3, 1, 4, 2, 0, 5): 32382.0, (4, 1, 3, 0, 5, 2): 32382.0, (4, 1, 3, 2, 0, 5): 32382.0, (5, 1, 3, 4, 2, 0): 32761.0, (3, 1, 5, 0, 4, 2): 32787.0, (4, 3, 2, 1, 0, 5): 32801.0, (2, 4, 3, 5, 1, 0): 33638.0, (4, 5, 3, 1, 0, 2): 33670.0, (3, 1, 0, 4, 5, 2): 33670.0, (0, 3, 2, 4, 1, 5): 33679.0, (2, 3, 0, 4, 1, 5): 33679.0, (4, 0, 2, 5, 1, 3): 33828.0, (1, 3, 5, 0, 4, 2): 33828.0, (3, 4, 1, 2, 0, 5): 33829.0, (0, 5, 4, 3, 1, 2): 33829.0, (3, 4, 1, 0, 5, 2): 33829.0, (2, 0, 5, 1, 3, 4): 34222.0, (3, 5, 0, 4, 2, 1): 34825.0, (0, 5, 1, 3, 4, 2): 34870.0, (1, 4, 3, 2, 0, 5): 34870.0, (5, 2, 3, 0, 4, 1): 35049.0, (5, 2, 4, 0, 3, 1): 35049.0, (3, 0, 2, 4, 5, 1): 35061.0, (1, 5, 0, 3, 4, 2): 35275.0, (3, 1, 2, 0, 5, 4): 35328.0, (4, 1, 2, 0, 5, 3): 35328.0, (5, 1, 0, 4, 3, 2): 36146.0, (4, 3, 2, 0, 5, 1): 36369.0, (5, 2, 4, 1, 3, 0): 36431.0, (3, 2, 1, 4, 5, 0): 36586.0, (4, 1, 0, 3, 2, 5): 36734.0, (5, 2, 4, 3, 1, 0): 37878.0, (2, 0, 3, 1, 4, 5): 38012.0, (2, 0, 4, 1, 3, 5): 38012.0, (2, 1, 4, 0, 5, 3): 38792.0, (5, 1, 3, 4, 0, 2): 39330.0, (2, 0, 3, 4, 1, 5): 39459.0, (2, 1, 4, 5, 0, 3): 39871.0, (2, 4, 5, 0, 1, 3): 40171.0, (4, 3, 2, 5, 0, 1): 40264.0, (2, 0, 1, 3, 4, 5): 40500.0, (5, 2, 1, 0, 3, 4): 40730.0, (5, 2, 1, 0, 4, 3): 40730.0, (0, 5, 2, 3, 1, 4): 40978.0, (3, 0, 2, 1, 4, 5): 41476.0, (4, 0, 2, 1, 3, 5): 41476.0, (2, 1, 3, 4, 0, 5): 42923.0, (4, 3, 0, 2, 1, 5): 42923.0, (3, 2, 4, 5, 1, 0): 43231.0, (5, 0, 4, 1, 3, 2): 43278.0, (4, 0, 2, 3, 1, 5): 43508.0, (1, 0, 2, 3, 5, 4): 43815.0, (5, 2, 1, 4, 0, 3): 43914.0, (3, 4, 1, 5, 2, 0): 45295.0, (4, 3, 1, 5, 2, 0): 45295.0, (4, 0, 3, 5, 2, 1): 45551.0, (5, 0, 1, 4, 3, 2): 45766.0, (5, 0, 1, 3, 4, 2): 45766.0, (4, 5, 3, 1, 2, 0): 45930.0, (1, 4, 3, 5, 2, 0): 46336.0, (0, 4, 3, 5, 2, 1): 47660.0, (5, 0, 1, 2, 3, 4): 47732.0, (0, 4, 5, 2, 1, 3): 48168.0, (0, 2, 5, 1, 3, 4): 48395.0, (1, 2, 3, 4, 5, 0): 48418.0, (5, 4, 3, 0, 2, 1): 48671.0, (2, 4, 1, 0, 5, 3): 49172.0, (2, 3, 1, 0, 5, 4): 49172.0, (0, 3, 1, 2, 5, 4): 49234.0, (0, 4, 2, 5, 3, 1): 49336.0, (3, 2, 5, 0, 4, 1): 49529.0, (0, 3, 5, 2, 4, 1): 49794.0, (3, 2, 4, 0, 5, 1): 50011.0, (4, 2, 3, 0, 5, 1): 50011.0, (2, 1, 3, 5, 4, 0): 50704.0, (2, 1, 4, 5, 3, 0): 50704.0, (4, 2, 1, 0, 3, 5): 50958.0, (4, 2, 3, 5, 0, 1): 51090.0, (3, 2, 4, 5, 0, 1): 51090.0, (0, 3, 5, 1, 4, 2): 51514.0, (1, 4, 5, 2, 3, 0): 51555.0, (4, 5, 3, 0, 1, 2): 51748.0, (5, 0, 2, 4, 3, 1): 51874.0, (5, 0, 2, 4, 1, 3): 51874.0, (3, 2, 0, 5, 1, 4): 52120.0, (0, 5, 4, 3, 2, 1): 52120.0, (4, 2, 1, 5, 0, 3): 52248.0, (2, 5, 4, 0, 3, 1): 52421.0, (1, 0, 2, 4, 3, 5): 53303.0, (2, 5, 3, 1, 4, 0): 53803.0, (1, 5, 3, 0, 4, 2): 54176.0, (3, 1, 5, 2, 0, 4): 54533.0, (5, 3, 2, 0, 4, 1): 54788.0, (2, 5, 3, 4, 1, 0): 55250.0, (0, 4, 3, 1, 2, 5): 56145.0, (2, 0, 4, 5, 3, 1): 56349.0, (1, 5, 2, 0, 4, 3): 57021.0, (5, 4, 0, 2, 1, 3): 57119.0, (5, 3, 1, 0, 2, 4): 57425.0, (3, 4, 0, 5, 2, 1): 57489.0, (2, 0, 1, 5, 4, 3): 57507.0, (5, 3, 0, 2, 4, 1): 58745.0, (1, 5, 4, 3, 2, 0): 59545.0, (4, 0, 5, 2, 3, 1): 59623.0, (2, 1, 5, 3, 0, 4): 59699.0, (2, 4, 5, 1, 3, 0): 59762.0, (0, 5, 3, 2, 4, 1): 60085.0, (1, 3, 0, 2, 5, 4): 60104.0, (3, 1, 0, 4, 2, 5): 60408.0, (0, 3, 2, 1, 5, 4): 60869.0, (0, 4, 2, 1, 5, 3): 60869.0, (2, 5, 1, 4, 0, 3): 61035.0, (4, 0, 5, 1, 3, 2): 61343.0, (5, 0, 3, 4, 2, 1): 63016.0, (5, 0, 4, 3, 2, 1): 63016.0, (1, 2, 5, 0, 4, 3): 63849.0, (2, 5, 4, 3, 0, 1): 64359.0, (1, 3, 5, 4, 0, 2): 64667.0, (5, 4, 1, 3, 0, 2): 64667.0, (1, 4, 5, 3, 0, 2): 64667.0, (4, 3, 0, 1, 2, 5): 65974.0, (3, 4, 0, 1, 2, 5): 65974.0, (5, 1, 2, 3, 4, 0): 66200.0, (5, 1, 2, 4, 0, 3): 66548.0, (5, 1, 2, 3, 0, 4): 66548.0, (3, 1, 0, 5, 2, 4): 66828.0, (2, 4, 0, 5, 3, 1): 67864.0, (5, 3, 2, 4, 1, 0): 69352.0, (5, 0, 4, 2, 1, 3): 69355.0, (5, 0, 3, 2, 1, 4): 69355.0, (2, 3, 0, 1, 4, 5): 69555.0, (4, 3, 5, 1, 0, 2): 70097.0, (2, 5, 3, 1, 0, 4): 70625.0, (5, 0, 4, 2, 3, 1): 70981.0, (5, 0, 3, 2, 4, 1): 70981.0, (0, 1, 2, 4, 3, 5): 71002.0, (0, 5, 1, 2, 4, 3): 71917.0, (5, 3, 0, 4, 2, 1): 72088.0, (5, 4, 0, 3, 2, 1): 72088.0, (5, 1, 2, 0, 3, 4): 72328.0, (5, 1, 2, 0, 4, 3): 72328.0, (5, 0, 4, 1, 2, 3): 72360.0, (1, 0, 5, 3, 4, 2): 73421.0, (1, 0, 5, 4, 3, 2): 73421.0, (1, 5, 3, 2, 0, 4): 73535.0, (1, 2, 4, 5, 3, 0): 73755.0, (1, 5, 3, 0, 2, 4): 73771.0, (1, 3, 5, 4, 2, 0): 73849.0, (4, 2, 5, 1, 0, 3): 76348.0, (3, 2, 5, 1, 0, 4): 76348.0, (3, 2, 0, 5, 4, 1): 77457.0, (4, 2, 0, 5, 3, 1): 77457.0, (3, 2, 4, 0, 1, 5): 78486.0, (0, 3, 5, 1, 2, 4): 80596.0, (4, 5, 0, 1, 2, 3): 81492.0, (4, 3, 5, 1, 2, 0): 82357.0, (4, 0, 1, 2, 5, 3): 84448.0, (1, 2, 5, 4, 3, 0): 84511.0, (3, 0, 1, 5, 2, 4): 84906.0, (0, 1, 3, 5, 2, 4): 85568.0, (5, 3, 4, 2, 0, 1): 85833.0, (1, 0, 5, 4, 2, 3): 90671.0, (1, 0, 5, 3, 2, 4): 90671.0, (2, 4, 5, 3, 0, 1): 96160.0, (0, 1, 3, 5, 4, 2): 108170.0}\n",
      "Explore len:  205\n",
      "\n",
      "Problem:  more_cases-low_dimension\\problems\\example.json \n",
      "Solution:   Individual: [3, 5, 0, 4, 1, 2] \n",
      "Stats:  {'time': 1.763645600000018, 'searches': {'real': 31, 'total': 1566}, 'population': {'real': 205, 'total': 250}} \n",
      "Score:  4013.0\n",
      "explore:  {(2, 1, 3, 5, 0, 4): 6359.0, (4, 0, 2, 3, 5, 1): 11117.0, (0, 5, 3, 1, 4, 2): 15453.0, (0, 4, 3, 5, 2, 1): 17814.0, (2, 1, 4, 5, 0, 3): 17846.0, (3, 5, 4, 0, 1, 2): 26407.0, (0, 4, 1, 2, 3, 5): 27365.0, (0, 5, 2, 1, 4, 3): 28825.0, (0, 1, 2, 3, 5, 4): 29519.0, (4, 5, 2, 3, 0, 1): 29673.0, (3, 5, 2, 4, 0, 1): 29673.0, (4, 5, 2, 0, 3, 1): 30785.0, (3, 5, 0, 4, 1, 2): 32708.0, (0, 3, 1, 4, 5, 2): 32708.0, (0, 5, 2, 4, 3, 1): 34496.0, (3, 4, 1, 2, 0, 5): 36190.0, (2, 1, 0, 3, 4, 5): 36331.0, (0, 3, 4, 2, 1, 5): 36331.0, (5, 4, 0, 2, 1, 3): 37696.0, (2, 1, 0, 5, 3, 4): 39089.0, (2, 1, 5, 3, 0, 4): 39334.0, (3, 0, 4, 2, 1, 5): 39481.0, (2, 1, 3, 0, 4, 5): 39481.0, (2, 1, 4, 0, 3, 5): 39481.0, (0, 3, 4, 1, 5, 2): 40096.0, (4, 3, 1, 2, 5, 0): 40164.0, (2, 1, 3, 5, 4, 0): 40567.0, (1, 3, 0, 2, 4, 5): 42667.0, (5, 0, 4, 3, 1, 2): 43430.0, (5, 2, 4, 0, 1, 3): 44812.0, (3, 4, 5, 0, 1, 2): 44905.0, (4, 3, 5, 0, 1, 2): 44905.0, (4, 1, 2, 5, 0, 3): 45764.0, (3, 5, 2, 0, 4, 1): 46277.0, (3, 0, 5, 2, 1, 4): 46606.0, (4, 0, 5, 2, 1, 3): 46606.0, (2, 0, 3, 4, 5, 1): 47393.0, (3, 5, 4, 1, 0, 2): 47654.0, (4, 5, 3, 1, 0, 2): 47654.0, (4, 5, 1, 3, 0, 2): 48010.0, (1, 4, 0, 3, 5, 2): 48010.0, (0, 3, 2, 4, 5, 1): 48016.0, (3, 1, 2, 4, 0, 5): 48258.0, (2, 4, 3, 0, 5, 1): 49688.0, (2, 3, 4, 0, 5, 1): 49688.0, (2, 4, 3, 0, 1, 5): 49733.0, (2, 3, 4, 0, 1, 5): 49733.0, (1, 5, 0, 3, 4, 2): 49872.0, (4, 5, 0, 1, 3, 2): 50819.0, (3, 5, 0, 1, 4, 2): 50819.0, (5, 2, 3, 4, 1, 0): 51113.0, (5, 2, 4, 3, 1, 0): 51113.0, (3, 0, 1, 5, 2, 4): 51258.0, (4, 3, 2, 1, 0, 5): 51277.0, (3, 4, 2, 1, 0, 5): 51277.0, (0, 3, 4, 5, 2, 1): 51386.0, (1, 0, 5, 3, 2, 4): 51778.0, (5, 2, 3, 4, 0, 1): 52383.0, (1, 5, 4, 3, 0, 2): 53891.0, (0, 4, 5, 2, 1, 3): 54382.0, (4, 0, 3, 5, 2, 1): 54536.0, (3, 4, 2, 5, 0, 1): 54810.0, (2, 0, 3, 4, 1, 5): 55411.0, (1, 5, 0, 3, 2, 4): 56134.0, (0, 4, 3, 2, 5, 1): 56231.0, (0, 1, 5, 3, 4, 2): 56700.0, (3, 4, 2, 0, 5, 1): 56841.0, (3, 4, 2, 0, 1, 5): 56886.0, (4, 0, 5, 3, 1, 2): 58375.0, (4, 1, 3, 0, 5, 2): 58792.0, (0, 5, 4, 1, 3, 2): 58792.0, (2, 3, 1, 0, 5, 4): 58880.0, (2, 4, 1, 0, 5, 3): 58880.0, (5, 2, 1, 3, 4, 0): 58972.0, (0, 1, 2, 5, 3, 4): 59034.0, (3, 0, 4, 2, 5, 1): 59381.0, (5, 1, 3, 4, 0, 2): 60153.0, (1, 5, 4, 0, 2, 3): 60153.0, (1, 5, 3, 0, 2, 4): 60153.0, (2, 3, 0, 5, 1, 4): 60570.0, (0, 3, 2, 5, 4, 1): 60811.0, (2, 4, 1, 3, 5, 0): 62048.0, (2, 3, 5, 0, 1, 4): 62203.0, (2, 3, 0, 1, 5, 4): 62962.0, (2, 3, 5, 4, 0, 1): 63116.0, (2, 4, 5, 3, 0, 1): 63116.0, (1, 4, 3, 2, 5, 0): 63242.0, (0, 1, 5, 2, 4, 3): 64634.0, (1, 5, 4, 0, 3, 2): 64817.0, (5, 2, 4, 1, 0, 3): 66059.0, (5, 2, 3, 1, 0, 4): 66059.0, (0, 4, 5, 3, 1, 2): 66151.0, (1, 0, 2, 4, 3, 5): 66496.0, (5, 0, 1, 4, 3, 2): 66508.0, (3, 4, 1, 5, 2, 0): 67862.0, (0, 5, 3, 2, 1, 4): 68306.0, (4, 1, 2, 5, 3, 0): 68485.0, (2, 0, 5, 4, 3, 1): 68794.0, (4, 5, 3, 2, 1, 0): 69784.0, (0, 1, 3, 2, 5, 4): 70070.0, (0, 3, 2, 5, 1, 4): 70263.0, (5, 2, 0, 4, 3, 1): 70462.0, (1, 4, 2, 0, 5, 3): 70873.0, (2, 4, 3, 1, 0, 5): 70980.0, (5, 1, 3, 0, 4, 2): 71079.0, (2, 3, 1, 4, 0, 5): 71336.0, (4, 3, 1, 5, 0, 2): 72008.0, (4, 1, 0, 5, 2, 3): 72505.0, (1, 0, 3, 2, 5, 4): 73347.0, (2, 3, 1, 0, 4, 5): 77422.0, (1, 3, 5, 0, 4, 2): 77434.0, (1, 4, 5, 0, 3, 2): 77434.0, (2, 0, 1, 4, 3, 5): 78489.0, (2, 0, 1, 3, 4, 5): 78489.0, (5, 2, 3, 1, 4, 0): 78675.0, (1, 0, 4, 5, 2, 3): 78947.0, (5, 4, 2, 0, 3, 1): 79720.0, (5, 0, 4, 2, 1, 3): 80506.0, (5, 3, 4, 1, 0, 2): 81097.0, (1, 3, 5, 4, 0, 2): 81453.0, (5, 4, 2, 3, 1, 0): 81759.0, (3, 5, 0, 2, 4, 1): 82194.0, (3, 4, 5, 2, 0, 1): 82508.0, (0, 5, 1, 2, 4, 3): 83803.0, (0, 5, 1, 2, 3, 4): 83803.0, (5, 3, 0, 1, 4, 2): 84262.0, (5, 1, 3, 4, 2, 0): 84494.0, (3, 5, 1, 2, 0, 4): 84658.0, (4, 5, 1, 2, 0, 3): 84658.0, (3, 4, 5, 1, 2, 0): 86395.0, (5, 3, 0, 2, 1, 4): 86888.0, (2, 5, 0, 3, 1, 4): 88849.0, (2, 5, 0, 4, 1, 3): 88849.0, (1, 4, 2, 0, 3, 5): 89415.0, (4, 0, 5, 1, 3, 2): 90888.0, (1, 3, 4, 5, 2, 0): 90940.0, (2, 3, 5, 1, 4, 0): 91550.0, (2, 4, 5, 1, 3, 0): 91550.0, (1, 4, 2, 5, 3, 0): 91563.0, (2, 5, 0, 3, 4, 1): 97895.0, (4, 5, 3, 2, 0, 1): 97910.0, (3, 1, 4, 5, 0, 2): 99570.0, (0, 3, 1, 5, 4, 2): 100142.0, (0, 4, 1, 5, 3, 2): 100142.0, (2, 5, 3, 4, 0, 1): 101914.0, (2, 5, 4, 3, 0, 1): 101914.0, (0, 3, 4, 5, 1, 2): 105371.0, (2, 5, 0, 1, 3, 4): 106960.0, (2, 5, 0, 1, 4, 3): 106960.0, (4, 5, 0, 1, 2, 3): 108545.0, (0, 2, 3, 4, 5, 1): 110425.0, (1, 2, 4, 5, 0, 3): 112091.0, (2, 5, 3, 0, 4, 1): 112840.0, (1, 2, 0, 3, 5, 4): 113512.0, (1, 2, 3, 4, 5, 0): 113512.0, (3, 5, 4, 0, 2, 1): 113575.0, (3, 1, 0, 5, 4, 2): 115088.0, (1, 3, 0, 5, 4, 2): 115444.0, (2, 5, 3, 1, 0, 4): 115590.0, (5, 3, 0, 2, 4, 1): 115637.0, (0, 5, 3, 1, 2, 4): 116518.0, (3, 5, 4, 1, 2, 0): 117996.0, (5, 4, 1, 2, 0, 3): 118101.0, (1, 5, 0, 2, 4, 3): 118543.0, (1, 2, 5, 0, 3, 4): 118634.0, (4, 5, 1, 0, 2, 3): 122767.0, (3, 5, 1, 0, 2, 4): 122767.0, (3, 4, 0, 1, 2, 5): 122800.0, (1, 2, 4, 3, 0, 5): 122800.0, (4, 0, 1, 3, 2, 5): 124064.0, (0, 2, 1, 3, 5, 4): 124457.0, (0, 2, 1, 4, 5, 3): 124457.0, (0, 5, 4, 3, 2, 1): 125286.0, (2, 5, 1, 3, 0, 4): 125381.0, (2, 5, 1, 4, 0, 3): 125381.0, (2, 5, 4, 1, 3, 0): 128206.0, (3, 0, 1, 4, 2, 5): 128481.0, (5, 0, 4, 1, 2, 3): 128718.0, (1, 2, 0, 3, 4, 5): 130576.0, (5, 4, 3, 2, 0, 1): 131353.0, (0, 2, 5, 3, 4, 1): 131826.0, (3, 4, 5, 0, 2, 1): 132073.0, (1, 2, 0, 5, 4, 3): 133334.0, (1, 2, 5, 3, 0, 4): 133579.0, (1, 2, 5, 3, 4, 0): 133579.0, (4, 2, 1, 3, 5, 0): 140796.0, (4, 2, 5, 0, 1, 3): 140951.0, (0, 2, 1, 3, 4, 5): 141521.0, (1, 3, 4, 0, 2, 5): 141521.0, (0, 1, 5, 4, 2, 3): 141710.0, (0, 2, 5, 3, 1, 4): 145858.0, (0, 2, 5, 4, 1, 3): 145858.0, (4, 1, 3, 0, 2, 5): 146005.0, (0, 2, 4, 1, 3, 5): 146005.0, (3, 1, 4, 0, 2, 5): 146005.0, (1, 3, 5, 0, 2, 4): 146105.0, (1, 4, 0, 3, 2, 5): 150084.0, (4, 1, 5, 3, 2, 0): 151161.0, (5, 4, 3, 1, 2, 0): 151439.0, (5, 3, 4, 1, 2, 0): 151439.0, (5, 0, 1, 3, 2, 4): 151518.0, (4, 2, 1, 0, 3, 5): 156170.0, (1, 0, 4, 3, 2, 5): 156170.0, (5, 4, 1, 0, 2, 3): 156210.0, (0, 3, 5, 1, 2, 4): 156390.0, (0, 4, 5, 3, 2, 1): 160207.0, (1, 0, 5, 4, 2, 3): 161623.0, (3, 2, 5, 1, 4, 0): 170298.0, (3, 2, 1, 5, 4, 0): 174751.0}\n",
      "Explore len:  209\n",
      "\n",
      "Problem:  more_cases-low_dimension\\problems\\example.json \n",
      "Solution:   Individual: [5, 1, 2, 3, 4, 0] \n",
      "Stats:  {'time': 1.662484600001335, 'searches': {'real': 31, 'total': 1596}, 'population': {'real': 209, 'total': 250}} \n",
      "Score:  6359.0\n",
      "explore:  {(1, 2, 3, 0, 4, 5): 3379.0, (0, 1, 4, 2, 5, 3): 6106.0, (5, 0, 3, 1, 2, 4): 12551.0, (1, 0, 2, 3, 5, 4): 14121.0, (3, 2, 0, 1, 4, 5): 15229.0, (4, 2, 0, 5, 3, 1): 15252.0, (1, 2, 0, 4, 3, 5): 15480.0, (3, 2, 5, 0, 1, 4): 15995.0, (4, 2, 1, 0, 3, 5): 17039.0, (4, 0, 3, 1, 2, 5): 17306.0, (3, 4, 1, 5, 0, 2): 18200.0, (1, 2, 5, 4, 0, 3): 18333.0, (4, 3, 0, 1, 2, 5): 18586.0, (1, 2, 4, 3, 0, 5): 18586.0, (3, 2, 5, 4, 0, 1): 18734.0, (1, 3, 0, 4, 2, 5): 18756.0, (3, 2, 1, 4, 0, 5): 18756.0, (5, 3, 0, 1, 2, 4): 19082.0, (0, 3, 2, 1, 4, 5): 19158.0, (1, 4, 5, 3, 2, 0): 19171.0, (5, 4, 1, 3, 2, 0): 19171.0, (5, 0, 1, 3, 2, 4): 20692.0, (1, 2, 0, 5, 4, 3): 20936.0, (1, 3, 0, 5, 4, 2): 21107.0, (1, 4, 0, 5, 3, 2): 21107.0, (2, 5, 0, 1, 3, 4): 21426.0, (1, 3, 4, 2, 5, 0): 21606.0, (1, 4, 3, 2, 0, 5): 22273.0, (1, 0, 5, 3, 2, 4): 22342.0, (2, 5, 0, 3, 4, 1): 22499.0, (4, 0, 5, 1, 3, 2): 22898.0, (4, 2, 5, 0, 3, 1): 23607.0, (1, 0, 3, 2, 5, 4): 23758.0, (1, 0, 4, 2, 5, 3): 23758.0, (1, 3, 2, 0, 4, 5): 23836.0, (3, 2, 5, 4, 1, 0): 24103.0, (5, 4, 2, 0, 1, 3): 24442.0, (5, 1, 3, 2, 0, 4): 24692.0, (3, 0, 4, 5, 2, 1): 25363.0, (5, 4, 3, 1, 2, 0): 25540.0, (0, 3, 2, 5, 4, 1): 26017.0, (0, 4, 2, 5, 3, 1): 26017.0, (1, 0, 5, 4, 3, 2): 26101.0, (0, 5, 1, 3, 2, 4): 26125.0, (5, 3, 1, 2, 0, 4): 26534.0, (5, 4, 1, 2, 0, 3): 26534.0, (5, 3, 1, 4, 0, 2): 26538.0, (4, 2, 5, 1, 0, 3): 27000.0, (5, 0, 4, 1, 2, 3): 27061.0, (4, 0, 1, 5, 3, 2): 27356.0, (3, 0, 1, 5, 4, 2): 27356.0, (2, 4, 0, 1, 3, 5): 27766.0, (4, 3, 5, 1, 2, 0): 27935.0, (1, 0, 2, 5, 4, 3): 28034.0, (2, 5, 3, 1, 4, 0): 28145.0, (3, 1, 4, 2, 5, 0): 28145.0, (1, 2, 3, 5, 0, 4): 28798.0, (4, 1, 3, 2, 0, 5): 28812.0, (1, 5, 4, 2, 3, 0): 28947.0, (4, 2, 3, 5, 0, 1): 29620.0, (0, 5, 1, 4, 3, 2): 29884.0, (1, 4, 3, 0, 5, 2): 29884.0, (0, 5, 1, 3, 4, 2): 29884.0, (3, 4, 0, 1, 5, 2): 30049.0, (0, 4, 1, 3, 2, 5): 30139.0, (4, 2, 0, 3, 1, 5): 30139.0, (0, 3, 1, 4, 2, 5): 30139.0, (0, 3, 2, 5, 1, 4): 30384.0, (0, 4, 2, 5, 1, 3): 30384.0, (5, 0, 1, 2, 4, 3): 30624.0, (1, 0, 2, 3, 4, 5): 30856.0, (0, 3, 4, 2, 5, 1): 31036.0, (1, 4, 3, 0, 2, 5): 31105.0, (2, 4, 5, 3, 0, 1): 31271.0, (2, 3, 5, 4, 0, 1): 31271.0, (1, 4, 2, 3, 0, 5): 31293.0, (2, 3, 1, 4, 0, 5): 31293.0, (2, 4, 1, 3, 0, 5): 31293.0, (4, 2, 1, 5, 0, 3): 31298.0, (2, 5, 4, 1, 0, 3): 31316.0, (5, 0, 4, 2, 3, 1): 31446.0, (4, 0, 5, 1, 2, 3): 31543.0, (5, 1, 4, 3, 0, 2): 31557.0, (5, 1, 3, 4, 0, 2): 31557.0, (2, 0, 3, 1, 4, 5): 31655.0, (1, 2, 3, 4, 5, 0): 32296.0, (5, 3, 2, 1, 0, 4): 32341.0, (5, 4, 2, 1, 0, 3): 32341.0, (5, 1, 3, 4, 2, 0): 32376.0, (5, 1, 4, 3, 2, 0): 32376.0, (2, 5, 1, 0, 4, 3): 32431.0, (5, 2, 0, 1, 4, 3): 32457.0, (4, 2, 1, 3, 5, 0): 32466.0, (0, 5, 3, 1, 2, 4): 32494.0, (4, 3, 2, 1, 0, 5): 32594.0, (5, 4, 3, 1, 0, 2): 32640.0, (1, 2, 0, 3, 5, 4): 32798.0, (1, 2, 0, 4, 5, 3): 32798.0, (4, 0, 3, 2, 5, 1): 32862.0, (1, 5, 4, 0, 3, 2): 33208.0, (2, 0, 5, 3, 4, 1): 33334.0, (2, 0, 5, 4, 3, 1): 33334.0, (3, 0, 2, 5, 1, 4): 33490.0, (3, 2, 0, 4, 5, 1): 33620.0, (3, 1, 5, 4, 2, 0): 33660.0, (0, 1, 3, 5, 2, 4): 34103.0, (4, 3, 0, 2, 5, 1): 34142.0, (2, 3, 0, 5, 4, 1): 34295.0, (1, 4, 2, 0, 5, 3): 34311.0, (1, 5, 4, 3, 0, 2): 34488.0, (5, 1, 2, 3, 0, 4): 34624.0, (1, 0, 3, 2, 4, 5): 34856.0, (1, 4, 5, 0, 2, 3): 34867.0, (4, 3, 5, 1, 0, 2): 35035.0, (4, 3, 5, 2, 0, 1): 35101.0, (3, 4, 5, 2, 0, 1): 35101.0, (1, 5, 3, 4, 2, 0): 35307.0, (1, 0, 4, 5, 2, 3): 35913.0, (1, 0, 3, 5, 2, 4): 35913.0, (5, 1, 2, 4, 3, 0): 35948.0, (0, 5, 1, 2, 3, 4): 36057.0, (4, 3, 1, 2, 5, 0): 36095.0, (2, 5, 4, 3, 1, 0): 36095.0, (2, 4, 5, 0, 3, 1): 36144.0, (4, 1, 3, 5, 2, 0): 36210.0, (0, 1, 4, 3, 5, 2): 36306.0, (2, 5, 0, 3, 1, 4): 36336.0, (5, 3, 1, 0, 2, 4): 36517.0, (5, 4, 2, 3, 1, 0): 36640.0, (2, 3, 5, 4, 1, 0): 36640.0, (0, 4, 3, 5, 2, 1): 36914.0, (5, 0, 2, 4, 3, 1): 37424.0, (2, 4, 3, 0, 1, 5): 37542.0, (4, 1, 3, 0, 2, 5): 37644.0, (4, 1, 5, 0, 3, 2): 37660.0, (3, 1, 5, 0, 4, 2): 37660.0, (0, 4, 5, 3, 1, 2): 37921.0, (0, 3, 5, 4, 1, 2): 37921.0, (2, 0, 3, 5, 4, 1): 38067.0, (1, 0, 4, 3, 5, 2): 38116.0, (0, 3, 5, 2, 4, 1): 38172.0, (2, 0, 4, 3, 5, 1): 38408.0, (2, 1, 5, 0, 4, 3): 38641.0, (0, 2, 5, 4, 1, 3): 38671.0, (4, 0, 3, 5, 2, 1): 38740.0, (5, 0, 4, 3, 1, 2): 38940.0, (2, 4, 5, 1, 3, 0): 39472.0, (2, 3, 5, 1, 4, 0): 39472.0, (2, 3, 5, 1, 0, 4): 39537.0, (2, 0, 4, 3, 1, 5): 39605.0, (2, 0, 3, 4, 1, 5): 39605.0, (3, 0, 4, 2, 1, 5): 39701.0, (5, 2, 4, 0, 3, 1): 39707.0, (4, 1, 3, 5, 0, 2): 39734.0, (2, 0, 1, 5, 3, 4): 39745.0, (1, 4, 0, 3, 5, 2): 39833.0, (2, 3, 1, 0, 5, 4): 40051.0, (2, 4, 1, 0, 5, 3): 40051.0, (5, 2, 1, 0, 3, 4): 40356.0, (5, 0, 3, 2, 1, 4): 40482.0, (5, 0, 4, 2, 1, 3): 40482.0, (3, 5, 4, 2, 0, 1): 40651.0, (2, 1, 5, 3, 0, 4): 40728.0, (3, 0, 4, 1, 5, 2): 40883.0, (2, 1, 4, 3, 0, 5): 40981.0, (3, 4, 0, 2, 1, 5): 40981.0, (5, 2, 3, 4, 0, 1): 40987.0, (4, 1, 5, 3, 0, 2): 41027.0, (0, 2, 5, 1, 4, 3): 41066.0, (0, 4, 2, 1, 5, 3): 41898.0, (0, 3, 2, 1, 5, 4): 41898.0, (5, 2, 1, 4, 0, 3): 42073.0, (5, 2, 1, 3, 0, 4): 42073.0, (2, 3, 4, 5, 0, 1): 42157.0, (2, 0, 4, 5, 1, 3): 42434.0, (2, 0, 1, 4, 5, 3): 42434.0, (0, 3, 2, 4, 1, 5): 42676.0, (1, 5, 0, 2, 4, 3): 42817.0, (0, 5, 2, 3, 4, 1): 42857.0, (5, 2, 4, 1, 3, 0): 43266.0, (4, 0, 1, 5, 2, 3): 43879.0, (0, 2, 3, 5, 4, 1): 44056.0, (0, 2, 4, 5, 3, 1): 44056.0, (4, 3, 1, 5, 2, 0): 44160.0, (3, 4, 1, 0, 5, 2): 44373.0, (4, 5, 2, 3, 0, 1): 44566.0, (2, 3, 1, 4, 5, 0): 45003.0, (1, 3, 2, 4, 5, 0): 45003.0, (0, 1, 5, 2, 3, 4): 45049.0, (3, 5, 2, 0, 4, 1): 45349.0, (1, 5, 2, 4, 0, 3): 45470.0, (4, 5, 2, 1, 3, 0): 45571.0, (3, 4, 1, 0, 2, 5): 45594.0, (5, 4, 0, 2, 3, 1): 45882.0, (2, 4, 3, 1, 5, 0): 45936.0, (0, 4, 2, 3, 5, 1): 46157.0, (2, 3, 0, 4, 5, 1): 46157.0, (5, 2, 0, 3, 1, 4): 47367.0, (0, 4, 1, 2, 3, 5): 47956.0, (1, 0, 2, 4, 5, 3): 48174.0, (0, 2, 4, 5, 1, 3): 48423.0, (4, 1, 2, 0, 5, 3): 48800.0, (0, 4, 1, 5, 2, 3): 49013.0, (3, 0, 2, 4, 5, 1): 49263.0, (2, 1, 4, 5, 3, 0): 49672.0, (4, 5, 1, 0, 2, 3): 49812.0, (2, 1, 4, 0, 5, 3): 50176.0, (2, 1, 3, 5, 0, 4): 51193.0, (5, 2, 4, 3, 1, 0): 51216.0, (5, 2, 3, 4, 1, 0): 51216.0, (4, 1, 5, 2, 3, 0): 51507.0, (2, 1, 3, 4, 5, 0): 54691.0, (5, 3, 0, 2, 1, 4): 54918.0, (2, 1, 0, 4, 5, 3): 55193.0, (3, 5, 0, 2, 4, 1): 59177.0, (4, 1, 2, 3, 5, 0): 59492.0}\n",
      "Explore len:  216\n",
      "\n",
      "Problem:  more_cases-low_dimension\\problems\\example.json \n",
      "Solution:   Individual: [2, 1, 3, 4, 5, 0] \n",
      "Stats:  {'time': 1.5834045999999944, 'searches': {'real': 31, 'total': 1643}, 'population': {'real': 216, 'total': 250}} \n",
      "Score:  3379.0\n",
      "explore:  {(3, 4, 2, 1, 0, 5): 2958.0, (5, 0, 2, 3, 1, 4): 8685.0, (4, 3, 2, 1, 0, 5): 11975.0, (5, 3, 4, 0, 2, 1): 17914.0, (3, 1, 0, 5, 4, 2): 20094.0, (0, 1, 5, 4, 3, 2): 20321.0, (2, 4, 0, 5, 1, 3): 20855.0, (3, 4, 2, 1, 5, 0): 22487.0, (4, 0, 2, 1, 3, 5): 23418.0, (3, 4, 0, 5, 2, 1): 25063.0, (3, 4, 0, 2, 1, 5): 25627.0, (2, 3, 4, 1, 0, 5): 25734.0, (2, 4, 3, 1, 0, 5): 25734.0, (1, 0, 5, 4, 3, 2): 25828.0, (2, 0, 4, 1, 3, 5): 26025.0, (5, 0, 2, 4, 3, 1): 26694.0, (5, 0, 2, 3, 4, 1): 26694.0, (2, 5, 4, 1, 0, 3): 26751.0, (2, 5, 3, 1, 0, 4): 26751.0, (4, 1, 0, 2, 3, 5): 27475.0, (3, 0, 5, 1, 4, 2): 27581.0, (5, 3, 2, 0, 4, 1): 28417.0, (5, 0, 3, 1, 4, 2): 28544.0, (5, 0, 4, 1, 3, 2): 28544.0, (2, 0, 5, 3, 1, 4): 28544.0, (2, 0, 5, 4, 1, 3): 28544.0, (3, 4, 2, 0, 1, 5): 28779.0, (2, 0, 4, 3, 5, 1): 29025.0, (2, 5, 1, 0, 4, 3): 29207.0, (1, 0, 2, 4, 3, 5): 29733.0, (2, 0, 1, 4, 3, 5): 30024.0, (2, 0, 1, 3, 4, 5): 30024.0, (1, 3, 2, 5, 0, 4): 30219.0, (4, 1, 3, 5, 0, 2): 30389.0, (5, 2, 1, 0, 3, 4): 30634.0, (2, 3, 5, 1, 0, 4): 30709.0, (2, 4, 5, 1, 0, 3): 30709.0, (3, 4, 5, 0, 1, 2): 31298.0, (4, 1, 3, 2, 0, 5): 31443.0, (3, 1, 4, 2, 0, 5): 31443.0, (4, 5, 3, 1, 0, 2): 31563.0, (3, 1, 0, 4, 5, 2): 31563.0, (2, 0, 4, 1, 5, 3): 31575.0, (4, 3, 5, 0, 2, 1): 31858.0, (2, 3, 5, 1, 4, 0): 32252.0, (4, 0, 5, 2, 3, 1): 32463.0, (5, 0, 1, 4, 3, 2): 32543.0, (4, 3, 1, 5, 0, 2): 32598.0, (3, 0, 4, 5, 2, 1): 33210.0, (3, 4, 1, 2, 0, 5): 33652.0, (2, 1, 3, 0, 4, 5): 33774.0, (3, 5, 2, 1, 4, 0): 33918.0, (2, 5, 4, 3, 0, 1): 33919.0, (5, 2, 1, 3, 0, 4): 33930.0, (2, 5, 0, 1, 3, 4): 34011.0, (2, 3, 4, 5, 0, 1): 34078.0, (1, 4, 3, 5, 0, 2): 34388.0, (2, 1, 4, 5, 3, 0): 34602.0, (4, 0, 5, 3, 1, 2): 35481.0, (4, 1, 5, 3, 0, 2): 35481.0, (5, 4, 3, 0, 1, 2): 36026.0, (2, 1, 5, 4, 0, 3): 36293.0, (2, 1, 5, 3, 0, 4): 36293.0, (3, 1, 2, 0, 4, 5): 36381.0, (3, 4, 1, 5, 2, 0): 36400.0, (5, 4, 0, 2, 1, 3): 36459.0, (5, 4, 3, 0, 2, 1): 36586.0, (0, 2, 5, 3, 4, 1): 36589.0, (0, 2, 5, 4, 3, 1): 36589.0, (5, 2, 1, 4, 3, 0): 37001.0, (2, 4, 1, 5, 3, 0): 37575.0, (1, 4, 2, 0, 3, 5): 38171.0, (3, 1, 5, 0, 2, 4): 38342.0, (4, 1, 5, 0, 2, 3): 38342.0, (3, 4, 2, 0, 5, 1): 38502.0, (5, 4, 0, 1, 3, 2): 38641.0, (5, 3, 0, 1, 4, 2): 38641.0, (4, 5, 2, 0, 1, 3): 38823.0, (4, 1, 5, 2, 0, 3): 38975.0, (0, 2, 5, 1, 4, 3): 39172.0, (0, 2, 5, 1, 3, 4): 39172.0, (3, 1, 2, 4, 0, 5): 39386.0, (1, 0, 4, 2, 3, 5): 39621.0, (2, 4, 3, 0, 1, 5): 39931.0, (4, 1, 0, 5, 3, 2): 40028.0, (2, 1, 0, 5, 4, 3): 40032.0, (5, 2, 0, 4, 3, 1): 40409.0, (1, 0, 5, 2, 4, 3): 40474.0, (0, 4, 5, 1, 3, 2): 40552.0, (5, 1, 0, 2, 4, 3): 40588.0, (2, 3, 4, 5, 1, 0): 41055.0, (4, 1, 0, 2, 5, 3): 41433.0, (4, 0, 1, 2, 3, 5): 41672.0, (3, 1, 4, 0, 2, 5): 42344.0, (0, 2, 3, 1, 4, 5): 42344.0, (4, 1, 3, 0, 2, 5): 42344.0, (4, 1, 0, 3, 2, 5): 42431.0, (3, 1, 0, 4, 2, 5): 42431.0, (4, 2, 3, 1, 0, 5): 42431.0, (2, 3, 0, 1, 4, 5): 42546.0, (2, 0, 1, 3, 5, 4): 43099.0, (5, 2, 4, 3, 0, 1): 43414.0, (3, 0, 5, 2, 4, 1): 43643.0, (3, 5, 1, 0, 4, 2): 43709.0, (1, 0, 3, 4, 5, 2): 43709.0, (1, 0, 4, 3, 5, 2): 43709.0, (0, 2, 4, 5, 3, 1): 43973.0, (5, 4, 3, 2, 0, 1): 44112.0, (3, 4, 2, 5, 0, 1): 44695.0, (0, 2, 5, 4, 1, 3): 44863.0, (0, 2, 5, 3, 1, 4): 44863.0, (2, 0, 1, 5, 4, 3): 45074.0, (4, 0, 1, 3, 5, 2): 45760.0, (4, 5, 0, 2, 1, 3): 46193.0, (3, 5, 0, 2, 1, 4): 46193.0, (1, 0, 2, 5, 4, 3): 46254.0, (4, 5, 3, 0, 2, 1): 46320.0, (0, 2, 1, 3, 4, 5): 46343.0, (1, 3, 4, 0, 2, 5): 46343.0, (3, 1, 4, 2, 5, 0): 46395.0, (2, 4, 1, 0, 5, 3): 46485.0, (2, 3, 1, 0, 5, 4): 46485.0, (1, 5, 3, 0, 2, 4): 46726.0, (1, 5, 3, 0, 4, 2): 47627.0, (2, 4, 0, 1, 5, 3): 48096.0, (2, 3, 0, 1, 5, 4): 48096.0, (5, 0, 3, 4, 2, 1): 48212.0, (3, 5, 0, 1, 4, 2): 48375.0, (5, 1, 0, 4, 2, 3): 48392.0, (5, 1, 0, 3, 2, 4): 48392.0, (3, 4, 1, 2, 5, 0): 48604.0, (4, 2, 5, 3, 0, 1): 48664.0, (0, 3, 5, 2, 1, 4): 49339.0, (2, 4, 3, 0, 5, 1): 49654.0, (1, 0, 5, 4, 2, 3): 49771.0, (1, 5, 0, 3, 2, 4): 50145.0, (1, 5, 0, 4, 2, 3): 50145.0, (1, 3, 4, 2, 5, 0): 50394.0, (5, 4, 3, 2, 1, 0): 51060.0, (1, 4, 0, 5, 2, 3): 51095.0, (1, 3, 0, 5, 2, 4): 51095.0, (3, 1, 2, 5, 0, 4): 51179.0, (0, 5, 4, 1, 3, 2): 51507.0, (4, 2, 5, 0, 3, 1): 51538.0, (5, 2, 4, 0, 3, 1): 51561.0, (3, 4, 2, 5, 1, 0): 51672.0, (2, 1, 0, 4, 5, 3): 51673.0, (5, 1, 4, 0, 2, 3): 51688.0, (1, 0, 4, 5, 3, 2): 52174.0, (4, 2, 5, 0, 1, 3): 52210.0, (3, 2, 5, 0, 1, 4): 52210.0, (0, 3, 1, 5, 2, 4): 52216.0, (2, 3, 0, 4, 1, 5): 52357.0, (0, 3, 2, 4, 1, 5): 52357.0, (3, 5, 0, 2, 4, 1): 53468.0, (4, 5, 0, 2, 3, 1): 53468.0, (0, 5, 4, 3, 1, 2): 53716.0, (4, 3, 1, 0, 5, 2): 53716.0, (0, 5, 1, 2, 4, 3): 53990.0, (0, 3, 1, 2, 4, 5): 54098.0, (1, 4, 5, 2, 3, 0): 54988.0, (1, 3, 0, 5, 4, 2): 55470.0, (1, 4, 0, 5, 3, 2): 55470.0, (3, 1, 2, 4, 5, 0): 55532.0, (3, 0, 1, 2, 5, 4): 55630.0, (4, 0, 1, 2, 5, 3): 55630.0, (4, 3, 0, 2, 5, 1): 56594.0, (3, 4, 0, 2, 5, 1): 56594.0, (0, 1, 4, 5, 3, 2): 56840.0, (4, 5, 0, 3, 1, 2): 58186.0, (0, 3, 1, 4, 5, 2): 58186.0, (0, 1, 3, 2, 5, 4): 58245.0, (0, 3, 2, 4, 5, 1): 58948.0, (2, 4, 0, 3, 5, 1): 58948.0, (3, 1, 2, 5, 4, 0): 58978.0, (4, 2, 0, 1, 3, 5): 59243.0, (0, 2, 3, 5, 1, 4): 59418.0, (1, 4, 2, 5, 3, 0): 60768.0, (3, 5, 4, 2, 1, 0): 60794.0, (0, 1, 2, 5, 3, 4): 61276.0, (0, 4, 1, 5, 2, 3): 62276.0, (4, 2, 0, 5, 3, 1): 64004.0, (1, 3, 5, 4, 2, 0): 64285.0, (5, 3, 1, 4, 2, 0): 64285.0, (4, 0, 3, 2, 5, 1): 64741.0, (3, 2, 0, 1, 5, 4): 64793.0, (0, 1, 5, 4, 2, 3): 64793.0, (4, 0, 2, 5, 1, 3): 64868.0, (5, 4, 0, 3, 2, 1): 65911.0, (0, 3, 1, 5, 4, 2): 66651.0, (3, 4, 5, 1, 2, 0): 66725.0, (1, 5, 2, 3, 0, 4): 67097.0, (0, 3, 1, 4, 2, 5): 69054.0, (5, 0, 4, 1, 2, 3): 69219.0, (4, 0, 3, 5, 1, 2): 70659.0, (0, 5, 4, 2, 3, 1): 73499.0, (0, 5, 3, 2, 4, 1): 73499.0, (3, 2, 1, 4, 5, 0): 74019.0, (4, 3, 0, 1, 2, 5): 74605.0, (3, 5, 0, 4, 2, 1): 75645.0, (5, 1, 2, 0, 3, 4): 76289.0, (0, 3, 2, 5, 1, 4): 77839.0, (5, 4, 0, 1, 2, 3): 79316.0, (4, 2, 0, 5, 1, 3): 79449.0, (4, 0, 3, 1, 2, 5): 82752.0, (5, 3, 1, 2, 4, 0): 83341.0, (1, 2, 3, 5, 4, 0): 83580.0, (1, 2, 5, 4, 0, 3): 85271.0, (5, 1, 2, 4, 3, 0): 85688.0, (1, 2, 0, 3, 4, 5): 87576.0, (3, 5, 0, 1, 2, 4): 89050.0, (1, 2, 3, 4, 5, 0): 90751.0, (4, 5, 1, 2, 3, 0): 93075.0}\n",
      "Explore len:  213\n",
      "\n",
      "Problem:  more_cases-low_dimension\\problems\\example.json \n",
      "Solution:   Individual: [2, 5, 0, 3, 1, 4] \n",
      "Stats:  {'time': 1.6336816000002727, 'searches': {'real': 31, 'total': 1617}, 'population': {'real': 213, 'total': 250}} \n",
      "Score:  2958.0\n"
     ]
    },
    {
     "name": "stderr",
     "output_type": "stream",
     "text": [
      "Exception in thread Thread-56 (run_ga):\n",
      "Traceback (most recent call last):\n",
      "  File \"C:\\Program Files\\WindowsApps\\PythonSoftwareFoundation.Python.3.10_3.10.2544.0_x64__qbz5n2kfra8p0\\lib\\threading.py\", line 1016, in _bootstrap_inner\n",
      "    self.run()\n",
      "  File \"C:\\Program Files\\WindowsApps\\PythonSoftwareFoundation.Python.3.10_3.10.2544.0_x64__qbz5n2kfra8p0\\lib\\threading.py\", line 953, in run\n",
      "    self._target(*self._args, **self._kwargs)\n",
      "  File \"C:\\Users\\carlo\\AppData\\Local\\Temp\\ipykernel_14312\\23080391.py\", line 17, in run_ga\n",
      "TypeError: '<' not supported between instances of 'float' and 'Individual'\n"
     ]
    },
    {
     "name": "stdout",
     "output_type": "stream",
     "text": [
      "explore:  {(4, 0, 3, 1, 5, 2): 4013.0, (3, 2, 4, 1, 0, 5): 4468.0, (4, 5, 3, 0, 2, 1): 10198.0, (3, 5, 2, 4, 0, 1): 10211.0, (4, 5, 0, 3, 2, 1): 10352.0, (3, 5, 4, 1, 2, 0): 11799.0, (3, 4, 5, 1, 2, 0): 11908.0, (1, 2, 4, 3, 5, 0): 12024.0, (0, 2, 4, 3, 1, 5): 12091.0, (1, 2, 3, 5, 4, 0): 12277.0, (4, 2, 0, 3, 1, 5): 12399.0, (0, 2, 3, 5, 4, 1): 12457.0, (4, 3, 2, 0, 5, 1): 12818.0, (3, 2, 4, 5, 1, 0): 12919.0, (0, 3, 4, 1, 2, 5): 13351.0, (1, 2, 0, 3, 4, 5): 13351.0, (1, 2, 4, 0, 3, 5): 13505.0, (3, 0, 4, 1, 2, 5): 13505.0, (3, 2, 1, 0, 4, 5): 14246.0, (0, 4, 1, 3, 5, 2): 15518.0, (0, 5, 4, 3, 2, 1): 15541.0, (3, 2, 4, 0, 5, 1): 15695.0, (3, 4, 0, 1, 2, 5): 15764.0, (5, 3, 4, 0, 2, 1): 15874.0, (0, 4, 5, 3, 2, 1): 16028.0, (5, 3, 0, 4, 2, 1): 16028.0, (4, 3, 0, 2, 5, 1): 16138.0, (1, 2, 5, 4, 3, 0): 16530.0, (3, 1, 5, 4, 2, 0): 16748.0, (0, 3, 1, 2, 4, 5): 17129.0, (3, 5, 1, 0, 4, 2): 17365.0, (5, 3, 4, 1, 2, 0): 17475.0, (1, 2, 3, 0, 5, 4): 17869.0, (0, 3, 4, 5, 1, 2): 18202.0, (3, 5, 2, 0, 4, 1): 18244.0, (1, 0, 3, 5, 4, 2): 18275.0, (3, 0, 5, 4, 2, 1): 18441.0, (5, 2, 1, 3, 0, 4): 18500.0, (4, 3, 5, 1, 2, 0): 18522.0, (3, 2, 5, 1, 0, 4): 18595.0, (4, 3, 0, 1, 5, 2): 18883.0, (0, 4, 5, 1, 2, 3): 19024.0, (4, 1, 0, 3, 5, 2): 19399.0, (3, 1, 0, 4, 5, 2): 19399.0, (4, 5, 0, 1, 2, 3): 20075.0, (3, 5, 0, 1, 2, 4): 20075.0, (2, 5, 3, 4, 1, 0): 20190.0, (3, 1, 0, 5, 4, 2): 20309.0, (4, 1, 0, 5, 3, 2): 20309.0, (3, 2, 4, 0, 1, 5): 20327.0, (4, 2, 3, 0, 1, 5): 20327.0, (0, 4, 1, 2, 3, 5): 20485.0, (5, 1, 0, 4, 3, 2): 20628.0, (0, 5, 4, 3, 1, 2): 20707.0, (4, 5, 1, 2, 0, 3): 20784.0, (0, 3, 5, 4, 1, 2): 21194.0, (5, 4, 0, 3, 1, 2): 21194.0, (5, 3, 0, 4, 1, 2): 21194.0, (3, 5, 1, 2, 4, 0): 21255.0, (1, 5, 2, 3, 4, 0): 21570.0, (4, 1, 2, 0, 3, 5): 21840.0, (1, 0, 3, 2, 4, 5): 22332.0, (3, 2, 5, 4, 0, 1): 22407.0, (0, 2, 3, 5, 1, 4): 22467.0, (4, 5, 0, 2, 1, 3): 22661.0, (0, 2, 1, 3, 5, 4): 22975.0, (0, 4, 3, 2, 5, 1): 23307.0, (0, 3, 4, 2, 5, 1): 23307.0, (2, 5, 1, 0, 3, 4): 23361.0, (4, 0, 5, 3, 1, 2): 23607.0, (3, 1, 5, 4, 0, 2): 23607.0, (4, 1, 2, 3, 5, 0): 23745.0, (1, 3, 4, 0, 2, 5): 23800.0, (0, 2, 1, 4, 3, 5): 23800.0, (1, 5, 4, 3, 0, 2): 23832.0, (4, 5, 2, 3, 1, 0): 24043.0, (5, 4, 3, 2, 0, 1): 24286.0, (3, 1, 0, 2, 4, 5): 24366.0, (2, 0, 4, 5, 3, 1): 24465.0, (5, 4, 0, 2, 3, 1): 24951.0, (2, 4, 3, 1, 5, 0): 24953.0, (0, 1, 5, 4, 2, 3): 25024.0, (3, 2, 0, 1, 5, 4): 25024.0, (0, 4, 2, 3, 1, 5): 25072.0, (0, 3, 2, 4, 1, 5): 25072.0, (5, 3, 4, 1, 0, 2): 25075.0, (1, 0, 5, 4, 3, 2): 25300.0, (0, 4, 1, 2, 5, 3): 25618.0, (3, 4, 2, 5, 1, 0): 25874.0, (3, 1, 2, 5, 4, 0): 26440.0, (5, 2, 4, 0, 3, 1): 26442.0, (5, 2, 3, 0, 4, 1): 26442.0, (3, 2, 1, 4, 0, 5): 26521.0, (5, 1, 4, 2, 0, 3): 26546.0, (0, 5, 1, 2, 4, 3): 26946.0, (5, 2, 3, 4, 1, 0): 27008.0, (0, 2, 5, 3, 1, 4): 27102.0, (0, 2, 5, 4, 1, 3): 27102.0, (0, 3, 4, 2, 1, 5): 27236.0, (3, 0, 4, 2, 1, 5): 27390.0, (4, 0, 2, 3, 1, 5): 27485.0, (4, 1, 2, 3, 0, 5): 27485.0, (0, 2, 5, 1, 4, 3): 28149.0, (0, 2, 5, 1, 3, 4): 28149.0, (5, 4, 0, 2, 1, 3): 28337.0, (1, 0, 2, 4, 5, 3): 28353.0, (2, 4, 3, 0, 5, 1): 28368.0, (4, 0, 1, 2, 3, 5): 28413.0, (5, 4, 1, 3, 2, 0): 28457.0, (4, 2, 0, 5, 1, 3): 28472.0, (0, 5, 1, 4, 2, 3): 28472.0, (4, 3, 5, 2, 0, 1): 28897.0, (4, 1, 0, 2, 5, 3): 29499.0, (4, 3, 0, 2, 1, 5): 29649.0, (2, 4, 5, 3, 1, 0): 29719.0, (4, 1, 5, 2, 0, 3): 30119.0, (2, 1, 5, 4, 3, 0): 30415.0, (0, 3, 4, 5, 2, 1): 30485.0, (1, 4, 0, 5, 3, 2): 30550.0, (1, 3, 0, 5, 4, 2): 30550.0, (3, 1, 5, 2, 4, 0): 30590.0, (5, 4, 2, 3, 0, 1): 30612.0, (2, 3, 0, 5, 4, 1): 30627.0, (3, 0, 4, 5, 2, 1): 30639.0, (5, 1, 3, 0, 4, 2): 30644.0, (1, 0, 2, 5, 3, 4): 31048.0, (2, 4, 1, 0, 5, 3): 31283.0, (1, 0, 4, 5, 2, 3): 31615.0, (2, 5, 4, 1, 3, 0): 31674.0, (2, 1, 4, 0, 5, 3): 31754.0, (3, 1, 4, 0, 5, 2): 32191.0, (4, 0, 5, 2, 3, 1): 32283.0, (3, 4, 5, 2, 1, 0): 32754.0, (0, 1, 2, 4, 3, 5): 32846.0, (3, 4, 0, 5, 2, 1): 32898.0, (1, 3, 2, 0, 4, 5): 33549.0, (3, 1, 0, 5, 2, 4): 33649.0, (0, 4, 5, 1, 3, 2): 33725.0, (2, 1, 0, 5, 3, 4): 34013.0, (1, 4, 3, 2, 0, 5): 34151.0, (1, 3, 4, 2, 0, 5): 34151.0, (4, 0, 2, 1, 5, 3): 34500.0, (1, 3, 0, 2, 4, 5): 34607.0, (4, 2, 3, 5, 0, 1): 34618.0, (0, 1, 2, 5, 4, 3): 34716.0, (0, 1, 4, 3, 5, 2): 34776.0, (2, 0, 1, 4, 5, 3): 34983.0, (2, 4, 5, 3, 0, 1): 35080.0, (1, 0, 5, 2, 4, 3): 35198.0, (1, 4, 5, 3, 0, 2): 35316.0, (1, 3, 2, 4, 5, 0): 35454.0, (2, 4, 1, 3, 5, 0): 35454.0, (2, 5, 1, 4, 0, 3): 35636.0, (0, 1, 4, 5, 3, 2): 35686.0, (0, 1, 3, 5, 4, 2): 35686.0, (3, 4, 1, 5, 0, 2): 35714.0, (3, 0, 5, 1, 4, 2): 36138.0, (0, 4, 2, 5, 1, 3): 36238.0, (4, 2, 3, 1, 5, 0): 36342.0, (1, 2, 5, 0, 4, 3): 36472.0, (4, 2, 1, 5, 0, 3): 36792.0, (3, 1, 4, 5, 2, 0): 37518.0, (4, 1, 3, 5, 2, 0): 37518.0, (5, 0, 3, 4, 2, 1): 37881.0, (1, 3, 2, 0, 5, 4): 37913.0, (5, 2, 3, 1, 4, 0): 38492.0, (3, 0, 2, 5, 1, 4): 38651.0, (0, 4, 2, 1, 3, 5): 38720.0, (3, 5, 2, 0, 1, 4): 38949.0, (2, 5, 0, 3, 4, 1): 39064.0, (2, 0, 5, 3, 1, 4): 39110.0, (2, 4, 1, 3, 0, 5): 39194.0, (0, 1, 3, 2, 4, 5): 39743.0, (0, 1, 4, 2, 3, 5): 39743.0, (5, 0, 3, 1, 2, 4): 39830.0, (2, 0, 5, 1, 4, 3): 40157.0, (2, 5, 0, 3, 1, 4): 40286.0, (2, 3, 5, 1, 4, 0): 40782.0, (1, 5, 0, 4, 3, 2): 41013.0, (0, 5, 2, 1, 4, 3): 41760.0, (5, 4, 2, 1, 3, 0): 41899.0, (5, 2, 1, 4, 0, 3): 43571.0, (1, 3, 0, 5, 2, 4): 43890.0, (1, 4, 0, 5, 2, 3): 43890.0, (2, 4, 0, 1, 3, 5): 44330.0, (5, 4, 2, 0, 1, 3): 44625.0, (0, 1, 3, 2, 5, 4): 44876.0, (2, 3, 5, 0, 4, 1): 46746.0, (5, 0, 4, 2, 3, 1): 47112.0, (2, 3, 4, 5, 0, 1): 47291.0, (2, 4, 3, 5, 0, 1): 47291.0, (4, 3, 2, 5, 0, 1): 47573.0, (3, 4, 5, 0, 1, 2): 48562.0, (4, 1, 2, 5, 0, 3): 48795.0, (2, 4, 1, 5, 0, 3): 49465.0, (1, 5, 0, 3, 2, 4): 49742.0, (2, 1, 5, 0, 4, 3): 50357.0, (2, 1, 5, 0, 3, 4): 50357.0, (5, 0, 1, 3, 2, 4): 50812.0, (4, 3, 2, 1, 5, 0): 51179.0, (5, 0, 4, 1, 3, 2): 54531.0, (5, 0, 3, 1, 4, 2): 54531.0, (5, 0, 1, 3, 4, 2): 54756.0, (4, 2, 5, 0, 1, 3): 54778.0, (3, 2, 5, 0, 1, 4): 54778.0, (2, 5, 0, 1, 4, 3): 59544.0, (1, 3, 2, 5, 0, 4): 60504.0, (5, 0, 2, 4, 1, 3): 61936.0, (2, 4, 5, 0, 1, 3): 67451.0}\n",
      "Explore len:  209\n",
      "\n",
      "Problem:  more_cases-low_dimension\\problems\\example.json \n",
      "Solution:   Individual: [1, 0, 3, 2, 4, 5] \n",
      "Stats:  {'time': 1.6898340999996435, 'searches': {'real': 31, 'total': 1581}, 'population': {'real': 209, 'total': 250}} \n",
      "Score:  4013.0\n"
     ]
    },
    {
     "name": "stderr",
     "output_type": "stream",
     "text": [
      "Exception in thread Thread-57 (run_ga):\n",
      "Traceback (most recent call last):\n",
      "  File \"C:\\Program Files\\WindowsApps\\PythonSoftwareFoundation.Python.3.10_3.10.2544.0_x64__qbz5n2kfra8p0\\lib\\threading.py\", line 1016, in _bootstrap_inner\n",
      "    self.run()\n",
      "  File \"C:\\Program Files\\WindowsApps\\PythonSoftwareFoundation.Python.3.10_3.10.2544.0_x64__qbz5n2kfra8p0\\lib\\threading.py\", line 953, in run\n",
      "    self._target(*self._args, **self._kwargs)\n",
      "  File \"C:\\Users\\carlo\\AppData\\Local\\Temp\\ipykernel_14312\\23080391.py\", line 17, in run_ga\n",
      "TypeError: '<' not supported between instances of 'float' and 'Individual'\n"
     ]
    },
    {
     "name": "stdout",
     "output_type": "stream",
     "text": [
      "explore:  {(3, 4, 5, 1, 0, 2): 3592.0, (4, 3, 1, 0, 5, 2): 7546.0, (1, 0, 4, 2, 5, 3): 9762.0, (2, 3, 1, 5, 0, 4): 11272.0, (0, 5, 1, 4, 2, 3): 12377.0, (1, 0, 3, 5, 2, 4): 14002.0, (4, 3, 1, 5, 0, 2): 15992.0, (5, 4, 1, 2, 0, 3): 17219.0, (2, 3, 4, 1, 0, 5): 17292.0, (5, 2, 3, 4, 0, 1): 17753.0, (2, 4, 1, 0, 3, 5): 17782.0, (0, 5, 3, 4, 1, 2): 18127.0, (0, 4, 1, 2, 3, 5): 18246.0, (2, 4, 5, 1, 0, 3): 18548.0, (0, 5, 2, 3, 4, 1): 19296.0, (0, 5, 2, 4, 3, 1): 19296.0, (1, 5, 2, 3, 4, 0): 20110.0, (3, 4, 0, 2, 1, 5): 20385.0, (2, 1, 4, 3, 0, 5): 20385.0, (4, 3, 0, 2, 1, 5): 20385.0, (5, 2, 4, 1, 0, 3): 20424.0, (1, 5, 0, 3, 4, 2): 20478.0, (5, 1, 0, 4, 2, 3): 20914.0, (4, 1, 5, 0, 3, 2): 20978.0, (3, 1, 5, 0, 4, 2): 20978.0, (5, 0, 2, 3, 4, 1): 21157.0, (3, 0, 5, 2, 4, 1): 21279.0, (4, 0, 3, 2, 1, 5): 21375.0, (4, 0, 2, 1, 5, 3): 21730.0, (1, 5, 3, 4, 0, 2): 21981.0, (2, 4, 5, 0, 3, 1): 22147.0, (3, 4, 0, 2, 5, 1): 22175.0, (4, 3, 0, 2, 5, 1): 22175.0, (3, 0, 4, 5, 1, 2): 22654.0, (0, 4, 3, 1, 5, 2): 22844.0, (1, 5, 4, 0, 3, 2): 22971.0, (0, 2, 3, 4, 1, 5): 23118.0, (3, 1, 0, 5, 2, 4): 23128.0, (3, 0, 4, 2, 5, 1): 23165.0, (5, 4, 3, 1, 0, 2): 23302.0, (1, 5, 0, 3, 2, 4): 23819.0, (3, 0, 5, 1, 4, 2): 24012.0, (2, 4, 5, 1, 3, 0): 24012.0, (0, 3, 5, 2, 4, 1): 24287.0, (4, 3, 1, 2, 5, 0): 24410.0, (0, 3, 4, 5, 1, 2): 24672.0, (0, 4, 3, 5, 1, 2): 24672.0, (3, 4, 2, 1, 5, 0): 24724.0, (3, 4, 0, 5, 2, 1): 24871.0, (3, 4, 1, 2, 0, 5): 24960.0, (1, 4, 3, 5, 0, 2): 25286.0, (1, 3, 4, 5, 0, 2): 25286.0, (2, 3, 1, 4, 0, 5): 25765.0, (2, 4, 1, 3, 0, 5): 25765.0, (3, 1, 4, 5, 0, 2): 25786.0, (4, 1, 3, 5, 0, 2): 25786.0, (2, 4, 0, 5, 3, 1): 25837.0, (3, 0, 4, 5, 2, 1): 25861.0, (4, 0, 3, 5, 2, 1): 25861.0, (3, 4, 2, 5, 0, 1): 25901.0, (2, 0, 4, 3, 1, 5): 25935.0, (2, 1, 5, 4, 3, 0): 26395.0, (3, 4, 5, 2, 1, 0): 26542.0, (5, 1, 4, 0, 3, 2): 26546.0, (2, 4, 1, 5, 0, 3): 26903.0, (3, 1, 2, 0, 4, 5): 26925.0, (3, 4, 2, 0, 5, 1): 27064.0, (0, 5, 1, 4, 3, 2): 27421.0, (1, 3, 4, 0, 5, 2): 27421.0, (1, 4, 3, 0, 5, 2): 27421.0, (0, 5, 4, 1, 3, 2): 27921.0, (5, 2, 0, 3, 4, 1): 28207.0, (4, 0, 2, 5, 3, 1): 28394.0, (5, 3, 0, 2, 1, 4): 28580.0, (2, 4, 1, 5, 3, 0): 28895.0, (3, 1, 2, 0, 5, 4): 28914.0, (0, 5, 1, 2, 4, 3): 29236.0, (5, 0, 3, 2, 4, 1): 29602.0, (4, 1, 2, 5, 3, 0): 29743.0, (3, 1, 2, 5, 4, 0): 29743.0, (0, 3, 5, 2, 1, 4): 30051.0, (3, 0, 2, 1, 4, 5): 30179.0, (1, 3, 5, 0, 4, 2): 30272.0, (5, 1, 2, 4, 0, 3): 30379.0, (0, 5, 2, 3, 1, 4): 30440.0, (1, 0, 2, 5, 3, 4): 30565.0, (1, 0, 3, 2, 5, 4): 30733.0, (2, 4, 0, 5, 1, 3): 30762.0, (2, 3, 0, 5, 1, 4): 30762.0, (1, 0, 3, 5, 4, 2): 31093.0, (2, 5, 4, 3, 0, 1): 31775.0, (1, 3, 5, 2, 4, 0): 31922.0, (1, 2, 4, 3, 0, 5): 32042.0, (1, 5, 2, 0, 3, 4): 32093.0, (2, 5, 0, 4, 1, 3): 32122.0, (0, 2, 4, 1, 5, 3): 32469.0, (3, 1, 5, 2, 0, 4): 32593.0, (3, 0, 4, 1, 2, 5): 32621.0, (5, 2, 1, 4, 3, 0): 32810.0, (0, 2, 3, 1, 4, 5): 32912.0, (0, 2, 4, 1, 3, 5): 32912.0, (5, 4, 1, 2, 3, 0): 33089.0, (2, 0, 5, 3, 4, 1): 33114.0, (2, 5, 3, 4, 1, 0): 33124.0, (0, 2, 5, 1, 4, 3): 33178.0, (0, 4, 2, 1, 3, 5): 33187.0, (3, 2, 4, 1, 0, 5): 33218.0, (4, 1, 0, 3, 2, 5): 33218.0, (4, 2, 3, 1, 0, 5): 33218.0, (3, 0, 2, 5, 1, 4): 33319.0, (3, 2, 4, 0, 5, 1): 33526.0, (4, 0, 5, 1, 2, 3): 33630.0, (1, 3, 4, 2, 5, 0): 33704.0, (5, 3, 2, 0, 4, 1): 34104.0, (3, 1, 0, 4, 5, 2): 34124.0, (3, 5, 2, 4, 1, 0): 34124.0, (3, 5, 4, 1, 0, 2): 34124.0, (4, 5, 2, 3, 1, 0): 34124.0, (4, 1, 3, 2, 5, 0): 34204.0, (0, 5, 2, 1, 3, 4): 34354.0, (2, 5, 4, 1, 0, 3): 34446.0, (4, 1, 3, 2, 0, 5): 34754.0, (4, 0, 2, 3, 5, 1): 34794.0, (3, 0, 2, 4, 5, 1): 34794.0, (1, 2, 3, 0, 5, 4): 35021.0, (0, 4, 3, 1, 2, 5): 35050.0, (1, 2, 0, 3, 4, 5): 35050.0, (2, 0, 1, 3, 4, 5): 35229.0, (2, 0, 1, 4, 3, 5): 35229.0, (3, 2, 0, 4, 1, 5): 35405.0, (0, 3, 1, 4, 2, 5): 35405.0, (0, 4, 1, 3, 2, 5): 35405.0, (0, 3, 1, 2, 4, 5): 35698.0, (5, 1, 4, 3, 2, 0): 35842.0, (0, 2, 1, 5, 3, 4): 36043.0, (4, 1, 2, 3, 5, 0): 36143.0, (5, 3, 2, 1, 4, 0): 36189.0, (1, 3, 2, 0, 4, 5): 36219.0, (0, 4, 2, 5, 1, 3): 36327.0, (5, 1, 2, 0, 4, 3): 36835.0, (1, 4, 2, 5, 0, 3): 37045.0, (1, 4, 5, 0, 2, 3): 37252.0, (0, 3, 2, 4, 5, 1): 37802.0, (2, 3, 0, 4, 5, 1): 37802.0, (0, 4, 2, 3, 5, 1): 37802.0, (2, 4, 0, 3, 5, 1): 37802.0, (2, 3, 4, 0, 1, 5): 38316.0, (1, 3, 4, 5, 2, 0): 38546.0, (1, 3, 0, 2, 5, 4): 38716.0, (2, 0, 1, 5, 4, 3): 38860.0, (1, 2, 5, 0, 4, 3): 39068.0, (1, 4, 0, 5, 3, 2): 39076.0, (3, 2, 5, 4, 1, 0): 39228.0, (4, 5, 0, 2, 1, 3): 39402.0, (2, 1, 4, 3, 5, 0): 40057.0, (5, 4, 3, 1, 2, 0): 41392.0, (5, 3, 4, 1, 2, 0): 41392.0, (0, 2, 4, 3, 5, 1): 41441.0, (0, 2, 3, 4, 5, 1): 41441.0, (5, 2, 4, 0, 1, 3): 41448.0, (5, 3, 4, 2, 0, 1): 41559.0, (1, 2, 5, 4, 0, 3): 41561.0, (3, 5, 1, 0, 2, 4): 41594.0, (3, 2, 1, 4, 0, 5): 41691.0, (1, 3, 0, 4, 2, 5): 41691.0, (4, 3, 5, 0, 1, 2): 41833.0, (1, 3, 5, 2, 0, 4): 41887.0, (5, 1, 3, 2, 4, 0): 42304.0, (4, 2, 1, 5, 0, 3): 42829.0, (5, 3, 0, 4, 2, 1): 42906.0, (2, 1, 0, 4, 5, 3): 43566.0, (4, 0, 1, 5, 2, 3): 44152.0, (1, 5, 3, 2, 0, 4): 44256.0, (1, 5, 4, 2, 0, 3): 44256.0, (2, 1, 4, 5, 0, 3): 44284.0, (2, 1, 3, 5, 0, 4): 44284.0, (5, 4, 3, 0, 1, 2): 44326.0, (4, 5, 2, 0, 3, 1): 44926.0, (5, 4, 2, 3, 0, 1): 45495.0, (2, 1, 4, 5, 3, 0): 46276.0, (0, 5, 1, 3, 2, 4): 46688.0, (4, 5, 2, 1, 3, 0): 47011.0, (0, 2, 4, 5, 3, 1): 47660.0, (5, 1, 4, 2, 0, 3): 47831.0, (4, 5, 3, 2, 1, 0): 48180.0, (0, 2, 4, 5, 1, 3): 49905.0, (3, 5, 0, 1, 2, 4): 51287.0, (3, 5, 4, 2, 0, 1): 52381.0, (0, 2, 3, 5, 1, 4): 52585.0, (3, 2, 0, 4, 5, 1): 53728.0, (3, 5, 1, 2, 0, 4): 53876.0, (4, 5, 1, 2, 0, 3): 53876.0, (0, 1, 2, 5, 3, 4): 54107.0, (4, 2, 3, 0, 1, 5): 54242.0, (4, 0, 1, 3, 2, 5): 54242.0, (4, 0, 1, 2, 3, 5): 54535.0, (3, 0, 1, 2, 4, 5): 54535.0, (3, 5, 4, 0, 1, 2): 55148.0, (4, 0, 1, 3, 5, 2): 55148.0, (2, 0, 1, 3, 5, 4): 55402.0, (2, 5, 4, 0, 1, 3): 55470.0, (1, 2, 4, 5, 0, 3): 55941.0, (0, 1, 4, 5, 2, 3): 55964.0, (0, 1, 2, 3, 5, 4): 60507.0, (5, 2, 0, 1, 3, 4): 60706.0, (3, 5, 1, 4, 2, 0): 61363.0, (2, 5, 0, 1, 4, 3): 62771.0, (0, 1, 4, 2, 5, 3): 63079.0, (0, 1, 3, 2, 5, 4): 63079.0, (0, 1, 5, 4, 2, 3): 65611.0, (4, 5, 0, 1, 3, 2): 66960.0, (0, 1, 4, 3, 5, 2): 66960.0, (4, 2, 5, 0, 1, 3): 70072.0, (3, 2, 5, 0, 1, 4): 70072.0}\n",
      "Explore len:  214\n",
      "\n",
      "Problem:  more_cases-low_dimension\\problems\\example.json \n",
      "Solution:   Individual: [5, 0, 3, 4, 1, 2] \n",
      "Stats:  {'time': 1.7683220999988407, 'searches': {'real': 31, 'total': 1626}, 'population': {'real': 214, 'total': 250}} \n",
      "Score:  3592.0\n"
     ]
    },
    {
     "name": "stderr",
     "output_type": "stream",
     "text": [
      "Exception in thread Thread-58 (run_ga):\n",
      "Traceback (most recent call last):\n",
      "  File \"C:\\Program Files\\WindowsApps\\PythonSoftwareFoundation.Python.3.10_3.10.2544.0_x64__qbz5n2kfra8p0\\lib\\threading.py\", line 1016, in _bootstrap_inner\n",
      "    self.run()\n",
      "  File \"C:\\Program Files\\WindowsApps\\PythonSoftwareFoundation.Python.3.10_3.10.2544.0_x64__qbz5n2kfra8p0\\lib\\threading.py\", line 953, in run\n",
      "    self._target(*self._args, **self._kwargs)\n",
      "  File \"C:\\Users\\carlo\\AppData\\Local\\Temp\\ipykernel_14312\\23080391.py\", line 17, in run_ga\n",
      "TypeError: '<' not supported between instances of 'float' and 'Individual'\n"
     ]
    },
    {
     "name": "stdout",
     "output_type": "stream",
     "text": [
      "explore:  {(3, 2, 4, 0, 1, 5): 3112.0, (2, 3, 5, 4, 1, 0): 5651.0, (4, 2, 3, 0, 5, 1): 9882.0, (2, 1, 0, 5, 3, 4): 10925.0, (2, 3, 5, 0, 1, 4): 11006.0, (2, 3, 4, 0, 1, 5): 11113.0, (4, 0, 1, 3, 2, 5): 11433.0, (3, 4, 2, 1, 5, 0): 12575.0, (4, 3, 2, 1, 5, 0): 12575.0, (2, 3, 5, 4, 0, 1): 12701.0, (2, 4, 5, 3, 0, 1): 12701.0, (3, 2, 5, 4, 0, 1): 13021.0, (2, 1, 5, 4, 3, 0): 13551.0, (3, 4, 0, 2, 1, 5): 13745.0, (2, 1, 4, 3, 0, 5): 13745.0, (4, 0, 1, 5, 3, 2): 14928.0, (3, 0, 1, 5, 4, 2): 14928.0, (2, 5, 3, 0, 1, 4): 15430.0, (3, 4, 2, 1, 0, 5): 16005.0, (5, 0, 4, 2, 1, 3): 16584.0, (5, 0, 1, 2, 4, 3): 16622.0, (4, 2, 3, 1, 5, 0): 17301.0, (0, 1, 5, 4, 3, 2): 18019.0, (0, 1, 5, 3, 2, 4): 18339.0, (2, 1, 4, 0, 5, 3): 20132.0, (5, 3, 2, 4, 1, 0): 20217.0, (5, 0, 4, 3, 1, 2): 20670.0, (4, 3, 5, 1, 0, 2): 20733.0, (2, 5, 4, 3, 1, 0): 21368.0, (4, 1, 5, 3, 2, 0): 21688.0, (3, 1, 5, 4, 2, 0): 21688.0, (1, 5, 4, 3, 2, 0): 22192.0, (5, 4, 2, 1, 3, 0): 22239.0, (3, 2, 0, 1, 4, 5): 22710.0, (0, 5, 3, 2, 1, 4): 23041.0, (5, 0, 4, 3, 2, 1): 23723.0, (5, 0, 2, 1, 3, 4): 24130.0, (2, 5, 4, 1, 0, 3): 24728.0, (5, 3, 4, 1, 0, 2): 24728.0, (1, 0, 2, 4, 3, 5): 25051.0, (2, 5, 4, 3, 0, 1): 25201.0, (5, 2, 4, 3, 1, 0): 25275.0, (5, 2, 3, 4, 1, 0): 25275.0, (4, 3, 5, 1, 2, 0): 25437.0, (5, 4, 1, 0, 3, 2): 25519.0, (2, 5, 1, 4, 3, 0): 26061.0, (0, 1, 4, 5, 3, 2): 26205.0, (0, 1, 3, 5, 4, 2): 26205.0, (5, 3, 0, 1, 4, 2): 26707.0, (5, 4, 0, 1, 3, 2): 26707.0, (1, 0, 2, 5, 4, 3): 26890.0, (1, 5, 3, 0, 2, 4): 27108.0, (1, 5, 3, 4, 0, 2): 27108.0, (0, 5, 3, 4, 1, 2): 27127.0, (3, 0, 5, 1, 4, 2): 27161.0, (3, 4, 0, 1, 5, 2): 27215.0, (2, 3, 4, 0, 5, 1): 27271.0, (2, 4, 3, 0, 5, 1): 27271.0, (5, 0, 2, 4, 1, 3): 28536.0, (5, 2, 4, 1, 0, 3): 28635.0, (5, 2, 4, 3, 0, 1): 29108.0, (5, 2, 1, 3, 4, 0): 29557.0, (2, 5, 4, 1, 3, 0): 30056.0, (0, 5, 3, 2, 4, 1): 30180.0, (3, 4, 5, 1, 2, 0): 30193.0, (5, 2, 1, 3, 0, 4): 30657.0, (1, 4, 5, 2, 3, 0): 30762.0, (5, 4, 0, 1, 2, 3): 30839.0, (3, 0, 5, 1, 2, 4): 31293.0, (4, 0, 5, 1, 2, 3): 31293.0, (1, 3, 2, 4, 0, 5): 31479.0, (4, 2, 1, 0, 5, 3): 31758.0, (4, 2, 1, 3, 0, 5): 31799.0, (5, 0, 4, 1, 2, 3): 33490.0, (5, 2, 3, 1, 4, 0): 33963.0, (5, 2, 4, 1, 3, 0): 33963.0, (3, 4, 1, 2, 5, 0): 33976.0, (3, 0, 1, 5, 2, 4): 35496.0, (4, 0, 1, 5, 2, 3): 35496.0, (0, 5, 4, 1, 3, 2): 35815.0, (0, 1, 2, 5, 3, 4): 35836.0, (2, 1, 0, 3, 4, 5): 36680.0, (0, 4, 3, 2, 1, 5): 36680.0, (2, 1, 0, 4, 3, 5): 36680.0, (0, 3, 4, 2, 1, 5): 36680.0, (0, 3, 1, 2, 4, 5): 37946.0, (5, 0, 1, 2, 3, 4): 38130.0, (2, 3, 5, 0, 4, 1): 38287.0, (2, 4, 5, 0, 3, 1): 38287.0, (3, 1, 2, 5, 0, 4): 38487.0, (4, 2, 5, 0, 3, 1): 38607.0, (3, 2, 5, 0, 4, 1): 38607.0, (2, 0, 3, 4, 1, 5): 38859.0, (2, 0, 4, 3, 1, 5): 38859.0, (2, 3, 1, 5, 4, 0): 38907.0, (2, 4, 1, 5, 3, 0): 38907.0, (4, 2, 1, 5, 3, 0): 39227.0, (5, 1, 3, 4, 0, 2): 39703.0, (0, 5, 3, 1, 2, 4): 39947.0, (5, 1, 2, 3, 4, 0): 40146.0, (2, 0, 5, 3, 4, 1): 40447.0, (1, 4, 3, 0, 5, 2): 40455.0, (0, 5, 1, 4, 3, 2): 40455.0, (3, 2, 5, 1, 0, 4): 40577.0, (0, 5, 1, 4, 2, 3): 40775.0, (0, 5, 1, 3, 2, 4): 40775.0, (0, 3, 2, 1, 5, 4): 40997.0, (0, 4, 2, 1, 5, 3): 40997.0, (4, 1, 5, 0, 3, 2): 41016.0, (2, 5, 0, 3, 1, 4): 41016.0, (2, 5, 0, 4, 1, 3): 41016.0, (2, 5, 1, 0, 3, 4): 41079.0, (2, 4, 0, 3, 1, 5): 41086.0, (0, 3, 2, 4, 1, 5): 41086.0, (2, 3, 0, 4, 1, 5): 41086.0, (0, 3, 1, 4, 2, 5): 41406.0, (3, 2, 0, 4, 1, 5): 41406.0, (4, 2, 0, 3, 1, 5): 41406.0, (4, 1, 3, 2, 5, 0): 42664.0, (2, 0, 3, 1, 5, 4): 43176.0, (2, 0, 4, 1, 5, 3): 43176.0, (0, 1, 4, 2, 5, 3): 43702.0, (5, 4, 2, 0, 1, 3): 44004.0, (1, 5, 3, 4, 2, 0): 44127.0, (0, 5, 1, 2, 4, 3): 44587.0, (2, 4, 1, 0, 3, 5): 45397.0, (0, 4, 5, 3, 1, 2): 45403.0, (2, 5, 4, 0, 3, 1): 45547.0, (1, 5, 0, 4, 2, 3): 45656.0, (1, 5, 0, 3, 4, 2): 45656.0, (1, 5, 0, 3, 2, 4): 45656.0, (4, 0, 5, 2, 3, 1): 46089.0, (3, 0, 5, 2, 4, 1): 46089.0, (5, 4, 3, 2, 0, 1): 46229.0, (4, 3, 0, 2, 5, 1): 46925.0, (1, 0, 2, 5, 3, 4): 47185.0, (1, 4, 3, 2, 5, 0): 47304.0, (1, 3, 4, 2, 5, 0): 47304.0, (1, 5, 3, 0, 4, 2): 47454.0, (2, 0, 3, 1, 4, 5): 47547.0, (4, 3, 2, 0, 5, 1): 47979.0, (0, 3, 5, 4, 2, 1): 48456.0, (5, 3, 1, 0, 4, 2): 49714.0, (1, 5, 4, 2, 0, 3): 50363.0, (4, 0, 3, 5, 1, 2): 50817.0, (4, 5, 2, 3, 0, 1): 51442.0, (1, 4, 2, 5, 0, 3): 51815.0, (0, 4, 3, 5, 1, 2): 53406.0, (4, 0, 1, 3, 5, 2): 54171.0, (3, 1, 0, 2, 4, 5): 54423.0, (4, 0, 3, 1, 2, 5): 55957.0, (3, 5, 4, 2, 1, 0): 56023.0, (0, 1, 3, 2, 4, 5): 56402.0, (0, 1, 4, 2, 3, 5): 56402.0, (5, 1, 4, 3, 2, 0): 56722.0, (5, 1, 3, 4, 2, 0): 56722.0, (0, 1, 2, 4, 5, 3): 56760.0, (1, 2, 5, 0, 4, 3): 57654.0, (2, 3, 4, 5, 0, 1): 58237.0, (1, 2, 0, 3, 4, 5): 58546.0, (1, 4, 2, 0, 5, 3): 58574.0, (4, 5, 2, 3, 1, 0): 58958.0, (0, 3, 4, 5, 2, 1): 59156.0, (4, 1, 2, 0, 3, 5): 59205.0, (1, 2, 5, 4, 0, 3): 59452.0, (4, 3, 1, 5, 2, 0): 59553.0, (4, 1, 2, 3, 5, 0): 60109.0, (5, 3, 1, 2, 0, 4): 60636.0, (4, 5, 2, 1, 3, 0): 60980.0, (3, 5, 2, 1, 4, 0): 60980.0, (0, 3, 1, 2, 5, 4): 62398.0, (3, 5, 0, 2, 4, 1): 62848.0, (4, 5, 3, 1, 0, 2): 63469.0, (4, 0, 2, 3, 5, 1): 63942.0, (3, 0, 2, 4, 5, 1): 63942.0, (4, 3, 5, 2, 0, 1): 66797.0, (3, 0, 4, 2, 5, 1): 67271.0, (5, 3, 0, 2, 1, 4): 68444.0, (1, 5, 2, 0, 3, 4): 68704.0, (0, 3, 5, 2, 4, 1): 69024.0, (4, 5, 0, 1, 2, 3): 69580.0, (0, 2, 5, 4, 3, 1): 70121.0, (1, 5, 2, 4, 0, 3): 70931.0, (4, 3, 5, 0, 2, 1): 71196.0, (1, 4, 2, 0, 3, 5): 72533.0, (0, 2, 4, 1, 5, 3): 72850.0, (1, 3, 4, 5, 2, 0): 72881.0, (1, 2, 3, 5, 0, 4): 72964.0, (5, 3, 4, 0, 2, 1): 72994.0, (1, 2, 4, 5, 3, 0): 73662.0, (3, 2, 1, 4, 5, 0): 73757.0, (4, 2, 1, 3, 5, 0): 73757.0, (3, 5, 1, 4, 2, 0): 73757.0, (4, 5, 1, 3, 2, 0): 73757.0, (0, 4, 1, 2, 3, 5): 75098.0, (5, 4, 0, 2, 3, 1): 75583.0, (5, 3, 1, 0, 2, 4): 77161.0, (3, 5, 1, 2, 4, 0): 77569.0, (1, 2, 4, 3, 5, 0): 77569.0, (1, 0, 3, 2, 4, 5): 79409.0, (0, 2, 5, 3, 1, 4): 80716.0, (2, 0, 3, 5, 4, 1): 80743.0, (1, 4, 5, 0, 2, 3): 81791.0, (0, 2, 1, 3, 4, 5): 81861.0, (4, 5, 2, 0, 1, 3): 82745.0, (4, 5, 0, 3, 1, 2): 84144.0, (2, 0, 3, 4, 5, 1): 84650.0, (4, 2, 0, 3, 5, 1): 87197.0, (4, 5, 1, 0, 3, 2): 88455.0, (1, 0, 4, 3, 5, 2): 88455.0, (2, 0, 1, 4, 5, 3): 95245.0, (1, 2, 0, 4, 5, 3): 101604.0, (3, 5, 0, 2, 1, 4): 107185.0, (4, 5, 0, 2, 1, 3): 107185.0, (0, 2, 3, 5, 4, 1): 110417.0, (3, 5, 4, 0, 2, 1): 111735.0, (3, 5, 1, 0, 2, 4): 115902.0, (0, 2, 1, 3, 5, 4): 124919.0}\n",
      "Explore len:  218\n",
      "\n",
      "Problem:  more_cases-low_dimension\\problems\\example.json \n",
      "Solution:   Individual: [5, 1, 0, 4, 2, 3] \n",
      "Stats:  {'time': 1.8715406999999686, 'searches': {'real': 31, 'total': 1664}, 'population': {'real': 218, 'total': 250}} \n",
      "Score:  3112.0\n"
     ]
    },
    {
     "name": "stderr",
     "output_type": "stream",
     "text": [
      "Exception in thread Thread-59 (run_ga):\n",
      "Traceback (most recent call last):\n",
      "  File \"C:\\Program Files\\WindowsApps\\PythonSoftwareFoundation.Python.3.10_3.10.2544.0_x64__qbz5n2kfra8p0\\lib\\threading.py\", line 1016, in _bootstrap_inner\n",
      "    self.run()\n",
      "  File \"C:\\Program Files\\WindowsApps\\PythonSoftwareFoundation.Python.3.10_3.10.2544.0_x64__qbz5n2kfra8p0\\lib\\threading.py\", line 953, in run\n",
      "    self._target(*self._args, **self._kwargs)\n",
      "  File \"C:\\Users\\carlo\\AppData\\Local\\Temp\\ipykernel_14312\\23080391.py\", line 17, in run_ga\n",
      "TypeError: '<' not supported between instances of 'float' and 'Individual'\n"
     ]
    },
    {
     "name": "stdout",
     "output_type": "stream",
     "text": [
      "explore:  {(2, 5, 1, 4, 0, 3): 3788.0, (0, 3, 1, 2, 5, 4): 7181.0, (0, 2, 5, 4, 1, 3): 9902.0, (0, 2, 5, 3, 1, 4): 9902.0, (1, 5, 4, 0, 2, 3): 10008.0, (2, 1, 5, 3, 0, 4): 10623.0, (2, 1, 5, 4, 0, 3): 10623.0, (1, 2, 5, 0, 3, 4): 10818.0, (0, 4, 1, 2, 5, 3): 11644.0, (1, 5, 4, 2, 0, 3): 12461.0, (0, 2, 3, 1, 5, 4): 12744.0, (3, 2, 0, 4, 1, 5): 13335.0, (4, 5, 1, 3, 2, 0): 13377.0, (0, 2, 5, 4, 3, 1): 13644.0, (2, 1, 5, 0, 4, 3): 14462.0, (2, 5, 3, 1, 0, 4): 14672.0, (2, 5, 4, 1, 0, 3): 14672.0, (4, 2, 5, 3, 1, 0): 14992.0, (3, 2, 5, 4, 1, 0): 14992.0, (5, 1, 4, 2, 0, 3): 15021.0, (1, 2, 5, 3, 4, 0): 16224.0, (2, 1, 5, 4, 3, 0): 16224.0, (1, 0, 2, 5, 3, 4): 16253.0, (3, 2, 5, 1, 4, 0): 16714.0, (1, 4, 0, 2, 5, 3): 17132.0, (2, 1, 0, 3, 5, 4): 17361.0, (1, 2, 0, 3, 5, 4): 17361.0, (4, 5, 0, 3, 1, 2): 17798.0, (3, 5, 0, 4, 1, 2): 17798.0, (1, 5, 4, 2, 3, 0): 17851.0, (4, 1, 0, 5, 3, 2): 17867.0, (0, 2, 4, 5, 1, 3): 18056.0, (2, 5, 3, 4, 0, 1): 18431.0, (3, 4, 1, 5, 0, 2): 18442.0, (0, 2, 3, 5, 1, 4): 18564.0, (0, 2, 1, 4, 5, 3): 18564.0, (3, 1, 0, 4, 2, 5): 18806.0, (1, 4, 0, 3, 2, 5): 18823.0, (0, 4, 1, 2, 3, 5): 19053.0, (2, 5, 1, 3, 4, 0): 19333.0, (5, 1, 0, 2, 4, 3): 19346.0, (4, 2, 3, 1, 5, 0): 19555.0, (3, 0, 5, 4, 2, 1): 19556.0, (5, 2, 1, 3, 0, 4): 19589.0, (1, 5, 3, 4, 0, 2): 19601.0, (3, 5, 0, 4, 2, 1): 19888.0, (4, 2, 0, 3, 5, 1): 19888.0, (4, 5, 0, 3, 2, 1): 19888.0, (4, 2, 0, 1, 5, 3): 20021.0, (0, 1, 5, 4, 2, 3): 20021.0, (3, 4, 0, 1, 2, 5): 20038.0, (2, 1, 3, 4, 0, 5): 20038.0, (1, 2, 3, 4, 0, 5): 20038.0, (4, 3, 0, 1, 2, 5): 20038.0, (3, 4, 0, 2, 1, 5): 20038.0, (3, 2, 5, 4, 0, 1): 20710.0, (0, 3, 2, 1, 5, 4): 20727.0, (3, 4, 0, 5, 1, 2): 20804.0, (4, 3, 0, 5, 1, 2): 20804.0, (3, 2, 5, 0, 1, 4): 20807.0, (3, 5, 4, 1, 2, 0): 20827.0, (4, 2, 1, 5, 0, 3): 21157.0, (0, 4, 5, 3, 1, 2): 21164.0, (5, 4, 0, 3, 1, 2): 21164.0, (3, 2, 0, 1, 4, 5): 21335.0, (4, 2, 1, 3, 5, 0): 21747.0, (2, 5, 3, 1, 4, 0): 21853.0, (5, 0, 3, 2, 1, 4): 21993.0, (1, 2, 4, 5, 0, 3): 21993.0, (2, 5, 1, 0, 3, 4): 21999.0, (5, 0, 2, 3, 1, 4): 22111.0, (5, 1, 4, 3, 0, 2): 22161.0, (1, 0, 4, 2, 5, 3): 22737.0, (0, 2, 3, 1, 4, 5): 22804.0, (1, 2, 4, 3, 5, 0): 22962.0, (1, 5, 3, 0, 2, 4): 23249.0, (0, 4, 5, 3, 2, 1): 23254.0, (4, 1, 0, 3, 5, 2): 23269.0, (5, 3, 2, 1, 4, 0): 23275.0, (1, 0, 4, 5, 3, 2): 23489.0, (3, 0, 4, 1, 2, 5): 23525.0, (2, 1, 3, 0, 4, 5): 23525.0, (4, 0, 3, 2, 1, 5): 23525.0, (1, 4, 3, 2, 0, 5): 23678.0, (1, 2, 0, 4, 3, 5): 23736.0, (5, 3, 1, 0, 2, 4): 23837.0, (4, 5, 3, 2, 1, 0): 24087.0, (3, 5, 4, 2, 1, 0): 24087.0, (3, 1, 2, 4, 0, 5): 24123.0, (3, 0, 4, 5, 1, 2): 24291.0, (3, 1, 0, 2, 4, 5): 24524.0, (3, 1, 0, 5, 2, 4): 24603.0, (1, 4, 0, 5, 2, 3): 24620.0, (1, 3, 4, 0, 2, 5): 24939.0, (5, 3, 1, 4, 2, 0): 25113.0, (3, 1, 4, 5, 0, 2): 25493.0, (4, 1, 3, 5, 0, 2): 25493.0, (1, 4, 5, 0, 2, 3): 25558.0, (5, 1, 3, 0, 4, 2): 25648.0, (5, 1, 4, 0, 3, 2): 25648.0, (5, 1, 4, 0, 2, 3): 25809.0, (0, 3, 4, 5, 2, 1): 25840.0, (0, 3, 2, 5, 1, 4): 26232.0, (4, 3, 0, 2, 5, 1): 26276.0, (5, 4, 3, 1, 0, 2): 26635.0, (5, 3, 4, 1, 0, 2): 26635.0, (0, 2, 4, 5, 3, 1): 26797.0, (0, 2, 3, 5, 4, 1): 26797.0, (1, 5, 0, 4, 3, 2): 26927.0, (4, 0, 2, 1, 3, 5): 27089.0, (2, 1, 4, 5, 3, 0): 27202.0, (4, 0, 1, 3, 5, 2): 27282.0, (4, 5, 3, 0, 1, 2): 27282.0, (5, 4, 3, 2, 1, 0): 27453.0, (1, 3, 4, 5, 0, 2): 27628.0, (2, 3, 0, 4, 1, 5): 27821.0, (4, 3, 5, 1, 2, 0): 28033.0, (5, 0, 4, 1, 3, 2): 28356.0, (4, 0, 5, 1, 3, 2): 28357.0, (0, 1, 3, 2, 5, 4): 28390.0, (3, 0, 1, 5, 2, 4): 28616.0, (1, 0, 5, 4, 3, 2): 28770.0, (1, 0, 5, 3, 4, 2): 28770.0, (5, 2, 1, 3, 4, 0): 28888.0, (1, 0, 2, 5, 4, 3): 29143.0, (4, 3, 5, 0, 2, 1): 29300.0, (2, 3, 5, 0, 4, 1): 29340.0, (2, 3, 5, 4, 1, 0): 29478.0, (5, 3, 2, 4, 1, 0): 29478.0, (2, 5, 0, 1, 4, 3): 29575.0, (5, 2, 3, 0, 1, 4): 29805.0, (3, 4, 2, 1, 5, 0): 29956.0, (4, 2, 0, 1, 3, 5): 30081.0, (1, 0, 3, 2, 4, 5): 30146.0, (1, 0, 3, 5, 2, 4): 30225.0, (3, 4, 5, 2, 1, 0): 30541.0, (1, 5, 0, 3, 2, 4): 30575.0, (5, 3, 4, 0, 1, 2): 30648.0, (3, 0, 2, 5, 4, 1): 30767.0, (0, 1, 2, 4, 5, 3): 31141.0, (0, 1, 2, 5, 3, 4): 31232.0, (5, 1, 2, 4, 0, 3): 31847.0, (5, 1, 2, 3, 0, 4): 31847.0, (3, 4, 0, 1, 5, 2): 32739.0, (2, 3, 4, 1, 0, 5): 33292.0, (2, 3, 1, 4, 0, 5): 33309.0, (1, 4, 5, 0, 3, 2): 33978.0, (0, 4, 2, 5, 3, 1): 34465.0, (3, 4, 5, 0, 1, 2): 34487.0, (2, 4, 0, 1, 5, 3): 34507.0, (2, 0, 5, 3, 1, 4): 34542.0, (4, 3, 2, 5, 0, 1): 34606.0, (3, 1, 5, 2, 4, 0): 34626.0, (2, 4, 5, 3, 0, 1): 35196.0, (2, 4, 5, 0, 1, 3): 35293.0, (2, 3, 1, 4, 5, 0): 36233.0, (2, 4, 1, 3, 5, 0): 36233.0, (1, 4, 2, 5, 3, 0): 36324.0, (5, 2, 0, 4, 1, 3): 36380.0, (0, 3, 4, 1, 5, 2): 36437.0, (1, 0, 5, 2, 4, 3): 36631.0, (5, 4, 0, 1, 3, 2): 37910.0, (5, 3, 0, 1, 4, 2): 37910.0, (2, 3, 4, 5, 1, 0): 38140.0, (3, 0, 5, 2, 4, 1): 38255.0, (4, 5, 2, 0, 3, 1): 38405.0, (3, 5, 2, 0, 4, 1): 38405.0, (0, 1, 5, 2, 3, 4): 38720.0, (5, 0, 3, 2, 4, 1): 39006.0, (2, 4, 3, 5, 0, 1): 39006.0, (2, 3, 4, 5, 0, 1): 39006.0, (0, 5, 2, 1, 4, 3): 39216.0, (1, 5, 2, 0, 4, 3): 40339.0, (3, 4, 1, 5, 2, 0): 40792.0, (0, 5, 1, 4, 2, 3): 40843.0, (3, 1, 5, 2, 0, 4): 41597.0, (1, 2, 3, 0, 5, 4): 41847.0, (5, 4, 1, 2, 3, 0): 41939.0, (3, 2, 1, 0, 5, 4): 42750.0, (0, 5, 4, 2, 1, 3): 43183.0, (2, 0, 3, 5, 1, 4): 43204.0, (1, 5, 2, 0, 3, 4): 43732.0, (1, 3, 5, 2, 4, 0): 43812.0, (3, 5, 2, 0, 1, 4): 44358.0, (5, 1, 2, 0, 4, 3): 44419.0, (0, 5, 3, 4, 2, 1): 44585.0, (2, 1, 0, 5, 3, 4): 46549.0, (2, 0, 3, 4, 5, 1): 46946.0, (0, 5, 2, 4, 3, 1): 47043.0, (4, 1, 3, 5, 2, 0): 47843.0, (4, 5, 3, 2, 0, 1): 48071.0, (5, 3, 1, 2, 0, 4): 48910.0, (4, 2, 0, 5, 3, 1): 49076.0, (3, 2, 0, 5, 4, 1): 49076.0, (4, 1, 3, 0, 5, 2): 49546.0, (0, 5, 4, 1, 3, 2): 49546.0, (2, 0, 1, 4, 3, 5): 49579.0, (2, 4, 1, 5, 3, 0): 50177.0, (5, 3, 4, 2, 0, 1): 51437.0, (2, 0, 3, 5, 4, 1): 51437.0, (0, 5, 1, 3, 4, 2): 51681.0, (1, 4, 3, 0, 5, 2): 51681.0, (1, 3, 4, 0, 5, 2): 51681.0, (0, 5, 1, 4, 3, 2): 51681.0, (1, 3, 2, 0, 4, 5): 53066.0, (1, 4, 2, 0, 3, 5): 53066.0, (2, 3, 0, 5, 1, 4): 55329.0, (2, 0, 1, 5, 4, 3): 57148.0, (2, 3, 1, 0, 5, 4): 57236.0, (2, 4, 1, 0, 5, 3): 57236.0, (0, 5, 1, 2, 4, 3): 57669.0, (4, 3, 1, 2, 0, 5): 59809.0, (0, 5, 3, 2, 4, 1): 60196.0, (2, 3, 0, 5, 4, 1): 63562.0, (4, 3, 2, 0, 5, 1): 75130.0}\n",
      "Explore len:  215\n",
      "\n",
      "Problem:  more_cases-low_dimension\\problems\\example.json \n",
      "Solution:   Individual: [4, 0, 5, 1, 3, 2] \n",
      "Stats:  {'time': 1.7205892999991192, 'searches': {'real': 31, 'total': 1636}, 'population': {'real': 215, 'total': 250}} \n",
      "Score:  3788.0\n"
     ]
    },
    {
     "name": "stderr",
     "output_type": "stream",
     "text": [
      "Exception in thread Thread-60 (run_ga):\n",
      "Traceback (most recent call last):\n",
      "  File \"C:\\Program Files\\WindowsApps\\PythonSoftwareFoundation.Python.3.10_3.10.2544.0_x64__qbz5n2kfra8p0\\lib\\threading.py\", line 1016, in _bootstrap_inner\n",
      "    self.run()\n",
      "  File \"C:\\Program Files\\WindowsApps\\PythonSoftwareFoundation.Python.3.10_3.10.2544.0_x64__qbz5n2kfra8p0\\lib\\threading.py\", line 953, in run\n",
      "    self._target(*self._args, **self._kwargs)\n",
      "  File \"C:\\Users\\carlo\\AppData\\Local\\Temp\\ipykernel_14312\\23080391.py\", line 17, in run_ga\n",
      "TypeError: '<' not supported between instances of 'float' and 'Individual'\n"
     ]
    },
    {
     "name": "stdout",
     "output_type": "stream",
     "text": [
      "explore:  {(0, 4, 1, 3, 2, 5): 3314.0, (0, 5, 4, 2, 1, 3): 12196.0, (5, 0, 3, 1, 2, 4): 14542.0, (3, 0, 2, 4, 1, 5): 14591.0, (0, 3, 1, 4, 2, 5): 16094.0, (4, 2, 0, 3, 1, 5): 16094.0, (4, 3, 1, 0, 2, 5): 18466.0, (0, 2, 4, 3, 1, 5): 18466.0, (2, 5, 1, 0, 3, 4): 19298.0, (4, 1, 5, 0, 2, 3): 19637.0, (3, 1, 5, 0, 2, 4): 19637.0, (3, 5, 0, 4, 1, 2): 20000.0, (3, 5, 0, 1, 2, 4): 20555.0, (3, 2, 4, 0, 5, 1): 21135.0, (4, 2, 3, 0, 5, 1): 21135.0, (0, 5, 1, 4, 2, 3): 21398.0, (0, 5, 4, 3, 2, 1): 21398.0, (3, 2, 4, 1, 5, 0): 21552.0, (0, 5, 3, 1, 2, 4): 22024.0, (0, 5, 4, 1, 2, 3): 22024.0, (0, 5, 4, 3, 1, 2): 22372.0, (3, 5, 1, 4, 2, 0): 23313.0, (0, 4, 1, 2, 3, 5): 23593.0, (4, 0, 1, 3, 2, 5): 24858.0, (4, 2, 3, 0, 1, 5): 24858.0, (0, 2, 1, 3, 4, 5): 25138.0, (0, 5, 2, 3, 1, 4): 25638.0, (4, 1, 2, 5, 0, 3): 25709.0, (4, 0, 5, 2, 1, 3): 26148.0, (4, 1, 2, 3, 5, 0): 27136.0, (1, 3, 0, 4, 2, 5): 28507.0, (4, 2, 1, 3, 0, 5): 28507.0, (4, 5, 1, 2, 0, 3): 28729.0, (3, 5, 4, 0, 1, 2): 28764.0, (5, 2, 4, 3, 1, 0): 29662.0, (0, 3, 1, 5, 2, 4): 29810.0, (5, 0, 4, 3, 2, 1): 29941.0, (3, 4, 0, 1, 5, 2): 30318.0, (2, 1, 5, 0, 3, 4): 30735.0, (3, 5, 2, 1, 4, 0): 30735.0, (5, 0, 3, 4, 1, 2): 30915.0, (5, 0, 4, 3, 1, 2): 30915.0, (0, 1, 2, 3, 5, 4): 31876.0, (0, 3, 5, 4, 2, 1): 32296.0, (3, 1, 2, 4, 0, 5): 32330.0, (4, 0, 1, 2, 3, 5): 32357.0, (3, 5, 1, 4, 0, 2): 32413.0, (0, 2, 4, 1, 3, 5): 33135.0, (3, 2, 1, 0, 5, 4): 33972.0, (4, 5, 1, 0, 2, 3): 33972.0, (4, 2, 1, 0, 5, 3): 33972.0, (5, 2, 3, 0, 1, 4): 34139.0, (5, 2, 4, 0, 1, 3): 34139.0, (5, 0, 2, 4, 3, 1): 34181.0, (5, 0, 2, 3, 1, 4): 34181.0, (5, 2, 1, 4, 0, 3): 35448.0, (3, 1, 0, 4, 2, 5): 35559.0, (3, 2, 4, 1, 0, 5): 35559.0, (0, 2, 5, 4, 1, 3): 35990.0, (1, 4, 0, 2, 3, 5): 36006.0, (0, 5, 4, 1, 3, 2): 37041.0, (5, 1, 4, 0, 2, 3): 37788.0, (0, 5, 4, 2, 3, 1): 38094.0, (3, 5, 0, 2, 4, 1): 38094.0, (3, 1, 5, 0, 4, 2): 38693.0, (3, 5, 2, 0, 4, 1): 38879.0, (4, 5, 2, 0, 3, 1): 38879.0, (1, 3, 4, 0, 2, 5): 38920.0, (1, 4, 3, 0, 2, 5): 38920.0, (3, 1, 2, 5, 0, 4): 39346.0, (3, 5, 4, 1, 0, 2): 39465.0, (4, 1, 0, 3, 5, 2): 39465.0, (1, 4, 3, 5, 0, 2): 39686.0, (1, 3, 4, 5, 0, 2): 39686.0, (0, 1, 4, 3, 2, 5): 39790.0, (0, 1, 3, 4, 2, 5): 39790.0, (3, 4, 0, 5, 2, 1): 39883.0, (1, 4, 5, 0, 2, 3): 40091.0, (3, 5, 2, 4, 1, 0): 40127.0, (0, 3, 2, 4, 1, 5): 40371.0, (5, 2, 0, 4, 1, 3): 40988.0, (3, 0, 1, 5, 4, 2): 41560.0, (2, 4, 5, 0, 3, 1): 41959.0, (4, 2, 5, 3, 0, 1): 42382.0, (5, 1, 3, 0, 4, 2): 42717.0, (1, 4, 3, 0, 5, 2): 42826.0, (1, 2, 0, 4, 3, 5): 42959.0, (1, 2, 0, 3, 4, 5): 42959.0, (3, 2, 5, 1, 0, 4): 43011.0, (4, 1, 0, 2, 3, 5): 43058.0, (2, 4, 0, 3, 5, 1): 43303.0, (2, 1, 4, 0, 3, 5): 43553.0, (0, 1, 3, 4, 5, 2): 43696.0, (2, 5, 1, 3, 0, 4): 44229.0, (2, 5, 1, 4, 0, 3): 44229.0, (5, 2, 3, 1, 4, 0): 44331.0, (1, 5, 0, 4, 3, 2): 44478.0, (1, 5, 0, 3, 4, 2): 44478.0, (0, 5, 1, 2, 3, 4): 44505.0, (5, 1, 2, 3, 0, 4): 44659.0, (5, 2, 3, 1, 0, 4): 44840.0, (3, 2, 1, 5, 0, 4): 44902.0, (1, 3, 0, 5, 4, 2): 45209.0, (2, 5, 0, 3, 4, 1): 45300.0, (2, 5, 0, 4, 3, 1): 45300.0, (2, 4, 3, 0, 5, 1): 45412.0, (3, 0, 5, 4, 2, 1): 45614.0, (2, 4, 0, 5, 1, 3): 45675.0, (5, 0, 4, 2, 3, 1): 46637.0, (0, 1, 3, 2, 4, 5): 47289.0, (0, 1, 4, 2, 3, 5): 47289.0, (4, 0, 3, 5, 2, 1): 47661.0, (3, 0, 4, 5, 2, 1): 47661.0, (5, 2, 1, 4, 3, 0): 47776.0, (3, 5, 2, 0, 1, 4): 47906.0, (1, 0, 2, 3, 5, 4): 48099.0, (2, 0, 3, 4, 1, 5): 48206.0, (2, 5, 0, 1, 4, 3): 48542.0, (5, 1, 2, 3, 4, 0): 48683.0, (0, 3, 1, 2, 5, 4): 48808.0, (3, 2, 1, 0, 4, 5): 49122.0, (4, 2, 1, 0, 3, 5): 49122.0, (3, 1, 0, 5, 2, 4): 49275.0, (0, 1, 2, 4, 3, 5): 49398.0, (2, 5, 4, 0, 1, 3): 49546.0, (4, 3, 1, 5, 2, 0): 49710.0, (1, 2, 5, 3, 4, 0): 49838.0, (4, 2, 5, 3, 1, 0): 50479.0, (2, 4, 5, 0, 1, 3): 50986.0, (0, 4, 5, 1, 2, 3): 51100.0, (2, 0, 1, 4, 5, 3): 51138.0, (2, 0, 1, 3, 5, 4): 51138.0, (2, 0, 3, 5, 1, 4): 51138.0, (5, 0, 1, 3, 4, 2): 51369.0, (0, 4, 3, 2, 5, 1): 51411.0, (2, 4, 3, 5, 0, 1): 51692.0, (3, 1, 4, 2, 5, 0): 51828.0, (3, 1, 0, 5, 4, 2): 52261.0, (1, 5, 3, 4, 0, 2): 52373.0, (5, 1, 2, 0, 4, 3): 52494.0, (1, 4, 2, 3, 0, 5): 52784.0, (3, 0, 2, 1, 5, 4): 52882.0, (0, 1, 5, 2, 3, 4): 53089.0, (2, 5, 4, 3, 0, 1): 53195.0, (0, 2, 4, 5, 3, 1): 53501.0, (0, 1, 3, 5, 2, 4): 53506.0, (0, 4, 5, 3, 1, 2): 54629.0, (5, 3, 0, 4, 1, 2): 54629.0, (4, 3, 5, 1, 2, 0): 55387.0, (3, 4, 5, 1, 2, 0): 55387.0, (5, 3, 4, 0, 2, 1): 55764.0, (4, 1, 3, 2, 0, 5): 56247.0, (3, 1, 4, 2, 0, 5): 56247.0, (1, 0, 4, 2, 3, 5): 56621.0, (4, 0, 1, 2, 5, 3): 57572.0, (5, 3, 4, 2, 1, 0): 57629.0, (1, 5, 2, 0, 3, 4): 57682.0, (0, 4, 3, 1, 5, 2): 57941.0, (1, 4, 5, 3, 2, 0): 57942.0, (5, 3, 1, 4, 2, 0): 57942.0, (2, 3, 1, 0, 5, 4): 58249.0, (5, 1, 0, 4, 2, 3): 58403.0, (1, 0, 5, 4, 2, 3): 58451.0, (5, 3, 4, 1, 2, 0): 58568.0, (1, 3, 5, 0, 4, 2): 59147.0, (2, 5, 3, 1, 4, 0): 59738.0, (3, 4, 2, 5, 0, 1): 59800.0, (1, 2, 0, 5, 3, 4): 59912.0, (2, 3, 4, 5, 1, 0): 60164.0, (0, 3, 2, 1, 5, 4): 60923.0, (3, 4, 2, 0, 5, 1): 61288.0, (1, 3, 2, 0, 5, 4): 61288.0, (1, 2, 4, 5, 3, 0): 61827.0, (1, 3, 4, 2, 0, 5): 62032.0, (5, 4, 3, 0, 1, 2): 63393.0, (0, 1, 5, 3, 4, 2): 63656.0, (2, 0, 4, 1, 5, 3): 65313.0, (2, 0, 3, 1, 5, 4): 65313.0, (5, 4, 2, 1, 3, 0): 65364.0, (5, 3, 2, 1, 4, 0): 65364.0, (1, 0, 2, 4, 3, 5): 65621.0, (2, 0, 5, 4, 3, 1): 65730.0, (2, 0, 5, 3, 1, 4): 65730.0, (2, 0, 5, 4, 1, 3): 65730.0, (0, 3, 5, 1, 4, 2): 66117.0, (2, 4, 5, 3, 0, 1): 66659.0, (2, 3, 5, 1, 0, 4): 67288.0, (3, 1, 2, 5, 4, 0): 67347.0, (3, 4, 2, 5, 1, 0): 68272.0, (3, 1, 0, 2, 5, 4): 68273.0, (2, 0, 1, 4, 3, 5): 68660.0, (2, 0, 1, 3, 4, 5): 68660.0, (1, 3, 5, 2, 4, 0): 68803.0, (1, 0, 5, 2, 4, 3): 69312.0, (1, 4, 3, 5, 2, 0): 70164.0, (0, 1, 2, 5, 4, 3): 72087.0, (1, 3, 5, 2, 0, 4): 72351.0, (4, 3, 5, 2, 0, 1): 72351.0, (5, 4, 0, 2, 3, 1): 72723.0, (5, 3, 0, 2, 4, 1): 72723.0, (3, 2, 1, 5, 4, 0): 72903.0, (2, 4, 1, 0, 3, 5): 73399.0, (2, 3, 1, 0, 4, 5): 73399.0, (5, 4, 2, 1, 0, 3): 73914.0, (5, 4, 3, 1, 0, 2): 74094.0, (2, 3, 5, 4, 1, 0): 74756.0, (3, 0, 2, 5, 4, 1): 75473.0, (2, 4, 0, 5, 3, 1): 77778.0, (5, 4, 1, 2, 3, 0): 81049.0, (5, 4, 2, 0, 1, 3): 82535.0, (1, 5, 4, 3, 2, 0): 83163.0, (5, 4, 1, 2, 0, 3): 84597.0, (1, 0, 2, 5, 4, 3): 88310.0, (2, 4, 1, 5, 3, 0): 97180.0}\n",
      "Explore len:  214\n",
      "\n",
      "Problem:  more_cases-low_dimension\\problems\\example.json \n",
      "Solution:   Individual: [0, 2, 1, 3, 4, 5] \n",
      "Stats:  {'time': 1.6216351999992185, 'searches': {'real': 31, 'total': 1628}, 'population': {'real': 214, 'total': 250}} \n",
      "Score:  3314.0\n"
     ]
    },
    {
     "name": "stderr",
     "output_type": "stream",
     "text": [
      "Exception in thread Thread-61 (run_ga):\n",
      "Traceback (most recent call last):\n",
      "  File \"C:\\Program Files\\WindowsApps\\PythonSoftwareFoundation.Python.3.10_3.10.2544.0_x64__qbz5n2kfra8p0\\lib\\threading.py\", line 1016, in _bootstrap_inner\n",
      "    self.run()\n",
      "  File \"C:\\Program Files\\WindowsApps\\PythonSoftwareFoundation.Python.3.10_3.10.2544.0_x64__qbz5n2kfra8p0\\lib\\threading.py\", line 953, in run\n",
      "    self._target(*self._args, **self._kwargs)\n",
      "  File \"C:\\Users\\carlo\\AppData\\Local\\Temp\\ipykernel_14312\\23080391.py\", line 17, in run_ga\n",
      "TypeError: '<' not supported between instances of 'float' and 'Individual'\n"
     ]
    },
    {
     "name": "stdout",
     "output_type": "stream",
     "text": [
      "explore:  {(1, 0, 4, 3, 2, 5): 3112.0, (0, 1, 2, 5, 3, 4): 7657.0, (1, 5, 2, 4, 0, 3): 10406.0, (0, 1, 4, 2, 5, 3): 11920.0, (0, 1, 3, 2, 5, 4): 13345.0, (1, 0, 3, 2, 5, 4): 13558.0, (0, 4, 5, 1, 3, 2): 14092.0, (0, 1, 3, 5, 4, 2): 14293.0, (0, 3, 2, 5, 4, 1): 14728.0, (1, 3, 2, 5, 4, 0): 15171.0, (0, 2, 3, 5, 4, 1): 15607.0, (5, 4, 3, 0, 1, 2): 15694.0, (4, 2, 0, 1, 3, 5): 15908.0, (0, 1, 4, 3, 2, 5): 15908.0, (5, 3, 1, 0, 4, 2): 15939.0, (3, 2, 4, 1, 5, 0): 16113.0, (3, 2, 1, 0, 4, 5): 16121.0, (5, 4, 0, 3, 2, 1): 16498.0, (5, 3, 1, 4, 2, 0): 16941.0, (5, 4, 1, 3, 2, 0): 16941.0, (1, 0, 3, 2, 4, 5): 17095.0, (3, 2, 0, 1, 5, 4): 17247.0, (2, 3, 1, 0, 4, 5): 19002.0, (2, 3, 0, 1, 5, 4): 20128.0, (1, 0, 3, 5, 2, 4): 21426.0, (1, 0, 4, 5, 2, 3): 21426.0, (0, 3, 1, 2, 5, 4): 22188.0, (1, 5, 2, 3, 0, 4): 22442.0, (0, 4, 5, 2, 3, 1): 22596.0, (0, 2, 3, 1, 4, 5): 23635.0, (3, 0, 4, 1, 2, 5): 24003.0, (3, 0, 1, 2, 5, 4): 24082.0, (5, 4, 0, 3, 1, 2): 24569.0, (3, 2, 0, 4, 1, 5): 24751.0, (3, 0, 1, 5, 4, 2): 25030.0, (4, 1, 2, 0, 3, 5): 25208.0, (1, 5, 3, 0, 4, 2): 25560.0, (1, 5, 4, 0, 3, 2): 25560.0, (3, 2, 5, 4, 1, 0): 25671.0, (0, 3, 1, 2, 4, 5): 25725.0, (2, 4, 3, 0, 5, 1): 25854.0, (3, 2, 5, 4, 0, 1): 26006.0, (4, 2, 5, 3, 0, 1): 26006.0, (5, 3, 4, 0, 1, 2): 26463.0, (2, 5, 4, 0, 3, 1): 26536.0, (4, 1, 5, 3, 2, 0): 26687.0, (4, 0, 1, 2, 3, 5): 27619.0, (0, 4, 2, 3, 1, 5): 27632.0, (3, 0, 5, 2, 1, 4): 27949.0, (2, 3, 5, 4, 1, 0): 28552.0, (5, 3, 2, 4, 0, 1): 28887.0, (2, 3, 5, 4, 0, 1): 28887.0, (5, 4, 2, 3, 0, 1): 28887.0, (1, 3, 5, 0, 4, 2): 29314.0, (1, 4, 5, 0, 3, 2): 29314.0, (3, 2, 5, 0, 1, 4): 29606.0, (1, 3, 5, 0, 2, 4): 29719.0, (1, 0, 5, 3, 2, 4): 29996.0, (0, 3, 1, 5, 2, 4): 30056.0, (5, 4, 3, 2, 0, 1): 30190.0, (4, 2, 5, 1, 3, 0): 31838.0, (4, 0, 1, 5, 2, 3): 31950.0, (3, 0, 1, 5, 2, 4): 31950.0, (1, 3, 5, 2, 0, 4): 32554.0, (4, 1, 5, 2, 3, 0): 32785.0, (3, 1, 5, 2, 4, 0): 32785.0, (3, 2, 1, 5, 4, 0): 33004.0, (2, 0, 5, 4, 3, 1): 33008.0, (5, 3, 0, 1, 2, 4): 33085.0, (0, 2, 1, 3, 4, 5): 33939.0, (1, 4, 3, 0, 2, 5): 34447.0, (1, 3, 4, 0, 2, 5): 34447.0, (2, 3, 5, 1, 4, 0): 34719.0, (1, 4, 0, 2, 5, 3): 35715.0, (2, 4, 1, 5, 3, 0): 35885.0, (0, 1, 5, 4, 3, 2): 36284.0, (0, 3, 2, 5, 1, 4): 36346.0, (5, 3, 1, 2, 4, 0): 36359.0, (3, 1, 0, 5, 4, 2): 36788.0, (2, 0, 5, 3, 1, 4): 36951.0, (4, 1, 3, 2, 5, 0): 37276.0, (5, 4, 0, 2, 1, 3): 37673.0, (5, 3, 0, 2, 1, 4): 37673.0, (4, 5, 1, 0, 3, 2): 37936.0, (3, 5, 1, 0, 4, 2): 37936.0, (1, 5, 4, 3, 2, 0): 37956.0, (4, 0, 2, 5, 3, 1): 38001.0, (0, 3, 2, 1, 5, 4): 38090.0, (5, 3, 4, 1, 0, 2): 38221.0, (1, 4, 0, 3, 2, 5): 38278.0, (4, 2, 3, 1, 0, 5): 38403.0, (0, 4, 5, 1, 2, 3): 38474.0, (4, 2, 0, 3, 5, 1): 38495.0, (3, 5, 0, 4, 2, 1): 38495.0, (3, 2, 5, 0, 4, 1): 38603.0, (2, 1, 4, 5, 3, 0): 38912.0, (3, 2, 1, 4, 5, 0): 38938.0, (3, 5, 1, 4, 2, 0): 38938.0, (4, 2, 1, 3, 5, 0): 38938.0, (2, 5, 3, 1, 0, 4): 39043.0, (3, 1, 5, 0, 4, 2): 39060.0, (0, 1, 2, 4, 3, 5): 39347.0, (4, 1, 5, 0, 2, 3): 39465.0, (5, 2, 0, 1, 3, 4): 39476.0, (4, 0, 5, 3, 2, 1): 39771.0, (4, 2, 3, 5, 1, 0): 40054.0, (1, 2, 5, 4, 0, 3): 40787.0, (1, 2, 5, 3, 0, 4): 40787.0, (1, 3, 2, 4, 0, 5): 41159.0, (2, 3, 0, 4, 5, 1): 41376.0, (0, 3, 2, 4, 5, 1): 41376.0, (0, 4, 2, 3, 5, 1): 41376.0, (2, 3, 5, 0, 4, 1): 41484.0, (1, 2, 3, 0, 4, 5): 41580.0, (1, 4, 2, 5, 0, 3): 41601.0, (1, 4, 2, 3, 5, 0): 41819.0, (1, 5, 4, 0, 2, 3): 42498.0, (2, 3, 4, 5, 1, 0): 42935.0, (2, 5, 1, 3, 4, 0): 43092.0, (2, 5, 1, 4, 3, 0): 43092.0, (5, 0, 1, 3, 2, 4): 43371.0, (0, 2, 5, 3, 4, 1): 43554.0, (3, 1, 0, 5, 2, 4): 43708.0, (2, 3, 4, 1, 5, 0): 44059.0, (4, 3, 1, 0, 2, 5): 44193.0, (2, 0, 1, 5, 4, 3): 45400.0, (4, 1, 3, 2, 0, 5): 45421.0, (4, 0, 3, 1, 5, 2): 45818.0, (2, 5, 3, 4, 1, 0): 46546.0, (2, 5, 4, 3, 1, 0): 46546.0, (4, 5, 0, 3, 1, 2): 46566.0, (5, 0, 3, 2, 4, 1): 47105.0, (5, 4, 2, 1, 3, 0): 47292.0, (1, 3, 4, 5, 0, 2): 47323.0, (5, 1, 4, 0, 3, 2): 47332.0, (5, 1, 3, 0, 4, 2): 47332.0, (4, 0, 3, 2, 1, 5): 47488.0, (4, 0, 5, 3, 1, 2): 47842.0, (1, 4, 3, 2, 5, 0): 48088.0, (1, 0, 5, 3, 4, 2): 49033.0, (5, 1, 3, 2, 4, 0): 49450.0, (1, 5, 0, 3, 4, 2): 49872.0, (1, 5, 0, 2, 4, 3): 50277.0, (3, 4, 5, 0, 1, 2): 50775.0, (2, 5, 0, 4, 3, 1): 50848.0, (2, 0, 3, 5, 1, 4): 51334.0, (2, 0, 1, 3, 5, 4): 51334.0, (5, 2, 3, 1, 4, 0): 51340.0, (3, 1, 2, 5, 0, 4): 51347.0, (0, 4, 3, 1, 2, 5): 51401.0, (1, 0, 2, 4, 3, 5): 52096.0, (3, 5, 4, 2, 0, 1): 52187.0, (3, 4, 5, 2, 0, 1): 53266.0, (5, 0, 2, 4, 1, 3): 53866.0, (2, 0, 5, 1, 4, 3): 54055.0, (1, 2, 0, 5, 4, 3): 54527.0, (4, 5, 0, 1, 2, 3): 55082.0, (4, 3, 5, 1, 0, 2): 55325.0, (3, 4, 1, 5, 0, 2): 57069.0, (0, 3, 4, 2, 1, 5): 57309.0, (4, 5, 0, 2, 1, 3): 57352.0, (5, 1, 2, 3, 0, 4): 57534.0, (5, 1, 2, 4, 0, 3): 57534.0, (2, 0, 5, 3, 4, 1): 57663.0, (2, 0, 3, 4, 1, 5): 58302.0, (4, 5, 1, 2, 3, 0): 58356.0, (1, 5, 3, 4, 0, 2): 58654.0, (5, 1, 4, 3, 2, 0): 59728.0, (5, 1, 3, 4, 2, 0): 59728.0, (0, 3, 4, 5, 2, 1): 59887.0, (2, 1, 0, 4, 5, 3): 60087.0, (1, 4, 0, 3, 5, 2): 60093.0, (3, 5, 4, 1, 0, 2): 60218.0, (0, 5, 1, 4, 2, 3): 60461.0, (1, 3, 2, 0, 5, 4): 60918.0, (4, 0, 2, 1, 5, 3): 61363.0, (3, 2, 1, 0, 5, 4): 61577.0, (4, 0, 5, 1, 2, 3): 61747.0, (3, 0, 5, 1, 2, 4): 61747.0, (5, 0, 3, 4, 2, 1): 64083.0, (0, 5, 3, 2, 4, 1): 64195.0, (5, 1, 3, 0, 2, 4): 64270.0, (3, 0, 2, 4, 5, 1): 64649.0, (5, 0, 3, 2, 1, 4): 65816.0, (4, 5, 1, 2, 0, 3): 67871.0, (0, 5, 4, 1, 3, 2): 68686.0, (5, 1, 2, 4, 3, 0): 68868.0, (5, 1, 2, 3, 4, 0): 68868.0, (3, 4, 2, 1, 0, 5): 70961.0, (2, 1, 5, 0, 4, 3): 71007.0, (2, 1, 5, 0, 3, 4): 71007.0, (4, 2, 3, 0, 5, 1): 71352.0, (5, 2, 3, 4, 1, 0): 71898.0, (5, 0, 4, 3, 1, 2): 72154.0, (0, 4, 3, 1, 5, 2): 73216.0, (0, 3, 4, 1, 5, 2): 73216.0, (5, 0, 2, 3, 4, 1): 74578.0, (1, 2, 3, 4, 5, 0): 75334.0, (4, 3, 0, 5, 1, 2): 79351.0, (0, 5, 1, 3, 4, 2): 79498.0, (5, 2, 4, 3, 0, 1): 84982.0, (5, 2, 3, 4, 0, 1): 84982.0, (1, 2, 4, 0, 5, 3): 87036.0, (1, 2, 3, 0, 5, 4): 87036.0, (5, 1, 2, 0, 3, 4): 88204.0, (0, 5, 2, 3, 4, 1): 91668.0, (2, 1, 3, 0, 5, 4): 92944.0, (0, 5, 2, 1, 4, 3): 100633.0}\n",
      "Explore len:  208\n",
      "\n",
      "Problem:  more_cases-low_dimension\\problems\\example.json \n",
      "Solution:   Individual: [5, 2, 0, 4, 1, 3] \n",
      "Stats:  {'time': 1.678444799999852, 'searches': {'real': 31, 'total': 1582}, 'population': {'real': 208, 'total': 250}} \n",
      "Score:  3112.0\n"
     ]
    },
    {
     "name": "stderr",
     "output_type": "stream",
     "text": [
      "Exception in thread Thread-62 (run_ga):\n",
      "Traceback (most recent call last):\n",
      "  File \"C:\\Program Files\\WindowsApps\\PythonSoftwareFoundation.Python.3.10_3.10.2544.0_x64__qbz5n2kfra8p0\\lib\\threading.py\", line 1016, in _bootstrap_inner\n",
      "    self.run()\n",
      "  File \"C:\\Program Files\\WindowsApps\\PythonSoftwareFoundation.Python.3.10_3.10.2544.0_x64__qbz5n2kfra8p0\\lib\\threading.py\", line 953, in run\n",
      "    self._target(*self._args, **self._kwargs)\n",
      "  File \"C:\\Users\\carlo\\AppData\\Local\\Temp\\ipykernel_14312\\23080391.py\", line 17, in run_ga\n",
      "TypeError: '<' not supported between instances of 'float' and 'Individual'\n"
     ]
    },
    {
     "name": "stdout",
     "output_type": "stream",
     "text": [
      "explore:  {(2, 3, 4, 1, 5, 0): 3857.0, (5, 1, 0, 4, 2, 3): 6329.0, (0, 1, 5, 4, 2, 3): 8904.0, (3, 0, 5, 2, 1, 4): 9993.0, (2, 3, 5, 1, 4, 0): 11852.0, (3, 0, 2, 4, 1, 5): 12667.0, (2, 4, 3, 1, 5, 0): 13870.0, (2, 4, 5, 0, 1, 3): 13923.0, (0, 3, 2, 4, 1, 5): 14133.0, (5, 1, 2, 0, 3, 4): 14567.0, (5, 2, 3, 1, 4, 0): 14753.0, (5, 2, 4, 1, 3, 0): 14753.0, (0, 1, 5, 2, 3, 4): 15032.0, (3, 1, 5, 2, 4, 0): 15862.0, (0, 1, 4, 5, 2, 3): 15915.0, (2, 4, 5, 1, 3, 0): 16302.0, (5, 2, 3, 1, 0, 4): 16543.0, (2, 4, 1, 3, 0, 5): 16810.0, (1, 4, 2, 3, 0, 5): 16810.0, (4, 0, 2, 5, 3, 1): 17861.0, (5, 4, 2, 3, 1, 0): 18051.0, (5, 4, 0, 1, 3, 2): 18245.0, (5, 2, 4, 0, 3, 1): 18313.0, (4, 1, 2, 5, 0, 3): 18490.0, (4, 1, 0, 5, 2, 3): 18535.0, (3, 1, 0, 5, 2, 4): 18535.0, (0, 3, 1, 5, 2, 4): 18652.0, (1, 5, 2, 4, 3, 0): 19276.0, (3, 0, 1, 2, 5, 4): 19322.0, (5, 1, 3, 0, 2, 4): 19337.0, (3, 0, 5, 4, 1, 2): 19516.0, (4, 1, 5, 3, 0, 2): 19516.0, (2, 4, 5, 1, 0, 3): 19558.0, (4, 0, 2, 1, 3, 5): 19624.0, (1, 5, 0, 4, 2, 3): 19920.0, (0, 1, 4, 2, 5, 3): 20051.0, (0, 4, 5, 2, 3, 1): 20151.0, (1, 5, 3, 0, 2, 4): 21132.0, (1, 3, 0, 5, 2, 4): 21329.0, (4, 0, 3, 2, 5, 1): 21763.0, (3, 0, 4, 2, 5, 1): 21763.0, (5, 2, 1, 3, 0, 4): 22151.0, (4, 0, 2, 5, 1, 3): 22787.0, (0, 3, 1, 2, 5, 4): 22788.0, (1, 0, 4, 5, 2, 3): 23415.0, (1, 0, 3, 5, 2, 4): 23415.0, (5, 3, 1, 4, 0, 2): 23659.0, (1, 4, 5, 3, 0, 2): 23659.0, (3, 0, 1, 5, 4, 2): 23863.0, (4, 0, 1, 5, 3, 2): 23863.0, (4, 0, 2, 1, 5, 3): 23946.0, (1, 4, 2, 5, 3, 0): 24141.0, (0, 3, 2, 5, 1, 4): 24253.0, (0, 4, 2, 5, 1, 3): 24253.0, (2, 5, 4, 0, 1, 3): 24365.0, (2, 5, 3, 0, 1, 4): 24365.0, (0, 1, 3, 5, 4, 2): 24592.0, (1, 3, 0, 2, 5, 4): 25465.0, (3, 2, 4, 0, 1, 5): 25507.0, (2, 1, 5, 4, 0, 3): 25566.0, (5, 2, 0, 1, 3, 4): 25579.0, (5, 2, 0, 1, 4, 3): 25579.0, (1, 3, 5, 0, 2, 4): 25690.0, (5, 4, 1, 0, 3, 2): 25745.0, (3, 1, 2, 0, 4, 5): 25789.0, (5, 0, 2, 3, 4, 1): 25791.0, (5, 0, 2, 4, 3, 1): 25791.0, (2, 5, 1, 4, 0, 3): 25965.0, (5, 3, 2, 1, 0, 4): 26915.0, (5, 0, 4, 2, 1, 3): 27461.0, (2, 5, 3, 1, 0, 4): 27714.0, (5, 4, 2, 0, 1, 3): 28257.0, (5, 3, 2, 0, 1, 4): 28257.0, (5, 2, 0, 4, 1, 3): 28316.0, (0, 5, 2, 4, 1, 3): 28688.0, (4, 2, 3, 1, 5, 0): 28710.0, (4, 2, 5, 0, 1, 3): 28763.0, (4, 1, 0, 3, 2, 5): 28856.0, (3, 2, 4, 1, 0, 5): 28856.0, (4, 2, 3, 1, 0, 5): 28856.0, (5, 3, 4, 2, 1, 0): 28969.0, (0, 3, 1, 4, 2, 5): 28973.0, (5, 0, 3, 4, 1, 2): 29196.0, (5, 2, 4, 3, 0, 1): 29205.0, (2, 4, 3, 0, 5, 1): 29458.0, (2, 3, 4, 0, 5, 1): 29458.0, (2, 5, 4, 0, 3, 1): 29484.0, (3, 2, 5, 0, 4, 1): 29739.0, (0, 3, 4, 1, 5, 2): 29746.0, (0, 1, 5, 3, 4, 2): 29874.0, (1, 3, 2, 0, 4, 5): 29932.0, (3, 2, 0, 5, 4, 1): 29990.0, (3, 2, 5, 1, 4, 0): 31142.0, (3, 4, 0, 2, 1, 5): 31253.0, (1, 3, 5, 4, 2, 0): 31346.0, (5, 0, 3, 1, 2, 4): 31784.0, (3, 4, 5, 1, 0, 2): 32094.0, (4, 1, 3, 5, 0, 2): 32110.0, (4, 3, 2, 1, 5, 0): 32456.0, (3, 4, 2, 1, 5, 0): 32456.0, (3, 4, 2, 1, 0, 5): 32602.0, (4, 3, 0, 2, 5, 1): 32655.0, (3, 4, 0, 2, 5, 1): 32655.0, (0, 4, 3, 2, 1, 5): 32719.0, (0, 3, 4, 2, 1, 5): 32719.0, (4, 2, 5, 3, 1, 0): 32891.0, (4, 0, 5, 1, 2, 3): 33333.0, (5, 2, 1, 3, 4, 0): 33339.0, (5, 1, 3, 4, 0, 2): 33493.0, (5, 1, 4, 3, 0, 2): 33493.0, (1, 2, 4, 5, 3, 0): 33558.0, (4, 2, 1, 0, 3, 5): 33736.0, (1, 0, 4, 3, 2, 5): 33736.0, (5, 0, 1, 4, 2, 3): 34023.0, (1, 5, 0, 4, 3, 2): 34076.0, (0, 3, 4, 2, 5, 1): 34121.0, (0, 4, 3, 2, 5, 1): 34121.0, (4, 0, 5, 3, 2, 1): 34211.0, (1, 2, 4, 0, 3, 5): 34291.0, (4, 0, 3, 1, 2, 5): 34291.0, (4, 3, 2, 5, 1, 0): 34595.0, (4, 3, 2, 0, 1, 5): 34681.0, (0, 3, 5, 1, 2, 4): 34799.0, (1, 5, 3, 2, 4, 0): 34802.0, (4, 1, 2, 3, 5, 0): 35050.0, (2, 1, 5, 0, 4, 3): 35246.0, (2, 1, 5, 4, 3, 0): 35288.0, (0, 4, 3, 5, 2, 1): 35477.0, (1, 4, 5, 3, 2, 0): 35531.0, (5, 3, 1, 4, 2, 0): 35531.0, (0, 5, 4, 2, 3, 1): 35651.0, (0, 3, 5, 4, 2, 1): 35677.0, (3, 5, 4, 0, 1, 2): 36018.0, (0, 2, 4, 1, 3, 5): 36432.0, (2, 1, 0, 5, 3, 4): 36557.0, (1, 0, 5, 4, 3, 2): 36637.0, (2, 0, 4, 3, 1, 5): 36681.0, (3, 5, 0, 1, 4, 2): 36747.0, (4, 5, 0, 1, 3, 2): 36747.0, (2, 5, 1, 4, 3, 0): 37153.0, (2, 5, 1, 3, 4, 0): 37153.0, (5, 4, 3, 2, 0, 1): 37220.0, (1, 5, 4, 2, 0, 3): 37438.0, (2, 3, 4, 5, 0, 1): 37719.0, (2, 4, 3, 5, 0, 1): 37719.0, (4, 1, 3, 2, 0, 5): 37817.0, (3, 0, 2, 4, 5, 1): 37873.0, (4, 1, 5, 0, 2, 3): 38076.0, (3, 4, 0, 5, 1, 2): 38996.0, (4, 3, 0, 5, 1, 2): 38996.0, (1, 4, 2, 3, 5, 0): 39193.0, (4, 1, 2, 0, 5, 3): 39461.0, (3, 5, 0, 4, 1, 2): 39484.0, (1, 2, 5, 3, 0, 4): 39496.0, (0, 5, 4, 2, 1, 3): 40226.0, (2, 5, 4, 3, 0, 1): 40376.0, (2, 3, 1, 5, 4, 0): 40405.0, (0, 4, 3, 5, 1, 2): 40462.0, (2, 0, 1, 4, 3, 5): 40824.0, (2, 0, 1, 3, 4, 5): 40824.0, (1, 0, 2, 4, 5, 3): 40983.0, (2, 0, 5, 1, 3, 4): 41486.0, (0, 5, 4, 3, 1, 2): 41961.0, (5, 1, 4, 3, 2, 0): 42181.0, (3, 0, 4, 1, 5, 2): 42315.0, (1, 3, 2, 0, 5, 4): 43604.0, (3, 4, 1, 5, 0, 2): 43739.0, (4, 3, 1, 5, 0, 2): 43739.0, (4, 5, 1, 0, 3, 2): 44247.0, (4, 3, 5, 1, 2, 0): 44521.0, (1, 2, 3, 4, 0, 5): 45183.0, (4, 5, 2, 1, 0, 3): 45417.0, (3, 5, 2, 1, 0, 4): 45417.0, (0, 5, 1, 3, 4, 2): 46104.0, (1, 2, 0, 4, 3, 5): 46649.0, (1, 2, 0, 3, 4, 5): 46649.0, (0, 5, 1, 3, 2, 4): 46788.0, (4, 2, 0, 5, 1, 3): 46788.0, (3, 2, 1, 0, 5, 4): 47408.0, (0, 2, 3, 4, 1, 5): 48061.0, (1, 2, 5, 0, 4, 3): 49176.0, (3, 5, 0, 1, 2, 4): 50964.0, (2, 0, 4, 5, 3, 1): 52053.0, (2, 0, 3, 5, 4, 1): 52053.0, (3, 4, 5, 0, 2, 1): 52087.0, (1, 4, 3, 0, 2, 5): 52204.0, (3, 5, 0, 2, 4, 1): 52262.0, (4, 5, 0, 2, 3, 1): 52262.0, (3, 2, 4, 5, 0, 1): 52559.0, (4, 3, 0, 1, 5, 2): 53207.0, (4, 3, 2, 0, 5, 1): 53472.0, (4, 2, 1, 5, 0, 3): 53737.0, (1, 5, 0, 2, 4, 3): 53848.0, (4, 5, 1, 3, 2, 0): 54033.0, (3, 5, 0, 4, 2, 1): 54179.0, (4, 5, 0, 3, 2, 1): 54179.0, (1, 2, 3, 5, 0, 4): 56224.0, (0, 5, 4, 3, 2, 1): 56656.0, (4, 5, 3, 0, 2, 1): 60909.0, (0, 2, 3, 5, 1, 4): 63399.0, (1, 2, 4, 3, 5, 0): 67566.0, (0, 2, 4, 3, 5, 1): 73267.0}\n",
      "Explore len:  202\n",
      "\n",
      "Problem:  more_cases-low_dimension\\problems\\example.json \n",
      "Solution:   Individual: [4, 1, 2, 5, 0, 3] \n",
      "Stats:  {'time': 1.8070904999985942, 'searches': {'real': 31, 'total': 1540}, 'population': {'real': 202, 'total': 250}} \n",
      "Score:  3857.0\n"
     ]
    },
    {
     "name": "stderr",
     "output_type": "stream",
     "text": [
      "Exception in thread Thread-63 (run_ga):\n",
      "Traceback (most recent call last):\n",
      "  File \"C:\\Program Files\\WindowsApps\\PythonSoftwareFoundation.Python.3.10_3.10.2544.0_x64__qbz5n2kfra8p0\\lib\\threading.py\", line 1016, in _bootstrap_inner\n",
      "    self.run()\n",
      "  File \"C:\\Program Files\\WindowsApps\\PythonSoftwareFoundation.Python.3.10_3.10.2544.0_x64__qbz5n2kfra8p0\\lib\\threading.py\", line 953, in run\n",
      "    self._target(*self._args, **self._kwargs)\n",
      "  File \"C:\\Users\\carlo\\AppData\\Local\\Temp\\ipykernel_14312\\23080391.py\", line 17, in run_ga\n",
      "TypeError: '<' not supported between instances of 'float' and 'Individual'\n"
     ]
    },
    {
     "name": "stdout",
     "output_type": "stream",
     "text": [
      "explore:  {(4, 3, 2, 1, 5, 0): 3768.0, (1, 4, 0, 3, 2, 5): 5808.0, (5, 4, 2, 0, 3, 1): 6588.0, (3, 5, 2, 1, 4, 0): 8886.0, (4, 5, 2, 1, 3, 0): 8886.0, (4, 0, 2, 5, 1, 3): 9602.0, (3, 5, 2, 4, 1, 0): 9818.0, (2, 3, 0, 5, 1, 4): 9889.0, (1, 4, 0, 3, 5, 2): 10173.0, (3, 0, 2, 4, 5, 1): 11644.0, (4, 0, 2, 3, 5, 1): 11644.0, (5, 1, 3, 4, 0, 2): 11845.0, (2, 4, 3, 5, 0, 1): 13045.0, (4, 2, 5, 1, 3, 0): 13069.0, (2, 1, 4, 5, 0, 3): 13129.0, (5, 0, 2, 1, 3, 4): 13246.0, (2, 0, 3, 4, 5, 1): 13456.0, (1, 4, 2, 3, 0, 5): 13489.0, (2, 1, 5, 3, 4, 0): 13785.0, (3, 4, 0, 2, 5, 1): 13857.0, (2, 1, 4, 3, 5, 0): 14064.0, (4, 0, 3, 5, 2, 1): 14077.0, (5, 4, 1, 3, 0, 2): 14339.0, (1, 3, 5, 4, 0, 2): 14339.0, (4, 2, 3, 5, 0, 1): 14351.0, (2, 0, 4, 5, 1, 3): 14395.0, (5, 1, 4, 3, 2, 0): 14780.0, (2, 3, 1, 4, 5, 0): 14919.0, (5, 2, 1, 4, 3, 0): 15003.0, (1, 5, 4, 3, 0, 2): 15072.0, (3, 4, 2, 5, 0, 1): 15258.0, (2, 3, 4, 0, 5, 1): 15267.0, (2, 0, 1, 3, 4, 5): 15301.0, (2, 1, 4, 0, 5, 3): 15351.0, (4, 0, 2, 1, 5, 3): 15894.0, (2, 0, 4, 5, 3, 1): 15950.0, (5, 3, 2, 0, 1, 4): 16025.0, (1, 3, 4, 2, 0, 5): 16430.0, (2, 1, 4, 5, 3, 0): 16558.0, (2, 1, 3, 5, 4, 0): 16558.0, (5, 0, 1, 3, 2, 4): 16962.0, (2, 1, 3, 0, 4, 5): 17010.0, (4, 0, 5, 3, 2, 1): 17116.0, (0, 3, 4, 1, 5, 2): 17247.0, (5, 3, 0, 2, 4, 1): 17330.0, (0, 5, 1, 3, 4, 2): 17419.0, (1, 5, 4, 2, 3, 0): 17501.0, (1, 5, 4, 3, 2, 0): 18007.0, (1, 4, 2, 0, 5, 3): 18018.0, (2, 1, 5, 0, 4, 3): 18355.0, (1, 5, 0, 4, 3, 2): 18355.0, (2, 5, 0, 4, 3, 1): 18792.0, (2, 1, 5, 3, 0, 4): 19448.0, (1, 3, 2, 5, 4, 0): 19626.0, (1, 4, 2, 5, 3, 0): 19626.0, (0, 3, 2, 4, 5, 1): 19643.0, (5, 0, 2, 3, 4, 1): 19647.0, (1, 3, 2, 0, 4, 5): 19677.0, (2, 1, 0, 4, 5, 3): 19727.0, (1, 0, 2, 4, 5, 3): 19861.0, (4, 0, 2, 3, 1, 5): 19974.0, (1, 4, 5, 3, 2, 0): 20391.0, (1, 3, 5, 4, 2, 0): 20391.0, (0, 5, 3, 2, 1, 4): 20581.0, (0, 3, 4, 2, 1, 5): 20633.0, (2, 1, 0, 3, 4, 5): 20633.0, (2, 4, 5, 1, 3, 0): 20662.0, (1, 0, 2, 4, 3, 5): 20767.0, (3, 4, 2, 5, 1, 0): 20787.0, (3, 0, 5, 4, 1, 2): 20824.0, (4, 1, 5, 3, 0, 2): 20824.0, (4, 2, 0, 3, 5, 1): 20949.0, (0, 5, 1, 3, 2, 4): 21135.0, (2, 3, 0, 5, 4, 1): 21384.0, (2, 4, 0, 5, 3, 1): 21384.0, (1, 0, 5, 4, 3, 2): 21617.0, (3, 5, 2, 1, 0, 4): 21827.0, (0, 3, 4, 2, 5, 1): 21856.0, (5, 2, 4, 1, 3, 0): 22343.0, (4, 3, 0, 1, 5, 2): 22615.0, (3, 4, 0, 1, 5, 2): 22615.0, (3, 1, 2, 5, 0, 4): 22682.0, (3, 2, 0, 5, 4, 1): 22690.0, (4, 3, 1, 2, 0, 5): 22915.0, (5, 3, 4, 1, 2, 0): 23109.0, (3, 5, 4, 1, 0, 2): 23203.0, (2, 4, 1, 0, 5, 3): 23484.0, (2, 0, 5, 1, 3, 4): 23761.0, (0, 5, 2, 4, 3, 1): 23820.0, (4, 0, 5, 2, 1, 3): 23980.0, (1, 3, 0, 5, 2, 4): 24013.0, (3, 0, 1, 2, 4, 5): 24280.0, (1, 5, 2, 3, 4, 0): 24281.0, (5, 2, 1, 0, 4, 3): 24321.0, (4, 1, 2, 0, 5, 3): 24503.0, (1, 4, 3, 5, 2, 0): 24538.0, (0, 3, 1, 4, 5, 2): 24657.0, (0, 5, 2, 4, 1, 3): 24759.0, (3, 2, 1, 0, 5, 4): 24790.0, (3, 4, 5, 0, 2, 1): 24907.0, (4, 3, 5, 0, 2, 1): 24907.0, (2, 0, 3, 1, 5, 4): 25046.0, (2, 0, 4, 1, 5, 3): 25046.0, (5, 3, 0, 4, 2, 1): 25115.0, (3, 2, 5, 0, 4, 1): 25329.0, (0, 2, 3, 4, 5, 1): 25457.0, (4, 3, 5, 2, 0, 1): 25708.0, (3, 5, 0, 2, 4, 1): 25758.0, (4, 5, 0, 2, 1, 3): 25842.0, (1, 4, 5, 0, 2, 3): 25846.0, (5, 4, 1, 0, 3, 2): 25993.0, (5, 3, 1, 0, 4, 2): 25993.0, (5, 3, 4, 0, 2, 1): 26000.0, (4, 3, 0, 1, 2, 5): 26130.0, (1, 2, 3, 4, 0, 5): 26130.0, (3, 4, 0, 1, 2, 5): 26130.0, (4, 1, 2, 0, 3, 5): 26162.0, (0, 2, 1, 4, 5, 3): 26396.0, (0, 2, 3, 5, 1, 4): 26396.0, (2, 4, 1, 5, 0, 3): 26426.0, (1, 0, 4, 3, 2, 5): 26449.0, (2, 3, 4, 1, 0, 5): 26519.0, (1, 4, 5, 2, 0, 3): 26647.0, (2, 3, 4, 0, 1, 5): 26774.0, (1, 0, 3, 5, 4, 2): 26778.0, (1, 5, 4, 2, 0, 3): 26787.0, (3, 1, 5, 4, 2, 0): 26876.0, (3, 0, 4, 1, 5, 2): 26991.0, (1, 3, 5, 2, 4, 0): 27171.0, (1, 2, 5, 4, 3, 0): 27281.0, (5, 2, 3, 1, 0, 4): 27285.0, (1, 3, 4, 0, 2, 5): 27302.0, (5, 3, 4, 1, 0, 2): 27369.0, (1, 5, 2, 0, 3, 4): 27380.0, (2, 4, 5, 3, 0, 1): 27540.0, (5, 2, 4, 0, 1, 3): 27540.0, (2, 3, 5, 4, 0, 1): 27540.0, (1, 2, 4, 3, 5, 0): 27560.0, (1, 2, 3, 4, 5, 0): 27560.0, (5, 4, 3, 0, 1, 2): 27624.0, (2, 4, 5, 3, 1, 0): 27670.0, (5, 4, 2, 3, 1, 0): 27670.0, (3, 2, 1, 5, 0, 4): 27732.0, (2, 5, 0, 1, 3, 4): 27907.0, (2, 5, 0, 1, 4, 3): 27907.0, (0, 2, 3, 5, 4, 1): 27951.0, (0, 4, 2, 3, 1, 5): 27973.0, (4, 0, 1, 3, 2, 5): 28080.0, (0, 4, 5, 1, 3, 2): 28360.0, (4, 0, 1, 5, 3, 2): 28409.0, (4, 3, 2, 0, 1, 5): 28586.0, (5, 0, 1, 2, 4, 3): 28598.0, (4, 1, 3, 5, 0, 2): 28667.0, (3, 2, 5, 0, 1, 4): 28692.0, (0, 4, 5, 3, 1, 2): 28823.0, (0, 3, 5, 4, 1, 2): 28823.0, (4, 2, 5, 3, 1, 0): 28976.0, (5, 1, 2, 0, 4, 3): 29009.0, (4, 2, 0, 3, 1, 5): 29279.0, (2, 5, 3, 1, 0, 4): 29478.0, (0, 4, 3, 5, 2, 1): 29485.0, (0, 3, 1, 5, 4, 2): 29608.0, (0, 4, 1, 5, 3, 2): 29608.0, (2, 3, 1, 5, 4, 0): 29855.0, (4, 1, 3, 5, 2, 0): 30290.0, (0, 1, 2, 3, 4, 5): 30397.0, (5, 3, 0, 1, 4, 2): 30514.0, (0, 4, 3, 1, 5, 2): 30614.0, (0, 3, 1, 2, 5, 4): 30952.0, (3, 2, 0, 1, 4, 5): 30970.0, (4, 2, 0, 1, 3, 5): 30970.0, (0, 1, 3, 4, 2, 5): 30970.0, (0, 1, 5, 4, 3, 2): 31247.0, (0, 1, 3, 5, 4, 2): 31299.0, (0, 1, 4, 5, 3, 2): 31299.0, (5, 3, 1, 2, 0, 4): 31503.0, (5, 4, 1, 2, 0, 3): 31503.0, (1, 2, 5, 0, 3, 4): 31851.0, (0, 3, 5, 2, 4, 1): 31895.0, (0, 3, 5, 2, 1, 4): 31979.0, (0, 4, 5, 2, 1, 3): 31979.0, (5, 3, 1, 2, 4, 0): 32027.0, (5, 4, 1, 2, 3, 0): 32027.0, (3, 1, 5, 0, 2, 4): 32331.0, (4, 1, 5, 0, 2, 3): 32331.0, (4, 3, 0, 5, 1, 2): 32481.0, (0, 1, 4, 2, 5, 3): 32643.0, (0, 5, 1, 2, 4, 3): 32771.0, (3, 1, 4, 0, 2, 5): 33054.0, (1, 2, 0, 3, 5, 4): 33223.0, (3, 4, 1, 0, 2, 5): 33787.0, (4, 3, 1, 0, 2, 5): 33787.0, (0, 2, 4, 3, 1, 5): 33787.0, (0, 3, 4, 1, 2, 5): 34129.0, (0, 4, 3, 1, 2, 5): 34129.0, (5, 3, 1, 0, 2, 4): 34217.0, (0, 2, 5, 4, 3, 1): 34553.0, (0, 2, 5, 3, 4, 1): 34553.0, (5, 1, 2, 4, 0, 3): 35196.0, (5, 1, 2, 3, 0, 4): 35196.0, (3, 1, 0, 5, 2, 4): 37043.0, (0, 2, 3, 1, 5, 4): 37047.0, (3, 0, 1, 5, 2, 4): 37298.0, (0, 5, 3, 1, 2, 4): 38222.0, (0, 5, 4, 1, 2, 3): 38222.0, (0, 4, 1, 5, 2, 3): 38497.0, (0, 3, 5, 1, 2, 4): 43411.0, (5, 4, 0, 1, 2, 3): 45565.0}\n",
      "Explore len:  208\n",
      "\n",
      "Problem:  more_cases-low_dimension\\problems\\example.json \n",
      "Solution:   Individual: [1, 0, 2, 3, 4, 5] \n",
      "Stats:  {'time': 1.6767221000009158, 'searches': {'real': 31, 'total': 1585}, 'population': {'real': 208, 'total': 250}} \n",
      "Score:  3768.0\n"
     ]
    },
    {
     "name": "stderr",
     "output_type": "stream",
     "text": [
      "Exception in thread Thread-64 (run_ga):\n",
      "Traceback (most recent call last):\n",
      "  File \"C:\\Program Files\\WindowsApps\\PythonSoftwareFoundation.Python.3.10_3.10.2544.0_x64__qbz5n2kfra8p0\\lib\\threading.py\", line 1016, in _bootstrap_inner\n",
      "    self.run()\n",
      "  File \"C:\\Program Files\\WindowsApps\\PythonSoftwareFoundation.Python.3.10_3.10.2544.0_x64__qbz5n2kfra8p0\\lib\\threading.py\", line 953, in run\n",
      "    self._target(*self._args, **self._kwargs)\n",
      "  File \"C:\\Users\\carlo\\AppData\\Local\\Temp\\ipykernel_14312\\23080391.py\", line 17, in run_ga\n",
      "TypeError: '<' not supported between instances of 'float' and 'Individual'\n"
     ]
    },
    {
     "name": "stdout",
     "output_type": "stream",
     "text": [
      "explore:  {(1, 0, 3, 5, 4, 2): 3244.0, (3, 5, 1, 4, 2, 0): 6941.0, (4, 5, 2, 1, 0, 3): 7032.0, (2, 1, 5, 3, 0, 4): 8793.0, (1, 0, 4, 3, 5, 2): 8939.0, (1, 0, 4, 2, 3, 5): 11229.0, (4, 1, 5, 0, 2, 3): 12879.0, (5, 3, 1, 0, 4, 2): 13016.0, (5, 4, 2, 3, 1, 0): 13991.0, (5, 3, 2, 4, 1, 0): 13991.0, (5, 2, 4, 0, 1, 3): 14078.0, (1, 0, 4, 5, 3, 2): 14102.0, (4, 5, 2, 1, 3, 0): 14526.0, (3, 1, 5, 0, 4, 2): 14730.0, (3, 4, 5, 2, 0, 1): 14746.0, (0, 4, 1, 2, 5, 3): 15003.0, (3, 1, 4, 0, 5, 2): 15852.0, (3, 0, 4, 2, 1, 5): 16160.0, (5, 2, 1, 4, 3, 0): 16751.0, (3, 1, 2, 4, 5, 0): 17282.0, (4, 1, 2, 3, 5, 0): 17282.0, (5, 1, 0, 4, 3, 2): 17516.0, (4, 2, 5, 3, 1, 0): 17632.0, (4, 5, 1, 0, 2, 3): 18164.0, (0, 4, 2, 1, 5, 3): 18477.0, (0, 3, 2, 1, 5, 4): 18477.0, (0, 3, 2, 4, 5, 1): 18513.0, (2, 3, 0, 4, 5, 1): 18513.0, (0, 4, 2, 3, 5, 1): 18513.0, (0, 4, 2, 1, 3, 5): 18566.0, (5, 4, 0, 3, 1, 2): 18566.0, (5, 3, 0, 4, 1, 2): 18566.0, (3, 5, 1, 2, 4, 0): 18598.0, (4, 5, 1, 2, 3, 0): 18598.0, (5, 3, 2, 1, 4, 0): 18603.0, (4, 5, 0, 2, 1, 3): 19099.0, (2, 5, 0, 3, 1, 4): 19256.0, (3, 5, 2, 0, 4, 1): 19278.0, (4, 5, 2, 0, 3, 1): 19278.0, (4, 5, 3, 1, 2, 0): 19335.0, (0, 4, 1, 5, 3, 2): 19652.0, (2, 3, 0, 4, 1, 5): 19771.0, (4, 5, 3, 1, 0, 2): 19946.0, (3, 1, 0, 4, 5, 2): 19946.0, (4, 1, 0, 3, 5, 2): 19946.0, (1, 3, 2, 4, 5, 0): 19955.0, (2, 3, 1, 4, 5, 0): 19955.0, (1, 4, 2, 3, 5, 0): 19955.0, (5, 1, 2, 4, 3, 0): 20039.0, (2, 1, 5, 0, 3, 4): 20226.0, (5, 4, 3, 2, 1, 0): 20385.0, (2, 1, 4, 3, 5, 0): 20807.0, (4, 3, 2, 1, 5, 0): 21048.0, (1, 2, 3, 0, 4, 5): 22091.0, (4, 5, 0, 3, 2, 1): 22154.0, (4, 1, 0, 2, 3, 5): 22236.0, (1, 2, 3, 5, 4, 0): 22238.0, (5, 4, 1, 0, 2, 3): 22241.0, (5, 3, 1, 2, 4, 0): 22675.0, (1, 2, 5, 3, 0, 4): 22857.0, (2, 1, 0, 3, 4, 5): 23296.0, (2, 1, 0, 4, 3, 5): 23296.0, (2, 1, 5, 3, 4, 0): 23333.0, (5, 4, 2, 0, 3, 1): 23355.0, (3, 2, 0, 4, 1, 5): 23412.0, (2, 5, 4, 0, 3, 1): 23594.0, (2, 5, 3, 0, 4, 1): 23594.0, (4, 5, 1, 3, 2, 0): 23596.0, (1, 0, 2, 4, 5, 3): 23735.0, (4, 2, 5, 1, 3, 0): 23832.0, (3, 2, 1, 5, 4, 0): 24075.0, (2, 1, 4, 5, 0, 3): 24474.0, (3, 4, 1, 5, 0, 2): 25014.0, (1, 3, 2, 0, 4, 5): 25027.0, (5, 1, 3, 2, 4, 0): 25037.0, (4, 1, 0, 5, 3, 2): 25109.0, (1, 0, 3, 5, 2, 4): 25208.0, (1, 0, 4, 5, 2, 3): 25208.0, (4, 0, 3, 2, 5, 1): 25705.0, (5, 1, 3, 2, 0, 4): 25766.0, (1, 2, 4, 3, 5, 0): 25902.0, (3, 4, 2, 5, 1, 0): 26060.0, (1, 2, 5, 0, 3, 4): 26157.0, (1, 2, 5, 0, 4, 3): 26157.0, (1, 3, 5, 0, 2, 4): 26628.0, (1, 2, 3, 4, 5, 0): 26738.0, (5, 1, 0, 2, 4, 3): 26741.0, (0, 2, 4, 5, 3, 1): 26852.0, (2, 5, 0, 3, 4, 1): 26894.0, (3, 1, 2, 5, 4, 0): 27110.0, (4, 1, 2, 5, 3, 0): 27110.0, (4, 0, 1, 2, 3, 5): 27120.0, (4, 5, 0, 1, 3, 2): 27236.0, (0, 1, 4, 3, 5, 2): 27236.0, (3, 0, 4, 5, 2, 1): 27382.0, (3, 2, 1, 0, 5, 4): 28181.0, (3, 5, 1, 4, 0, 2): 28436.0, (2, 5, 3, 1, 0, 4): 28549.0, (0, 2, 5, 3, 1, 4): 28646.0, (0, 2, 5, 4, 1, 3): 28646.0, (0, 4, 5, 2, 1, 3): 28698.0, (4, 2, 5, 1, 0, 3): 28716.0, (3, 4, 1, 2, 5, 0): 28859.0, (3, 2, 4, 1, 0, 5): 28869.0, (5, 3, 4, 0, 1, 2): 28907.0, (0, 5, 3, 2, 1, 4): 29116.0, (0, 5, 4, 2, 1, 3): 29116.0, (1, 2, 0, 3, 4, 5): 29227.0, (0, 4, 3, 1, 2, 5): 29227.0, (1, 2, 0, 4, 3, 5): 29227.0, (1, 2, 5, 4, 3, 0): 29264.0, (1, 2, 5, 3, 4, 0): 29264.0, (2, 3, 5, 0, 1, 4): 29448.0, (2, 4, 5, 0, 1, 3): 29448.0, (2, 5, 4, 3, 1, 0): 29499.0, (5, 2, 1, 4, 0, 3): 29521.0, (5, 2, 1, 3, 0, 4): 29521.0, (0, 1, 4, 2, 3, 5): 29526.0, (3, 0, 2, 1, 5, 4): 29751.0, (4, 0, 2, 1, 5, 3): 29751.0, (1, 3, 2, 5, 4, 0): 29783.0, (5, 0, 2, 3, 1, 4): 30381.0, (3, 5, 0, 1, 2, 4): 30405.0, (0, 3, 1, 5, 2, 4): 30758.0, (5, 0, 1, 2, 3, 4): 30842.0, (0, 5, 2, 3, 1, 4): 30945.0, (5, 4, 2, 3, 0, 1): 31113.0, (2, 3, 5, 4, 0, 1): 31113.0, (5, 1, 4, 3, 2, 0): 31115.0, (5, 4, 0, 1, 3, 2): 31313.0, (0, 2, 3, 4, 5, 1): 31352.0, (2, 4, 1, 5, 3, 0): 31358.0, (2, 3, 1, 5, 4, 0): 31358.0, (1, 3, 4, 2, 5, 0): 31532.0, (1, 5, 2, 3, 4, 0): 31847.0, (0, 5, 4, 1, 2, 3): 32143.0, (3, 4, 5, 0, 1, 2): 32207.0, (0, 1, 3, 5, 4, 2): 32399.0, (1, 2, 3, 0, 5, 4): 32410.0, (1, 2, 4, 0, 5, 3): 32410.0, (2, 3, 0, 1, 5, 4): 32429.0, (1, 3, 5, 4, 0, 2): 32513.0, (5, 0, 4, 2, 3, 1): 32665.0, (2, 4, 0, 5, 1, 3): 32763.0, (0, 4, 3, 2, 5, 1): 32841.0, (0, 4, 3, 1, 5, 2): 33065.0, (3, 2, 5, 0, 1, 4): 33089.0, (5, 0, 3, 4, 1, 2): 33140.0, (2, 5, 3, 0, 1, 4): 33433.0, (1, 0, 2, 5, 3, 4): 33563.0, (1, 4, 0, 5, 3, 2): 33599.0, (0, 5, 4, 3, 1, 2): 33704.0, (2, 4, 1, 3, 0, 5): 33718.0, (3, 2, 4, 0, 1, 5): 33753.0, (4, 2, 3, 0, 1, 5): 33753.0, (4, 1, 3, 2, 0, 5): 33847.0, (3, 2, 4, 0, 5, 1): 34233.0, (5, 4, 0, 1, 2, 3): 34482.0, (0, 3, 4, 5, 2, 1): 34518.0, (0, 4, 3, 5, 2, 1): 34518.0, (3, 4, 0, 2, 1, 5): 34570.0, (2, 1, 3, 4, 0, 5): 34570.0, (4, 3, 0, 2, 1, 5): 34570.0, (2, 0, 3, 5, 4, 1): 35006.0, (3, 1, 4, 5, 2, 0): 35018.0, (0, 2, 1, 3, 4, 5): 35283.0, (0, 2, 1, 4, 3, 5): 35283.0, (1, 4, 2, 0, 5, 3): 35346.0, (0, 3, 4, 5, 1, 2): 35555.0, (5, 0, 1, 3, 4, 2): 35813.0, (5, 3, 2, 0, 1, 4): 35867.0, (5, 4, 2, 0, 1, 3): 35867.0, (0, 5, 2, 3, 4, 1): 35910.0, (0, 1, 5, 4, 3, 2): 36043.0, (4, 2, 0, 1, 5, 3): 36070.0, (0, 1, 4, 3, 2, 5): 36159.0, (1, 4, 3, 0, 5, 2): 36377.0, (0, 5, 1, 3, 4, 2): 36377.0, (4, 2, 0, 5, 1, 3): 36404.0, (0, 5, 1, 4, 2, 3): 36404.0, (2, 0, 5, 4, 1, 3): 36800.0, (3, 2, 0, 5, 4, 1): 36869.0, (1, 5, 4, 3, 0, 2): 37243.0, (0, 1, 2, 3, 4, 5): 37248.0, (0, 1, 2, 4, 3, 5): 37248.0, (1, 3, 0, 4, 2, 5): 37359.0, (3, 2, 1, 4, 0, 5): 37359.0, (3, 0, 5, 4, 2, 1): 37505.0, (0, 2, 1, 5, 4, 3): 37790.0, (4, 3, 1, 2, 0, 5): 38577.0, (3, 4, 1, 2, 0, 5): 38577.0, (0, 1, 4, 2, 5, 3): 39035.0, (5, 3, 4, 2, 0, 1): 39084.0, (4, 0, 2, 5, 1, 3): 39150.0, (2, 0, 4, 3, 5, 1): 39506.0, (2, 4, 1, 5, 0, 3): 39525.0, (3, 0, 2, 5, 4, 1): 39615.0, (3, 4, 1, 5, 2, 0): 39748.0, (4, 0, 5, 2, 1, 3): 39972.0, (1, 3, 0, 2, 5, 4): 40235.0, (4, 3, 2, 0, 5, 1): 40311.0, (4, 3, 5, 1, 2, 0): 40903.0, (3, 4, 5, 1, 2, 0): 40903.0, (2, 5, 3, 4, 0, 1): 42004.0, (0, 1, 5, 2, 3, 4): 42650.0, (0, 1, 3, 5, 2, 4): 43505.0, (4, 3, 0, 2, 5, 1): 44115.0, (3, 4, 0, 1, 5, 2): 44339.0, (1, 4, 0, 5, 2, 3): 44705.0, (4, 3, 0, 5, 2, 1): 45792.0, (3, 4, 0, 5, 2, 1): 45792.0, (3, 1, 5, 2, 0, 4): 46166.0, (3, 4, 0, 5, 1, 2): 46829.0, (1, 5, 2, 0, 3, 4): 53569.0, (2, 0, 5, 1, 4, 3): 54291.0}\n",
      "Explore len:  215\n",
      "\n",
      "Problem:  more_cases-low_dimension\\problems\\example.json \n",
      "Solution:   Individual: [2, 5, 0, 3, 4, 1] \n",
      "Stats:  {'time': 1.6914266000003408, 'searches': {'real': 31, 'total': 1623}, 'population': {'real': 215, 'total': 250}} \n",
      "Score:  3244.0\n"
     ]
    },
    {
     "name": "stderr",
     "output_type": "stream",
     "text": [
      "Exception in thread Thread-65 (run_ga):\n",
      "Traceback (most recent call last):\n",
      "  File \"C:\\Program Files\\WindowsApps\\PythonSoftwareFoundation.Python.3.10_3.10.2544.0_x64__qbz5n2kfra8p0\\lib\\threading.py\", line 1016, in _bootstrap_inner\n",
      "    self.run()\n",
      "  File \"C:\\Program Files\\WindowsApps\\PythonSoftwareFoundation.Python.3.10_3.10.2544.0_x64__qbz5n2kfra8p0\\lib\\threading.py\", line 953, in run\n",
      "    self._target(*self._args, **self._kwargs)\n",
      "  File \"C:\\Users\\carlo\\AppData\\Local\\Temp\\ipykernel_14312\\23080391.py\", line 17, in run_ga\n",
      "TypeError: '<' not supported between instances of 'float' and 'Individual'\n"
     ]
    },
    {
     "name": "stdout",
     "output_type": "stream",
     "text": [
      "explore:  {(5, 0, 4, 2, 3, 1): 3760.0, (2, 4, 5, 3, 0, 1): 7525.0, (0, 2, 3, 1, 4, 5): 7544.0, (2, 5, 0, 4, 3, 1): 9859.0, (0, 3, 5, 1, 2, 4): 12003.0, (5, 0, 2, 3, 1, 4): 14163.0, (3, 2, 1, 4, 5, 0): 15244.0, (4, 3, 5, 0, 2, 1): 15490.0, (3, 1, 4, 5, 0, 2): 15499.0, (0, 2, 4, 1, 3, 5): 15749.0, (5, 0, 4, 3, 2, 1): 15936.0, (1, 4, 5, 0, 2, 3): 16552.0, (1, 3, 5, 0, 2, 4): 16552.0, (5, 0, 4, 1, 3, 2): 16767.0, (1, 3, 4, 0, 2, 5): 16768.0, (0, 2, 1, 4, 3, 5): 16768.0, (1, 4, 3, 0, 2, 5): 16768.0, (3, 0, 4, 2, 1, 5): 17463.0, (0, 2, 5, 4, 1, 3): 17497.0, (3, 2, 4, 1, 0, 5): 17812.0, (0, 2, 5, 1, 3, 4): 18293.0, (2, 5, 0, 1, 4, 3): 19803.0, (1, 0, 3, 5, 4, 2): 19869.0, (2, 5, 3, 1, 4, 0): 19907.0, (4, 2, 1, 0, 3, 5): 19973.0, (2, 4, 1, 0, 3, 5): 20099.0, (2, 5, 3, 1, 0, 4): 20382.0, (2, 5, 1, 4, 3, 0): 20703.0, (5, 4, 2, 3, 1, 0): 20828.0, (2, 3, 5, 4, 1, 0): 20828.0, (0, 1, 3, 4, 2, 5): 21139.0, (0, 1, 4, 3, 2, 5): 21139.0, (2, 3, 0, 1, 4, 5): 21265.0, (5, 0, 4, 1, 2, 3): 21358.0, (1, 2, 5, 0, 3, 4): 21577.0, (5, 3, 1, 4, 2, 0): 22046.0, (1, 3, 5, 4, 2, 0): 22046.0, (5, 4, 1, 3, 2, 0): 22046.0, (5, 4, 1, 0, 2, 3): 22075.0, (1, 3, 2, 5, 4, 0): 22103.0, (5, 3, 4, 1, 0, 2): 22290.0, (0, 3, 5, 1, 4, 2): 22611.0, (2, 4, 1, 3, 0, 5): 22966.0, (5, 0, 1, 2, 4, 3): 23623.0, (1, 0, 4, 5, 3, 2): 23629.0, (0, 3, 4, 1, 2, 5): 23735.0, (0, 4, 3, 1, 2, 5): 23735.0, (5, 3, 1, 0, 4, 2): 24451.0, (0, 1, 4, 5, 3, 2): 24795.0, (2, 5, 1, 4, 0, 3): 25187.0, (2, 5, 4, 0, 3, 1): 25490.0, (2, 5, 3, 0, 4, 1): 25490.0, (5, 4, 0, 1, 3, 2): 25617.0, (2, 3, 5, 1, 4, 0): 25633.0, (3, 1, 4, 2, 5, 0): 26408.0, (4, 0, 5, 1, 3, 2): 27095.0, (3, 4, 2, 5, 0, 1): 27165.0, (4, 3, 2, 5, 0, 1): 27165.0, (0, 3, 4, 5, 1, 2): 27168.0, (4, 3, 5, 1, 2, 0): 27202.0, (0, 4, 5, 1, 2, 3): 27202.0, (1, 4, 5, 3, 0, 2): 27318.0, (5, 4, 1, 3, 0, 2): 27318.0, (1, 3, 2, 5, 0, 4): 28227.0, (1, 4, 2, 5, 0, 3): 28227.0, (4, 1, 5, 0, 2, 3): 28627.0, (5, 4, 1, 2, 3, 0): 28671.0, (3, 4, 1, 0, 2, 5): 28843.0, (5, 2, 3, 1, 4, 0): 29275.0, (5, 1, 3, 4, 2, 0): 29723.0, (0, 3, 4, 1, 5, 2): 29748.0, (5, 2, 4, 1, 0, 3): 29750.0, (5, 0, 4, 3, 1, 2): 29861.0, (5, 1, 4, 2, 0, 3): 30168.0, (2, 4, 3, 1, 5, 0): 30341.0, (2, 3, 4, 1, 5, 0): 30341.0, (0, 3, 1, 4, 2, 5): 30431.0, (3, 2, 0, 4, 1, 5): 30431.0, (0, 4, 2, 3, 1, 5): 30557.0, (0, 4, 2, 1, 3, 5): 30646.0, (3, 1, 5, 0, 4, 2): 31003.0, (1, 2, 5, 3, 4, 0): 31109.0, (1, 2, 5, 4, 3, 0): 31109.0, (3, 4, 2, 1, 0, 5): 31121.0, (1, 5, 0, 3, 2, 4): 31360.0, (1, 5, 0, 4, 2, 3): 31360.0, (2, 3, 1, 0, 5, 4): 31437.0, (3, 4, 0, 5, 1, 2): 31652.0, (3, 0, 5, 1, 2, 4): 31686.0, (5, 1, 0, 4, 2, 3): 31911.0, (0, 2, 4, 5, 3, 1): 32384.0, (0, 2, 3, 5, 4, 1): 32384.0, (0, 2, 4, 1, 5, 3): 32533.0, (5, 1, 0, 4, 3, 2): 32573.0, (5, 1, 0, 3, 4, 2): 32573.0, (0, 2, 1, 5, 4, 3): 32792.0, (0, 2, 1, 5, 3, 4): 32792.0, (2, 5, 4, 3, 1, 0): 33001.0, (1, 4, 2, 5, 3, 0): 33275.0, (0, 4, 1, 5, 3, 2): 34087.0, (0, 1, 2, 3, 4, 5): 34359.0, (5, 4, 0, 3, 1, 2): 34909.0, (0, 3, 5, 4, 1, 2): 34909.0, (4, 1, 2, 3, 0, 5): 35041.0, (4, 0, 2, 3, 1, 5): 35041.0, (1, 2, 4, 5, 0, 3): 35365.0, (5, 1, 4, 3, 0, 2): 35440.0, (1, 4, 0, 2, 5, 3): 35817.0, (5, 1, 4, 0, 3, 2): 36582.0, (5, 1, 2, 3, 0, 4): 36793.0, (3, 2, 0, 1, 5, 4): 37923.0, (0, 1, 5, 3, 2, 4): 37923.0, (5, 3, 2, 1, 4, 0): 38020.0, (2, 4, 0, 1, 5, 3): 38049.0, (0, 5, 2, 4, 3, 1): 39414.0, (3, 4, 1, 2, 5, 0): 39502.0, (4, 3, 1, 2, 5, 0): 39502.0, (3, 1, 2, 5, 0, 4): 40302.0, (0, 3, 4, 2, 5, 1): 40335.0, (1, 5, 4, 3, 0, 2): 40412.0, (1, 2, 4, 5, 3, 0): 40413.0, (0, 2, 4, 3, 5, 1): 40506.0, (1, 5, 3, 0, 4, 2): 41554.0, (1, 5, 4, 0, 3, 2): 41554.0, (0, 2, 1, 3, 5, 4): 41568.0, (0, 2, 3, 5, 1, 4): 41568.0, (2, 1, 5, 0, 3, 4): 41582.0, (3, 5, 0, 2, 4, 1): 41752.0, (4, 5, 0, 3, 2, 1): 42094.0, (0, 3, 2, 4, 5, 1): 42220.0, (0, 5, 3, 4, 2, 1): 42249.0, (5, 2, 1, 3, 4, 0): 42458.0, (0, 5, 3, 1, 4, 2): 43080.0, (3, 5, 1, 4, 2, 0): 43156.0, (3, 5, 1, 0, 2, 4): 43185.0, (0, 3, 1, 2, 5, 4): 43408.0, (2, 3, 0, 5, 1, 4): 43437.0, (0, 5, 4, 2, 3, 1): 43495.0, (5, 2, 1, 0, 4, 3): 44075.0, (1, 0, 3, 5, 2, 4): 44112.0, (3, 4, 0, 2, 5, 1): 44819.0, (4, 3, 0, 2, 5, 1): 44819.0, (2, 3, 4, 5, 1, 0): 44899.0, (2, 0, 3, 1, 4, 5): 45216.0, (0, 1, 3, 5, 2, 4): 45278.0, (3, 5, 1, 0, 4, 2): 45561.0, (4, 5, 1, 0, 3, 2): 45561.0, (2, 0, 5, 4, 3, 1): 45902.0, (4, 5, 3, 0, 2, 1): 46132.0, (3, 5, 4, 0, 2, 1): 46132.0, (2, 0, 1, 3, 4, 5): 46235.0, (5, 4, 0, 2, 1, 3): 46962.0, (1, 3, 0, 5, 2, 4): 46979.0, (1, 3, 2, 0, 4, 5): 47377.0, (0, 5, 4, 1, 2, 3): 47671.0, (0, 5, 3, 1, 2, 4): 47671.0, (4, 3, 0, 1, 5, 2): 47774.0, (3, 0, 5, 2, 4, 1): 47859.0, (2, 3, 4, 0, 5, 1): 48001.0, (2, 1, 4, 3, 0, 5): 48224.0, (4, 3, 0, 2, 1, 5): 48224.0, (1, 4, 0, 3, 5, 2): 48428.0, (1, 3, 0, 4, 5, 2): 48428.0, (4, 5, 1, 3, 0, 2): 48428.0, (5, 4, 3, 2, 1, 0): 48550.0, (5, 3, 4, 2, 1, 0): 48550.0, (0, 1, 2, 5, 4, 3): 49152.0, (3, 5, 1, 2, 4, 0): 49781.0, (5, 4, 3, 2, 0, 1): 49983.0, (3, 0, 1, 2, 4, 5): 51031.0, (4, 0, 1, 2, 3, 5): 51031.0, (2, 1, 5, 3, 4, 0): 51114.0, (4, 5, 0, 1, 2, 3): 51318.0, (5, 2, 3, 0, 1, 4): 51797.0, (3, 0, 2, 1, 5, 4): 51914.0, (0, 4, 3, 5, 2, 1): 53597.0, (0, 5, 2, 1, 3, 4): 53659.0, (1, 2, 4, 0, 5, 3): 54316.0, (4, 1, 2, 3, 5, 0): 55357.0, (4, 5, 0, 3, 1, 2): 56019.0, (0, 4, 1, 3, 5, 2): 56019.0, (3, 5, 0, 4, 1, 2): 56019.0, (0, 5, 4, 3, 1, 2): 56174.0, (3, 1, 5, 2, 4, 0): 56512.0, (4, 1, 5, 2, 3, 0): 56512.0, (4, 3, 1, 5, 2, 0): 56911.0, (1, 5, 2, 3, 0, 4): 57531.0, (4, 5, 2, 1, 3, 0): 59130.0, (4, 1, 2, 0, 3, 5): 59452.0, (3, 1, 2, 0, 4, 5): 59452.0, (0, 1, 5, 2, 4, 3): 60314.0, (2, 0, 3, 5, 4, 1): 61851.0, (2, 0, 3, 1, 5, 4): 62000.0, (3, 0, 1, 5, 2, 4): 63998.0, (5, 1, 2, 0, 3, 4): 64546.0, (5, 1, 2, 0, 4, 3): 64546.0, (3, 0, 1, 4, 5, 2): 65447.0, (4, 5, 3, 0, 1, 2): 65447.0, (3, 5, 0, 2, 1, 4): 68072.0, (2, 1, 0, 4, 5, 3): 68540.0, (4, 5, 3, 2, 1, 0): 69660.0, (3, 4, 5, 2, 1, 0): 69695.0, (2, 0, 1, 3, 5, 4): 71035.0, (1, 4, 3, 5, 2, 0): 71390.0, (1, 3, 4, 5, 2, 0): 71390.0, (3, 5, 2, 0, 1, 4): 73018.0, (2, 1, 3, 0, 5, 4): 74321.0, (3, 5, 1, 2, 0, 4): 77534.0, (4, 1, 2, 0, 5, 3): 84407.0}\n",
      "Explore len:  209\n",
      "\n",
      "Problem:  more_cases-low_dimension\\problems\\example.json \n",
      "Solution:   Individual: [1, 2, 3, 0, 5, 4] \n",
      "Stats:  {'time': 1.7572927999990497, 'searches': {'real': 31, 'total': 1601}, 'population': {'real': 209, 'total': 250}} \n",
      "Score:  3760.0\n",
      "Top 10:  [ Individual: [3, 1, 4, 5, 2, 0],  Individual: [2, 5, 0, 3, 1, 4],  Individual: [2, 1, 3, 4, 5, 0],  Individual: [4, 5, 2, 3, 1, 0],  Individual: [2, 4, 5, 1, 3, 0],  Individual: [3, 0, 5, 4, 1, 2],  Individual: [2, 1, 0, 4, 3, 5],  Individual: [3, 5, 0, 4, 1, 2],  Individual: [2, 1, 4, 3, 5, 0],  Individual: [5, 1, 2, 3, 4, 0]]\n"
     ]
    }
   ],
   "source": [
    "# TODO: Experiment here with the small problem\n",
    "# Creamos un diccionario top 10 para guardar los mejores fitness(min) de cada ejecucion\n",
    "\n",
    "top10 = []\n",
    "problem = \"more_cases-low_dimension\\problems\\example.json\"\n",
    "\n",
    "def run_ga(semilla):\n",
    "    geneticAlgorithm = Genetic(250, 1000, \"torneo\", 'crossover', 0.8, 'mutation', 0.1, True, semilla, False)\n",
    "    cvrp = CVRP(problem, algorithm = geneticAlgorithm)\n",
    "    solution = cvrp()\n",
    "    if len(top10) < 10:\n",
    "        top10.append(solution)\n",
    "        top10.sort(key=lambda x: x.fitness)\n",
    "    else:\n",
    "        for top10_fitness in top10:\n",
    "            # Comprobamos el fitness de la solucion y lo guardamos en el diccionario si esta entre los 10 mejores\n",
    "            if solution.fitness < top10_fitness:\n",
    "                if len(top10) < 10:\n",
    "                    top10.append(solution)\n",
    "                    # Ordenamos la lista de menor a mayor\n",
    "                    top10.sort(key=lambda x: x.fitness)\n",
    "                    # Salimos del bucle for\n",
    "                    break\n",
    "                else:\n",
    "                    top10.pop()\n",
    "                    top10.append(solution)\n",
    "                    # Salimos del bucle for\n",
    "                    break\n",
    "\n",
    "    return solution\n",
    "\n",
    "# Crea una lista de hilos\n",
    "threads = []\n",
    "\n",
    "# Recorre la semilla y crea un hilo para cada elemento\n",
    "for i in range(20):\n",
    "    t = threading.Thread(target=run_ga, args=(i,))\n",
    "    threads.append(t)\n",
    "\n",
    "# Inicia todos los hilos\n",
    "for t in threads:\n",
    "    t.start()\n",
    "    t.join()\n",
    "\n",
    "# Espera a que todos los hilos terminen\n",
    "for t in threads:\n",
    "    t.join()\n",
    "\n",
    "\n",
    "print(\"Top 10: \", top10)\n"
   ]
  },
  {
   "cell_type": "code",
   "execution_count": 85,
   "metadata": {},
   "outputs": [
    {
     "name": "stdout",
     "output_type": "stream",
     "text": [
      "Top 10: \n",
      "Top  1 :   Individual: [1, 2, 3, 0, 5, 4] Fitness:  2659.0\n",
      "Top  2 :   Individual: [0, 1, 2, 4, 5, 3] Fitness:  2659.0\n",
      "Top  3 :   Individual: [3, 4, 5, 1, 0, 2] Fitness:  3047.0\n",
      "Top  4 :   Individual: [1, 4, 5, 0, 2, 3] Fitness:  3225.0\n",
      "Top  5 :   Individual: [5, 4, 2, 1, 3, 0] Fitness:  3788.0\n",
      "Top  6 :   Individual: [2, 1, 3, 5, 4, 0] Fitness:  3857.0\n",
      "Top  7 :   Individual: [1, 3, 2, 4, 5, 0] Fitness:  3865.0\n",
      "Top  8 :   Individual: [1, 4, 3, 2, 0, 5] Fitness:  3883.0\n",
      "Top  9 :   Individual: [2, 3, 1, 4, 0, 5] Fitness:  3948.0\n",
      "Top  10 :   Individual: [0, 2, 3, 1, 4, 5] Fitness:  5736.0\n"
     ]
    }
   ],
   "source": [
    "# Top 10 \n",
    "print(\"Top 10: \")\n",
    "for i in range(len(top10)):\n",
    "    print(\"Top \", i+1, \": \", top10[i], \"Fitness: \" ,top10[i].fitness)\n"
   ]
  },
  {
   "cell_type": "code",
   "execution_count": 83,
   "metadata": {},
   "outputs": [
    {
     "name": "stdout",
     "output_type": "stream",
     "text": [
      "Fitness:  30566.0\n"
     ]
    }
   ],
   "source": [
    "# Evaluamos el fitness \n",
    "print(\"Fitness: \", cvrp.evaluate([1, 2, 3, 0, 5, 4]))"
   ]
  },
  {
   "cell_type": "code",
   "execution_count": null,
   "metadata": {
    "datalore": {
     "hide_input_from_viewers": false,
     "hide_output_from_viewers": false,
     "node_id": "vbIvLP0J25a0mC8t9d9SSk",
     "report_properties": {},
     "type": "CODE"
    }
   },
   "outputs": [],
   "source": [
    "# TODO: Experiment here with the medium problem"
   ]
  },
  {
   "cell_type": "code",
   "execution_count": null,
   "metadata": {
    "datalore": {
     "hide_input_from_viewers": false,
     "hide_output_from_viewers": false,
     "node_id": "4OvQrZI7jUXlqorMzjpEK8",
     "report_properties": {},
     "type": "CODE"
    }
   },
   "outputs": [],
   "source": [
    "# TODO: Experiment here with the large problem"
   ]
  },
  {
   "attachments": {},
   "cell_type": "markdown",
   "metadata": {
    "datalore": {
     "hide_input_from_viewers": false,
     "hide_output_from_viewers": false,
     "node_id": "1gMr8LgttqSXYAOdmeHNSm",
     "report_properties": {},
     "type": "MD"
    }
   },
   "source": [
    "### 5. Entrega y evaluación\n",
    "\n",
    "Al igual que la práctica anterior, esta se debe **hacer en pares**. No obstante, en **casos excepcionales** se permite realizarla **individualmente**. **La fecha límite para subir la práctica es el 18 de diciembre de 2022 a las 23:55**. Las **entrevistas y evaluaciones** se realizarán la **semana siguiente**.\n",
    "\n",
    "Algunas consideraciones:\n",
    "\n",
    "* **En caso de que no se haya entregado la primera práctica, o se haya sacado menos de un cuatro, se podrán entregar conjuntamente en esta fecha. No obstante, se considerará únicamente un 90% de la nota global de prácticas**.\n",
    "* Está práctica supone el **70%** de la **nota** en este apartado.\n",
    "* La práctica se **evaluará** mediante una **entrevista individual** con el profesorado. Las fechas de las entrevistas se publicarán con antelación.\n",
    "*  Se proporcionará un **conjunto** de **casos** de **prueba preliminares** (varios mapas e instancias) que se **deben resolver correctamente**. En caso contrario, la práctica se considerará suspensa.\n",
    "* La **entrevista** consistirá en una serie de **preguntas** acerca del **código**.\n",
    "\n",
    "**Por último, para la evaluación no continua se requirirá la implementación del algoritmo de búsqueda por ascenso de colinas. Además, este se deberá utilizar para inicializar la población del algoritmo genético, en lugar de que sea aleatoria.**"
   ]
  }
 ],
 "metadata": {
  "datalore": {
   "base_environment": "default",
   "computation_mode": "JUPYTER",
   "package_manager": "pip",
   "packages": [
    {
     "name": "pqueue",
     "source": "PIP",
     "version": "0.1.7"
    },
    {
     "name": "geopy",
     "source": "PIP",
     "version": "2.2.0"
    }
   ],
   "version": 1
  },
  "kernelspec": {
   "display_name": "Python 3.10.8 64-bit (microsoft store)",
   "language": "python",
   "name": "python3"
  },
  "language_info": {
   "codemirror_mode": {
    "name": "ipython",
    "version": 3
   },
   "file_extension": ".py",
   "mimetype": "text/x-python",
   "name": "python",
   "nbconvert_exporter": "python",
   "pygments_lexer": "ipython3",
   "version": "3.10.9 (tags/v3.10.9:1dd9be6, Dec  6 2022, 20:01:21) [MSC v.1934 64 bit (AMD64)]"
  },
  "vscode": {
   "interpreter": {
    "hash": "410621c85258efa0ea47ad915638abc1a4a3304f33944a818dfb0fc7cd918640"
   }
  }
 },
 "nbformat": 4,
 "nbformat_minor": 4
}
