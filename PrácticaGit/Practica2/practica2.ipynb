{
 "cells": [
  {
   "attachments": {},
   "cell_type": "markdown",
   "metadata": {
    "datalore": {
     "hide_input_from_viewers": false,
     "hide_output_from_viewers": false,
     "node_id": "yLdVtrycDWHyWuJsZXjfN6",
     "report_properties": {},
     "type": "MD"
    }
   },
   "source": [
    "# Práctica 2: Algoritmos metaheurísticos\n",
    "\n",
    "## Sistemas Inteligentes\n",
    "\n",
    "### Curso académico 2022-2023\n",
    "\n",
    "#### Profesorado:\n",
    "\n",
    "* Juan Carlos Alfaro Jiménez (`JuanCarlos.Alfaro@uclm.es`)\n",
    "* Guillermo Tomás Fernández Martín (`Guillermo.Fernandez@uclm.es`)\n",
    "* María Julia Flores Gallego (`Julia.Flores@uclm.es`)\n",
    "* Ismael García Varea (`Ismael.Garcia@uclm.es`)\n",
    "* Luis González Naharro (`Luis.GNaharro@uclm.es`)\n",
    "* Aurora Macías Ojeda (`Profesor.AMacias@uclm.es`)\n",
    "* Marina Sokolova Sokolova (`Marina.Sokolova@uclm.es`)"
   ]
  },
  {
   "attachments": {},
   "cell_type": "markdown",
   "metadata": {
    "datalore": {
     "hide_input_from_viewers": false,
     "hide_output_from_viewers": false,
     "node_id": "982IVN3tGtSrVVBrH4911R",
     "report_properties": {},
     "type": "MD"
    }
   },
   "source": [
    "## 0. Preliminares\n",
    "\n",
    "Antes de comenzar con el desarrollo de esta práctica es necesario **descargar**, en **formato `.py`**, el código de la **práctica anterior** con el nombre **`utils.py`**. Para ello, pulsamos, en la libreta de la primera práctica, **`File > Export .py`**.\n",
    "\n",
    "Una vez hemos descargado y nombrado correctamente el fichero, lo **añadimos** al espacio de trabajo de la **libreta** de la práctica **actual** a través de **`Attached data > Notebook files > Upload files`** y subimos el fichero `utils.py` descargado en el paso anterior.\n",
    "\n",
    "Tras esto, debemos **cambiar** el **constructor** de la clase **`Problem`** para que **reciba** directamente el **problema** a resolver, **en lugar de cargarlo desde** un **fichero**. Esto se debe a que los algoritmos metaheurísticos van a tener que resolver, en múltiples ocasiones, este problema. De esta manera nos **evitamos** la **carga computacional extra** que implica **leer** el problema desde un **fichero**. Además, también es necesario **comentar** cualquier línea de **código** que **imprima estadísticas** para evitar salidas largas."
   ]
  },
  {
   "attachments": {},
   "cell_type": "markdown",
   "metadata": {
    "datalore": {
     "hide_input_from_viewers": false,
     "hide_output_from_viewers": false,
     "node_id": "syMR9Ze0dsA7l1Yyc3gfj8",
     "report_properties": {},
     "type": "MD"
    }
   },
   "source": [
    "## 1. Introducción\n",
    "\n",
    "En esta práctica, vamos a **resolver** un **problema** de **optimización combinatoria** mediante **algoritmos metaheurísticos**. En particular, vamos a implementar **algoritmos genéticos** para abordar el **problema** de **ruteo** de **vehículos**. En este, **varios vehículos** con **capacidad limitada** deben **recoger paquetes** en **diferentes ubicaciones** y **trasladarlos** a una **sede central** de recogida.\n",
    "\n",
    "Además, se **analizará** y **comparará** el **rendimiento** de **diferentes algoritmos genéticos** (mediante la modificación de los pasos correspondientes) en diferentes instancias del problema.\n",
    "\n",
    "---"
   ]
  },
  {
   "attachments": {},
   "cell_type": "markdown",
   "metadata": {
    "datalore": {
     "hide_input_from_viewers": false,
     "hide_output_from_viewers": false,
     "node_id": "VUjcESa3hB27UoolAy19bi",
     "report_properties": {},
     "type": "MD"
    }
   },
   "source": [
    "## 2. Descripción del problema\n",
    "\n",
    "El concepto de mapa que vamos a utilizar es similar al de la primera práctica. Este se representa mediante un **grafo**, donde los **nodos** representan **ciudades** y los **enlaces** indican la existencia de una **carretera en ambos sentidos** entre dos ciudades. Además, los **enlaces** tienen un **peso** asociado indicando la **distancia real** entre las dos ciudades. Al mismo tiempo, se proporciona una **sede central**, que se trata de la ciudad donde se deben dejar los paquetes. A su vez, se dispone de una **flota de vehículos** con **capacidad limitada** que deben **recoger** los **paquetes** en las ciudades correspondientes y que **inicialmente** están aparcados en la **sede central**. **En caso de que a la hora de recoger un paquete se supere la capacidad del vehículo correspondiente, este debe volver a la sede central a descargar todos los paquetes, considerando el coste que implicaría volver**.\n",
    "\n",
    "Un mapa es un problema en particular, pero diferentes paquetes, capacidades de vehículos y ubicación de la sede central pueden dar lugar a diferentes instancias del problema. Por tanto, el **objetivo** en este problema es **recoger todos los paquetes de tal manera que los vehículos recorran la menor distancia posible**.\n",
    "\n",
    "**Con el objetivo de simplificar la práctica en evaluación continua, se asume que se cuenta con un único vehículo. No obstante, esto podría cambiar para la evaluación no continua.**\n",
    "\n",
    "---"
   ]
  },
  {
   "attachments": {},
   "cell_type": "markdown",
   "metadata": {
    "datalore": {
     "hide_input_from_viewers": false,
     "hide_output_from_viewers": false,
     "node_id": "VaoR74xcSrrxzA6B7LMu1h",
     "report_properties": {},
     "type": "MD"
    }
   },
   "source": [
    "## 3. Desarrollo de la práctica\n",
    "\n",
    "Durante el desarrollo de la práctica se va a proporcionar un conjunto de mapas, sobre los cuáles se debe resolver el problema de optimización combinatoria correspondiente. Es importante destacar que la **dimensionalidad** del **problema** (número de ciudades, carreteras y paquetes) puede ser **variable**, por lo que los diferentes **algoritmos genéticos** deben ser lo suficientemente **eficientes** para que puedan **resolver** los **problemas** en un **tiempo razonable**.\n",
    "\n",
    "**Además, algunos escenarios se van a guardar para las entrevistas de prácticas, por lo que el código debe ser lo más general posible para cargarlos de manera rápida y sencilla.**"
   ]
  },
  {
   "attachments": {},
   "cell_type": "markdown",
   "metadata": {
    "datalore": {
     "hide_input_from_viewers": false,
     "hide_output_from_viewers": false,
     "node_id": "RdalgA654CeCiLVJnmgzSG",
     "report_properties": {},
     "type": "MD"
    }
   },
   "source": [
    "### 3.1. Entrada\n",
    "\n",
    "Cada escenario tendrá un fichero `.json` asociado con la siguiente estructura:\n",
    "\n",
    "```JSON\n",
    "{\n",
    "    \"map\": {\n",
    "        \"cities\": [\n",
    "            {\n",
    "                \"id\": id_city_0,\n",
    "                \"name\": name_city_0,\n",
    "                \"lat\": latitude_city_0,\n",
    "                \"lon\": longitude_city_0\n",
    "            }\n",
    "        ],\n",
    "        \"roads\": [\n",
    "            {\n",
    "                \"origin\": origin_city_id,\n",
    "                \"destination\": destination_city_id,\n",
    "                \"distance\": road_distance\n",
    "            }\n",
    "        ]\n",
    "    },\n",
    "    \"warehouse\": warehouse_city_id,\n",
    "    \"vehicles\": [\n",
    "        {\n",
    "            \"id\": id_vehicle_0,\n",
    "            \"capacity\": capacity_vehicle_0\n",
    "        }\n",
    "    ]\n",
    "    \"parcels\": [\n",
    "        {\n",
    "            \"id\": id_parcel_0,\n",
    "            \"city\": parcel_city_id,\n",
    "            \"weight\": weight_parcel_0\n",
    "        }\n",
    "    ]\n",
    "}\n",
    "```\n",
    "\n",
    "Hay cuatro elementos principales en el fichero:\n",
    "\n",
    "* `map`: Un diccionario con el mapa, cuya descripción es la misma que la de la primera práctica\n",
    "* `warehouse`: Identificador de la ciudad donde se encuentra la sede central\n",
    "* `vehicles`: Lista de vehículos disponibles\n",
    "* `parcels`: Lista de paquetes a recoger\n",
    "\n",
    "Por su parte, `vehicles` contiene:\n",
    "\n",
    "* `id`: Identificador del vehículo\n",
    "* `capacity`: Capacidad máxima del vehículo\n",
    "\n",
    "Y `parcels`:\n",
    "\n",
    "* `id`: Identificador del paquete\n",
    "* `city`: Ciudad donde se encuentra el paquete\n",
    "* `weight`: Peso del paquete\n",
    "\n",
    "**Para añadir los ficheros con los problemas al espacio de trabajo se debe usar el mismo procedimiento anterior.**\n",
    "\n",
    "---"
   ]
  },
  {
   "attachments": {},
   "cell_type": "markdown",
   "metadata": {
    "datalore": {
     "hide_input_from_viewers": false,
     "hide_output_from_viewers": false,
     "node_id": "na9BOnkud99hJxOfeujKUz",
     "report_properties": {},
     "type": "MD"
    }
   },
   "source": [
    "## 4. Plan de trabajo"
   ]
  },
  {
   "attachments": {},
   "cell_type": "markdown",
   "metadata": {
    "datalore": {
     "hide_input_from_viewers": false,
     "hide_output_from_viewers": false,
     "node_id": "sc77dYXhPZ9qeA1QczxZrP",
     "report_properties": {},
     "type": "MD"
    }
   },
   "source": [
    "### 4.1. Formalización del problema\n",
    "\n",
    "Para resolver cualquier problema de optimización combinatoria en primer lugar hay que definir como vamos a **codificar** las **soluciones** al problema. Si bien es algo que se deja a criterio propio, se plantea la siguiente pregunta, **¿cuál puede ser la mejor representación para una secuencia de paquetes a recoger?**\n",
    "\n",
    "Se puede comprobar si la respuesta es correcta introduciéndola en la variable `answer` del siguiente fragmento de código:"
   ]
  },
  {
   "cell_type": "code",
   "execution_count": 36,
   "metadata": {
    "datalore": {
     "hide_input_from_viewers": false,
     "hide_output_from_viewers": false,
     "node_id": "j1BykqU48Ypy9xgBokYE1i",
     "report_properties": {},
     "type": "CODE"
    }
   },
   "outputs": [],
   "source": [
    "# Third party\n",
    "import hashlib\n",
    "import json \n",
    "import random\n",
    "import numpy as np"
   ]
  },
  {
   "cell_type": "code",
   "execution_count": 37,
   "metadata": {
    "datalore": {
     "hide_input_from_viewers": false,
     "hide_output_from_viewers": false,
     "node_id": "R6P7n9mZ1ABeZBiLexLh1L",
     "report_properties": {},
     "type": "CODE"
    }
   },
   "outputs": [],
   "source": [
    "check_answer = lambda answer, hashed: \"The answer is \" + (\"\" if hashlib.md5(answer).hexdigest() == hashed else \"in\") + \"correct.\""
   ]
  },
  {
   "cell_type": "code",
   "execution_count": 38,
   "metadata": {
    "datalore": {
     "hide_input_from_viewers": false,
     "hide_output_from_viewers": false,
     "node_id": "GEuGrWRDYI8a8IZrqij0KF",
     "report_properties": {},
     "type": "CODE"
    }
   },
   "outputs": [
    {
     "name": "stdout",
     "output_type": "stream",
     "text": [
      "90d377b31e1ac26d0d10d5612ce33ccc\n"
     ]
    },
    {
     "data": {
      "text/plain": [
       "'The answer is incorrect.'"
      ]
     },
     "execution_count": 38,
     "metadata": {},
     "output_type": "execute_result"
    }
   ],
   "source": [
    "# TODO: Introduce here the answer to use for the hashing\n",
    "answer = \"Hello\"\n",
    "\n",
    "# Avoid case sensitivity in the answer\n",
    "answer = str.lower(answer)\n",
    "\n",
    "# Encode the answer before hashing\n",
    "answer = answer.encode(\"utf-8\")\n",
    "\n",
    "hashed = \"90d377b31e1ac26d0d10d5612ce33ccc\"  # The hashed answer\n",
    "print(hashed)\n",
    "\n",
    "check_answer(answer, hashed)"
   ]
  },
  {
   "attachments": {},
   "cell_type": "markdown",
   "metadata": {
    "datalore": {
     "hide_input_from_viewers": false,
     "hide_output_from_viewers": false,
     "node_id": "L1E7XRnlYRy7oEPYUIyWSS",
     "report_properties": {},
     "type": "MD"
    }
   },
   "source": [
    "### 4.2. Implementación\n",
    "\n",
    "A continuación se proporciona la estructura de clases recomendada para resolver el problema en cuestión. Tendréis que completar las siguientes clases de acuerdo con los algoritmos estudiados en teoría. **Debéis incluir en la siguiente celda todas las librerías que vayáis a utilizar para mantener la libreta lo más organizada posible**:"
   ]
  },
  {
   "cell_type": "code",
   "execution_count": 39,
   "metadata": {
    "datalore": {
     "hide_input_from_viewers": false,
     "hide_output_from_viewers": false,
     "node_id": "62Rt8q8LpQ34afG23pb5F1",
     "report_properties": {},
     "type": "CODE"
    }
   },
   "outputs": [],
   "source": [
    "# Importamos la clase utils.py en la carpeta actual\n",
    "import utils as ut"
   ]
  },
  {
   "attachments": {},
   "cell_type": "markdown",
   "metadata": {
    "datalore": {
     "hide_input_from_viewers": false,
     "hide_output_from_viewers": false,
     "node_id": "ncEgrJcWJ52rHsjy80qESR",
     "report_properties": {},
     "type": "MD"
    }
   },
   "source": [
    "#### Clase `Individual`\n",
    "\n",
    "Esta clase proporciona la **codificación** de un **individuo** de la **población**.\n",
    "\n",
    "Los **métodos obligatorios** que se deben añadir son:\n",
    "\n",
    "* ``__init__(self, num_genes, generation_type, crossover_type, mutation_type)``: Inicializa el **número** de **genes** del **individuo** y el **tipo** de **operación** de **generación**, **cruce** y **mutación**. Ademas, genera la **solución** que **representa** el **individuo**.\n",
    "* ``generate(num_genes, generation_type)``: Método estático para **generar** una **solución** del tamaño proporcionado de acuerdo con el tipo de operación de generación.\n",
    "* ``crossover(self, individual)``: **Cruza** el **individuo actual** con el **individuo** de **entrada** de acuerdo con el tipo de operación de cruce.\n",
    "* ``mutation(self)``: **Muta** el **individuo** de acuerdo con el tipo de operación de mutación.\n",
    "* ``evaluate(self, problem)``: **Evalua** el **individuo** usando el **problema** a **resolver**.\n",
    "\n",
    "Y los **métodos recomendados** son:\n",
    "\n",
    "* ``__str__(self)``: **Representación** en formato de **cadena** de **caracteres** de un **individuo**. Método útil para depurar una lista de individuos.\n",
    "* ``__repr__(self)``: **Método** invocado cuando se ejecuta **``print``** sobre el **individuo**. Método útil para depurar un solo individuo."
   ]
  },
  {
   "cell_type": "code",
   "execution_count": 40,
   "metadata": {
    "datalore": {
     "hide_input_from_viewers": false,
     "hide_output_from_viewers": false,
     "node_id": "HAgyUGxYcoG2LaYD1ZRqHt",
     "report_properties": {},
     "type": "CODE"
    }
   },
   "outputs": [],
   "source": [
    "class Individual:\n",
    "\n",
    "    # =============================================================================\n",
    "    # Constructor\n",
    "    # =============================================================================\n",
    "\n",
    "    # Creamos un objeto de random para poder utilizarlo en los metodos estaticos\n",
    "    #random = random.Random(123)\n",
    "\n",
    "    def __init__(self, num_genes, generation_type=\"random\", crossover_type = None, mutation_type = None):\n",
    "        self.num_genes = num_genes\n",
    "        self.generation_type = generation_type\n",
    "        self.crossover_type = crossover_type\n",
    "        self.mutation_type = mutation_type\n",
    "\n",
    "        self.fitness = 0\n",
    "        \n",
    "        self.genes = []\n",
    "\n",
    "\n",
    "    # =============================================================================\n",
    "    # Mandatory methods\n",
    "    # =============================================================================\n",
    "\n",
    "    # Método estático para generar una solución del tamaño proporcionado de acuerdo con el tipo de operación \n",
    "    # de generación.\n",
    "    # A este metodo le pasamos num_genes, generation_type y un objeto de la clase random\n",
    "    # @staticmethod\n",
    "    def generate(num_genes, generation_type=\"random\"):\n",
    "        # Hay diferentes tipos de generación de individuos -> aleatoria, por distribucion, por enfoque, por seleccion...\n",
    "        \n",
    "        # Generación aleatoria -> Se generan los genes aleatoriamente\n",
    "        \n",
    "        if generation_type == \"random\":\n",
    "            # Creamos un individuo vacio\n",
    "            individual = Individual(num_genes, generation_type)\n",
    "\n",
    "            # Generamos los genes aleatoriamente\n",
    "            # Para ello utilizaremos la funcion random de la libreria random\n",
    "            # for i in range(num_genes):\n",
    "            #     individual.genes.append(random.random())\n",
    "\n",
    "            # Generamos los genes aleatoriamente de tipo entero entre el rango de 0 a num_genes\n",
    "            # for i in range(num_genes):\n",
    "                # individual.genes.append(random.randint(0, num_genes - 1))  \n",
    "\n",
    "            # Generamos los genes de forma aleatoria sin que se repitan\n",
    "            individual.genes = random.sample(range(num_genes), num_genes)\n",
    "\n",
    "        return individual\n",
    "         \n",
    "        \n",
    "\n",
    "    # Método para realizar el cruce de dos individuos de acuerdo con el tipo de operación de cruce.\n",
    "    def crossover(self, individual):\n",
    "        # Tenemos diferentes tipos de operadores de cruce nosotros utilizaremos el que se utiliza para situaciones \n",
    "        # reales, el cruce 2PCX o cruce de dos puntos de cortes\n",
    "\n",
    "        # Creamos los puntos de corte aleatoriamente, para hacer que siempre se generen dos puntos de corte debemos evitar\n",
    "        # que los puntos de corte sean iguales y que los puntos de corte sean el primer o ultimo gen y que los puntos de corte\n",
    "        # es decir que no sean 0 o num_genes - 1 \n",
    "\n",
    "        cut_points = random.sample(range(1, self.num_genes - 1), 2)\n",
    "\n",
    "        cut_points = random.sample(range(self.num_genes), 2)\n",
    "        # Asignamos los puntos de corte segun el orden de menor a mayor\n",
    "        cut_point_1, cut_point_2 = min(cut_points), max(cut_points)\n",
    "\n",
    "        \n",
    "\n",
    "        # Creamos los hijos\n",
    "        child_1 = self.genes[:cut_point_1] + individual.genes[cut_point_1:cut_point_2] + self.genes[cut_point_2:]\n",
    "        child_2 = individual.genes[:cut_point_1] + self.genes[cut_point_1:cut_point_2] + individual.genes[cut_point_2:]\n",
    "\n",
    "        return child_1, child_2\n",
    "\n",
    "\n",
    "\n",
    "\n",
    "\n",
    "    # Método para realizar la mutación de un individuo de acuerdo con el tipo de operación de mutación.\n",
    "    def mutation(self):\n",
    "        \n",
    "        # Tenemos diferentes mecanismos de mutación para este problema utilizaremos permutaciones, en concreto\n",
    "        # Intercambio e inserción\n",
    "        # 1. Intercambio -> Seleccionamos dos genes aleatoriamente y los intercambiamos\n",
    "        # 2. Inserción -> Seleccionamos un gen aleatoriamente y lo insertamos en una posición aleatoria\n",
    "        \n",
    "\n",
    "        # Intercambio de genes utilizando libreria random con shuffle y choice\n",
    "        # Intercambio de genes\n",
    "\n",
    "        # Seleccionamos el tipo de mutación\n",
    "        mutation_type = random.randint(0, 1)\n",
    "\n",
    "        # mutation_type = 1 \n",
    "\n",
    "        # Intercambio\n",
    "        if mutation_type == 0:\n",
    "            # print(\"\\nINTERCAMBIO\\n\")\n",
    "            # Seleccionamos dos genes aleatoriamente\n",
    "            genes = random.sample(range(self.num_genes), 2)\n",
    "            # Intercambiamos los genes\n",
    "            self.genes[genes[0]], self.genes[genes[1]] = self.genes[genes[1]], self.genes[genes[0]]\n",
    "        \n",
    "        # Inserción\n",
    "        else:\n",
    "            # print(\"\\nINSERCION\\n\")\n",
    "            # Seleccionamos un gen aleatoriamente\n",
    "            gene = random.randint(0, self.num_genes - 1)\n",
    "            # print(\"GEN: \", gene)\n",
    "            # Seleccionamos una posición aleatoria\n",
    "            position = random.randint(0, self.num_genes - 1)\n",
    "            # print(\"POSICION: \", position)\n",
    "            # Insertamos el gen en la posición\n",
    "            self.genes.insert(position, self.genes.pop(gene))\n",
    "\n",
    "        return self.genes\n",
    "\n",
    "        \n",
    "\n",
    "        \n",
    "        \n",
    "    \n",
    "    def evaluate(self, problem):\n",
    "        \n",
    "        # Evaluamos el individuo\n",
    "        self.fitness = problem.evaluate(self.genes)\n",
    "\n",
    "        return self.fitness\n",
    "        \n",
    "        \n",
    "    \n",
    "\n",
    "    # =============================================================================\n",
    "    # Recommended methods\n",
    "    # =============================================================================\n",
    "    \n",
    "\n",
    "    def __str__(self):\n",
    "        return f' Individual: {self.genes}'\n",
    "\n",
    "    def __repr__(self):\n",
    "        return f' Individual: {self.genes}'\n",
    "\n",
    "    pass"
   ]
  },
  {
   "attachments": {},
   "cell_type": "markdown",
   "metadata": {
    "datalore": {
     "hide_input_from_viewers": false,
     "hide_output_from_viewers": false,
     "node_id": "A0rGuLg30jplx5Z8rYbJHu",
     "report_properties": {},
     "type": "MD"
    }
   },
   "source": [
    "**Se recomienda que se prueben cada uno de los métodos implementados de manera individual en las siguientes líneas de código:**"
   ]
  },
  {
   "cell_type": "code",
   "execution_count": 41,
   "metadata": {
    "datalore": {
     "hide_input_from_viewers": false,
     "hide_output_from_viewers": false,
     "node_id": "qMhdHZ0KvcH5mkP3JE2fYT",
     "report_properties": {},
     "type": "CODE"
    }
   },
   "outputs": [
    {
     "name": "stdout",
     "output_type": "stream",
     "text": [
      " Individual: [8, 0, 6, 7, 5, 4, 1, 2, 9, 3]\n"
     ]
    }
   ],
   "source": [
    "# TODO: Test here the methods to generate a solution\n",
    "\n",
    "# Creamos un individuo\n",
    "individual = Individual.generate(10, \"random\")\n",
    "\n",
    "# Imprimimos el individuo\n",
    "print(individual)\n",
    "\n",
    "\n"
   ]
  },
  {
   "cell_type": "code",
   "execution_count": 42,
   "metadata": {
    "datalore": {
     "hide_input_from_viewers": false,
     "hide_output_from_viewers": false,
     "node_id": "bWBCdnWzydSIDitJpwMkIa",
     "report_properties": {},
     "type": "CODE"
    }
   },
   "outputs": [
    {
     "name": "stdout",
     "output_type": "stream",
     "text": [
      "Individuo 1\n",
      "  Individual: [0, 7, 5, 4, 6, 1, 3, 8, 2, 9]\n",
      "Individuo 2\n",
      "  Individual: [5, 0, 9, 3, 4, 8, 1, 2, 7, 6]\n",
      "Hijo 1 [0, 7, 5, 4, 4, 8, 1, 2, 2, 9]\n",
      "Hijo 2 [5, 0, 9, 3, 6, 1, 3, 8, 7, 6]\n"
     ]
    }
   ],
   "source": [
    "# TODO: Test here the methods to cross individuals\n",
    "\n",
    "# Creamos dos individuos\n",
    "individual_1 = Individual.generate(10, \"random\")\n",
    "individual_2 = Individual.generate(10, \"random\")\n",
    "\n",
    "# Imprimimos los individuos\n",
    "print(\"Individuo 1\\n\", individual_1)\n",
    "print(\"Individuo 2\\n\", individual_2)\n",
    "\n",
    "# Realizamos el cruce\n",
    "child_1, child_2 = individual_1.crossover(individual_2)\n",
    "\n",
    "# Imprimimos los hijos\n",
    "print(\"Hijo 1\", child_1)\n",
    "print(\"Hijo 2\", child_2)\n"
   ]
  },
  {
   "cell_type": "code",
   "execution_count": 43,
   "metadata": {
    "datalore": {
     "hide_input_from_viewers": false,
     "hide_output_from_viewers": false,
     "node_id": "x4M7L4sUaPct7Oil7r5Ar3",
     "report_properties": {},
     "type": "CODE"
    }
   },
   "outputs": [
    {
     "name": "stdout",
     "output_type": "stream",
     "text": [
      "Individuo\n",
      "  Individual: [0, 4, 3, 2, 1]\n",
      "Individuo mutado\n",
      "  Individual: [0, 3, 4, 2, 1]\n"
     ]
    }
   ],
   "source": [
    "# TODO: Test here the methods to mutate an individual\n",
    "\n",
    "# Creamos un individuo\n",
    "individual = Individual.generate(5, \"random\")\n",
    "\n",
    "# Imprimimos el individuo\n",
    "print(\"Individuo\\n\", individual)\n",
    "\n",
    "# Realizamos la mutación\n",
    "individual.mutation()\n",
    "\n",
    "# Imprimimos el individuo mutado\n",
    "print(\"Individuo mutado\\n\", individual)\n",
    "\n"
   ]
  },
  {
   "attachments": {},
   "cell_type": "markdown",
   "metadata": {
    "datalore": {
     "hide_input_from_viewers": false,
     "hide_output_from_viewers": false,
     "node_id": "QJydvpXQMeNKKbSRF67cMB",
     "report_properties": {},
     "type": "MD"
    }
   },
   "source": [
    "#### Clase `Genetic`\n",
    "\n",
    "Esta clase implementa un **esquema** básico de **algoritmo genético**.\n",
    "\n",
    "Los **métodos obligatorios** que se deben añadir son:\n",
    "\n",
    "* ``def __init__(self, population_size, num_generations, selection_type, crossover_type, crossover_probability, mutation_type, mutation_probability, keep_elitism, random_state)``: Inicializa el **tamaño** de la **población**, el **tipo** de **operación** de **selección**, **cruce**, y **mutación**, así como la **probabilidad** de aplicar las operaciones de **cruce** y **mutación**. Además, también inicializa el **número** de **mejores soluciones** de la **población actual** que se **mantienen** en la **siguiente población** y una **semilla** para garantizar que los **experimentos** son **reproducibles**. **Nótese que puede ser necesario añadir más argumentos si así se requiere**.\n",
    "* ``def __call__(self, problem)``: **Método** que se **ejecuta** cuando se llama a un **objeto** de la **clase como** si fuese una **función**. En este **método** se debe **implementar** el **esquema básico** de un **algoritmo genético** que se encargue de ejecutar los pasos correspondientes. \n",
    "* ``def generate_population(self, problem)``: **Genera** la **población inicial** de acuerdo con el **problema** a resolver.\n",
    "* ``def select_population(self, population, scores)``: **Selecciona** los **padres** a utilizar para la operación de cruce.\n",
    "* ``def crossover(self, population)``: **Cruza pares** de **padres** teniendo en cuenta la probabilidad de cruce.\n",
    "* ``def mutation(self, population)``: **Muta** los **individuos cruzados** teniendo en cuenta la probabilidad de mutación.\n",
    "* ``def evaluate(self, population, problem)``: **Evalua** los **nuevos individuos** de acuerdo con el problema a resolver.\n",
    "* ``def combine(self, population)``: **Forma** la **nueva generación** de acuerdo con el número de mejores individuos de la población actual a mantener en la siguiente."
   ]
  },
  {
   "cell_type": "code",
   "execution_count": 44,
   "metadata": {
    "datalore": {
     "hide_input_from_viewers": false,
     "hide_output_from_viewers": false,
     "node_id": "RLvvdUCS6ybKqAdMohihW7",
     "report_properties": {},
     "type": "CODE"
    }
   },
   "outputs": [],
   "source": [
    "class Genetic:\n",
    "\n",
    "    # =============================================================================\n",
    "    # Constructor\n",
    "    # =============================================================================\n",
    "\n",
    "    def __init__(self, population_size, num_generations, selection_type, crossover_type, crossover_probability, mutation_type, mutation_probability, keep_elitism, random_state):\n",
    "        \n",
    "        # Tamaño de la población\n",
    "        self.population_size = population_size\n",
    "\n",
    "        # Numero de generaciones\n",
    "        self.num_generations = num_generations\n",
    "\n",
    "        # Tipo de selección\n",
    "        self.selection_type = selection_type\n",
    "\n",
    "        # Tipo de cruce\n",
    "        self.crossover_type = crossover_type\n",
    "\n",
    "        # Probabilidad de cruce\n",
    "        self.crossover_probability = crossover_probability\n",
    "\n",
    "        # Tipo de mutación\n",
    "        self.mutation_type = mutation_type\n",
    "\n",
    "        # Probabilidad de mutación\n",
    "        self.mutation_probability = mutation_probability\n",
    "\n",
    "        # Si queremos mantener el elitismo, es decir, el mejor individuo de la población anterior \n",
    "        self.keep_elitism = keep_elitism\n",
    "        \n",
    "        # Semilla aleatoria, la semilla aleatoria es un número que se utiliza para inicializar un generador de números pseudoaleatorios.\n",
    "        # Esto nos ayuda a obtener los mismos resultados cada vez que ejecutamos el algoritmo\n",
    "        random.seed(random_state)\n",
    "\n",
    "\n",
    "\n",
    "    def __call__(self, problem):\n",
    "        # self.problem = problem\n",
    "        # Call es el encargado de llamar a los métodos de la clase Genetic y de esta forma poder ejecutar el algoritmo genético\n",
    "        # Para ello seguiremos los siguientes pasos:\n",
    "\n",
    "        # 1. Inicializar la población: utilizar el método generate_population para generar una población de individuos de tamaño \n",
    "        # population_size, utilizando el problema especificado en el argumento problem.\n",
    "\n",
    "        # 2. Evaluar la población: utilizar el método evaluate para evaluar a cada individuo de la población y obtener sus puntuaciones.\n",
    "\n",
    "        # 3. Repetir el siguiente proceso durante un número determinado de generaciones (num_generations):\n",
    "\n",
    "        # 4. Seleccionar individuos de la población: utilizar el método select_population para seleccionar un conjunto de individuos de la \n",
    "        # población utilizando el método de selección especificado en el argumento selection_type.\n",
    "\n",
    "        # 5. Aplicar crossover: utilizar el método crossover para aplicar el tipo de crossover especificado en el argumento crossover_type a \n",
    "        # los individuos seleccionados, con una probabilidad especificada en el argumento crossover_probability.\n",
    "\n",
    "        # 6. Aplicar mutación: utilizar el método mutation para aplicar el tipo de mutación especificado en el argumento mutation_type a los \n",
    "        # individuos resultantes del crossover, con una probabilidad especificada en el argumento mutation_probability.\n",
    "\n",
    "        # 7. Evaluar la nueva población: utilizar el método evaluate para evaluar a cada individuo de la nueva población y obtener sus puntuaciones.\n",
    "\n",
    "        # 8. Combinar la población: utilizar el método combine para combinar la población actual con la nueva población generada, \n",
    "        # teniendo en cuenta el argumento keep_elitism para determinar si se deben conservar los individuos más aptos de la población actual.\n",
    "                \n",
    "\n",
    "        # 1. Inicializar la población\n",
    "        population = self.generate_population(problem)\n",
    "\n",
    "        # 2. Evaluar la población\n",
    "        # scores es una lista con las puntuaciones de cada individuo de la población\n",
    "        scores = self.evaluate(population, problem)\n",
    "\n",
    "        # 3. Repetir el siguiente proceso durante un número determinado de generaciones (num_generations)\n",
    "        for _ in range(self.num_generations):\n",
    "                \n",
    "                # 4. Seleccionar individuos de la población\n",
    "                selected_population = self.select_population(population, scores)\n",
    "    \n",
    "                # 5. Aplicar crossover\n",
    "                crossed_population = self.crossover(selected_population)\n",
    "    \n",
    "                # 6. Aplicar mutación\n",
    "                mutated_population = self.mutation(crossed_population)\n",
    "    \n",
    "                # 7. Evaluar la nueva población\n",
    "                new_scores = self.evaluate(mutated_population, problem)\n",
    "    \n",
    "                # 8. Combinar la población\n",
    "                population, scores = self.combine(population, scores, mutated_population, new_scores)\n",
    "\n",
    "        # Devolvemos la mejor solución\n",
    "        return population[np.argmax(scores)]\n",
    "\n",
    "\n",
    "\n",
    "\n",
    "\n",
    "    # =============================================================================\n",
    "    # Mandatory methods\n",
    "    # =============================================================================\n",
    "\n",
    "    def generate_population(self, problem):\n",
    "        \n",
    "        # Creamos la problacion inicial\n",
    "        # population = [Individual.generate(problem.num_genes, \"random\") for _ in range(self.population_size)]\n",
    "        population = [Individual.generate(problem, \"random\") for _ in range(self.population_size)]\n",
    "\n",
    "\n",
    "        return population\n",
    "\n",
    "\n",
    "\n",
    "    def select_population(self, population, scores=None, num_individuos=None):\n",
    "        \n",
    "        # Tenemos diferentes tipos de selección para este problema utilizaremos la selección por torneo\n",
    "        # 1. Selección por torneo -> Seleccionamos dos individuos aleatoriamente y el mejor de los dos pasa a la siguiente generación\n",
    "        # 3. Selección por ranking -> Se seleccionan individuos de forma proporcional a su puntuacion\n",
    "        # 4. Selección por elitismo -> \n",
    "\n",
    "        # Ademas en la seleccion se pueden devolver una cantidad fija de individuos, un porcentaje de individuos o todos los individuos\n",
    "\n",
    "\n",
    "        \n",
    "\n",
    "        # Seleccionamos el tipo de selección\n",
    "        if self.selection_type == \"Torneo\":\n",
    "            # print(\"\\nSELECCION POR TORNEO\\n\")\n",
    "            # Creamos una lista para almacenar los individuos seleccionados\n",
    "            selected_population = []\n",
    "\n",
    "\n",
    "\n",
    "            # Seleccionamos cuatro individuos aleatoriamente\n",
    "            selected_individuals = random.sample(population, 4)\n",
    "\n",
    "            # Seleccionamos los dos mejores individuos de los seleccionados aleatoriamente pero de forma separada,\n",
    "            # es decir, seleccionamos el mejor de los dos primeros y el mejor de los dos segundos\n",
    "            selected_population.append(max(selected_individuals[:2], key=lambda x: x.fitness))\n",
    "            selected_population.append(max(selected_individuals[2:], key=lambda x: x.fitness))\n",
    "\n",
    "            return selected_population\n",
    "\n",
    "        elif self.selection_type == \"Ruleta\":\n",
    "            pass\n",
    "\n",
    "        elif self.selection_type == \"Ranking\":\n",
    "            # print(\"\\nSELECCION POR RANKING\\n\")\n",
    "            pass\n",
    "        elif self.selection_type == \"Elitismo\":\n",
    "            # print(\"\\nSELECCION POR ELITISMO\\n\")\n",
    "            pass\n",
    "        \n",
    "\n",
    "\n",
    "    def crossover(self, population):\n",
    "        # Cruza pares de padres teniendo en cuenta la probabilidad de cruce.\n",
    "        # Para la seleccion de los padres utilizamos el metodo select_population\n",
    "        # Para el cruce utilizamos el metodo crossover de la clase Individual\n",
    "\n",
    "        # El cruce se realiza teniendo en cuenta la probabilidad de cruce self.crossover_probability\n",
    "        # Si la probabilidad de cruce es mayor que el numero aleatorio generado entonces se realiza el cruce\n",
    "        # Si la probabilidad de cruce es menor que el numero aleatorio generado entonces no se realiza el cruce\n",
    "        \n",
    "        # Creamos un numero aleatorio entre 0 y 1 para realizar la probabilidad de cruce\n",
    "        random_number = random.random()\n",
    "        if random_number < self.crossover_probability:\n",
    "            # Seleccionamos los padres\n",
    "            parents = self.select_population(population)\n",
    "            # Realizamos el cruce del padre 1 con el padre 2 \n",
    "            child1, child2 = parents[0].crossover(parents[1])\n",
    "            # Añadimos los hijos a la lista de hijos\n",
    "            childs = [child1, child2]    \n",
    "            \n",
    "\n",
    "        return childs\n",
    "\n",
    "\n",
    "\n",
    "\n",
    "    def mutation(self, population):\n",
    "        # Añadimos una probabilidad de mutación\n",
    "        for individual in population:\n",
    "            if random.random() < self.mutation_probability:\n",
    "                individual.mutate()\n",
    "\n",
    "        return population\n",
    "\n",
    "    def evaluate(self, population, problem):\n",
    "        # Evaluamos los nuevos individuos de acuerdo con el problema a resolver, devolviendo una lista con las puntuaciones de cada individuo\n",
    "        scores = [problem.evaluate(individual) for individual in population]\n",
    "\n",
    "        return scores\n",
    "\n",
    "    def combine(self, population, scores, new_population, new_scores):\n",
    "        # Forma la nueva generación de acuerdo con el número de mejores individuos de la población actual a mantener en la siguiente.\n",
    "        # La poblacion devuelta debe tener el mismo tamaño que la población inicial.\n",
    "        \n",
    "        # Lo primero que debemos hacer es ordenar la población actual y la nueva población por su puntuación (score y new_scores) de mayor a menor\n",
    "        # Score es la puntuacion de la poblacion actual y new_scores es la puntuacion de la nueva poblacion, estas son asociadas por el indice del array\n",
    "\n",
    "        # Ordenamos la población actual y la nueva población por su puntuación (score y new_scores) de mayor a menor\n",
    "        \n",
    "\n",
    "        \n",
    "\n",
    "        # Creamos una lista para almacenar la nueva población\n",
    "        new_population = []\n",
    "\n",
    "\n",
    "\n",
    "\n",
    "\n",
    "        \n",
    "\n",
    "        \n",
    "\n",
    "\n"
   ]
  },
  {
   "attachments": {},
   "cell_type": "markdown",
   "metadata": {
    "datalore": {
     "hide_input_from_viewers": false,
     "hide_output_from_viewers": false,
     "node_id": "gbmyb1Y7HDt8hj3HbK4pyg",
     "report_properties": {},
     "type": "MD"
    }
   },
   "source": [
    "**Se recomienda que se prueben cada uno de los métodos implementados de manera individual en las siguientes líneas de código:**"
   ]
  },
  {
   "cell_type": "code",
   "execution_count": 45,
   "metadata": {
    "datalore": {
     "hide_input_from_viewers": false,
     "hide_output_from_viewers": false,
     "node_id": "FOi9zMZg3wyLatmKT78I1V",
     "report_properties": {},
     "type": "CODE"
    }
   },
   "outputs": [
    {
     "name": "stdout",
     "output_type": "stream",
     "text": [
      "Población inicial\n",
      "[2, 1, 4, 0, 3, 5, 7, 9, 8, 6]\n",
      "[1, 7, 0, 6, 3, 5, 8, 2, 9, 4]\n",
      "[3, 1, 5, 0, 6, 7, 4, 8, 9, 2]\n",
      "[0, 8, 3, 6, 7, 5, 1, 4, 9, 2]\n",
      "[7, 4, 0, 3, 8, 9, 1, 2, 6, 5]\n",
      "[5, 8, 6, 4, 9, 1, 2, 7, 3, 0]\n",
      "[9, 0, 7, 1, 5, 3, 4, 2, 8, 6]\n",
      "[8, 5, 1, 3, 9, 4, 0, 6, 7, 2]\n",
      "[7, 0, 9, 8, 2, 4, 3, 5, 6, 1]\n",
      "[8, 3, 0, 6, 1, 4, 5, 9, 2, 7]\n"
     ]
    }
   ],
   "source": [
    "# TODO: Test here the methods to generate a population\n",
    "# Probamos el metodo para generar una población inicial de Genetic \n",
    "# self, population_size, num_generations, selection_type, crossover_type, crossover_probability, mutation_type, mutation_probability, keep_elitism, random_state)\n",
    "# A genetic le pasamos estos parametros\n",
    "gn = Genetic(10, 10, 'Torneo', 'crossover', 0.8, 'mutation', 0.1, True, 1)\n",
    "\n",
    "# Creamos una población inicial\n",
    "population = gn.generate_population(10)\n",
    "\n",
    "# Imprimimos la población inicial\n",
    "print('Población inicial')\n",
    "for individual in population:\n",
    "    print(individual.genes)\n",
    "\n",
    "\n",
    "\n"
   ]
  },
  {
   "cell_type": "code",
   "execution_count": 46,
   "metadata": {
    "datalore": {
     "hide_input_from_viewers": false,
     "hide_output_from_viewers": false,
     "node_id": "GyAO00SfnmWSXlRQCsyvkf",
     "report_properties": {},
     "type": "CODE"
    }
   },
   "outputs": [
    {
     "name": "stdout",
     "output_type": "stream",
     "text": [
      "Padres seleccionados\n",
      "[8, 5, 1, 3, 9, 4, 0, 6, 7, 2]\n",
      "[2, 1, 4, 0, 3, 5, 7, 9, 8, 6]\n"
     ]
    }
   ],
   "source": [
    "# TODO: Test here the methods to select individuals\n",
    "# Probamos los metodos de seleccion de individuos \n",
    "# Para probar los metodos de seleccion de individuos, vamos a crear una poblacion de 10 individuos y vamos a seleccionar 5 individuos de la poblacion de 10 individuos\n",
    "\n",
    "# Probamos el metodo para seleccionar los padres\n",
    "parents = gn.select_population(population)\n",
    "\n",
    "# Imprimimos los padres seleccionados\n",
    "print('Padres seleccionados')\n",
    "for individual in parents:\n",
    "    print(individual.genes) \n"
   ]
  },
  {
   "cell_type": "code",
   "execution_count": null,
   "metadata": {},
   "outputs": [],
   "source": [
    "# Probramos el metodo para cruzar los padres\n",
    "\n"
   ]
  },
  {
   "cell_type": "code",
   "execution_count": 212,
   "metadata": {
    "datalore": {
     "hide_input_from_viewers": false,
     "hide_output_from_viewers": false,
     "node_id": "kcU1A7LoOYqfSb3JXLcIE9",
     "report_properties": {},
     "type": "CODE"
    }
   },
   "outputs": [],
   "source": [
    "# TODO: Test here the methods to combine populations\n",
    "\n"
   ]
  },
  {
   "attachments": {},
   "cell_type": "markdown",
   "metadata": {
    "datalore": {
     "hide_input_from_viewers": false,
     "hide_output_from_viewers": false,
     "node_id": "ABJANTvB3nbrdRJJ6xfmXo",
     "report_properties": {},
     "type": "MD"
    }
   },
   "source": [
    "#### Clase `CVRP`\n",
    "\n",
    "Esta clase representa el problema en cuestión, esto es, el **problema** de **ruteo** de **vehículos**.\n",
    "\n",
    "Los **métodos obligatorios** que se deben añadir son:\n",
    "\n",
    "* ``def __init__(self, filename, algorithm)``: Inicializa el **problema** en cuestión y el **algoritmo** a usar para resolverlo. A su vez, se debe crear un **diccionario** que contenga como **clave** un **identificador** de **paquete** y como **valor** una **tupla** con la **ciudad** donde se encuentra dicho paquete y su **peso**.\n",
    "* ``def __call__(self)``: **Resuelve** el **problema** en cuestión.\n",
    "* ``def evaluate(self, solution)``: **Evalua** una **solución** para el **problema** en cuestión, **teniendo en cuenta** las **restricciones correspondientes**.\n",
    "* ``def search(self, departure, goal)``: **Resuelve** un **problema** de **búsqueda** de **caminos** dada las **ciudades** de **salida** y **meta**.\n",
    "\n",
    "**Nótese que se puede crear una estructura de datos para agilizar el proceso de búsqueda de caminos requerido por el algoritmo ¿cuál puede ser?**"
   ]
  },
  {
   "cell_type": "code",
   "execution_count": 213,
   "metadata": {
    "datalore": {
     "hide_input_from_viewers": false,
     "hide_output_from_viewers": false,
     "node_id": "skolk6M2LsHFH7WW5vxnAD",
     "report_properties": {},
     "type": "CODE"
    }
   },
   "outputs": [
    {
     "name": "stdout",
     "output_type": "stream",
     "text": [
      "0fea6a13c52b4d4725368f24b045ca84\n"
     ]
    },
    {
     "data": {
      "text/plain": [
       "'The answer is incorrect.'"
      ]
     },
     "execution_count": 213,
     "metadata": {},
     "output_type": "execute_result"
    }
   ],
   "source": [
    "# TODO: Introduce here the answer to use for the hashing\n",
    "answer = \"Hello\"\n",
    "\n",
    "# Avoid case sensitivity in the answer\n",
    "answer = str.lower(answer)\n",
    "\n",
    "# Encode the answer before hashing\n",
    "answer = answer.encode(\"utf-8\")\n",
    "\n",
    "encoded = \"0fea6a13c52b4d4725368f24b045ca84\"  # The hashed answer\n",
    "print(encoded)\n",
    "\n",
    "check_answer(answer, encoded)"
   ]
  },
  {
   "cell_type": "code",
   "execution_count": 214,
   "metadata": {
    "datalore": {
     "hide_input_from_viewers": false,
     "hide_output_from_viewers": false,
     "node_id": "dKLgpxk5uGiulUFQQ1dKB2",
     "report_properties": {},
     "type": "CODE"
    }
   },
   "outputs": [],
   "source": [
    "class CVRP:\n",
    "\n",
    "    # =============================================================================\n",
    "    # Constructor\n",
    "    # =============================================================================\n",
    "    \n",
    "    # Sobreescribir el método __init__ de la clase problem ubicada en utils.py\n",
    "\n",
    "\n",
    "\n",
    "\n",
    "# No necesitamos la primera funcion de carga de archivo, la ciudad objetivo ni ciudad inicial\n",
    "    def __init__(self, filename, algorithm):\n",
    "\n",
    "        # Inicializamos el problema y el algoritmo a usar para resolverlo\n",
    "        filename = \"Spain/example.json\"\n",
    "\n",
    "        with open(filename, 'r', encoding='utf8') as file:\n",
    "            problem = json.load(file)\n",
    "        \n",
    "\n",
    "        self.p1 = ut.Problem(problem)\n",
    "        \n",
    "        # Para el problema tenemos 4 elementos principales (JSON):\n",
    "        # map -> mapa del problema (Práctia 1)\n",
    "        # warehouses -> almacenes del problema (En este caso solo hay 1)\n",
    "        # vehicles -> lista de vehículos disponibles\n",
    "            # id -> identificador del vehículo\n",
    "            # capacity -> capacidad del vehículo\n",
    "        # parcels -> lista de paquetes a recoger\n",
    "            # id -> identificador del paquete\n",
    "            # city -> ciudad donde se encuentra el paquete \n",
    "            # weight -> peso del paquete\n",
    "        \n",
    "        self.warehouse = problem['warehouse']\n",
    "        self.vehicles = problem['vehicles']\n",
    "        self.parcels = problem['parcels']\n",
    "        \n",
    "        # \n",
    "        self.diccionario_paquetes = {}\n",
    "\n",
    "\n",
    "    # Resuelve el problema en cuestion\n",
    "    def __call__(self):\n",
    "        pass\n",
    "\n",
    "    # =============================================================================\n",
    "    # Mandatory methods\n",
    "    # =============================================================================\n",
    "\n",
    "    # TODO: Code here the mandatory methods\n",
    "\n",
    "    pass"
   ]
  },
  {
   "cell_type": "code",
   "execution_count": 215,
   "metadata": {},
   "outputs": [
    {
     "ename": "TypeError",
     "evalue": "CVRP.__init__() missing 2 required positional arguments: 'filename' and 'algorithm'",
     "output_type": "error",
     "traceback": [
      "\u001b[1;31m---------------------------------------------------------------------------\u001b[0m",
      "\u001b[1;31mTypeError\u001b[0m                                 Traceback (most recent call last)",
      "Cell \u001b[1;32mIn [215], line 1\u001b[0m\n\u001b[1;32m----> 1\u001b[0m p1 \u001b[39m=\u001b[39m CVRP()\n\u001b[0;32m      2\u001b[0m p1\u001b[39m.\u001b[39mvehicles[\u001b[39m0\u001b[39m][\u001b[39m'\u001b[39m\u001b[39mcapacity\u001b[39m\u001b[39m'\u001b[39m]\n",
      "\u001b[1;31mTypeError\u001b[0m: CVRP.__init__() missing 2 required positional arguments: 'filename' and 'algorithm'"
     ]
    }
   ],
   "source": [
    "p1 = CVRP()\n",
    "p1.vehicles[0]['capacity']\n"
   ]
  },
  {
   "attachments": {},
   "cell_type": "markdown",
   "metadata": {
    "datalore": {
     "hide_input_from_viewers": true,
     "hide_output_from_viewers": true,
     "node_id": "llGypZPWDhZRcvtvII4bZA",
     "type": "MD"
    }
   },
   "source": [
    "**Se recomienda que se prueben cada uno de los métodos implementados de manera individual en las siguientes líneas de código:**"
   ]
  },
  {
   "cell_type": "code",
   "execution_count": null,
   "metadata": {
    "datalore": {
     "hide_input_from_viewers": false,
     "hide_output_from_viewers": false,
     "node_id": "Bia29BOdqugjIaMw09HJYE",
     "report_properties": {},
     "type": "CODE"
    }
   },
   "outputs": [],
   "source": [
    "# TODO: Test here the method to initialize the capacited vehicle routing problem"
   ]
  },
  {
   "cell_type": "code",
   "execution_count": null,
   "metadata": {
    "datalore": {
     "hide_input_from_viewers": false,
     "hide_output_from_viewers": false,
     "node_id": "DBniyKLSb6eBHrDuRwsqyV",
     "report_properties": {},
     "type": "CODE"
    }
   },
   "outputs": [],
   "source": [
    "# TODO: Test here the method to solve the search problem"
   ]
  },
  {
   "cell_type": "code",
   "execution_count": null,
   "metadata": {
    "datalore": {
     "hide_input_from_viewers": false,
     "hide_output_from_viewers": false,
     "node_id": "cy404oaoVQkMmldm92K5Sd",
     "report_properties": {},
     "type": "CODE"
    }
   },
   "outputs": [],
   "source": [
    "# TODO: Test here the method to solve the capacited vehicle routing problem"
   ]
  },
  {
   "attachments": {},
   "cell_type": "markdown",
   "metadata": {
    "datalore": {
     "hide_input_from_viewers": false,
     "hide_output_from_viewers": false,
     "node_id": "FzMRpxidPP2TpHDaxpFsp1",
     "report_properties": {},
     "type": "MD"
    }
   },
   "source": [
    "### 4.3. Estudio y mejora de los algoritmos\n",
    "\n",
    "Una vez que los algoritmos han sido implementados, se debe **estudiar** su **rendimiento**. Para ello, se debe comparar la **calidad** de las **soluciones obtenidas**, así como las **diferentes estadísticas** que se consideren adecuadas (número de generaciones, tiempo de ejecución, etc.). Factores como el tamaño máximo del problema que se soporta sin un error de memoria, así como el efecto temporal de usar escenarios más complejos son otros factores a tener en cuenta. Además, se **pueden proponer** y se valorarán la incorporación de **técnicas** que **permitan acelerar** la **ejecución** de los **algoritmos**.\n",
    "\n",
    "---"
   ]
  },
  {
   "cell_type": "code",
   "execution_count": null,
   "metadata": {
    "datalore": {
     "hide_input_from_viewers": false,
     "hide_output_from_viewers": false,
     "node_id": "2VfPCt6k4D9scIvVlHIlAy",
     "report_properties": {},
     "type": "CODE"
    }
   },
   "outputs": [],
   "source": [
    "# TODO: Experiment here with the small problem"
   ]
  },
  {
   "cell_type": "code",
   "execution_count": null,
   "metadata": {
    "datalore": {
     "hide_input_from_viewers": false,
     "hide_output_from_viewers": false,
     "node_id": "vbIvLP0J25a0mC8t9d9SSk",
     "report_properties": {},
     "type": "CODE"
    }
   },
   "outputs": [],
   "source": [
    "# TODO: Experiment here with the medium problem"
   ]
  },
  {
   "cell_type": "code",
   "execution_count": null,
   "metadata": {
    "datalore": {
     "hide_input_from_viewers": false,
     "hide_output_from_viewers": false,
     "node_id": "4OvQrZI7jUXlqorMzjpEK8",
     "report_properties": {},
     "type": "CODE"
    }
   },
   "outputs": [],
   "source": [
    "# TODO: Experiment here with the large problem"
   ]
  },
  {
   "attachments": {},
   "cell_type": "markdown",
   "metadata": {
    "datalore": {
     "hide_input_from_viewers": false,
     "hide_output_from_viewers": false,
     "node_id": "1gMr8LgttqSXYAOdmeHNSm",
     "report_properties": {},
     "type": "MD"
    }
   },
   "source": [
    "### 5. Entrega y evaluación\n",
    "\n",
    "Al igual que la práctica anterior, esta se debe **hacer en pares**. No obstante, en **casos excepcionales** se permite realizarla **individualmente**. **La fecha límite para subir la práctica es el 18 de diciembre de 2022 a las 23:55**. Las **entrevistas y evaluaciones** se realizarán la **semana siguiente**.\n",
    "\n",
    "Algunas consideraciones:\n",
    "\n",
    "* **En caso de que no se haya entregado la primera práctica, o se haya sacado menos de un cuatro, se podrán entregar conjuntamente en esta fecha. No obstante, se considerará únicamente un 90% de la nota global de prácticas**.\n",
    "* Está práctica supone el **70%** de la **nota** en este apartado.\n",
    "* La práctica se **evaluará** mediante una **entrevista individual** con el profesorado. Las fechas de las entrevistas se publicarán con antelación.\n",
    "*  Se proporcionará un **conjunto** de **casos** de **prueba preliminares** (varios mapas e instancias) que se **deben resolver correctamente**. En caso contrario, la práctica se considerará suspensa.\n",
    "* La **entrevista** consistirá en una serie de **preguntas** acerca del **código**.\n",
    "\n",
    "**Por último, para la evaluación no continua se requirirá la implementación del algoritmo de búsqueda por ascenso de colinas. Además, este se deberá utilizar para inicializar la población del algoritmo genético, en lugar de que sea aleatoria.**"
   ]
  }
 ],
 "metadata": {
  "datalore": {
   "base_environment": "default",
   "computation_mode": "JUPYTER",
   "package_manager": "pip",
   "packages": [
    {
     "name": "pqueue",
     "source": "PIP",
     "version": "0.1.7"
    },
    {
     "name": "geopy",
     "source": "PIP",
     "version": "2.2.0"
    }
   ],
   "version": 1
  },
  "kernelspec": {
   "display_name": "Python 3.10.8 64-bit (microsoft store)",
   "language": "python",
   "name": "python3"
  },
  "language_info": {
   "codemirror_mode": {
    "name": "ipython",
    "version": 3
   },
   "file_extension": ".py",
   "mimetype": "text/x-python",
   "name": "python",
   "nbconvert_exporter": "python",
   "pygments_lexer": "ipython3",
   "version": "3.10.9"
  },
  "vscode": {
   "interpreter": {
    "hash": "410621c85258efa0ea47ad915638abc1a4a3304f33944a818dfb0fc7cd918640"
   }
  }
 },
 "nbformat": 4,
 "nbformat_minor": 4
}
